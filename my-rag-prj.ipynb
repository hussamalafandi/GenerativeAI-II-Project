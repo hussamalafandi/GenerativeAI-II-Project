{
 "cells": [
  {
   "cell_type": "code",
   "execution_count": 1,
   "id": "5a3caecc",
   "metadata": {},
   "outputs": [
    {
     "name": "stdout",
     "output_type": "stream",
     "text": [
      "Hello!\n",
      "It`s a Homework Project: Build a RAG (Retrieval-Augmented Generation) System\n"
     ]
    }
   ],
   "source": [
    "print('Hello!\\nIt`s a Homework Project: Build a RAG (Retrieval-Augmented Generation) System')"
   ]
  },
  {
   "cell_type": "markdown",
   "id": "9ec636fe",
   "metadata": {},
   "source": [
    "## Load the prepared database ##"
   ]
  },
  {
   "cell_type": "code",
   "execution_count": 2,
   "id": "d3483390",
   "metadata": {},
   "outputs": [
    {
     "name": "stderr",
     "output_type": "stream",
     "text": [
      "C:\\Users\\Tetiana\\AppData\\Local\\Temp\\ipykernel_30512\\1333962959.py:4: LangChainDeprecationWarning: The class `HuggingFaceEmbeddings` was deprecated in LangChain 0.2.2 and will be removed in 1.0. An updated version of the class exists in the :class:`~langchain-huggingface package and should be used instead. To use it run `pip install -U :class:`~langchain-huggingface` and import as `from :class:`~langchain_huggingface import HuggingFaceEmbeddings``.\n",
      "  embedding = HuggingFaceEmbeddings(model_name=\"all-MiniLM-L6-v2\")\n",
      "c:\\WORK_INTOCODE\\envs\\myenv_genai_rag\\lib\\site-packages\\tqdm\\auto.py:21: TqdmWarning: IProgress not found. Please update jupyter and ipywidgets. See https://ipywidgets.readthedocs.io/en/stable/user_install.html\n",
      "  from .autonotebook import tqdm as notebook_tqdm\n",
      "C:\\Users\\Tetiana\\AppData\\Local\\Temp\\ipykernel_30512\\1333962959.py:7: LangChainDeprecationWarning: The class `Chroma` was deprecated in LangChain 0.2.9 and will be removed in 1.0. An updated version of the class exists in the :class:`~langchain-chroma package and should be used instead. To use it run `pip install -U :class:`~langchain-chroma` and import as `from :class:`~langchain_chroma import Chroma``.\n",
      "  db = Chroma(\n"
     ]
    },
    {
     "name": "stdout",
     "output_type": "stream",
     "text": [
      "Total documents in the database: 172\n"
     ]
    }
   ],
   "source": [
    "from langchain_community.vectorstores import Chroma\n",
    "from langchain.embeddings import HuggingFaceEmbeddings\n",
    "\n",
    "embedding = HuggingFaceEmbeddings(model_name=\"all-MiniLM-L6-v2\")\n",
    "\n",
    "# Load existing DB\n",
    "db = Chroma(\n",
    "    persist_directory=\"./chroma_db\",\n",
    "    embedding_function=embedding\n",
    ")\n",
    "\n",
    "print(f\"Total documents in the database: {db._collection.count()}\")"
   ]
  },
  {
   "cell_type": "code",
   "execution_count": 3,
   "id": "22fd8f24",
   "metadata": {},
   "outputs": [
    {
     "name": "stdout",
     "output_type": "stream",
     "text": [
      "\n",
      "RESULT 1\n",
      "TEXT: However, both the government and the Bundestag will remain fully functional in terms of global issues in the transition phase until a new government is formed.\n",
      "\n",
      "When Scholz was confirmed as the future chancellor in 2021, his predecessor Angela Merkel, while still in office, took the future German le\n",
      "METADATA: {'date': '2024-12-17', 'source': 'article9_dw', 'topic': 'German Elections 2025', 'region': 'Germany', 'language': 'en', 'author': 'dw.com', 'url': 'https://www.dw.com/en/german-election-scholz-loses-confidence-vote/live-71063891', 'keywords': 'German election, German, loses confidence , vote, Scholz'}\n",
      "\n",
      "RESULT 2\n",
      "TEXT: Title: Friedrich Merz wins second vote to become Germany’s chancellor\n",
      "Source: Financial Times\n",
      "Date: May 6, 2025\n",
      "\n",
      "Friedrich Merz wins second vote to become Germany’s chancellor.\n",
      "METADATA: {'topic': 'German Elections 2025', 'language': 'en', 'keywords': 'Merz, wins, second vote, german, chancellor', 'source': 'article3_fin_times', 'region': 'Germany', 'author': 'The Financial time', 'url': 'https://www.ft.com/content/48665ff1-b741-44dc-903e-2f54322a7127', 'date': '2025-05-06'}\n"
     ]
    }
   ],
   "source": [
    "# try to search for documents that are most relevant to a given query in terms of vector similarity\n",
    "query = \"Who became the new Chancellor of Germany in 2025?\"\n",
    "results = db.similarity_search(query, k=2)\n",
    "\n",
    "for i, res in enumerate(results):\n",
    "    print(f\"\\nRESULT {i+1}\")\n",
    "    print(\"TEXT:\", res.page_content[:300])\n",
    "    print(\"METADATA:\", res.metadata)\n"
   ]
  },
  {
   "cell_type": "markdown",
   "id": "96c74d27",
   "metadata": {},
   "source": [
    "## Stage 2: Retrieval-Augmented Generation (RAG) ##"
   ]
  },
  {
   "cell_type": "code",
   "execution_count": null,
   "id": "366b3cd0",
   "metadata": {},
   "outputs": [
    {
     "name": "stdout",
     "output_type": "stream",
     "text": [
      "ANSWER:\n",
      "Olaf Scholz lost a confidence vote on December 16, 2024, after his coalition government collapsed in November, paving the way for new elections in February. Following the loss of the vote, Scholz led a minority government. On March 25, 2025, German President Frank-Walter Steinmeier officially dismissed Chancellor Olaf Scholz and his 14 cabinet ministers. There was widespread discontent and not much enthusiasm for any of the candidates.\n",
      "\n",
      "SOURCES:\n",
      "article9_dw - https://www.dw.com/en/german-election-scholz-loses-confidence-vote/live-71063891\n",
      "article9_dw - https://www.dw.com/en/german-election-scholz-loses-confidence-vote/live-71063891\n",
      "article8_timesnownews - https://www.timesnownews.com/world/europe/german-president-dissolves-parliament-as-scholz-loses-majority-snap-polls-set-for-february-article-116714492\n",
      "article5_apnews - https://apnews.com/article/germany-election-merz-scholz-far-right-afd-ebf16ed38e0beaff7fed9a6d29b32a24\n",
      "article9_dw - https://www.dw.com/en/german-election-scholz-loses-confidence-vote/live-71063891\n",
      "article7_deepnewz - https://deepnewz.com/germany/german-president-steinmeier-dismisses-chancellor-scholz-14-ministers-to-acting-bf3914a8\n",
      "article9_dw - https://www.dw.com/en/german-election-scholz-loses-confidence-vote/live-71063891\n",
      "article5_apnews - https://apnews.com/article/germany-election-merz-scholz-far-right-afd-ebf16ed38e0beaff7fed9a6d29b32a24\n",
      "article9_dw - https://www.dw.com/en/german-election-scholz-loses-confidence-vote/live-71063891\n"
     ]
    }
   ],
   "source": [
    "# Step 1: Create a Retriever object from my database\n",
    "retriever = db.as_retriever(\n",
    "    search_type=\"similarity\", \n",
    "    search_kwargs={\"k\": 4}\n",
    ")\n",
    "\n",
    "retriever_with_filter = db.as_retriever(\n",
    "    search_type=\"similarity\",\n",
    "    search_kwargs={\n",
    "        \"k\": 4,\n",
    "        \"filter\": {\n",
    "            \"$and\": [\n",
    "                {\"region\": \"Germany\"},\n",
    "                {\"language\": \"en\"},\n",
    "                {\"author\": {\"$in\": [\"The Guardian\", \"AP News\", \"dw.com\"]}}\n",
    "            ]\n",
    "        }\n",
    "    }\n",
    ")\n",
    "\n",
    "# Step 2: Connecting the Gemini-2.0-Flash model\n",
    "import os\n",
    "from dotenv import load_dotenv\n",
    "from langchain_google_genai import ChatGoogleGenerativeAI\n",
    "\n",
    "load_dotenv()\n",
    "\n",
    "# Get API-Key from .env\n",
    "api_key = os.getenv(\"GOOGLE_API_KEY\")\n",
    "\n",
    "llm = ChatGoogleGenerativeAI(\n",
    "    model=\"gemini-2.0-flash\",\n",
    "    temperature=0.3,\n",
    "    google_api_key=api_key\n",
    ")\n",
    "\n",
    "# Step 3: Create RAG Chain (connect Retriever and LLM into a RAG pipeline using LangChain)\n",
    "from langchain.chains import RetrievalQA\n",
    "\n",
    "rag_chain = RetrievalQA.from_chain_type(\n",
    "    llm=llm,\n",
    "    retriever= retriever, #retriever, retriever_with_filter, multi_query_retriever\n",
    "    chain_type=\"stuff\",  #sstuff=\"put all chunks into one text and pass it to the model\", Позже можно заменить на кастомную цепочку с продуманным prompt.\n",
    "    return_source_documents=True  # return not only the answer, but also the documents from which it was obtained\n",
    ")\n",
    "\n",
    "# Step 4: Check the request\n",
    "query = \"How did Scholz's resignation affect political stability in Germany?\" #\"What led to the early parliamentary elections in Germany in 2025?\" #\"Who is the Chancellor of Germany?\" # \"Who became the new Chancellor of Germany in 2025?\"\n",
    "result = rag_chain.invoke(query)\n",
    "\n",
    "print(\"ANSWER:\")\n",
    "print(result[\"result\"])\n",
    "\n",
    "print(\"\\nSOURCES:\")\n",
    "for doc in result[\"source_documents\"]:\n",
    "    print(doc.metadata['source'], \"-\", doc.metadata.get('url', ''))"
   ]
  },
  {
   "cell_type": "markdown",
   "id": "3a487486",
   "metadata": {},
   "source": [
    "## RAG-Chain + Memory + Prompt Engineering ##"
   ]
  },
  {
   "cell_type": "code",
   "execution_count": null,
   "id": "b1806977",
   "metadata": {},
   "outputs": [
    {
     "name": "stdout",
     "output_type": "stream",
     "text": [
      "\n",
      "🧠 RAG-чат с памятью. Введите 'exit' для выхода.\n",
      "💬 Ответ: Friedrich Merz became the new Chancellor of Germany in 2025.\n",
      "\n",
      "📚 Источники:\n",
      "article9_dw - https://www.dw.com/en/german-election-scholz-loses-confidence-vote/live-71063891\n",
      "article3_fin_times - https://www.ft.com/content/48665ff1-b741-44dc-903e-2f54322a7127\n",
      "article4_washpost - https://www.washingtonpost.com/world/2025/05/06/germany-government-merz-coalition/419e2d84-2a2f-11f0-a724-3bc879c9f843_story.html\n",
      "article6_wiki - https://en.wikipedia.org/wiki/2024_German_government_crisis\n",
      "💬 Ответ: Aus dem Kontext geht hervor, dass Olaf Scholz die sozialdemokratische Partei (SPD) vertritt.\n",
      "\n",
      "📚 Источники:\n",
      "article6_wiki - https://en.wikipedia.org/wiki/2024_German_government_crisis\n",
      "article4_washpost - https://www.washingtonpost.com/world/2025/05/06/germany-government-merz-coalition/419e2d84-2a2f-11f0-a724-3bc879c9f843_story.html\n",
      "article7_deepnewz - https://deepnewz.com/germany/german-president-steinmeier-dismisses-chancellor-scholz-14-ministers-to-acting-bf3914a8\n",
      "article4_washpost - https://www.washingtonpost.com/world/2025/05/06/germany-government-merz-coalition/419e2d84-2a2f-11f0-a724-3bc879c9f843_story.html\n",
      "💬 Ответ: Friedrich Merz arbeitete als Berater beim US-Vermögensverwalter BlackRock, als er nicht in der Politik tätig war. Es wird allgemein erwartet, dass er der nächste Bundeskanzler wird.\n",
      "\n",
      "📚 Источники:\n",
      "article9_dw - https://www.dw.com/en/german-election-scholz-loses-confidence-vote/live-71063891\n",
      "article3_fin_times - https://www.ft.com/content/48665ff1-b741-44dc-903e-2f54322a7127\n",
      "article7_deepnewz - https://deepnewz.com/germany/german-president-steinmeier-dismisses-chancellor-scholz-14-ministers-to-acting-bf3914a8\n",
      "article9_dw - https://www.dw.com/en/german-election-scholz-loses-confidence-vote/live-71063891\n",
      "💬 Ответ: This set of documents does not contain the answer to your question about who became the new Pope. The documents discuss Friedrich Merz becoming the new German chancellor.\n",
      "\n",
      "📚 Источники:\n",
      "article9_dw - https://www.dw.com/en/german-election-scholz-loses-confidence-vote/live-71063891\n",
      "article3_fin_times - https://www.ft.com/content/48665ff1-b741-44dc-903e-2f54322a7127\n",
      "article1_guardian - https://www.theguardian.com/world/2025/may/06/chaos-in-the-german-bundestag-whats-next-for-friedrich-merz\n",
      "article4_washpost - https://www.washingtonpost.com/world/2025/05/06/germany-government-merz-coalition/419e2d84-2a2f-11f0-a724-3bc879c9f843_story.html\n",
      "💬 Ответ: Aus dem Kontext geht hervor, dass Robert Habeck und Friedrich Merz Hauptkonkurrenten waren.\n",
      "\n",
      "📚 Источники:\n",
      "article2_guardian - https://www.theguardian.com/world/live/2025/may/06/friedrich-merz-german-chancellor-europe-live-latest-news?filterKeyEvents=false&page=with%3Ablock-681a19a08f08145062c515ef#block-681a19a08f08145062c515ef\n",
      "article2_guardian - https://www.theguardian.com/world/live/2025/may/06/friedrich-merz-german-chancellor-europe-live-latest-news?filterKeyEvents=false&page=with%3Ablock-681a19a08f08145062c515ef#block-681a19a08f08145062c515ef\n",
      "article4_washpost - https://www.washingtonpost.com/world/2025/05/06/germany-government-merz-coalition/419e2d84-2a2f-11f0-a724-3bc879c9f843_story.html\n",
      "article9_dw - https://www.dw.com/en/german-election-scholz-loses-confidence-vote/live-71063891\n",
      "💬 Ответ: Aus dem Kontext geht hervor, dass Robert Habeck und Friedrich Merz Hauptkonkurrenten waren.\n",
      "\n",
      "📚 Источники:\n",
      "article2_guardian - https://www.theguardian.com/world/live/2025/may/06/friedrich-merz-german-chancellor-europe-live-latest-news?filterKeyEvents=false&page=with%3Ablock-681a19a08f08145062c515ef#block-681a19a08f08145062c515ef\n",
      "article2_guardian - https://www.theguardian.com/world/live/2025/may/06/friedrich-merz-german-chancellor-europe-live-latest-news?filterKeyEvents=false&page=with%3Ablock-681a19a08f08145062c515ef#block-681a19a08f08145062c515ef\n",
      "article4_washpost - https://www.washingtonpost.com/world/2025/05/06/germany-government-merz-coalition/419e2d84-2a2f-11f0-a724-3bc879c9f843_story.html\n",
      "article9_dw - https://www.dw.com/en/german-election-scholz-loses-confidence-vote/live-71063891\n",
      "💬 Ответ: Aus dem Kontext geht hervor, dass Robert Habeck und Friedrich Merz Hauptkonkurrenten waren.\n",
      "\n",
      "📚 Источники:\n",
      "article2_guardian - https://www.theguardian.com/world/live/2025/may/06/friedrich-merz-german-chancellor-europe-live-latest-news?filterKeyEvents=false&page=with%3Ablock-681a19a08f08145062c515ef#block-681a19a08f08145062c515ef\n",
      "article2_guardian - https://www.theguardian.com/world/live/2025/may/06/friedrich-merz-german-chancellor-europe-live-latest-news?filterKeyEvents=false&page=with%3Ablock-681a19a08f08145062c515ef#block-681a19a08f08145062c515ef\n",
      "article4_washpost - https://www.washingtonpost.com/world/2025/05/06/germany-government-merz-coalition/419e2d84-2a2f-11f0-a724-3bc879c9f843_story.html\n",
      "article9_dw - https://www.dw.com/en/german-election-scholz-loses-confidence-vote/live-71063891\n",
      "💬 Ответ: Aus dem Kontext geht hervor, dass Robert Habeck und Friedrich Merz Hauptkonkurrenten waren.\n",
      "\n",
      "📚 Источники:\n",
      "article2_guardian - https://www.theguardian.com/world/live/2025/may/06/friedrich-merz-german-chancellor-europe-live-latest-news?filterKeyEvents=false&page=with%3Ablock-681a19a08f08145062c515ef#block-681a19a08f08145062c515ef\n",
      "article2_guardian - https://www.theguardian.com/world/live/2025/may/06/friedrich-merz-german-chancellor-europe-live-latest-news?filterKeyEvents=false&page=with%3Ablock-681a19a08f08145062c515ef#block-681a19a08f08145062c515ef\n",
      "article4_washpost - https://www.washingtonpost.com/world/2025/05/06/germany-government-merz-coalition/419e2d84-2a2f-11f0-a724-3bc879c9f843_story.html\n",
      "article9_dw - https://www.dw.com/en/german-election-scholz-loses-confidence-vote/live-71063891\n",
      "💬 Ответ: Aus dem Kontext geht hervor, dass Robert Habeck und Friedrich Merz Hauptkonkurrenten waren.\n",
      "\n",
      "📚 Источники:\n",
      "article2_guardian - https://www.theguardian.com/world/live/2025/may/06/friedrich-merz-german-chancellor-europe-live-latest-news?filterKeyEvents=false&page=with%3Ablock-681a19a08f08145062c515ef#block-681a19a08f08145062c515ef\n",
      "article2_guardian - https://www.theguardian.com/world/live/2025/may/06/friedrich-merz-german-chancellor-europe-live-latest-news?filterKeyEvents=false&page=with%3Ablock-681a19a08f08145062c515ef#block-681a19a08f08145062c515ef\n",
      "article4_washpost - https://www.washingtonpost.com/world/2025/05/06/germany-government-merz-coalition/419e2d84-2a2f-11f0-a724-3bc879c9f843_story.html\n",
      "article9_dw - https://www.dw.com/en/german-election-scholz-loses-confidence-vote/live-71063891\n",
      "👋 Выход из чата.\n"
     ]
    }
   ],
   "source": [
    "\n",
    "from langchain.chains import ConversationalRetrievalChain\n",
    "\n",
    "# New RAG-chain with memory\n",
    "rag_chain_with_memory = ConversationalRetrievalChain.from_llm(\n",
    "    llm=llm,\n",
    "    retriever=retriever, #retriever, retriever_with_filter, multi_query_retriever\n",
    "    return_source_documents=True\n",
    ")\n",
    "\n",
    "# Initialize memory\n",
    "chat_history = []\n",
    "\n",
    "# Interactive mode: user can ask 3+ questions\n",
    "print(\"\\n🧠 RAG chat with memory. Enter 'exit' to quit.\")\n",
    "\n",
    "while True:\n",
    "    query = input(\"❓ QUESTION: \")\n",
    "    if query.lower() in (\"exit\", \"quit\"):\n",
    "        print(\"👋 Exit chat.\")\n",
    "        break\n",
    "\n",
    "    result = rag_chain_with_memory.invoke({\n",
    "        \"question\": query,\n",
    "        \"chat_history\": chat_history\n",
    "    })\n",
    "\n",
    "    answer = result[\"answer\"]\n",
    "    print(\"💬 ANSWER:\", answer)\n",
    "\n",
    "    print(\"\\n📚 SOURCES:\")\n",
    "    for doc in result[\"source_documents\"]:\n",
    "        print(doc.metadata['source'], \"-\", doc.metadata.get('url', ''))\n",
    "\n",
    "    # Update memory\n",
    "    chat_history.append((query, answer))\n"
   ]
  },
  {
   "cell_type": "markdown",
   "id": "9e313771",
   "metadata": {},
   "source": [
    "## Multi-Query Retrieval ##"
   ]
  },
  {
   "cell_type": "code",
   "execution_count": 25,
   "id": "1f834039",
   "metadata": {},
   "outputs": [
    {
     "name": "stdout",
     "output_type": "stream",
     "text": [
      "ANSWER (Multi-Query):\n",
      "Olaf Scholz's minority coalition government lost a confidence vote, paving the way for new elections. He also conceded defeat for his center-left Social Democrats after what he called “a bitter election result.”\n",
      "\n",
      "SOURCES (Multi-Query):\n",
      "article9_dw - https://www.dw.com/en/german-election-scholz-loses-confidence-vote/live-71063891\n",
      "article9_dw - https://www.dw.com/en/german-election-scholz-loses-confidence-vote/live-71063891\n",
      "article9_dw - https://www.dw.com/en/german-election-scholz-loses-confidence-vote/live-71063891\n",
      "article9_dw - https://www.dw.com/en/german-election-scholz-loses-confidence-vote/live-71063891\n",
      "article9_dw - https://www.dw.com/en/german-election-scholz-loses-confidence-vote/live-71063891\n",
      "article1_guardian - https://www.theguardian.com/world/2025/may/06/chaos-in-the-german-bundestag-whats-next-for-friedrich-merz\n",
      "article2_guardian - https://www.theguardian.com/world/live/2025/may/06/friedrich-merz-german-chancellor-europe-live-latest-news?filterKeyEvents=false&page=with%3Ablock-681a19a08f08145062c515ef#block-681a19a08f08145062c515ef\n",
      "article9_dw - https://www.dw.com/en/german-election-scholz-loses-confidence-vote/live-71063891\n",
      "article5_apnews - https://apnews.com/article/germany-election-merz-scholz-far-right-afd-ebf16ed38e0beaff7fed9a6d29b32a24\n"
     ]
    },
    {
     "name": "stderr",
     "output_type": "stream",
     "text": [
      "C:\\Users\\Tetiana\\AppData\\Local\\Temp\\ipykernel_30512\\1355570611.py:48: LangChainDeprecationWarning: The method `BaseRetriever.get_relevant_documents` was deprecated in langchain-core 0.1.46 and will be removed in 1.0. Use :meth:`~invoke` instead.\n",
      "  docs = retriever_with_filter.get_relevant_documents(q)\n",
      "C:\\Users\\Tetiana\\AppData\\Local\\Temp\\ipykernel_30512\\1355570611.py:55: LangChainDeprecationWarning: This function is deprecated. Refer to this guide on retrieval and question answering with sources: https://python.langchain.com/docs/how_to/qa_sources/\n",
      "See also the following migration guides for replacements based on `chain_type`:\n",
      "stuff: https://python.langchain.com/docs/versions/migrating_chains/stuff_docs_chain\n",
      "map_reduce: https://python.langchain.com/docs/versions/migrating_chains/map_reduce_chain\n",
      "refine: https://python.langchain.com/docs/versions/migrating_chains/refine_chain\n",
      "map_rerank: https://python.langchain.com/docs/versions/migrating_chains/map_rerank_docs_chain\n",
      "\n",
      "  manual_multiquery_chain = load_qa_with_sources_chain(llm=llm, chain_type=\"stuff\")\n",
      "C:\\Users\\Tetiana\\AppData\\Local\\Temp\\ipykernel_30512\\1355570611.py:59: LangChainDeprecationWarning: The method `Chain.__call__` was deprecated in langchain 0.1.0 and will be removed in 1.0. Use :meth:`~invoke` instead.\n",
      "  result_manual = manual_multiquery_chain(\n"
     ]
    },
    {
     "name": "stdout",
     "output_type": "stream",
     "text": [
      "ANSWER (Manual Multi-Query):\n",
      "Olaf Scholz lost a confidence vote after his coalition government collapsed due to infighting, leading to new elections in February (SOURCES: article5_apnews, article9_dw). Arguments over the national budget also played a major role in the collapse of Scholz's coalition (SOURCES: article9_dw).\n",
      "SOURCES: article5_apnews, article9_dw\n",
      "\n",
      "SOURCES (Manual Multi-Query):\n",
      "article9_dw - https://www.dw.com/en/german-election-scholz-loses-confidence-vote/live-71063891\n",
      "article9_dw - https://www.dw.com/en/german-election-scholz-loses-confidence-vote/live-71063891\n",
      "article9_dw - https://www.dw.com/en/german-election-scholz-loses-confidence-vote/live-71063891\n",
      "article9_dw - https://www.dw.com/en/german-election-scholz-loses-confidence-vote/live-71063891\n",
      "article5_apnews - https://apnews.com/article/germany-election-merz-scholz-far-right-afd-ebf16ed38e0beaff7fed9a6d29b32a24\n",
      "article9_dw - https://www.dw.com/en/german-election-scholz-loses-confidence-vote/live-71063891\n",
      "article9_dw - https://www.dw.com/en/german-election-scholz-loses-confidence-vote/live-71063891\n",
      "article9_dw - https://www.dw.com/en/german-election-scholz-loses-confidence-vote/live-71063891\n",
      "article1_guardian - https://www.theguardian.com/world/2025/may/06/chaos-in-the-german-bundestag-whats-next-for-friedrich-merz\n",
      "article9_dw - https://www.dw.com/en/german-election-scholz-loses-confidence-vote/live-71063891\n",
      "article9_dw - https://www.dw.com/en/german-election-scholz-loses-confidence-vote/live-71063891\n",
      "article9_dw - https://www.dw.com/en/german-election-scholz-loses-confidence-vote/live-71063891\n",
      "article9_dw - https://www.dw.com/en/german-election-scholz-loses-confidence-vote/live-71063891\n",
      "article5_apnews - https://apnews.com/article/germany-election-merz-scholz-far-right-afd-ebf16ed38e0beaff7fed9a6d29b32a24\n",
      "article9_dw - https://www.dw.com/en/german-election-scholz-loses-confidence-vote/live-71063891\n"
     ]
    }
   ],
   "source": [
    "# --- Multi-Query Retrieval Setup ---\n",
    "\n",
    "from langchain.retrievers.multi_query import MultiQueryRetriever\n",
    "\n",
    "# Wrap the retriever with MultiQueryRetriever to retrieve more diverse documents\n",
    "multiquery_retriever = MultiQueryRetriever.from_llm(\n",
    "    retriever=retriever_with_filter,  # Use filtered retriever\n",
    "    llm=llm\n",
    ")\n",
    "\n",
    "# --- RAG Chain with Multi-Query Retriever ---\n",
    "\n",
    "rag_chain_multi = RetrievalQA.from_chain_type(\n",
    "    llm=llm,\n",
    "    retriever=multiquery_retriever,\n",
    "    chain_type=\"stuff\",\n",
    "    return_source_documents=True\n",
    ")\n",
    "\n",
    "# --- Run the multi-query RAG chain ---\n",
    "query = \"Why did Scholz resign as Chancellor?\"\n",
    "result_multi = rag_chain_multi.invoke(query)\n",
    "\n",
    "print(\"ANSWER (Multi-Query):\")\n",
    "print(result_multi[\"result\"])\n",
    "\n",
    "print(\"\\nSOURCES (Multi-Query):\")\n",
    "for doc in result_multi[\"source_documents\"]:\n",
    "    print(doc.metadata['source'], \"-\", doc.metadata.get('url', ''))\n",
    "\n",
    "\n",
    "# --- Manual Multi-Query Retrieval with Custom Reformulated Questions ---\n",
    "\n",
    "from langchain.chains.qa_with_sources import load_qa_with_sources_chain\n",
    "\n",
    "# Step 1: Use each of reformulated questions to retrieve documents\n",
    "multiquery_questions = [\n",
    "    \"Why did Olaf Scholz step down as Germany's Chancellor?\",\n",
    "    \"What were the reasons behind Scholz's resignation?\",\n",
    "    \"What caused the Chancellor of Germany to resign in 2025?\",\n",
    "    \"Why did Germany's head of government leave office?\",\n",
    "    \"What led to Olaf Scholz's departure from the Chancellorship?\"\n",
    "]\n",
    "\n",
    "# Collect documents from all queries\n",
    "all_docs = []\n",
    "for q in multiquery_questions:\n",
    "    docs = retriever_with_filter.get_relevant_documents(q)\n",
    "    all_docs.extend(docs)\n",
    "\n",
    "# Optional: deduplicate by content to avoid repeated chunks\n",
    "unique_docs = {doc.page_content: doc for doc in all_docs}.values()\n",
    "\n",
    "# Step 2: Build the QA chain\n",
    "manual_multiquery_chain = load_qa_with_sources_chain(llm=llm, chain_type=\"stuff\")\n",
    "\n",
    "# Step 3: Use original query to ask over combined retrieved context\n",
    "query = \"Why did Scholz resign as Chancellor?\"\n",
    "result_manual = manual_multiquery_chain(\n",
    "    {\"input_documents\": list(unique_docs), \"question\": query},\n",
    "    return_only_outputs=True\n",
    ")\n",
    "\n",
    "# Step 4: Output answer and sources\n",
    "print(\"ANSWER (Manual Multi-Query):\")\n",
    "print(result_manual[\"output_text\"])\n",
    "\n",
    "print(\"\\nSOURCES (Manual Multi-Query):\")\n",
    "for doc in unique_docs:\n",
    "    print(doc.metadata.get(\"source\", \"Unknown\"), \"-\", doc.metadata.get(\"url\", \"\"))\n",
    "\n"
   ]
  },
  {
   "cell_type": "code",
   "execution_count": null,
   "id": "d5deec20",
   "metadata": {},
   "outputs": [],
   "source": []
  }
 ],
 "metadata": {
  "kernelspec": {
   "display_name": "myenv_genai_rag",
   "language": "python",
   "name": "python3"
  },
  "language_info": {
   "codemirror_mode": {
    "name": "ipython",
    "version": 3
   },
   "file_extension": ".py",
   "mimetype": "text/x-python",
   "name": "python",
   "nbconvert_exporter": "python",
   "pygments_lexer": "ipython3",
   "version": "3.10.17"
  }
 },
 "nbformat": 4,
 "nbformat_minor": 5
}
