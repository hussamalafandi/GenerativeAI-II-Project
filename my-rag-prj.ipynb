{
 "cells": [
  {
   "cell_type": "code",
   "execution_count": 1,
   "id": "5a3caecc",
   "metadata": {},
   "outputs": [
    {
     "name": "stdout",
     "output_type": "stream",
     "text": [
      "Hello!\n",
      "It`s a Homework Project: Build a RAG (Retrieval-Augmented Generation) System\n"
     ]
    }
   ],
   "source": [
    "print('Hello!\\nIt`s a Homework Project: Build a RAG (Retrieval-Augmented Generation) System')"
   ]
  },
  {
   "cell_type": "markdown",
   "id": "9ec636fe",
   "metadata": {},
   "source": [
    "## Load the prepared database ##"
   ]
  },
  {
   "cell_type": "code",
   "execution_count": 2,
   "id": "d3483390",
   "metadata": {},
   "outputs": [
    {
     "name": "stderr",
     "output_type": "stream",
     "text": [
      "C:\\Users\\Tetiana\\AppData\\Local\\Temp\\ipykernel_43948\\1333962959.py:4: LangChainDeprecationWarning: The class `HuggingFaceEmbeddings` was deprecated in LangChain 0.2.2 and will be removed in 1.0. An updated version of the class exists in the :class:`~langchain-huggingface package and should be used instead. To use it run `pip install -U :class:`~langchain-huggingface` and import as `from :class:`~langchain_huggingface import HuggingFaceEmbeddings``.\n",
      "  embedding = HuggingFaceEmbeddings(model_name=\"all-MiniLM-L6-v2\")\n",
      "c:\\WORK_INTOCODE\\envs\\myenv_genai_rag\\lib\\site-packages\\tqdm\\auto.py:21: TqdmWarning: IProgress not found. Please update jupyter and ipywidgets. See https://ipywidgets.readthedocs.io/en/stable/user_install.html\n",
      "  from .autonotebook import tqdm as notebook_tqdm\n",
      "C:\\Users\\Tetiana\\AppData\\Local\\Temp\\ipykernel_43948\\1333962959.py:7: LangChainDeprecationWarning: The class `Chroma` was deprecated in LangChain 0.2.9 and will be removed in 1.0. An updated version of the class exists in the :class:`~langchain-chroma package and should be used instead. To use it run `pip install -U :class:`~langchain-chroma` and import as `from :class:`~langchain_chroma import Chroma``.\n",
      "  db = Chroma(\n"
     ]
    },
    {
     "name": "stdout",
     "output_type": "stream",
     "text": [
      "Total documents in the database: 121\n"
     ]
    }
   ],
   "source": [
    "from langchain_community.vectorstores import Chroma\n",
    "from langchain.embeddings import HuggingFaceEmbeddings\n",
    "\n",
    "embedding = HuggingFaceEmbeddings(model_name=\"all-MiniLM-L6-v2\")\n",
    "\n",
    "# Load existing DB\n",
    "db = Chroma(\n",
    "    persist_directory=\"./chroma_db\",\n",
    "    embedding_function=embedding\n",
    ")\n",
    "\n",
    "print(f\"Total documents in the database: {db._collection.count()}\")"
   ]
  },
  {
   "cell_type": "code",
   "execution_count": 3,
   "id": "22fd8f24",
   "metadata": {},
   "outputs": [
    {
     "name": "stdout",
     "output_type": "stream",
     "text": [
      "\n",
      "RESULT 1\n",
      "TEXT: Title: Friedrich Merz wins second vote to become Germany’s chancellor\n",
      "Source: Financial Times\n",
      "Date: May 6, 2025\n",
      "\n",
      "Friedrich Merz wins second vote to become Germany’s chancellor.\n",
      "METADATA: {'language': 'en', 'source': 'article3_fin_times', 'date': '2025-05-06', 'topic': 'German Elections 2025', 'region': 'Germany', 'keywords': 'Merz, wins, second vote, german, chancellor', 'url': 'https://www.ft.com/content/48665ff1-b741-44dc-903e-2f54322a7127', 'author': 'The Financial time'}\n",
      "\n",
      "RESULT 2\n",
      "TEXT: Title: Conservative leader Merz overcomes historic defeat to become Germany’s chancellor\n",
      "Source: The Washington Post\n",
      "Date: May 6, 2025\n",
      "\n",
      "\n",
      "BERLIN (AP) — Conservative leader Friedrich Merz succeeded Tuesday in becoming Germany’s next chancellor, drawing applause and a palpable sense of relief in the pa\n",
      "METADATA: {'region': 'Germany', 'keywords': 'Merz, government, Germany, coalition', 'author': 'The Washington post', 'date': '2025-05-06', 'source': 'article4_washpost', 'url': 'https://www.washingtonpost.com/world/2025/05/06/germany-government-merz-coalition/419e2d84-2a2f-11f0-a724-3bc879c9f843_story.html', 'language': 'en', 'topic': 'German Elections 2025'}\n"
     ]
    }
   ],
   "source": [
    "# try to search for documents that are most relevant to a given query in terms of vector similarity\n",
    "query = \"Who became the new Chancellor of Germany in 2025?\"\n",
    "results = db.similarity_search(query, k=2)\n",
    "\n",
    "for i, res in enumerate(results):\n",
    "    print(f\"\\nRESULT {i+1}\")\n",
    "    print(\"TEXT:\", res.page_content[:300])\n",
    "    print(\"METADATA:\", res.metadata)\n"
   ]
  },
  {
   "cell_type": "markdown",
   "id": "96c74d27",
   "metadata": {},
   "source": [
    "## Stage 2: Retrieval-Augmented Generation (RAG) ##"
   ]
  },
  {
   "cell_type": "code",
   "execution_count": 11,
   "id": "366b3cd0",
   "metadata": {},
   "outputs": [
    {
     "name": "stdout",
     "output_type": "stream",
     "text": [
      "ANSWER:\n",
      "Scholz called a vote of confidence in the ruling government on 16 December 2024, which was lost. As a result, an early 2025 federal election was held.\n",
      "\n",
      "SOURCES:\n",
      "article6_wiki - https://en.wikipedia.org/wiki/2024_German_government_crisis\n",
      "article6_wiki - https://en.wikipedia.org/wiki/2024_German_government_crisis\n",
      "article6_wiki - https://en.wikipedia.org/wiki/2024_German_government_crisis\n",
      "article4_washpost - https://www.washingtonpost.com/world/2025/05/06/germany-government-merz-coalition/419e2d84-2a2f-11f0-a724-3bc879c9f843_story.html\n"
     ]
    }
   ],
   "source": [
    "# Step 1: Create a Retriever object from my database\n",
    "retriever = db.as_retriever(search_type=\"similarity\", search_kwargs={\"k\": 4})\n",
    "\n",
    "# Step 2: Connecting the Gemini-2.0-Flash model\n",
    "import os\n",
    "from dotenv import load_dotenv\n",
    "from langchain_google_genai import ChatGoogleGenerativeAI\n",
    "\n",
    "load_dotenv()\n",
    "\n",
    "# Get API-Key from .env\n",
    "api_key = os.getenv(\"GOOGLE_API_KEY\")\n",
    "\n",
    "llm = ChatGoogleGenerativeAI(\n",
    "    model=\"gemini-2.0-flash\",\n",
    "    temperature=0.3,\n",
    "    google_api_key=api_key\n",
    ")\n",
    "\n",
    "# Step 3: Create RAG Chain (connect Retriever and LLM into a RAG pipeline using LangChain)\n",
    "from langchain.chains import RetrievalQA\n",
    "\n",
    "rag_chain = RetrievalQA.from_chain_type(\n",
    "    llm=llm,\n",
    "    retriever=retriever,\n",
    "    chain_type=\"stuff\",  #sstuff=\"put all chunks into one text and pass it to the model\", Позже можно заменить на кастомную цепочку с продуманным prompt.\n",
    "    return_source_documents=True  # return not only the answer, but also the documents from which it was obtained\n",
    ")\n",
    "\n",
    "# Step 4: Check the request\n",
    "query = \"What led to the early parliamentary elections in Germany in 2025?\" #\"What led to the early parliamentary elections in Germany in 2025?\" #\"Who is the Chancellor of Germany?\" # \"Who became the new Chancellor of Germany in 2025?\"\n",
    "result = rag_chain.invoke(query)\n",
    "\n",
    "print(\"ANSWER:\")\n",
    "print(result[\"result\"])\n",
    "\n",
    "print(\"\\nSOURCES:\")\n",
    "for doc in result[\"source_documents\"]:\n",
    "    print(doc.metadata['source'], \"-\", doc.metadata.get('url', ''))\n"
   ]
  }
 ],
 "metadata": {
  "kernelspec": {
   "display_name": "myenv_genai_rag",
   "language": "python",
   "name": "python3"
  },
  "language_info": {
   "codemirror_mode": {
    "name": "ipython",
    "version": 3
   },
   "file_extension": ".py",
   "mimetype": "text/x-python",
   "name": "python",
   "nbconvert_exporter": "python",
   "pygments_lexer": "ipython3",
   "version": "3.10.17"
  }
 },
 "nbformat": 4,
 "nbformat_minor": 5
}
