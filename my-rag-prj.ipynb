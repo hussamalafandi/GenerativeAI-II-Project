{
 "cells": [
  {
   "cell_type": "code",
   "execution_count": 3,
   "id": "5a3caecc",
   "metadata": {},
   "outputs": [
    {
     "name": "stdout",
     "output_type": "stream",
     "text": [
      "Hello!\n",
      "It`s a Homework Project: Build a RAG (Retrieval-Augmented Generation) System\n"
     ]
    }
   ],
   "source": [
    "print('Hello!\\nIt`s a Homework Project: Build a RAG (Retrieval-Augmented Generation) System')"
   ]
  }
 ],
 "metadata": {
  "kernelspec": {
   "display_name": "myenv_genai",
   "language": "python",
   "name": "python3"
  },
  "language_info": {
   "codemirror_mode": {
    "name": "ipython",
    "version": 3
   },
   "file_extension": ".py",
   "mimetype": "text/x-python",
   "name": "python",
   "nbconvert_exporter": "python",
   "pygments_lexer": "ipython3",
   "version": "3.10.16"
  }
 },
 "nbformat": 4,
 "nbformat_minor": 5
}
