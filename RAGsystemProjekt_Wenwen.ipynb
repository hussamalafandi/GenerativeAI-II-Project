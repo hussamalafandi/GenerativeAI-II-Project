{
 "cells": [
  {
   "cell_type": "code",
   "execution_count": 49,
   "id": "323ceabd",
   "metadata": {},
   "outputs": [
    {
     "name": "stdout",
     "output_type": "stream",
     "text": [
      "When President Donald Trump initially announced his new tariffs in February, he proposed them as a “\n",
      "What tariffs has Trump announced and why?1 day agoShareSaveJennifer ClarkeBBC NewsShareSaveReutersA \n",
      "US and UK agree deal slashing Trump tariffs on cars and metals21 hours agoShareSaveNatalie ShermanBB\n",
      "If tariffs punish exports as much as imports, it is obviously futile to use them to address a suppos\n",
      "\n",
      "\n",
      "\n",
      "\n",
      "\n",
      "\n",
      "The limited pact leaves plenty of space for a more ambitious deal with the EU later this month\n",
      " A cargo train moves past new cars waiting for shipment in a port in Yantai in east China's Shandong\n",
      "\n",
      "\n",
      "\n",
      "News \n",
      "\t  What Apple, Amazon, GM And Other Companies Are Saying About Trump Tariffs\t\n",
      "\n",
      "\n",
      "\n",
      " Licensing\n"
     ]
    }
   ],
   "source": [
    "# Following \"Build a Retrieval Augmented Generation (RAG) App: Part 1\"\n",
    "\n",
    "# 1. install LangChain packages \"https://python.langchain.com/docs/how_to/installation/\"\n",
    "\n",
    "# 2. Indexing\n",
    "# 2.1 Loading documents\n",
    "from langchain_community.document_loaders import WebBaseLoader\n",
    "import bs4\n",
    "\n",
    "loader = WebBaseLoader(\n",
    "    web_paths=(\"https://time.com/7274651/why-economists-are-horrified-by-trump-tariff-math/\",\n",
    "               \"https://www.bbc.com/news/articles/cn93e12rypgo\",\n",
    "               \"https://www.bbc.com/news/articles/cp92r2kvk74o\",\n",
    "               \"https://www.ft.com/content/a18ed1bd-3546-453a-bf11-72b5ac6a56f5\",\n",
    "               \"https://www.euractiv.com/section/economy-jobs/news/uk-lands-deal-to-duck-some-trump-tariffs/\",\n",
    "               \"https://www.theguardian.com/world/2025/may/09/china-exports-beat-expectations-despite-slump-in-trade-with-us\",\n",
    "               \"https://www.investors.com/news/trump-tariffs-apple-amazon-gm-saying/\"), # News on APR 3., May 8. and May 9. 2025 \n",
    "    \n",
    "    bs_kwargs=dict(\n",
    "    parse_only=bs4.SoupStrainer(\"article\")\n",
    ")\n",
    ")\n",
    "\n",
    "# Add a print statement to verify the raw content if docs is unexpectedly empty\n",
    "docs = loader.load()\n",
    "print(docs[0].page_content[:100])  # Preview first 100 chars from 1st news paper\n",
    "print(docs[1].page_content[:100])  # Preview first 100 chars from 2nd news paper\n",
    "print(docs[2].page_content[:100])  # Preview first 100 chars from 3rd new paper\n",
    "print(docs[3].page_content[:100])  # Preview first 100 chars from 4th new paper\n",
    "print(docs[4].page_content[:100])  # Preview first 100 chars from 5th new paper\n",
    "print(docs[5].page_content[:100])  # Preview first 100 chars from 6th new paper\n",
    "print(docs[6].page_content[:100])  # Preview first 100 chars from 7th new paper"
   ]
  },
  {
   "cell_type": "code",
   "execution_count": 53,
   "id": "a55e1e15",
   "metadata": {},
   "outputs": [
    {
     "name": "stdout",
     "output_type": "stream",
     "text": [
      "Split blog post into 61 sub-documents.\n"
     ]
    }
   ],
   "source": [
    "# 2.2 Splitting documents\n",
    "from langchain_text_splitters import RecursiveCharacterTextSplitter\n",
    "\n",
    "text_splitter = RecursiveCharacterTextSplitter(\n",
    "    chunk_size=900,  # chunk size (characters), (> 50 chunks)\n",
    "    chunk_overlap=200,  # chunk overlap (characters)\n",
    "    add_start_index=True,  # track index in original document\n",
    ")\n",
    "all_splits = text_splitter.split_documents(docs)\n",
    "\n",
    "print(f\"Split blog post into {len(all_splits)} sub-documents.\")"
   ]
  },
  {
   "cell_type": "code",
   "execution_count": 3,
   "id": "d567bed4",
   "metadata": {},
   "outputs": [],
   "source": [
    "# 2.3 Storing documents \n",
    "\n",
    "# document_ids = vector_store.add_documents(documents=all_splits)\n",
    "# (Vector Store = ChromaDB: Vector databases efficiently store, manage, and retrieve dense embeddings at scale.\n",
    "# we'll use ChromaDB to store both embeddings and documents, and perform a semantic search with document retrieval.)\n",
    "# As following, we need to import the LangSmith as os.environ and install ChromaDB pakage."
   ]
  },
  {
   "cell_type": "code",
   "execution_count": 54,
   "id": "3f5c1bed",
   "metadata": {},
   "outputs": [],
   "source": [
    "# 3. use LangSmith\n",
    "import getpass\n",
    "import os\n",
    "\n",
    "os.environ[\"LANGSMITH_TRACING\"] = \"true\"\n",
    "os.environ[\"LANGSMITH_API_KEY\"] = getpass.getpass()"
   ]
  },
  {
   "cell_type": "code",
   "execution_count": 55,
   "id": "4160b8b7",
   "metadata": {},
   "outputs": [],
   "source": [
    "# Configure environment to connect to LangSmith.\n",
    "os.environ[\"LANGSMITH_TRACING\"] = \"true\"\n",
    "os.environ[\"LANGSMITH_ENDPOINT\"]=\"https://api.smith.langchain.com\"\n",
    "os.environ[\"LANGSMITH_PROJECT\"]=\"RAGsystemProjekt_Wenwen\"\n"
   ]
  },
  {
   "cell_type": "code",
   "execution_count": 56,
   "id": "3216de56",
   "metadata": {},
   "outputs": [],
   "source": [
    "# 4. Components\n",
    "# 4.1 Select chat model: Google Gemini\n",
    "\n",
    "import getpass\n",
    "import os\n",
    "\n",
    "if not os.environ.get(\"GOOGLE_API_KEY\"):\n",
    "  os.environ[\"GOOGLE_API_KEY\"] = getpass.getpass(\"Enter API key for Google Gemini: \")\n",
    "\n",
    "from langchain.chat_models import init_chat_model\n",
    "\n",
    "llm = init_chat_model(\"gemini-2.0-flash\", model_provider=\"google_genai\")"
   ]
  },
  {
   "cell_type": "code",
   "execution_count": 57,
   "id": "b803e25c",
   "metadata": {},
   "outputs": [],
   "source": [
    "# 4.2 Select embedding model: HuggingFace\n",
    "from langchain_huggingface import HuggingFaceEmbeddings\n",
    "\n",
    "embeddings = HuggingFaceEmbeddings(model_name=\"sentence-transformers/all-mpnet-base-v2\")"
   ]
  },
  {
   "cell_type": "code",
   "execution_count": 58,
   "id": "fefb9cbe",
   "metadata": {},
   "outputs": [],
   "source": [
    "# 4.3 Select vector store: Chroma (install and upgrade langchain_chroma)\n",
    "from langchain_chroma import Chroma\n",
    "\n",
    "vector_store = Chroma(\n",
    "    collection_name=\"example_collection\",\n",
    "    embedding_function=embeddings,\n",
    "    persist_directory=\"./chroma_langchain_db\",  # Where to save data locally, remove if not necessary\n",
    ")"
   ]
  },
  {
   "cell_type": "code",
   "execution_count": 59,
   "id": "e2faa62c",
   "metadata": {},
   "outputs": [
    {
     "name": "stdout",
     "output_type": "stream",
     "text": [
      "['6d8cda27-b2ce-489b-bf7c-39b37baa74fe', '145be583-362a-4aac-83f8-d9e6313e0b4b', '3d7e142e-5f7c-40e1-b3f2-4ab687751ee4']\n"
     ]
    }
   ],
   "source": [
    "# 2.3 Storing documents\n",
    "document_ids = vector_store.add_documents(documents=all_splits)\n",
    "\n",
    "print(document_ids[:3])"
   ]
  },
  {
   "cell_type": "code",
   "execution_count": 10,
   "id": "804d4053",
   "metadata": {},
   "outputs": [],
   "source": [
    "# 4.4 Dependencies: needed for management of a chat history.\n",
    "# pip install --upgrade langgraph langchain-community beautifulsoup4"
   ]
  },
  {
   "cell_type": "code",
   "execution_count": 60,
   "id": "1be90566",
   "metadata": {},
   "outputs": [
    {
     "name": "stdout",
     "output_type": "stream",
     "text": [
      "You are an assistant for question-answering tasks. Use the following pieces of retrieved context to answer the question. If you don't know the answer, just say that you don't know. Use three sentences maximum and keep the answer concise.\n",
      "Question: (question goes here) \n",
      "Context: (context goes here) \n",
      "Answer:\n"
     ]
    }
   ],
   "source": [
    "# 5. Retrieval and Generation: Now write the actual application logic\n",
    "# For generation, we use the chat model \"gemini-2.0-flash\"\n",
    "\n",
    "# use a prompt for RAG that is checked into the LangChain prompt hub\n",
    "from langchain import hub\n",
    "\n",
    "prompt = hub.pull(\"rlm/rag-prompt\")\n",
    "\n",
    "example_messages = prompt.invoke(\n",
    "    {\"context\": \"(context goes here)\", \"question\": \"(question goes here)\"}\n",
    ").to_messages()\n",
    "\n",
    "assert len(example_messages) == 1\n",
    "print(example_messages[0].content)"
   ]
  },
  {
   "cell_type": "code",
   "execution_count": 61,
   "id": "765e4252",
   "metadata": {},
   "outputs": [],
   "source": [
    "# use LangGraph to tie together the retrieval and generation steps into a single application. \n",
    "# 5.1 State: For a simple RAG application, we can just keep track of the input question, retrieved context, and generated answer\n",
    "from langchain_core.documents import Document\n",
    "from typing_extensions import List, TypedDict\n",
    "\n",
    "\n",
    "class State(TypedDict):\n",
    "    question: str\n",
    "    context: List[Document]\n",
    "    answer: str"
   ]
  },
  {
   "cell_type": "code",
   "execution_count": 62,
   "id": "e779314e",
   "metadata": {},
   "outputs": [],
   "source": [
    "# 5.2 Prompt variations (Customizing the prompt): we can load prompts from the prompt hub, or customize it.\n",
    "from langchain_core.prompts import PromptTemplate\n",
    "\n",
    "template = \"\"\"Use the following pieces of context to answer the question at the end.\n",
    "If you don't know the answer, just say that you don't know, don't try to make up an answer.\n",
    "Use three sentences maximum and keep the answer as concise as possible.\n",
    "Always say \"thanks for asking!\" at the end of the answer.\n",
    "\n",
    "{context}\n",
    "\n",
    "Question: {question}\n",
    "\n",
    "Helpful Answer:\"\"\"\n",
    "prompt = PromptTemplate.from_template(template)"
   ]
  },
  {
   "cell_type": "code",
   "execution_count": 63,
   "id": "fbf710f3",
   "metadata": {},
   "outputs": [],
   "source": [
    "# we will have:\n",
    "# 1) User input as a HumanMessage;\n",
    "# 2) Vector store query as an AIMessage with tool calls;\n",
    "# 3) Retrieved documents as a ToolMessage;\n",
    "# 4) Final response as a AIMessage.\n",
    "# This model for state is so versatile that LangGraph offers a built-in version for convenience:\n",
    "from langgraph.graph import MessagesState, StateGraph\n",
    "\n",
    "graph_builder = StateGraph(MessagesState)"
   ]
  },
  {
   "cell_type": "code",
   "execution_count": 64,
   "id": "bec55b6f",
   "metadata": {},
   "outputs": [],
   "source": [
    "# 5.3 Nodes (application steps)\n",
    "# Following \"Build a Retrieval Augmented Generation (RAG) App: Part 2\"\n",
    "\n",
    "# In a conversational setting, user queries may require contextualization based on the chat history.\n",
    "# turn our retrieval step into creating tools:\n",
    "from langchain_core.tools import tool\n",
    "\n",
    "\n",
    "@tool(response_format=\"content_and_artifact\")\n",
    "def retrieve(query: str):\n",
    "    \"\"\"Retrieve information related to a query.\"\"\"\n",
    "    retrieved_docs = vector_store.similarity_search(query, k=2)\n",
    "    serialized = \"\\n\\n\".join(\n",
    "        (f\"Source: {doc.metadata}\\n\" f\"Content: {doc.page_content}\")\n",
    "        for doc in retrieved_docs\n",
    "    )\n",
    "    return serialized, retrieved_docs\n",
    "\n",
    "# Our graph will consist of three nodes:\n",
    "# 1) A node that fields the user input, either generating a query for the retriever or responding directly;\n",
    "# 2) A node for the retriever tool that executes the retrieval step;\n",
    "# 3) A node that generates the final response using the retrieved context.\n",
    "\n",
    "from langchain_core.messages import SystemMessage\n",
    "from langgraph.prebuilt import ToolNode\n",
    "\n",
    "\n",
    "# Step 1: Generate an AIMessage that may include a tool-call to be sent.\n",
    "def query_or_respond(state: MessagesState):\n",
    "    \"\"\"Generate tool call for retrieval or respond.\"\"\"\n",
    "    llm_with_tools = llm.bind_tools([retrieve])\n",
    "    response = llm_with_tools.invoke(state[\"messages\"])\n",
    "    # MessagesState appends messages to state instead of overwriting\n",
    "    return {\"messages\": [response]}\n",
    "\n",
    "\n",
    "# Step 2: Execute the retrieval.\n",
    "tools = ToolNode([retrieve])\n",
    "\n",
    "\n",
    "# Step 3: Generate a response using the retrieved content.\n",
    "def generate(state: MessagesState):\n",
    "    \"\"\"Generate answer.\"\"\"\n",
    "    # Get generated ToolMessages\n",
    "    recent_tool_messages = []\n",
    "    for message in reversed(state[\"messages\"]):\n",
    "        if message.type == \"tool\":\n",
    "            recent_tool_messages.append(message)\n",
    "        else:\n",
    "            break\n",
    "    tool_messages = recent_tool_messages[::-1]\n",
    "\n",
    "    # Format into prompt\n",
    "    docs_content = \"\\n\\n\".join(doc.content for doc in tool_messages)\n",
    "    system_message_content = (\n",
    "        \"You are an assistant for question-answering tasks. \"\n",
    "        \"Use the following pieces of retrieved context to answer \"\n",
    "        \"the question. If you don't know the answer, say that you \"\n",
    "        \"don't know. Use three sentences maximum and keep the \"\n",
    "        \"answer concise.\"\n",
    "        \"\\n\\n\"\n",
    "        f\"{docs_content}\"\n",
    "    )\n",
    "    conversation_messages = [\n",
    "        message\n",
    "        for message in state[\"messages\"]\n",
    "        if message.type in (\"human\", \"system\")\n",
    "        or (message.type == \"ai\" and not message.tool_calls)\n",
    "    ]\n",
    "    prompt = [SystemMessage(system_message_content)] + conversation_messages\n",
    "\n",
    "    # Run\n",
    "    response = llm.invoke(prompt)\n",
    "    return {\"messages\": [response]}\n",
    "\n"
   ]
  },
  {
   "cell_type": "code",
   "execution_count": 65,
   "id": "d1007b90",
   "metadata": {},
   "outputs": [
    {
     "data": {
      "image/png": "[encoded data removed]",
      "text/plain": [
       "<IPython.core.display.Image object>"
      ]
     },
     "metadata": {},
     "output_type": "display_data"
    }
   ],
   "source": [
    "# 5.4 Control flow: compile our application into a single graph object.\n",
    "from langgraph.graph import END\n",
    "from langgraph.prebuilt import tools_condition\n",
    "\n",
    "graph_builder.add_node(query_or_respond)\n",
    "graph_builder.add_node(tools)\n",
    "graph_builder.add_node(generate)\n",
    "\n",
    "graph_builder.set_entry_point(\"query_or_respond\")\n",
    "graph_builder.add_conditional_edges(\n",
    "    \"query_or_respond\",\n",
    "    tools_condition,\n",
    "    {END: END, \"tools\": \"tools\"},\n",
    ")\n",
    "graph_builder.add_edge(\"tools\", \"generate\")\n",
    "graph_builder.add_edge(\"generate\", END)\n",
    "\n",
    "graph = graph_builder.compile()\n",
    "\n",
    "from IPython.display import Image, display\n",
    "\n",
    "display(Image(graph.get_graph().draw_mermaid_png()))"
   ]
  },
  {
   "cell_type": "code",
   "execution_count": 66,
   "id": "1a85b7e0",
   "metadata": {},
   "outputs": [],
   "source": [
    "# Multi-turn interaction & Memory\n",
    "from langgraph.checkpoint.memory import MemorySaver\n",
    "\n",
    "memory = MemorySaver()\n",
    "graph = graph_builder.compile(checkpointer=memory)\n",
    "\n",
    "# Specify an ID for the thread\n",
    "config = {\"configurable\": {\"thread_id\": \"abc123\"}}"
   ]
  },
  {
   "cell_type": "code",
   "execution_count": 67,
   "id": "9f6a265c",
   "metadata": {},
   "outputs": [
    {
     "name": "stdout",
     "output_type": "stream",
     "text": [
      "================================\u001b[1m Human Message \u001b[0m=================================\n",
      "\n",
      "When Trump initially announced his new tariffs in February, what did he propose?\n",
      "==================================\u001b[1m Ai Message \u001b[0m==================================\n",
      "Tool Calls:\n",
      "  retrieve (e7440e8b-ad51-42f6-9be0-ee66ac7cee20)\n",
      " Call ID: e7440e8b-ad51-42f6-9be0-ee66ac7cee20\n",
      "  Args:\n",
      "    query: what tariffs did trump announce in february\n",
      "=================================\u001b[1m Tool Message \u001b[0m=================================\n",
      "Name: retrieve\n",
      "\n",
      "Source: {'source': 'https://www.bbc.com/news/articles/cn93e12rypgo', 'start_index': 1403}\n",
      "Content: taken advantage of by \"cheaters\" and \"pillaged\" by foreigners.The US president has made other demands alongside tariffs. When he announced the first tariffs of his current term against China, Mexico and Canada, he said he wanted them to do more to stop migrants and illegal drugs reaching the US. What tariffs has Trump announced?China: Chinese imports to the US include everything from iPhones and electrical goods to children's toys and clothing. Trump unveiled a 10% tariff on goods from China on 4 February, which doubled to 20% a month later.On 9 April, he increased tariffs to 145% for most Chinese goods - with certain products facing a 245% tax.An exemption for Chinese goods worth less than $800 ended on 2 May. Shipments now face 90% duty or $75 per item - increasing to $150 per item after 1 June.In response to Trump's measures, China has introduced 125% tariffs on US imports.Trump also\n",
      "\n",
      "Source: {'source': 'https://www.bbc.com/news/articles/cn93e12rypgo', 'start_index': 0}\n",
      "Content: What tariffs has Trump announced and why?1 day agoShareSaveJennifer ClarkeBBC NewsShareSaveReutersA number of firms including Adidas have warned they will put up prices for US customersUS President Donald Trump has announced a series of new tariffs, arguing these will boost American manufacturing and protect jobs.But the import taxes have thrown the world economy into chaos and many products are set to become more expensive for US consumers. The UK and US are set to announce a deal on tariffs, with other countries also hoping to reach an agreement with the White House.LIVE: US and UK to announce deal to reduce tariffs todayWhat are tariffs and how do they work?Tariffs are taxes charged on goods bought from other countries.Typically, they are a percentage of a product's value. A10% tariff means a $10 product would have a $1 tax on top - taking the total cost to $11 (£8.35).Companies that\n",
      "==================================\u001b[1m Ai Message \u001b[0m==================================\n",
      "\n",
      "When Trump initially announced his new tariffs against China in February, he unveiled a 10% tariff on goods from China. This tariff doubled to 20% a month later.\n"
     ]
    }
   ],
   "source": [
    "# 5.5 Usage: test our application\n",
    "# Question 1: simple question, which can be directly found in the text.\n",
    "input_message = \"When Trump initially announced his new tariffs in February, what did he propose?\"\n",
    "\n",
    "# Stream with required configuration\n",
    "for step in graph.stream(\n",
    "    {\"messages\": [{\"role\": \"user\", \"content\": input_message}]},\n",
    "    stream_mode=\"values\",\n",
    "    config={\n",
    "        \"configurable\": {\n",
    "            \"thread_id\": \"thread_123\",  # or any unique identifier\n",
    "            # You can also use \"checkpoint_ns\" or \"checkpoint_id\" instead\n",
    "        }\n",
    "    }\n",
    "):\n",
    "    step[\"messages\"][-1].pretty_print()\n",
    "\n"
   ]
  },
  {
   "cell_type": "code",
   "execution_count": 73,
   "id": "0159bdf9",
   "metadata": {},
   "outputs": [
    {
     "name": "stdout",
     "output_type": "stream",
     "text": [
      "================================\u001b[1m Human Message \u001b[0m=================================\n",
      "\n",
      "Whether all the countries over the world get the same tariff? If not, which countries get different than 10%? please list them.\n",
      "==================================\u001b[1m Ai Message \u001b[0m==================================\n",
      "Tool Calls:\n",
      "  retrieve (47e063bb-77f2-4ad8-a44e-0a7e95ceb1b7)\n",
      " Call ID: 47e063bb-77f2-4ad8-a44e-0a7e95ceb1b7\n",
      "  Args:\n",
      "    query: list of countries with tariffs different than 10% imposed by the US\n",
      "=================================\u001b[1m Tool Message \u001b[0m=================================\n",
      "Name: retrieve\n",
      "\n",
      "Source: {'description': '\"These are not reciprocal tariffs in their true meaning,\" argues one associate professor of economics.', 'language': 'en', 'source': 'https://time.com/7274651/why-economists-are-horrified-by-trump-tariff-math/', 'start_index': 803, 'title': \"Why Economists Are Horrified by Trump's Tariff Math | TIME\"}\n",
      "Content: and on places with which the U.S. runs a surplus, such as the U.K.AdvertisementAdvertisement“To all of the foreign Presidents, Prime Ministers, Kings, Queens, ambassadors and everyone else who will soon be calling to ask for exemptions from these tariffs, I say: ‘Terminate your own tariffs, drop your barriers, don't manipulate your currencies,’” Trump said while speaking from the Rose Garden at the White House.Read More: Is the U.S. Heading Into a Recession Amid Trump’s Tariffs? ‘Liberation Day’ Fallout Sparks Fresh FearsOn top of this baseline 10% charge, Trump held up a cardboard chart and announced additional tariffs for  some countries, calculated by “tariffs charged to the USA.”The Trump Administration ended up using a simple calculation: Each country’s U.S. trade deficit divided by its exports to the U.S.. The final reciprocal tariff was then divided by 2, with a minimum of 10%.Before the Trump Administration confirmed this method, prominent economist James Surowiecki received\n",
      "\n",
      "Source: {'description': '\"These are not reciprocal tariffs in their true meaning,\" argues one associate professor of economics.', 'language': 'en', 'source': 'https://time.com/7274651/why-economists-are-horrified-by-trump-tariff-math/', 'start_index': 803, 'title': \"Why Economists Are Horrified by Trump's Tariff Math | TIME\"}\n",
      "Content: and on places with which the U.S. runs a surplus, such as the U.K.AdvertisementAdvertisement“To all of the foreign Presidents, Prime Ministers, Kings, Queens, ambassadors and everyone else who will soon be calling to ask for exemptions from these tariffs, I say: ‘Terminate your own tariffs, drop your barriers, don't manipulate your currencies,’” Trump said while speaking from the Rose Garden at the White House.Read More: Is the U.S. Heading Into a Recession Amid Trump’s Tariffs? ‘Liberation Day’ Fallout Sparks Fresh FearsOn top of this baseline 10% charge, Trump held up a cardboard chart and announced additional tariffs for  some countries, calculated by “tariffs charged to the USA.”The Trump Administration ended up using a simple calculation: Each country’s U.S. trade deficit divided by its exports to the U.S.. The final reciprocal tariff was then divided by 2, with a minimum of 10%.Before the Trump Administration confirmed this method, prominent economist James Surowiecki received\n",
      "==================================\u001b[1m Ai Message \u001b[0m==================================\n",
      "\n",
      "I do not have enough information to provide a comprehensive list of all countries with tariffs different than 10%. However, I can confirm that not all countries receive the same tariffs. For example, Israel was hit with a 17% tariff and China faces 125% tariffs on US imports.\n"
     ]
    }
   ],
   "source": [
    "# Question 2: user ask 2 questions at once\n",
    "input_message = \"Whether all the countries over the world get the same tariff? If not, which countries get different than 10%? please list them.\"\n",
    "\n",
    "# Stream with required configuration\n",
    "for step in graph.stream(\n",
    "    {\"messages\": [{\"role\": \"user\", \"content\": input_message}]},\n",
    "    stream_mode=\"values\",\n",
    "    config={\n",
    "        \"configurable\": {\n",
    "            \"thread_id\": \"thread_123\",  # or any unique identifier\n",
    "            # You can also use \"checkpoint_ns\" or \"checkpoint_id\" instead\n",
    "        }\n",
    "    }\n",
    "):\n",
    "    step[\"messages\"][-1].pretty_print()"
   ]
  },
  {
   "cell_type": "code",
   "execution_count": 69,
   "id": "a0eb4064",
   "metadata": {},
   "outputs": [
    {
     "name": "stdout",
     "output_type": "stream",
     "text": [
      "================================\u001b[1m Human Message \u001b[0m=================================\n",
      "\n",
      "Which country get the highest tariff?\n",
      "==================================\u001b[1m Ai Message \u001b[0m==================================\n",
      "Tool Calls:\n",
      "  retrieve (d43aed27-878f-4bb0-8200-641054736b8f)\n",
      " Call ID: d43aed27-878f-4bb0-8200-641054736b8f\n",
      "  Args:\n",
      "    query: which country get the highest tariff from the US\n",
      "=================================\u001b[1m Tool Message \u001b[0m=================================\n",
      "Name: retrieve\n",
      "\n",
      "Source: {'source': 'https://www.bbc.com/news/articles/cn93e12rypgo', 'start_index': 2103}\n",
      "Content: $800 ended on 2 May. Shipments now face 90% duty or $75 per item - increasing to $150 per item after 1 June.In response to Trump's measures, China has introduced 125% tariffs on US imports.Trump also imposed significant tariffs on China during his first presidential term. These were expanded by his successor Joe Biden, which cut the amount America imports from Beijing. But the US still buys much more from China ($440bn) than it sells to it ($145bn). Designed in US, made in China: Why Apple is stuck We don't care': A defiant China looks beyond Trump's America US and China to start talks over trade warReutersCanada and Mexico: Canada and Mexico were also targeted by Trump in February, when he introduced a 25% tax on imports from both countries and a 10% levy on Canadian energy.There have been a number of delays and exemptions to these tariffs.In response, Canada introduced a 25% tax on\n",
      "\n",
      "Source: {'source': 'https://time.com/7274651/why-economists-are-horrified-by-trump-tariff-math/', 'start_index': 2794}\n",
      "Content: deficit in Vietnam shrinks over the next year. Well, then the tariff rate also should change. But now market participants need to forecast how much the trade deficit with individual countries will change,” Tintelnot says. “And that’s not straightforward, because we are changing so many tariffs at the same time, and ultimately, the aggregate trade deficit of the U.S. is largely determined by other macro decisions, like aggregate savings and aggregate investment, that have nothing to do with tariff rates.”He also points out how for certain countries, it does not matter whether they actually have tariffs on the U.S. Israel eliminated tariffs on U.S. goods on April 1, in preparation for Trump’s tariffs, but were still hit hard by a 17% tariff in the April 2 announcement.“The fact that countries that charge zero tariffs on the U.S. have been hit with tariffs illustrates that these are not\n",
      "==================================\u001b[1m Ai Message \u001b[0m==================================\n",
      "\n",
      "China faces 125% tariffs on US imports.\n"
     ]
    }
   ],
   "source": [
    "# Question 3: ask somethong based one the previous answer\n",
    "input_message = \"Which country get the highest tariff?\"\n",
    "\n",
    "# Stream with required configuration\n",
    "for step in graph.stream(\n",
    "    {\"messages\": [{\"role\": \"user\", \"content\": input_message}]},\n",
    "    stream_mode=\"values\",\n",
    "    config={\n",
    "        \"configurable\": {\n",
    "            \"thread_id\": \"thread_123\",  # or any unique identifier\n",
    "            # You can also use \"checkpoint_ns\" or \"checkpoint_id\" instead\n",
    "        }\n",
    "    }\n",
    "):\n",
    "    step[\"messages\"][-1].pretty_print()"
   ]
  },
  {
   "cell_type": "code",
   "execution_count": null,
   "id": "7716830d",
   "metadata": {},
   "outputs": [
    {
     "name": "stdout",
     "output_type": "stream",
     "text": [
      "================================\u001b[1m Human Message \u001b[0m=================================\n",
      "\n",
      "Can you repeat the last question?\n",
      "==================================\u001b[1m Ai Message \u001b[0m==================================\n",
      "\n",
      "Which country gets the highest tariff?\n"
     ]
    }
   ],
   "source": [
    "# Question 4: check its memory\n",
    "input_message = \"Can you repeat the last question?\"\n",
    "\n",
    "# Stream with required configuration\n",
    "for step in graph.stream(\n",
    "    {\"messages\": [{\"role\": \"user\", \"content\": input_message}]},\n",
    "    stream_mode=\"values\",\n",
    "    config={\n",
    "        \"configurable\": {\n",
    "            \"thread_id\": \"thread_123\",  # or any unique identifier\n",
    "            # You can also use \"checkpoint_ns\" or \"checkpoint_id\" instead\n",
    "        }\n",
    "    }\n",
    "):\n",
    "    step[\"messages\"][-1].pretty_print()"
   ]
  },
  {
   "cell_type": "code",
   "execution_count": 74,
   "id": "a6a8803c",
   "metadata": {},
   "outputs": [
    {
     "name": "stdout",
     "output_type": "stream",
     "text": [
      "================================\u001b[1m Human Message \u001b[0m=================================\n",
      "\n",
      "Did you know, why USA charge Vietnam so high? and how much tariff does Vietnam charge USA?\n",
      "==================================\u001b[1m Ai Message \u001b[0m==================================\n",
      "Tool Calls:\n",
      "  retrieve (253ecb39-a6da-4b7c-97fe-7d2542f77b33)\n",
      " Call ID: 253ecb39-a6da-4b7c-97fe-7d2542f77b33\n",
      "  Args:\n",
      "    query: why USA charge Vietnam so high tariff?\n",
      "  retrieve (d3568fc6-eab2-468b-9f41-ea6415262eff)\n",
      " Call ID: d3568fc6-eab2-468b-9f41-ea6415262eff\n",
      "  Args:\n",
      "    query: how much tariff does Vietnam charge USA?\n",
      "=================================\u001b[1m Tool Message \u001b[0m=================================\n",
      "Name: retrieve\n",
      "\n",
      "Source: {'source': 'https://time.com/7274651/why-economists-are-horrified-by-trump-tariff-math/', 'start_index': 2794}\n",
      "Content: deficit in Vietnam shrinks over the next year. Well, then the tariff rate also should change. But now market participants need to forecast how much the trade deficit with individual countries will change,” Tintelnot says. “And that’s not straightforward, because we are changing so many tariffs at the same time, and ultimately, the aggregate trade deficit of the U.S. is largely determined by other macro decisions, like aggregate savings and aggregate investment, that have nothing to do with tariff rates.”He also points out how for certain countries, it does not matter whether they actually have tariffs on the U.S. Israel eliminated tariffs on U.S. goods on April 1, in preparation for Trump’s tariffs, but were still hit hard by a 17% tariff in the April 2 announcement.“The fact that countries that charge zero tariffs on the U.S. have been hit with tariffs illustrates that these are not\n",
      "\n",
      "Source: {'source': 'https://time.com/7274651/why-economists-are-horrified-by-trump-tariff-math/', 'start_index': 2094}\n",
      "Content: between the U.S. and each of our trading partners….To conceptualize reciprocal tariffs, the tariff rates that would drive bilateral trade deficits to zero were computed.”Though the explanation uses Greek letters and formulas, Politico notes that it is essentially the same formula that Surowiecki posted.Using this formula, the Trump Administration calculated extremely high rates for certain countries, including a new 34% tariff imposed on China, 46% for Vietnam, and 20% for the European Union.Felix Tintelnot, associate professor of economics at Duke University, sees major problems with this method of calculation—notably that the trade deficit is “normal” and “can change.”“Let's say the trade deficit in Vietnam shrinks over the next year. Well, then the tariff rate also should change. But now market participants need to forecast how much the trade deficit with individual countries will\n",
      "==================================\u001b[1m Ai Message \u001b[0m==================================\n",
      "\n",
      "The Trump Administration calculated a 46% tariff for Vietnam using a formula designed to drive bilateral trade deficits to zero. I do not have information about the specific tariff rate Vietnam charges the USA.\n"
     ]
    }
   ],
   "source": [
    "# Question 5: user ask a question that is not in the text\n",
    "input_message = \"Did you know, why USA charge Vietnam so high? and how much tariff does Vietnam charge USA?\"\n",
    "\n",
    "# Stream with required configuration\n",
    "for step in graph.stream(\n",
    "    {\"messages\": [{\"role\": \"user\", \"content\": input_message}]},\n",
    "    stream_mode=\"values\",\n",
    "    config={\n",
    "        \"configurable\": {\n",
    "            \"thread_id\": \"thread_123\",  # or any unique identifier\n",
    "            # You can also use \"checkpoint_ns\" or \"checkpoint_id\" instead\n",
    "        }\n",
    "    }\n",
    "):\n",
    "    step[\"messages\"][-1].pretty_print()"
   ]
  },
  {
   "cell_type": "code",
   "execution_count": 78,
   "id": "2d39c85b",
   "metadata": {},
   "outputs": [
    {
     "name": "stdout",
     "output_type": "stream",
     "text": [
      "================================\u001b[1m Human Message \u001b[0m=================================\n",
      "\n",
      "Please give me a summary on: What Companies Are Saying About Trump Tariffs?\n",
      "==================================\u001b[1m Ai Message \u001b[0m==================================\n",
      "Tool Calls:\n",
      "  retrieve (ba96480d-02d0-4374-8904-2368605aca77)\n",
      " Call ID: ba96480d-02d0-4374-8904-2368605aca77\n",
      "  Args:\n",
      "    query: summary of What Companies Are Saying About Trump Tariffs?\n",
      "=================================\u001b[1m Tool Message \u001b[0m=================================\n",
      "Name: retrieve\n",
      "\n",
      "Source: {'source': 'https://www.investors.com/news/trump-tariffs-apple-amazon-gm-saying/', 'start_index': 3}\n",
      "Content: News \n",
      "\t  What Apple, Amazon, GM And Other Companies Are Saying About Trump Tariffs\t\n",
      "\n",
      "\n",
      "\n",
      " Licensing\n",
      "\n",
      "\n",
      "IBD STAFF\n",
      "08:00 AM ET 05/09/2025\n",
      "\n",
      "\n",
      "\n",
      "\n",
      "As President Donald Trump reorders the global economic system, investors have been looking to earnings guidance and commentary to understand the actual impact of his administration's tariffs. But companies themselves are trying to come to grips with the rapidly evolving landscape. So far the common theme from conference calls has been uncertainty. Some CEOs try to quantify the Trump tariff… \n",
      "\n",
      "\n",
      "\n",
      "\n",
      " \n",
      "\n",
      "Magnificent Seven Stocks: Nvidia Slides, Tesla Races Higher\n",
      "\n",
      "\n",
      "3:47 AM ET\n",
      "\t\t\t\t\tNvidia reversed lower, while Tesla raced higher on the stock market today.\t\t\t\t\n",
      "\n",
      "3:47 AM ET\n",
      "\t\t\t\t\tNvidia reversed lower, while Tesla raced higher on the stock...\t\t\t\t\n",
      "\n",
      "\n",
      "Mother’s Day Sale\n",
      "Mom knows best: IBD Digital + Print is the perfect combo—get 2 months for $14!\n",
      "\n",
      "Source: {'source': 'https://www.bbc.com/news/articles/cn93e12rypgo', 'start_index': 0}\n",
      "Content: What tariffs has Trump announced and why?1 day agoShareSaveJennifer ClarkeBBC NewsShareSaveReutersA number of firms including Adidas have warned they will put up prices for US customersUS President Donald Trump has announced a series of new tariffs, arguing these will boost American manufacturing and protect jobs.But the import taxes have thrown the world economy into chaos and many products are set to become more expensive for US consumers. The UK and US are set to announce a deal on tariffs, with other countries also hoping to reach an agreement with the White House.LIVE: US and UK to announce deal to reduce tariffs todayWhat are tariffs and how do they work?Tariffs are taxes charged on goods bought from other countries.Typically, they are a percentage of a product's value. A10% tariff means a $10 product would have a $1 tax on top - taking the total cost to $11 (£8.35).Companies that\n",
      "==================================\u001b[1m Ai Message \u001b[0m==================================\n",
      "\n",
      "Companies are trying to understand the impact of Trump's tariffs, but there is a common theme of uncertainty. Some CEOs are trying to quantify the tariffs.\n"
     ]
    }
   ],
   "source": [
    "# Question 6: ask for a summary\n",
    "input_message = \"Please give me a summary on: What Companies Are Saying About Trump Tariffs?\"\n",
    "\n",
    "# Stream with required configuration\n",
    "for step in graph.stream(\n",
    "    {\"messages\": [{\"role\": \"user\", \"content\": input_message}]},\n",
    "    stream_mode=\"values\",\n",
    "    config={\n",
    "        \"configurable\": {\n",
    "            \"thread_id\": \"thread_123\",  # or any unique identifier\n",
    "            # You can also use \"checkpoint_ns\" or \"checkpoint_id\" instead\n",
    "        }\n",
    "    }\n",
    "):\n",
    "    step[\"messages\"][-1].pretty_print()"
   ]
  },
  {
   "cell_type": "code",
   "execution_count": 80,
   "id": "444417c4",
   "metadata": {},
   "outputs": [
    {
     "name": "stdout",
     "output_type": "stream",
     "text": [
      "================================\u001b[1m Human Message \u001b[0m=================================\n",
      "\n",
      "Please give me a summary on: What are the reactions from China and UK, respectively, toward to Trump's Tariff?\n",
      "==================================\u001b[1m Ai Message \u001b[0m==================================\n",
      "Tool Calls:\n",
      "  retrieve (1fd96154-4812-4414-b15d-c90842bc8ac2)\n",
      " Call ID: 1fd96154-4812-4414-b15d-c90842bc8ac2\n",
      "  Args:\n",
      "    query: China and UK reactions to Trump's Tariffs\n",
      "=================================\u001b[1m Tool Message \u001b[0m=================================\n",
      "Name: retrieve\n",
      "\n",
      "Source: {'source': 'https://www.theguardian.com/world/2025/may/09/china-exports-beat-expectations-despite-slump-in-trade-with-us', 'start_index': 3515}\n",
      "Content: Thursday, Britain became the first to announce a deal with the US that reduces tariffs on British cars and lifts them on steel and aluminium, while, in return, Britain will open up markets to US beef and other farm products.But analysts said traders were more excited about the Republican leader’s comments on the forthcoming talks with China in which he hinted at easing the stiff measures aimed at the world’s No 2 economy.Trump told reporters that he thought the negotiations would be “substantive”, and when asked if reducing the levies was a possibility he said “it could be”.“We’re going to see. Right now you can’t get any higher. It’s at 145% so we know it’s coming down. I think we’re going to have a very good relationship.”Speaking on Friday, the deputy foreign minister, Hua Chunying, said China had full confidence in its ability to manage US trade issues.“We have no fear,” Hua told\n",
      "\n",
      "Source: {'source': 'https://www.bbc.com/news/articles/cn93e12rypgo', 'start_index': 3502}\n",
      "Content: the UK - would face a 10% \"baseline\" tariff on all goods sent to the US.On 9 April, he unveiled a range of much higher tariffs for about 60 countries, described as the \"worst offenders\" among America's trading partners.Hours later he announced a 90-day pause, during which the 10% \"baseline\" rate would be paid by all named countries apart from China. In response, many countries are working on retaliatory measures.Smartphones and computers:An exemption for some electronic devices from China and elsewhere - including smartphones and computers - was announced on 12 April. Trump later warned the concession could be short lived.Films:On 4 May, Trump said he wanted to introduce a 100% tariff on foreign films to boost the US movie industry. See the Trump tariffs list by countryBBC Verify: How were Donald Trump's tariffs calculated?How are Trump's tariffs affecting the UK?PA MediaThe UK exported\n",
      "==================================\u001b[1m Ai Message \u001b[0m==================================\n",
      "\n",
      "China's reaction to Trump's tariffs is that they have full confidence in their ability to manage US trade issues and have no fear. The UK's reaction is that economists have warned the US tariffs could negatively impact their economy.\n"
     ]
    }
   ],
   "source": [
    "# Question 7: ask for a summary from many news papers\n",
    "input_message = \"Please give me a summary on: What are the reactions from China and UK, respectively, toward to Trump's Tariff?\"\n",
    "\n",
    "# Stream with required configuration\n",
    "for step in graph.stream(\n",
    "    {\"messages\": [{\"role\": \"user\", \"content\": input_message}]},\n",
    "    stream_mode=\"values\",\n",
    "    config={\n",
    "        \"configurable\": {\n",
    "            \"thread_id\": \"thread_123\",  # or any unique identifier\n",
    "            # You can also use \"checkpoint_ns\" or \"checkpoint_id\" instead\n",
    "        }\n",
    "    }\n",
    "):\n",
    "    step[\"messages\"][-1].pretty_print()"
   ]
  },
  {
   "cell_type": "code",
   "execution_count": 76,
   "id": "dc176499",
   "metadata": {},
   "outputs": [
    {
     "name": "stderr",
     "output_type": "stream",
     "text": [
      "c:\\Users\\china\\AppData\\Local\\Programs\\Python\\Python313\\Lib\\site-packages\\gradio\\chat_interface.py:338: UserWarning: The 'tuples' format for chatbot messages is deprecated and will be removed in a future version of Gradio. Please set type='messages' instead, which uses openai-style 'role' and 'content' keys.\n",
      "  self.chatbot = Chatbot(\n"
     ]
    },
    {
     "name": "stdout",
     "output_type": "stream",
     "text": [
      "* Running on local URL:  http://127.0.0.1:7860\n",
      "* To create a public link, set `share=True` in `launch()`.\n"
     ]
    },
    {
     "data": {
      "text/html": [
       "<div><iframe src=\"http://127.0.0.1:7860/\" width=\"100%\" height=\"500\" allow=\"autoplay; camera; microphone; clipboard-read; clipboard-write;\" frameborder=\"0\" allowfullscreen></iframe></div>"
      ],
      "text/plain": [
       "<IPython.core.display.HTML object>"
      ]
     },
     "metadata": {},
     "output_type": "display_data"
    },
    {
     "data": {
      "text/plain": []
     },
     "execution_count": 76,
     "metadata": {},
     "output_type": "execute_result"
    }
   ],
   "source": [
    "# create a Gradio chat interface using a LangChain chat model\n",
    "import gradio as gr\n",
    "from langchain_core.messages import HumanMessage, AIMessage\n",
    "from langchain_google_genai import ChatGoogleGenerativeAI\n",
    "import os\n",
    "\n",
    "\n",
    "# Initialize the chat model with explicit API key\n",
    "model = graph\n",
    "\n",
    "def respond(\n",
    "    message: str,\n",
    "    history: list[list[str]],  # Gradio's history format: [[user_msg, ai_msg], ...]\n",
    ") -> str:\n",
    "    \"\"\"\n",
    "    Respond to user input using the model.\n",
    "    \"\"\"\n",
    "    # Convert Gradio history to LangChain message format\n",
    "    chat_history = []\n",
    "    for human_msg, ai_msg in history:\n",
    "        chat_history.extend([\n",
    "            HumanMessage(content=human_msg),\n",
    "            AIMessage(content=ai_msg)\n",
    "        ])\n",
    "    \n",
    "    # Add the new user message\n",
    "    chat_history.append(HumanMessage(content=message))\n",
    "    \n",
    "    # Get the AI's response\n",
    "    response = model.invoke({'messages': chat_history}, config={\"configurable\": {\"thread_id\": \"thread_123\"}})\n",
    "    \n",
    "    return response[\"messages\"][-1].content\n",
    "\n",
    "demo = gr.ChatInterface(\n",
    "    fn=respond,\n",
    "    # examples=[\"Hello\", \"What's AI?\", \"Tell me a joke\"],\n",
    "    title=\"Gemini Chat\",\n",
    ")\n",
    "\n",
    "demo.launch()\n"
   ]
  },
  {
   "cell_type": "code",
   "execution_count": null,
   "id": "07e2483b",
   "metadata": {},
   "outputs": [],
   "source": []
  }
 ],
 "metadata": {
  "kernelspec": {
   "display_name": "Python 3",
   "language": "python",
   "name": "python3"
  },
  "language_info": {
   "codemirror_mode": {
    "name": "ipython",
    "version": 3
   },
   "file_extension": ".py",
   "mimetype": "text/x-python",
   "name": "python",
   "nbconvert_exporter": "python",
   "pygments_lexer": "ipython3",
   "version": "3.13.0"
  }
 },
 "nbformat": 4,
 "nbformat_minor": 5
}
