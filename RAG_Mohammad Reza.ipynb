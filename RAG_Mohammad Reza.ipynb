{
  "cells": [
    {
      "cell_type": "markdown",
      "metadata": {
        "id": "TpZbRl8q2ZFT"
      },
      "source": [
        "# Retrieval-Augmented Generation (RAG)\n",
        " RAG is an AI method that first retrieves information from a database and then generates an answer using that info."
      ]
    },
    {
      "cell_type": "markdown",
      "metadata": {
        "id": "CYctipMc2wv0"
      },
      "source": [
        "## Installations Library\n"
      ]
    },
    {
      "cell_type": "code",
      "execution_count": 82,
      "metadata": {
        "id": "Bv4phvmg2ZnH"
      },
      "outputs": [],
      "source": [
        "%pip install --quiet --upgrade langchain-text-splitters langchain-community langgraph\n",
        "\n"
      ]
    },
    {
      "cell_type": "markdown",
      "metadata": {
        "id": "aHTJzfLe51d3"
      },
      "source": [
        "## API keys and environment variables."
      ]
    },
    {
      "cell_type": "code",
      "execution_count": 83,
      "metadata": {
        "id": "-929-Ris2jX3"
      },
      "outputs": [],
      "source": [
        "import getpass\n",
        "import os\n",
        "from google.colab import userdata\n",
        "\n",
        "os.environ[\"LANGSMITH_TRACING\"] = \"true\"\n",
        "os.environ[\"LANGSMITH_API_KEY\"] =  userdata.get('LANGSMITH_API_KEY')\n",
        "os.environ[\"GOOGLE_API_KEY\"] = userdata.get('GOOGLE_API_KEY')\n",
        "os.environ[\"HF_TOKEN\"] = userdata.get('HF_TOKEN')"
      ]
    },
    {
      "cell_type": "markdown",
      "metadata": {
        "id": "KnIkxYJtGB16"
      },
      "source": [
        "## Chat Model"
      ]
    },
    {
      "cell_type": "code",
      "execution_count": 10,
      "metadata": {
        "id": "ZeSSf-gR4z14"
      },
      "outputs": [],
      "source": [
        "!pip install -qU \"langchain[google-genai]\""
      ]
    },
    {
      "cell_type": "code",
      "execution_count": 84,
      "metadata": {
        "id": "6jiJjl-UF3GB"
      },
      "outputs": [],
      "source": [
        "from langchain.chat_models import init_chat_model\n",
        "\n",
        "model = init_chat_model(\"gemini-2.0-flash\", model_provider=\"google_genai\")"
      ]
    },
    {
      "cell_type": "markdown",
      "metadata": {
        "id": "_mtO0eHHHKlR"
      },
      "source": [
        "## embeddings model"
      ]
    },
    {
      "cell_type": "code",
      "execution_count": 85,
      "metadata": {
        "id": "K1QEVdCwGE_l"
      },
      "outputs": [],
      "source": [
        "!pip install -qU langchain-huggingface"
      ]
    },
    {
      "cell_type": "code",
      "execution_count": 86,
      "metadata": {
        "id": "Jzr44AmPHJLt"
      },
      "outputs": [],
      "source": [
        "from langchain_huggingface import HuggingFaceEmbeddings\n",
        "\n",
        "embeddings = HuggingFaceEmbeddings(model_name=\"sentence-transformers/all-mpnet-base-v2\")"
      ]
    },
    {
      "cell_type": "markdown",
      "metadata": {
        "id": "oSFDyWbMJUjy"
      },
      "source": [
        "## store model"
      ]
    },
    {
      "cell_type": "code",
      "execution_count": 87,
      "metadata": {
        "colab": {
          "base_uri": "https://localhost:8080/"
        },
        "collapsed": true,
        "id": "Gi4T-p_JDF70",
        "outputId": "2ceb83ff-062e-45a5-f7e1-0ad1ce762b8a"
      },
      "outputs": [
        {
          "name": "stdout",
          "output_type": "stream",
          "text": [
            "Found existing installation: opentelemetry-sdk 1.33.0\n",
            "Uninstalling opentelemetry-sdk-1.33.0:\n",
            "  Successfully uninstalled opentelemetry-sdk-1.33.0\n",
            "Found existing installation: opentelemetry-exporter-otlp-proto-grpc 1.33.0\n",
            "Uninstalling opentelemetry-exporter-otlp-proto-grpc-1.33.0:\n",
            "  Successfully uninstalled opentelemetry-exporter-otlp-proto-grpc-1.33.0\n",
            "\u001b[33mWARNING: Skipping opentelemetry-util as it is not installed.\u001b[0m\u001b[33m\n",
            "\u001b[0mFound existing installation: opentelemetry-instrumentation 0.54b0\n",
            "Uninstalling opentelemetry-instrumentation-0.54b0:\n",
            "  Successfully uninstalled opentelemetry-instrumentation-0.54b0\n",
            "Found existing installation: chromadb 1.0.9\n",
            "Uninstalling chromadb-1.0.9:\n",
            "  Successfully uninstalled chromadb-1.0.9\n",
            "Found existing installation: langchain-chroma 0.2.4\n",
            "Uninstalling langchain-chroma-0.2.4:\n",
            "  Successfully uninstalled langchain-chroma-0.2.4\n",
            "Collecting chromadb>=0.4.24\n",
            "  Using cached chromadb-1.0.9-cp39-abi3-manylinux_2_17_x86_64.manylinux2014_x86_64.whl.metadata (6.9 kB)\n",
            "Collecting opentelemetry-sdk==1.33.0\n",
            "  Using cached opentelemetry_sdk-1.33.0-py3-none-any.whl.metadata (1.6 kB)\n",
            "Requirement already satisfied: opentelemetry-api==1.33.0 in /usr/local/lib/python3.11/dist-packages (1.33.0)\n",
            "Collecting opentelemetry-exporter-otlp-proto-grpc==1.33.0\n",
            "  Using cached opentelemetry_exporter_otlp_proto_grpc-1.33.0-py3-none-any.whl.metadata (2.5 kB)\n",
            "Requirement already satisfied: opentelemetry-semantic-conventions==0.54b0 in /usr/local/lib/python3.11/dist-packages (from opentelemetry-sdk==1.33.0) (0.54b0)\n",
            "Requirement already satisfied: typing-extensions>=3.7.4 in /usr/local/lib/python3.11/dist-packages (from opentelemetry-sdk==1.33.0) (4.13.2)\n",
            "Requirement already satisfied: deprecated>=1.2.6 in /usr/local/lib/python3.11/dist-packages (from opentelemetry-api==1.33.0) (1.2.18)\n",
            "Requirement already satisfied: importlib-metadata<8.7.0,>=6.0 in /usr/local/lib/python3.11/dist-packages (from opentelemetry-api==1.33.0) (8.6.1)\n",
            "Requirement already satisfied: googleapis-common-protos~=1.52 in /usr/local/lib/python3.11/dist-packages (from opentelemetry-exporter-otlp-proto-grpc==1.33.0) (1.70.0)\n",
            "Requirement already satisfied: grpcio<2.0.0,>=1.63.2 in /usr/local/lib/python3.11/dist-packages (from opentelemetry-exporter-otlp-proto-grpc==1.33.0) (1.71.0)\n",
            "Requirement already satisfied: opentelemetry-exporter-otlp-proto-common==1.33.0 in /usr/local/lib/python3.11/dist-packages (from opentelemetry-exporter-otlp-proto-grpc==1.33.0) (1.33.0)\n",
            "Requirement already satisfied: opentelemetry-proto==1.33.0 in /usr/local/lib/python3.11/dist-packages (from opentelemetry-exporter-otlp-proto-grpc==1.33.0) (1.33.0)\n",
            "Requirement already satisfied: protobuf<6.0,>=5.0 in /usr/local/lib/python3.11/dist-packages (from opentelemetry-proto==1.33.0->opentelemetry-exporter-otlp-proto-grpc==1.33.0) (5.29.4)\n",
            "Requirement already satisfied: build>=1.0.3 in /usr/local/lib/python3.11/dist-packages (from chromadb>=0.4.24) (1.2.2.post1)\n",
            "Requirement already satisfied: pydantic>=1.9 in /usr/local/lib/python3.11/dist-packages (from chromadb>=0.4.24) (2.11.4)\n",
            "Requirement already satisfied: fastapi==0.115.9 in /usr/local/lib/python3.11/dist-packages (from chromadb>=0.4.24) (0.115.9)\n",
            "Requirement already satisfied: uvicorn>=0.18.3 in /usr/local/lib/python3.11/dist-packages (from uvicorn[standard]>=0.18.3->chromadb>=0.4.24) (0.34.2)\n",
            "Requirement already satisfied: numpy>=1.22.5 in /usr/local/lib/python3.11/dist-packages (from chromadb>=0.4.24) (2.0.2)\n",
            "Requirement already satisfied: posthog>=2.4.0 in /usr/local/lib/python3.11/dist-packages (from chromadb>=0.4.24) (4.0.1)\n",
            "Requirement already satisfied: onnxruntime>=1.14.1 in /usr/local/lib/python3.11/dist-packages (from chromadb>=0.4.24) (1.22.0)\n",
            "Requirement already satisfied: opentelemetry-instrumentation-fastapi>=0.41b0 in /usr/local/lib/python3.11/dist-packages (from chromadb>=0.4.24) (0.54b0)\n",
            "Requirement already satisfied: tokenizers>=0.13.2 in /usr/local/lib/python3.11/dist-packages (from chromadb>=0.4.24) (0.21.1)\n",
            "Requirement already satisfied: pypika>=0.48.9 in /usr/local/lib/python3.11/dist-packages (from chromadb>=0.4.24) (0.48.9)\n",
            "Requirement already satisfied: tqdm>=4.65.0 in /usr/local/lib/python3.11/dist-packages (from chromadb>=0.4.24) (4.67.1)\n",
            "Requirement already satisfied: overrides>=7.3.1 in /usr/local/lib/python3.11/dist-packages (from chromadb>=0.4.24) (7.7.0)\n",
            "Requirement already satisfied: importlib-resources in /usr/local/lib/python3.11/dist-packages (from chromadb>=0.4.24) (6.5.2)\n",
            "Requirement already satisfied: bcrypt>=4.0.1 in /usr/local/lib/python3.11/dist-packages (from chromadb>=0.4.24) (4.3.0)\n",
            "Requirement already satisfied: typer>=0.9.0 in /usr/local/lib/python3.11/dist-packages (from chromadb>=0.4.24) (0.15.3)\n",
            "Requirement already satisfied: kubernetes>=28.1.0 in /usr/local/lib/python3.11/dist-packages (from chromadb>=0.4.24) (32.0.1)\n",
            "Requirement already satisfied: tenacity>=8.2.3 in /usr/local/lib/python3.11/dist-packages (from chromadb>=0.4.24) (9.1.2)\n",
            "Requirement already satisfied: pyyaml>=6.0.0 in /usr/local/lib/python3.11/dist-packages (from chromadb>=0.4.24) (6.0.2)\n",
            "Requirement already satisfied: mmh3>=4.0.1 in /usr/local/lib/python3.11/dist-packages (from chromadb>=0.4.24) (5.1.0)\n",
            "Requirement already satisfied: orjson>=3.9.12 in /usr/local/lib/python3.11/dist-packages (from chromadb>=0.4.24) (3.10.18)\n",
            "Requirement already satisfied: httpx>=0.27.0 in /usr/local/lib/python3.11/dist-packages (from chromadb>=0.4.24) (0.28.1)\n",
            "Requirement already satisfied: rich>=10.11.0 in /usr/local/lib/python3.11/dist-packages (from chromadb>=0.4.24) (13.9.4)\n",
            "Requirement already satisfied: jsonschema>=4.19.0 in /usr/local/lib/python3.11/dist-packages (from chromadb>=0.4.24) (4.23.0)\n",
            "Requirement already satisfied: starlette<0.46.0,>=0.40.0 in /usr/local/lib/python3.11/dist-packages (from fastapi==0.115.9->chromadb>=0.4.24) (0.45.3)\n",
            "Requirement already satisfied: packaging>=19.1 in /usr/local/lib/python3.11/dist-packages (from build>=1.0.3->chromadb>=0.4.24) (24.2)\n",
            "Requirement already satisfied: pyproject_hooks in /usr/local/lib/python3.11/dist-packages (from build>=1.0.3->chromadb>=0.4.24) (1.2.0)\n",
            "Requirement already satisfied: wrapt<2,>=1.10 in /usr/local/lib/python3.11/dist-packages (from deprecated>=1.2.6->opentelemetry-api==1.33.0) (1.17.2)\n",
            "Requirement already satisfied: anyio in /usr/local/lib/python3.11/dist-packages (from httpx>=0.27.0->chromadb>=0.4.24) (4.9.0)\n",
            "Requirement already satisfied: certifi in /usr/local/lib/python3.11/dist-packages (from httpx>=0.27.0->chromadb>=0.4.24) (2025.4.26)\n",
            "Requirement already satisfied: httpcore==1.* in /usr/local/lib/python3.11/dist-packages (from httpx>=0.27.0->chromadb>=0.4.24) (1.0.9)\n",
            "Requirement already satisfied: idna in /usr/local/lib/python3.11/dist-packages (from httpx>=0.27.0->chromadb>=0.4.24) (3.10)\n",
            "Requirement already satisfied: h11>=0.16 in /usr/local/lib/python3.11/dist-packages (from httpcore==1.*->httpx>=0.27.0->chromadb>=0.4.24) (0.16.0)\n",
            "Requirement already satisfied: zipp>=3.20 in /usr/local/lib/python3.11/dist-packages (from importlib-metadata<8.7.0,>=6.0->opentelemetry-api==1.33.0) (3.21.0)\n",
            "Requirement already satisfied: attrs>=22.2.0 in /usr/local/lib/python3.11/dist-packages (from jsonschema>=4.19.0->chromadb>=0.4.24) (25.3.0)\n",
            "Requirement already satisfied: jsonschema-specifications>=2023.03.6 in /usr/local/lib/python3.11/dist-packages (from jsonschema>=4.19.0->chromadb>=0.4.24) (2025.4.1)\n",
            "Requirement already satisfied: referencing>=0.28.4 in /usr/local/lib/python3.11/dist-packages (from jsonschema>=4.19.0->chromadb>=0.4.24) (0.36.2)\n",
            "Requirement already satisfied: rpds-py>=0.7.1 in /usr/local/lib/python3.11/dist-packages (from jsonschema>=4.19.0->chromadb>=0.4.24) (0.24.0)\n",
            "Requirement already satisfied: six>=1.9.0 in /usr/local/lib/python3.11/dist-packages (from kubernetes>=28.1.0->chromadb>=0.4.24) (1.17.0)\n",
            "Requirement already satisfied: python-dateutil>=2.5.3 in /usr/local/lib/python3.11/dist-packages (from kubernetes>=28.1.0->chromadb>=0.4.24) (2.9.0.post0)\n",
            "Requirement already satisfied: google-auth>=1.0.1 in /usr/local/lib/python3.11/dist-packages (from kubernetes>=28.1.0->chromadb>=0.4.24) (2.38.0)\n",
            "Requirement already satisfied: websocket-client!=0.40.0,!=0.41.*,!=0.42.*,>=0.32.0 in /usr/local/lib/python3.11/dist-packages (from kubernetes>=28.1.0->chromadb>=0.4.24) (1.8.0)\n",
            "Requirement already satisfied: requests in /usr/local/lib/python3.11/dist-packages (from kubernetes>=28.1.0->chromadb>=0.4.24) (2.32.3)\n",
            "Requirement already satisfied: requests-oauthlib in /usr/local/lib/python3.11/dist-packages (from kubernetes>=28.1.0->chromadb>=0.4.24) (2.0.0)\n",
            "Requirement already satisfied: oauthlib>=3.2.2 in /usr/local/lib/python3.11/dist-packages (from kubernetes>=28.1.0->chromadb>=0.4.24) (3.2.2)\n",
            "Requirement already satisfied: urllib3>=1.24.2 in /usr/local/lib/python3.11/dist-packages (from kubernetes>=28.1.0->chromadb>=0.4.24) (2.4.0)\n",
            "Requirement already satisfied: durationpy>=0.7 in /usr/local/lib/python3.11/dist-packages (from kubernetes>=28.1.0->chromadb>=0.4.24) (0.10)\n",
            "Requirement already satisfied: coloredlogs in /usr/local/lib/python3.11/dist-packages (from onnxruntime>=1.14.1->chromadb>=0.4.24) (15.0.1)\n",
            "Requirement already satisfied: flatbuffers in /usr/local/lib/python3.11/dist-packages (from onnxruntime>=1.14.1->chromadb>=0.4.24) (25.2.10)\n",
            "Requirement already satisfied: sympy in /usr/local/lib/python3.11/dist-packages (from onnxruntime>=1.14.1->chromadb>=0.4.24) (1.13.1)\n",
            "Requirement already satisfied: opentelemetry-instrumentation-asgi==0.54b0 in /usr/local/lib/python3.11/dist-packages (from opentelemetry-instrumentation-fastapi>=0.41b0->chromadb>=0.4.24) (0.54b0)\n",
            "Collecting opentelemetry-instrumentation==0.54b0 (from opentelemetry-instrumentation-fastapi>=0.41b0->chromadb>=0.4.24)\n",
            "  Using cached opentelemetry_instrumentation-0.54b0-py3-none-any.whl.metadata (6.8 kB)\n",
            "Requirement already satisfied: opentelemetry-util-http==0.54b0 in /usr/local/lib/python3.11/dist-packages (from opentelemetry-instrumentation-fastapi>=0.41b0->chromadb>=0.4.24) (0.54b0)\n",
            "Requirement already satisfied: asgiref~=3.0 in /usr/local/lib/python3.11/dist-packages (from opentelemetry-instrumentation-asgi==0.54b0->opentelemetry-instrumentation-fastapi>=0.41b0->chromadb>=0.4.24) (3.8.1)\n",
            "Requirement already satisfied: backoff>=1.10.0 in /usr/local/lib/python3.11/dist-packages (from posthog>=2.4.0->chromadb>=0.4.24) (2.2.1)\n",
            "Requirement already satisfied: distro>=1.5.0 in /usr/local/lib/python3.11/dist-packages (from posthog>=2.4.0->chromadb>=0.4.24) (1.9.0)\n",
            "Requirement already satisfied: annotated-types>=0.6.0 in /usr/local/lib/python3.11/dist-packages (from pydantic>=1.9->chromadb>=0.4.24) (0.7.0)\n",
            "Requirement already satisfied: pydantic-core==2.33.2 in /usr/local/lib/python3.11/dist-packages (from pydantic>=1.9->chromadb>=0.4.24) (2.33.2)\n",
            "Requirement already satisfied: typing-inspection>=0.4.0 in /usr/local/lib/python3.11/dist-packages (from pydantic>=1.9->chromadb>=0.4.24) (0.4.0)\n",
            "Requirement already satisfied: markdown-it-py>=2.2.0 in /usr/local/lib/python3.11/dist-packages (from rich>=10.11.0->chromadb>=0.4.24) (3.0.0)\n",
            "Requirement already satisfied: pygments<3.0.0,>=2.13.0 in /usr/local/lib/python3.11/dist-packages (from rich>=10.11.0->chromadb>=0.4.24) (2.19.1)\n",
            "Requirement already satisfied: huggingface-hub<1.0,>=0.16.4 in /usr/local/lib/python3.11/dist-packages (from tokenizers>=0.13.2->chromadb>=0.4.24) (0.31.2)\n",
            "Requirement already satisfied: click>=8.0.0 in /usr/local/lib/python3.11/dist-packages (from typer>=0.9.0->chromadb>=0.4.24) (8.2.0)\n",
            "Requirement already satisfied: shellingham>=1.3.0 in /usr/local/lib/python3.11/dist-packages (from typer>=0.9.0->chromadb>=0.4.24) (1.5.4)\n",
            "Requirement already satisfied: httptools>=0.6.3 in /usr/local/lib/python3.11/dist-packages (from uvicorn[standard]>=0.18.3->chromadb>=0.4.24) (0.6.4)\n",
            "Requirement already satisfied: python-dotenv>=0.13 in /usr/local/lib/python3.11/dist-packages (from uvicorn[standard]>=0.18.3->chromadb>=0.4.24) (1.1.0)\n",
            "Requirement already satisfied: uvloop!=0.15.0,!=0.15.1,>=0.14.0 in /usr/local/lib/python3.11/dist-packages (from uvicorn[standard]>=0.18.3->chromadb>=0.4.24) (0.21.0)\n",
            "Requirement already satisfied: watchfiles>=0.13 in /usr/local/lib/python3.11/dist-packages (from uvicorn[standard]>=0.18.3->chromadb>=0.4.24) (1.0.5)\n",
            "Requirement already satisfied: websockets>=10.4 in /usr/local/lib/python3.11/dist-packages (from uvicorn[standard]>=0.18.3->chromadb>=0.4.24) (15.0.1)\n",
            "Requirement already satisfied: cachetools<6.0,>=2.0.0 in /usr/local/lib/python3.11/dist-packages (from google-auth>=1.0.1->kubernetes>=28.1.0->chromadb>=0.4.24) (5.5.2)\n",
            "Requirement already satisfied: pyasn1-modules>=0.2.1 in /usr/local/lib/python3.11/dist-packages (from google-auth>=1.0.1->kubernetes>=28.1.0->chromadb>=0.4.24) (0.4.2)\n",
            "Requirement already satisfied: rsa<5,>=3.1.4 in /usr/local/lib/python3.11/dist-packages (from google-auth>=1.0.1->kubernetes>=28.1.0->chromadb>=0.4.24) (4.9.1)\n",
            "Requirement already satisfied: filelock in /usr/local/lib/python3.11/dist-packages (from huggingface-hub<1.0,>=0.16.4->tokenizers>=0.13.2->chromadb>=0.4.24) (3.18.0)\n",
            "Requirement already satisfied: fsspec>=2023.5.0 in /usr/local/lib/python3.11/dist-packages (from huggingface-hub<1.0,>=0.16.4->tokenizers>=0.13.2->chromadb>=0.4.24) (2025.3.2)\n",
            "Requirement already satisfied: mdurl~=0.1 in /usr/local/lib/python3.11/dist-packages (from markdown-it-py>=2.2.0->rich>=10.11.0->chromadb>=0.4.24) (0.1.2)\n",
            "Requirement already satisfied: charset-normalizer<4,>=2 in /usr/local/lib/python3.11/dist-packages (from requests->kubernetes>=28.1.0->chromadb>=0.4.24) (3.4.2)\n",
            "Requirement already satisfied: sniffio>=1.1 in /usr/local/lib/python3.11/dist-packages (from anyio->httpx>=0.27.0->chromadb>=0.4.24) (1.3.1)\n",
            "Requirement already satisfied: humanfriendly>=9.1 in /usr/local/lib/python3.11/dist-packages (from coloredlogs->onnxruntime>=1.14.1->chromadb>=0.4.24) (10.0)\n",
            "Requirement already satisfied: mpmath<1.4,>=1.1.0 in /usr/local/lib/python3.11/dist-packages (from sympy->onnxruntime>=1.14.1->chromadb>=0.4.24) (1.3.0)\n",
            "Requirement already satisfied: pyasn1<0.7.0,>=0.6.1 in /usr/local/lib/python3.11/dist-packages (from pyasn1-modules>=0.2.1->google-auth>=1.0.1->kubernetes>=28.1.0->chromadb>=0.4.24) (0.6.1)\n",
            "Using cached opentelemetry_sdk-1.33.0-py3-none-any.whl (118 kB)\n",
            "Using cached opentelemetry_exporter_otlp_proto_grpc-1.33.0-py3-none-any.whl (18 kB)\n",
            "Using cached chromadb-1.0.9-cp39-abi3-manylinux_2_17_x86_64.manylinux2014_x86_64.whl (18.9 MB)\n",
            "Using cached opentelemetry_instrumentation-0.54b0-py3-none-any.whl (31 kB)\n",
            "Installing collected packages: opentelemetry-sdk, opentelemetry-instrumentation, opentelemetry-exporter-otlp-proto-grpc, chromadb\n",
            "Successfully installed chromadb-1.0.9 opentelemetry-exporter-otlp-proto-grpc-1.33.0 opentelemetry-instrumentation-0.54b0 opentelemetry-sdk-1.33.0\n",
            "Requirement already satisfied: langchain in /usr/local/lib/python3.11/dist-packages (0.3.25)\n",
            "Collecting langchain-chroma\n",
            "  Using cached langchain_chroma-0.2.4-py3-none-any.whl.metadata (1.1 kB)\n",
            "Requirement already satisfied: langchain-core<1.0.0,>=0.3.58 in /usr/local/lib/python3.11/dist-packages (from langchain) (0.3.60)\n",
            "Requirement already satisfied: langchain-text-splitters<1.0.0,>=0.3.8 in /usr/local/lib/python3.11/dist-packages (from langchain) (0.3.8)\n",
            "Requirement already satisfied: langsmith<0.4,>=0.1.17 in /usr/local/lib/python3.11/dist-packages (from langchain) (0.3.42)\n",
            "Requirement already satisfied: pydantic<3.0.0,>=2.7.4 in /usr/local/lib/python3.11/dist-packages (from langchain) (2.11.4)\n",
            "Requirement already satisfied: SQLAlchemy<3,>=1.4 in /usr/local/lib/python3.11/dist-packages (from langchain) (2.0.40)\n",
            "Requirement already satisfied: requests<3,>=2 in /usr/local/lib/python3.11/dist-packages (from langchain) (2.32.3)\n",
            "Requirement already satisfied: PyYAML>=5.3 in /usr/local/lib/python3.11/dist-packages (from langchain) (6.0.2)\n",
            "Requirement already satisfied: numpy>=1.26.0 in /usr/local/lib/python3.11/dist-packages (from langchain-chroma) (2.0.2)\n",
            "Requirement already satisfied: chromadb>=1.0.9 in /usr/local/lib/python3.11/dist-packages (from langchain-chroma) (1.0.9)\n",
            "Requirement already satisfied: build>=1.0.3 in /usr/local/lib/python3.11/dist-packages (from chromadb>=1.0.9->langchain-chroma) (1.2.2.post1)\n",
            "Requirement already satisfied: fastapi==0.115.9 in /usr/local/lib/python3.11/dist-packages (from chromadb>=1.0.9->langchain-chroma) (0.115.9)\n",
            "Requirement already satisfied: uvicorn>=0.18.3 in /usr/local/lib/python3.11/dist-packages (from uvicorn[standard]>=0.18.3->chromadb>=1.0.9->langchain-chroma) (0.34.2)\n",
            "Requirement already satisfied: posthog>=2.4.0 in /usr/local/lib/python3.11/dist-packages (from chromadb>=1.0.9->langchain-chroma) (4.0.1)\n",
            "Requirement already satisfied: typing-extensions>=4.5.0 in /usr/local/lib/python3.11/dist-packages (from chromadb>=1.0.9->langchain-chroma) (4.13.2)\n",
            "Requirement already satisfied: onnxruntime>=1.14.1 in /usr/local/lib/python3.11/dist-packages (from chromadb>=1.0.9->langchain-chroma) (1.22.0)\n",
            "Requirement already satisfied: opentelemetry-api>=1.2.0 in /usr/local/lib/python3.11/dist-packages (from chromadb>=1.0.9->langchain-chroma) (1.33.0)\n",
            "Requirement already satisfied: opentelemetry-exporter-otlp-proto-grpc>=1.2.0 in /usr/local/lib/python3.11/dist-packages (from chromadb>=1.0.9->langchain-chroma) (1.33.0)\n",
            "Requirement already satisfied: opentelemetry-instrumentation-fastapi>=0.41b0 in /usr/local/lib/python3.11/dist-packages (from chromadb>=1.0.9->langchain-chroma) (0.54b0)\n",
            "Requirement already satisfied: opentelemetry-sdk>=1.2.0 in /usr/local/lib/python3.11/dist-packages (from chromadb>=1.0.9->langchain-chroma) (1.33.0)\n",
            "Requirement already satisfied: tokenizers>=0.13.2 in /usr/local/lib/python3.11/dist-packages (from chromadb>=1.0.9->langchain-chroma) (0.21.1)\n",
            "Requirement already satisfied: pypika>=0.48.9 in /usr/local/lib/python3.11/dist-packages (from chromadb>=1.0.9->langchain-chroma) (0.48.9)\n",
            "Requirement already satisfied: tqdm>=4.65.0 in /usr/local/lib/python3.11/dist-packages (from chromadb>=1.0.9->langchain-chroma) (4.67.1)\n",
            "Requirement already satisfied: overrides>=7.3.1 in /usr/local/lib/python3.11/dist-packages (from chromadb>=1.0.9->langchain-chroma) (7.7.0)\n",
            "Requirement already satisfied: importlib-resources in /usr/local/lib/python3.11/dist-packages (from chromadb>=1.0.9->langchain-chroma) (6.5.2)\n",
            "Requirement already satisfied: grpcio>=1.58.0 in /usr/local/lib/python3.11/dist-packages (from chromadb>=1.0.9->langchain-chroma) (1.71.0)\n",
            "Requirement already satisfied: bcrypt>=4.0.1 in /usr/local/lib/python3.11/dist-packages (from chromadb>=1.0.9->langchain-chroma) (4.3.0)\n",
            "Requirement already satisfied: typer>=0.9.0 in /usr/local/lib/python3.11/dist-packages (from chromadb>=1.0.9->langchain-chroma) (0.15.3)\n",
            "Requirement already satisfied: kubernetes>=28.1.0 in /usr/local/lib/python3.11/dist-packages (from chromadb>=1.0.9->langchain-chroma) (32.0.1)\n",
            "Requirement already satisfied: tenacity>=8.2.3 in /usr/local/lib/python3.11/dist-packages (from chromadb>=1.0.9->langchain-chroma) (9.1.2)\n",
            "Requirement already satisfied: mmh3>=4.0.1 in /usr/local/lib/python3.11/dist-packages (from chromadb>=1.0.9->langchain-chroma) (5.1.0)\n",
            "Requirement already satisfied: orjson>=3.9.12 in /usr/local/lib/python3.11/dist-packages (from chromadb>=1.0.9->langchain-chroma) (3.10.18)\n",
            "Requirement already satisfied: httpx>=0.27.0 in /usr/local/lib/python3.11/dist-packages (from chromadb>=1.0.9->langchain-chroma) (0.28.1)\n",
            "Requirement already satisfied: rich>=10.11.0 in /usr/local/lib/python3.11/dist-packages (from chromadb>=1.0.9->langchain-chroma) (13.9.4)\n",
            "Requirement already satisfied: jsonschema>=4.19.0 in /usr/local/lib/python3.11/dist-packages (from chromadb>=1.0.9->langchain-chroma) (4.23.0)\n",
            "Requirement already satisfied: starlette<0.46.0,>=0.40.0 in /usr/local/lib/python3.11/dist-packages (from fastapi==0.115.9->chromadb>=1.0.9->langchain-chroma) (0.45.3)\n",
            "Requirement already satisfied: jsonpatch<2.0,>=1.33 in /usr/local/lib/python3.11/dist-packages (from langchain-core<1.0.0,>=0.3.58->langchain) (1.33)\n",
            "Requirement already satisfied: packaging<25,>=23.2 in /usr/local/lib/python3.11/dist-packages (from langchain-core<1.0.0,>=0.3.58->langchain) (24.2)\n",
            "Requirement already satisfied: requests-toolbelt<2.0.0,>=1.0.0 in /usr/local/lib/python3.11/dist-packages (from langsmith<0.4,>=0.1.17->langchain) (1.0.0)\n",
            "Requirement already satisfied: zstandard<0.24.0,>=0.23.0 in /usr/local/lib/python3.11/dist-packages (from langsmith<0.4,>=0.1.17->langchain) (0.23.0)\n",
            "Requirement already satisfied: annotated-types>=0.6.0 in /usr/local/lib/python3.11/dist-packages (from pydantic<3.0.0,>=2.7.4->langchain) (0.7.0)\n",
            "Requirement already satisfied: pydantic-core==2.33.2 in /usr/local/lib/python3.11/dist-packages (from pydantic<3.0.0,>=2.7.4->langchain) (2.33.2)\n",
            "Requirement already satisfied: typing-inspection>=0.4.0 in /usr/local/lib/python3.11/dist-packages (from pydantic<3.0.0,>=2.7.4->langchain) (0.4.0)\n",
            "Requirement already satisfied: charset-normalizer<4,>=2 in /usr/local/lib/python3.11/dist-packages (from requests<3,>=2->langchain) (3.4.2)\n",
            "Requirement already satisfied: idna<4,>=2.5 in /usr/local/lib/python3.11/dist-packages (from requests<3,>=2->langchain) (3.10)\n",
            "Requirement already satisfied: urllib3<3,>=1.21.1 in /usr/local/lib/python3.11/dist-packages (from requests<3,>=2->langchain) (2.4.0)\n",
            "Requirement already satisfied: certifi>=2017.4.17 in /usr/local/lib/python3.11/dist-packages (from requests<3,>=2->langchain) (2025.4.26)\n",
            "Requirement already satisfied: greenlet>=1 in /usr/local/lib/python3.11/dist-packages (from SQLAlchemy<3,>=1.4->langchain) (3.2.2)\n",
            "Requirement already satisfied: pyproject_hooks in /usr/local/lib/python3.11/dist-packages (from build>=1.0.3->chromadb>=1.0.9->langchain-chroma) (1.2.0)\n",
            "Requirement already satisfied: anyio in /usr/local/lib/python3.11/dist-packages (from httpx>=0.27.0->chromadb>=1.0.9->langchain-chroma) (4.9.0)\n",
            "Requirement already satisfied: httpcore==1.* in /usr/local/lib/python3.11/dist-packages (from httpx>=0.27.0->chromadb>=1.0.9->langchain-chroma) (1.0.9)\n",
            "Requirement already satisfied: h11>=0.16 in /usr/local/lib/python3.11/dist-packages (from httpcore==1.*->httpx>=0.27.0->chromadb>=1.0.9->langchain-chroma) (0.16.0)\n",
            "Requirement already satisfied: jsonpointer>=1.9 in /usr/local/lib/python3.11/dist-packages (from jsonpatch<2.0,>=1.33->langchain-core<1.0.0,>=0.3.58->langchain) (3.0.0)\n",
            "Requirement already satisfied: attrs>=22.2.0 in /usr/local/lib/python3.11/dist-packages (from jsonschema>=4.19.0->chromadb>=1.0.9->langchain-chroma) (25.3.0)\n",
            "Requirement already satisfied: jsonschema-specifications>=2023.03.6 in /usr/local/lib/python3.11/dist-packages (from jsonschema>=4.19.0->chromadb>=1.0.9->langchain-chroma) (2025.4.1)\n",
            "Requirement already satisfied: referencing>=0.28.4 in /usr/local/lib/python3.11/dist-packages (from jsonschema>=4.19.0->chromadb>=1.0.9->langchain-chroma) (0.36.2)\n",
            "Requirement already satisfied: rpds-py>=0.7.1 in /usr/local/lib/python3.11/dist-packages (from jsonschema>=4.19.0->chromadb>=1.0.9->langchain-chroma) (0.24.0)\n",
            "Requirement already satisfied: six>=1.9.0 in /usr/local/lib/python3.11/dist-packages (from kubernetes>=28.1.0->chromadb>=1.0.9->langchain-chroma) (1.17.0)\n",
            "Requirement already satisfied: python-dateutil>=2.5.3 in /usr/local/lib/python3.11/dist-packages (from kubernetes>=28.1.0->chromadb>=1.0.9->langchain-chroma) (2.9.0.post0)\n",
            "Requirement already satisfied: google-auth>=1.0.1 in /usr/local/lib/python3.11/dist-packages (from kubernetes>=28.1.0->chromadb>=1.0.9->langchain-chroma) (2.38.0)\n",
            "Requirement already satisfied: websocket-client!=0.40.0,!=0.41.*,!=0.42.*,>=0.32.0 in /usr/local/lib/python3.11/dist-packages (from kubernetes>=28.1.0->chromadb>=1.0.9->langchain-chroma) (1.8.0)\n",
            "Requirement already satisfied: requests-oauthlib in /usr/local/lib/python3.11/dist-packages (from kubernetes>=28.1.0->chromadb>=1.0.9->langchain-chroma) (2.0.0)\n",
            "Requirement already satisfied: oauthlib>=3.2.2 in /usr/local/lib/python3.11/dist-packages (from kubernetes>=28.1.0->chromadb>=1.0.9->langchain-chroma) (3.2.2)\n",
            "Requirement already satisfied: durationpy>=0.7 in /usr/local/lib/python3.11/dist-packages (from kubernetes>=28.1.0->chromadb>=1.0.9->langchain-chroma) (0.10)\n",
            "Requirement already satisfied: coloredlogs in /usr/local/lib/python3.11/dist-packages (from onnxruntime>=1.14.1->chromadb>=1.0.9->langchain-chroma) (15.0.1)\n",
            "Requirement already satisfied: flatbuffers in /usr/local/lib/python3.11/dist-packages (from onnxruntime>=1.14.1->chromadb>=1.0.9->langchain-chroma) (25.2.10)\n",
            "Requirement already satisfied: protobuf in /usr/local/lib/python3.11/dist-packages (from onnxruntime>=1.14.1->chromadb>=1.0.9->langchain-chroma) (5.29.4)\n",
            "Requirement already satisfied: sympy in /usr/local/lib/python3.11/dist-packages (from onnxruntime>=1.14.1->chromadb>=1.0.9->langchain-chroma) (1.13.1)\n",
            "Requirement already satisfied: deprecated>=1.2.6 in /usr/local/lib/python3.11/dist-packages (from opentelemetry-api>=1.2.0->chromadb>=1.0.9->langchain-chroma) (1.2.18)\n",
            "Requirement already satisfied: importlib-metadata<8.7.0,>=6.0 in /usr/local/lib/python3.11/dist-packages (from opentelemetry-api>=1.2.0->chromadb>=1.0.9->langchain-chroma) (8.6.1)\n",
            "Requirement already satisfied: googleapis-common-protos~=1.52 in /usr/local/lib/python3.11/dist-packages (from opentelemetry-exporter-otlp-proto-grpc>=1.2.0->chromadb>=1.0.9->langchain-chroma) (1.70.0)\n",
            "Requirement already satisfied: opentelemetry-exporter-otlp-proto-common==1.33.0 in /usr/local/lib/python3.11/dist-packages (from opentelemetry-exporter-otlp-proto-grpc>=1.2.0->chromadb>=1.0.9->langchain-chroma) (1.33.0)\n",
            "Requirement already satisfied: opentelemetry-proto==1.33.0 in /usr/local/lib/python3.11/dist-packages (from opentelemetry-exporter-otlp-proto-grpc>=1.2.0->chromadb>=1.0.9->langchain-chroma) (1.33.0)\n",
            "Requirement already satisfied: opentelemetry-instrumentation-asgi==0.54b0 in /usr/local/lib/python3.11/dist-packages (from opentelemetry-instrumentation-fastapi>=0.41b0->chromadb>=1.0.9->langchain-chroma) (0.54b0)\n",
            "Requirement already satisfied: opentelemetry-instrumentation==0.54b0 in /usr/local/lib/python3.11/dist-packages (from opentelemetry-instrumentation-fastapi>=0.41b0->chromadb>=1.0.9->langchain-chroma) (0.54b0)\n",
            "Requirement already satisfied: opentelemetry-semantic-conventions==0.54b0 in /usr/local/lib/python3.11/dist-packages (from opentelemetry-instrumentation-fastapi>=0.41b0->chromadb>=1.0.9->langchain-chroma) (0.54b0)\n",
            "Requirement already satisfied: opentelemetry-util-http==0.54b0 in /usr/local/lib/python3.11/dist-packages (from opentelemetry-instrumentation-fastapi>=0.41b0->chromadb>=1.0.9->langchain-chroma) (0.54b0)\n",
            "Requirement already satisfied: wrapt<2.0.0,>=1.0.0 in /usr/local/lib/python3.11/dist-packages (from opentelemetry-instrumentation==0.54b0->opentelemetry-instrumentation-fastapi>=0.41b0->chromadb>=1.0.9->langchain-chroma) (1.17.2)\n",
            "Requirement already satisfied: asgiref~=3.0 in /usr/local/lib/python3.11/dist-packages (from opentelemetry-instrumentation-asgi==0.54b0->opentelemetry-instrumentation-fastapi>=0.41b0->chromadb>=1.0.9->langchain-chroma) (3.8.1)\n",
            "Requirement already satisfied: backoff>=1.10.0 in /usr/local/lib/python3.11/dist-packages (from posthog>=2.4.0->chromadb>=1.0.9->langchain-chroma) (2.2.1)\n",
            "Requirement already satisfied: distro>=1.5.0 in /usr/local/lib/python3.11/dist-packages (from posthog>=2.4.0->chromadb>=1.0.9->langchain-chroma) (1.9.0)\n",
            "Requirement already satisfied: markdown-it-py>=2.2.0 in /usr/local/lib/python3.11/dist-packages (from rich>=10.11.0->chromadb>=1.0.9->langchain-chroma) (3.0.0)\n",
            "Requirement already satisfied: pygments<3.0.0,>=2.13.0 in /usr/local/lib/python3.11/dist-packages (from rich>=10.11.0->chromadb>=1.0.9->langchain-chroma) (2.19.1)\n",
            "Requirement already satisfied: huggingface-hub<1.0,>=0.16.4 in /usr/local/lib/python3.11/dist-packages (from tokenizers>=0.13.2->chromadb>=1.0.9->langchain-chroma) (0.31.2)\n",
            "Requirement already satisfied: click>=8.0.0 in /usr/local/lib/python3.11/dist-packages (from typer>=0.9.0->chromadb>=1.0.9->langchain-chroma) (8.2.0)\n",
            "Requirement already satisfied: shellingham>=1.3.0 in /usr/local/lib/python3.11/dist-packages (from typer>=0.9.0->chromadb>=1.0.9->langchain-chroma) (1.5.4)\n",
            "Requirement already satisfied: httptools>=0.6.3 in /usr/local/lib/python3.11/dist-packages (from uvicorn[standard]>=0.18.3->chromadb>=1.0.9->langchain-chroma) (0.6.4)\n",
            "Requirement already satisfied: python-dotenv>=0.13 in /usr/local/lib/python3.11/dist-packages (from uvicorn[standard]>=0.18.3->chromadb>=1.0.9->langchain-chroma) (1.1.0)\n",
            "Requirement already satisfied: uvloop!=0.15.0,!=0.15.1,>=0.14.0 in /usr/local/lib/python3.11/dist-packages (from uvicorn[standard]>=0.18.3->chromadb>=1.0.9->langchain-chroma) (0.21.0)\n",
            "Requirement already satisfied: watchfiles>=0.13 in /usr/local/lib/python3.11/dist-packages (from uvicorn[standard]>=0.18.3->chromadb>=1.0.9->langchain-chroma) (1.0.5)\n",
            "Requirement already satisfied: websockets>=10.4 in /usr/local/lib/python3.11/dist-packages (from uvicorn[standard]>=0.18.3->chromadb>=1.0.9->langchain-chroma) (15.0.1)\n",
            "Requirement already satisfied: cachetools<6.0,>=2.0.0 in /usr/local/lib/python3.11/dist-packages (from google-auth>=1.0.1->kubernetes>=28.1.0->chromadb>=1.0.9->langchain-chroma) (5.5.2)\n",
            "Requirement already satisfied: pyasn1-modules>=0.2.1 in /usr/local/lib/python3.11/dist-packages (from google-auth>=1.0.1->kubernetes>=28.1.0->chromadb>=1.0.9->langchain-chroma) (0.4.2)\n",
            "Requirement already satisfied: rsa<5,>=3.1.4 in /usr/local/lib/python3.11/dist-packages (from google-auth>=1.0.1->kubernetes>=28.1.0->chromadb>=1.0.9->langchain-chroma) (4.9.1)\n",
            "Requirement already satisfied: filelock in /usr/local/lib/python3.11/dist-packages (from huggingface-hub<1.0,>=0.16.4->tokenizers>=0.13.2->chromadb>=1.0.9->langchain-chroma) (3.18.0)\n",
            "Requirement already satisfied: fsspec>=2023.5.0 in /usr/local/lib/python3.11/dist-packages (from huggingface-hub<1.0,>=0.16.4->tokenizers>=0.13.2->chromadb>=1.0.9->langchain-chroma) (2025.3.2)\n",
            "Requirement already satisfied: zipp>=3.20 in /usr/local/lib/python3.11/dist-packages (from importlib-metadata<8.7.0,>=6.0->opentelemetry-api>=1.2.0->chromadb>=1.0.9->langchain-chroma) (3.21.0)\n",
            "Requirement already satisfied: mdurl~=0.1 in /usr/local/lib/python3.11/dist-packages (from markdown-it-py>=2.2.0->rich>=10.11.0->chromadb>=1.0.9->langchain-chroma) (0.1.2)\n",
            "Requirement already satisfied: sniffio>=1.1 in /usr/local/lib/python3.11/dist-packages (from anyio->httpx>=0.27.0->chromadb>=1.0.9->langchain-chroma) (1.3.1)\n",
            "Requirement already satisfied: humanfriendly>=9.1 in /usr/local/lib/python3.11/dist-packages (from coloredlogs->onnxruntime>=1.14.1->chromadb>=1.0.9->langchain-chroma) (10.0)\n",
            "Requirement already satisfied: mpmath<1.4,>=1.1.0 in /usr/local/lib/python3.11/dist-packages (from sympy->onnxruntime>=1.14.1->chromadb>=1.0.9->langchain-chroma) (1.3.0)\n",
            "Requirement already satisfied: pyasn1<0.7.0,>=0.6.1 in /usr/local/lib/python3.11/dist-packages (from pyasn1-modules>=0.2.1->google-auth>=1.0.1->kubernetes>=28.1.0->chromadb>=1.0.9->langchain-chroma) (0.6.1)\n",
            "Using cached langchain_chroma-0.2.4-py3-none-any.whl (11 kB)\n",
            "Installing collected packages: langchain-chroma\n",
            "Successfully installed langchain-chroma-0.2.4\n"
          ]
        }
      ],
      "source": [
        "\n",
        "!pip uninstall -y opentelemetry-sdk opentelemetry-exporter-otlp-proto-grpc opentelemetry-util opentelemetry-instrumentation chromadb langchain_chroma\n",
        "\n",
        "!pip install -U \"chromadb>=0.4.24\" \"opentelemetry-sdk==1.33.0\" \"opentelemetry-api==1.33.0\" \"opentelemetry-exporter-otlp-proto-grpc==1.33.0\"\n",
        "\n",
        "!pip install -U langchain langchain-chroma\n"
      ]
    },
    {
      "cell_type": "code",
      "execution_count": 88,
      "metadata": {
        "id": "cvhmggnbJTvh"
      },
      "outputs": [],
      "source": [
        "from langchain_chroma import Chroma\n",
        "vector_store = Chroma(\n",
        "    collection_name=\"example_collection\",\n",
        "    embedding_function=embeddings,\n",
        "    persist_directory=\"./chroma_langchain_db\"\n",
        ")"
      ]
    },
    {
      "cell_type": "markdown",
      "metadata": {
        "id": "4MPea4zZJA4P"
      },
      "source": [
        "### Define a prompt for question answering."
      ]
    },
    {
      "cell_type": "code",
      "execution_count": 89,
      "metadata": {
        "colab": {
          "base_uri": "https://localhost:8080/"
        },
        "id": "Fb53DJr6Tyqt",
        "outputId": "92d9f195-9615-4727-9092-ec5c21fae004"
      },
      "outputs": [
        {
          "name": "stderr",
          "output_type": "stream",
          "text": [
            "/usr/local/lib/python3.11/dist-packages/langsmith/client.py:272: LangSmithMissingAPIKeyWarning: API key must be provided when using hosted LangSmith API\n",
            "  warnings.warn(\n"
          ]
        },
        {
          "name": "stdout",
          "output_type": "stream",
          "text": [
            "\n",
            " Answer without context:\n",
            " I don't know.\n"
          ]
        }
      ],
      "source": [
        "# Define prompt for question-answering\n",
        "from langchain import hub\n",
        "\n",
        "prompt = hub.pull(\"rlm/rag-prompt\")\n",
        "\n",
        "example_messages = prompt.invoke(\n",
        "    {\"context\": \"(context goes here)\", \"question\": \"(question goes here)\"}\n",
        ").to_messages()\n",
        "# Example question (before the document)\n",
        "question = \"Who became the 50th Vice President of the United States in 2025?\"\n",
        "\n",
        "# Without Retrieval (empty context)\n",
        "filled prompt = prompt.format(context=\"\", question=question)\n",
        "response = model.invoke(filled prompt)\n",
        "print(\"\\n Answer without context:\\n\", response.content)"
      ]
    },
    {
      "cell_type": "markdown",
      "metadata": {
        "id": "EzJ2povdK-bc"
      },
      "source": [
        "## Loading documents."
      ]
    },
    {
      "cell_type": "code",
      "execution_count": 90,
      "metadata": {
        "colab": {
          "base_uri": "https://localhost:8080/"
        },
        "id": "emRFDdE2S834",
        "outputId": "e5128b21-4fa3-41ae-af2b-6b4d4a7e1178"
      },
      "outputs": [
        {
          "name": "stdout",
          "output_type": "stream",
          "text": [
            "\u001b[31mERROR: Could not find a version that satisfies the requirement text_splitter (from versions: none)\u001b[0m\u001b[31m\n",
            "\u001b[0m\u001b[31mERROR: No matching distribution found for text_splitter\u001b[0m\u001b[31m\n",
            "\u001b[0m"
          ]
        }
      ],
      "source": [
        "!pip install text_splitter\n",
        "\n"
      ]
    },
    {
      "cell_type": "code",
      "execution_count": 91,
      "metadata": {
        "colab": {
          "base_uri": "https://localhost:8080/"
        },
        "id": "ItBxF-BNV4ts",
        "outputId": "4cb0f29a-0592-4017-d432-f26e6ea741f9"
      },
      "outputs": [
        {
          "name": "stdout",
          "output_type": "stream",
          "text": [
            "Number of chunks: 202\n"
          ]
        }
      ],
      "source": [
        "from langchain.document_loaders import WebBaseLoader\n",
        "from langchain.text_splitter import RecursiveCharacterTextSplitter\n",
        "from langchain_huggingface import HuggingFaceEmbeddings\n",
        "import chromadb\n",
        "from langchain.vectorstores import Chroma\n",
        "# 1. Load webpage\n",
        "loader = WebBaseLoader(web_paths=[\"https://en.wikipedia.org/wiki/2025_in_the_United_States\"])\n",
        "docs = loader.load()\n",
        "\n",
        "# 2. Split into ≥ 50 chunks\n",
        "splitter = RecursiveCharacterTextSplitter(\n",
        "    chunk_size=1000,  # Chunks of max 1000 characters\n",
        "    chunk_overlap=200,  # 200 characters overlap between chunks\n",
        "    separators=[\"\\n\\n\", \"\\n\", \".\", \" \", \"\"]\n",
        ")\n",
        "# Split chunks\n",
        "all_splits = splitter.split_documents(docs)\n",
        "\n",
        "# 3. Initialize HuggingFace embeddings\n",
        "embeddings = HuggingFaceEmbeddings(model_name=\"sentence-transformers/all-mpnet-base-v2\")\n",
        "\n",
        "# 4. Initialize vector store with ChromaDB\n",
        "client = chromadb.Client()\n",
        "\n",
        "# Initialize ChromaDB database, this could also be the name of your specific collection\n",
        "vector_store = Chroma.from_documents(documents=all_splits, embedding=embeddings, client=client, collection_name=\"2025_in_the_US\")\n",
        "\n",
        "# 5. Add documents to the vector store\n",
        "vector_store.add_documents(all_splits)\n",
        "\n",
        "# Output the number of chunks\n",
        "print(f\"Number of chunks: {len(all_splits)}\")\n"
      ]
    },
    {
      "cell_type": "markdown",
      "metadata": {
        "id": "JGcfpqO2LaZ-"
      },
      "source": [
        "## Retrieval and Generation"
      ]
    },
    {
      "cell_type": "code",
      "execution_count": 92,
      "metadata": {
        "id": "lPpvjwpWzHDn"
      },
      "outputs": [],
      "source": [
        "from langgraph.graph import MessagesState, StateGraph\n",
        "\n",
        "graph_builder = StateGraph(MessagesState)"
      ]
    },
    {
      "cell_type": "code",
      "execution_count": 93,
      "metadata": {
        "colab": {
          "base_uri": "https://localhost:8080/"
        },
        "id": "2SLqlPTzHbJQ",
        "outputId": "08c57f1f-0275-4010-8bd3-ced35061f232"
      },
      "outputs": [
        {
          "name": "stdout",
          "output_type": "stream",
          "text": [
            "You are an assistant for question-answering tasks. Use the following pieces of retrieved context to answer the question. If you don't know the answer, just say that you don't know. Use three sentences maximum and keep the answer concise.\n",
            "Question: (question goes here) \n",
            "Context: (context goes here) \n",
            "Answer:\n"
          ]
        },
        {
          "name": "stderr",
          "output_type": "stream",
          "text": [
            "/usr/local/lib/python3.11/dist-packages/langsmith/client.py:272: LangSmithMissingAPIKeyWarning: API key must be provided when using hosted LangSmith API\n",
            "  warnings.warn(\n"
          ]
        }
      ],
      "source": [
        "from langchain import hub\n",
        "\n",
        "prompt = hub.pull(\"rlm/rag-prompt\")\n",
        "\n",
        "example_messages = prompt.invoke(\n",
        "    {\"context\": \"(context goes here)\", \"question\": \"(question goes here)\"}\n",
        ").to_messages()\n",
        "\n",
        "assert len(example_messages) == 1\n",
        "print(example_messages[0].content)"
      ]
    },
    {
      "cell_type": "code",
      "execution_count": 94,
      "metadata": {
        "id": "2xwy676AHcQB"
      },
      "outputs": [],
      "source": [
        "from langchain_core.documents import Document\n",
        "from typing_extensions import List, TypedDict\n",
        "\n",
        "\n",
        "class State(TypedDict):\n",
        "    question: str\n",
        "    context: List[Document]\n",
        "    answer: str"
      ]
    },
    {
      "cell_type": "code",
      "execution_count": 95,
      "metadata": {
        "id": "KHjZ_aGTHfJX"
      },
      "outputs": [],
      "source": [
        "def retrieve(state: State):\n",
        "    retrieved_docs = vector_store.similarity_search(state[\"question\"])\n",
        "    return {\"context\": retrieved_docs}\n",
        "\n",
        "\n",
        "def generate(state: State):\n",
        "    docs_content = \"\\n\\n\".join(doc.page_content for doc in state[\"context\"])\n",
        "    messages = prompt.invoke({\"question\": state[\"question\"], \"context\": docs_content})\n",
        "    response = model.invoke(messages)\n",
        "    return {\"answer\": response.content}"
      ]
    },
    {
      "cell_type": "markdown",
      "metadata": {
        "id": "GJYfxjBBLkoH"
      },
      "source": [
        "## Control flow"
      ]
    },
    {
      "cell_type": "code",
      "execution_count": 96,
      "metadata": {
        "id": "ZINLK1LnHlCU"
      },
      "outputs": [],
      "source": [
        "from langgraph.graph import START, StateGraph\n",
        "\n",
        "graph_builder = StateGraph(State).add_sequence([retrieve, generate])\n",
        "graph_builder.add_edge(START, \"retrieve\")\n",
        "graph = graph_builder.compile()"
      ]
    },
    {
      "cell_type": "code",
      "execution_count": 97,
      "metadata": {
        "colab": {
          "base_uri": "https://localhost:8080/",
          "height": 350
        },
        "id": "oTcvLtlpHm40",
        "outputId": "8afe1519-4ee3-4a75-ff2f-ae7db6ae65e7"
      },
      "outputs": [
        {
          "data": {
            "image/png": "[encoded data removed]",
            "text/plain": [
              "<IPython.core.display.Image object>"
            ]
          },
          "metadata": {},
          "output_type": "display_data"
        }
      ],
      "source": [
        "from IPython.display import Image, display\n",
        "\n",
        "display(Image(graph.get_graph().draw_mermaid_png()))"
      ]
    },
    {
      "cell_type": "markdown",
      "metadata": {
        "id": "j8zJvfR6LrBr"
      },
      "source": [
        "## test"
      ]
    },
    {
      "cell_type": "code",
      "execution_count": 98,
      "metadata": {
        "colab": {
          "base_uri": "https://localhost:8080/"
        },
        "id": "ZO5Vtin0HqGH",
        "outputId": "549108d4-d4ec-4866-e65c-1cbc6d29ea82"
      },
      "outputs": [
        {
          "name": "stdout",
          "output_type": "stream",
          "text": [
            "Context: [Document(metadata={'title': '2025 in the United States - Wikipedia', 'source': 'https://en.wikipedia.org/wiki/2025_in_the_United_States', 'language': 'en'}, page_content='^ Balk, Tim (November 6, 2024). \"When Will Donald Trump Take Office?\". The New York Times. Retrieved November 6, 2024.\\n\\n^ Reilly, Ryan J. (January 20, 2025). \"Trump pardons roughly 1,500 criminal defendants charged in the Jan. 6 Capitol attack\". NBC News. NBCUniversal Media, LLC. Retrieved January 20, 2025.\\n\\n^ Daniels, Cheyanne M. (November 13, 2024). \"Sharpton to hold MLK rally on same day as Trump inauguration\". The Hill.\\n\\n^ \"National Action Network announces 2025 Inauguration Day rally\". November 25, 2024.\\n\\n^ \"Restoring Names That Honor American Greatness\". White House. January 2025.\\n\\n^ Kelly, Laura (January 20, 2025). \"Rubio unanimously confirmed as secretary of State, becoming Trump\\'s first Cabinet official\". thehill.com. Retrieved January 27, 2025.\\n\\n^ Satter, Raphael; Reid, Tim; Singh, Kanishka (January 20, 2025). \"Trump announces \\'DOGE\\' advisory group, attracting instant lawsuits\". Reuters. Retrieved January 27, 2025.'), Document(metadata={'title': '2025 in the United States - Wikipedia', 'source': 'https://en.wikipedia.org/wiki/2025_in_the_United_States', 'language': 'en'}, page_content='^ Balk, Tim (November 6, 2024). \"When Will Donald Trump Take Office?\". The New York Times. Retrieved November 6, 2024.\\n\\n^ Reilly, Ryan J. (January 20, 2025). \"Trump pardons roughly 1,500 criminal defendants charged in the Jan. 6 Capitol attack\". NBC News. NBCUniversal Media, LLC. Retrieved January 20, 2025.\\n\\n^ Daniels, Cheyanne M. (November 13, 2024). \"Sharpton to hold MLK rally on same day as Trump inauguration\". The Hill.\\n\\n^ \"National Action Network announces 2025 Inauguration Day rally\". November 25, 2024.\\n\\n^ \"Restoring Names That Honor American Greatness\". White House. January 2025.\\n\\n^ Kelly, Laura (January 20, 2025). \"Rubio unanimously confirmed as secretary of State, becoming Trump\\'s first Cabinet official\". thehill.com. Retrieved January 27, 2025.\\n\\n^ Satter, Raphael; Reid, Tim; Singh, Kanishka (January 20, 2025). \"Trump announces \\'DOGE\\' advisory group, attracting instant lawsuits\". Reuters. Retrieved January 27, 2025.'), Document(metadata={'source': 'https://en.wikipedia.org/wiki/2025_in_the_United_States', 'title': '2025 in the United States - Wikipedia', 'language': 'en'}, page_content='^ Balk, Tim (November 6, 2024). \"When Will Donald Trump Take Office?\". The New York Times. Retrieved November 6, 2024.\\n\\n^ Reilly, Ryan J. (January 20, 2025). \"Trump pardons roughly 1,500 criminal defendants charged in the Jan. 6 Capitol attack\". NBC News. NBCUniversal Media, LLC. Retrieved January 20, 2025.\\n\\n^ Daniels, Cheyanne M. (November 13, 2024). \"Sharpton to hold MLK rally on same day as Trump inauguration\". The Hill.\\n\\n^ \"National Action Network announces 2025 Inauguration Day rally\". November 25, 2024.\\n\\n^ \"Restoring Names That Honor American Greatness\". White House. January 2025.\\n\\n^ Kelly, Laura (January 20, 2025). \"Rubio unanimously confirmed as secretary of State, becoming Trump\\'s first Cabinet official\". thehill.com. Retrieved January 27, 2025.\\n\\n^ Satter, Raphael; Reid, Tim; Singh, Kanishka (January 20, 2025). \"Trump announces \\'DOGE\\' advisory group, attracting instant lawsuits\". Reuters. Retrieved January 27, 2025.'), Document(metadata={'source': 'https://en.wikipedia.org/wiki/2025_in_the_United_States', 'language': 'en', 'title': '2025 in the United States - Wikipedia'}, page_content='^ Balk, Tim (November 6, 2024). \"When Will Donald Trump Take Office?\". The New York Times. Retrieved November 6, 2024.\\n\\n^ Reilly, Ryan J. (January 20, 2025). \"Trump pardons roughly 1,500 criminal defendants charged in the Jan. 6 Capitol attack\". NBC News. NBCUniversal Media, LLC. Retrieved January 20, 2025.\\n\\n^ Daniels, Cheyanne M. (November 13, 2024). \"Sharpton to hold MLK rally on same day as Trump inauguration\". The Hill.\\n\\n^ \"National Action Network announces 2025 Inauguration Day rally\". November 25, 2024.\\n\\n^ \"Restoring Names That Honor American Greatness\". White House. January 2025.\\n\\n^ Kelly, Laura (January 20, 2025). \"Rubio unanimously confirmed as secretary of State, becoming Trump\\'s first Cabinet official\". thehill.com. Retrieved January 27, 2025.\\n\\n^ Satter, Raphael; Reid, Tim; Singh, Kanishka (January 20, 2025). \"Trump announces \\'DOGE\\' advisory group, attracting instant lawsuits\". Reuters. Retrieved January 27, 2025.')]\n",
            "\n",
            "\n",
            "Answer: Based on the provided context, Donald Trump became the new President of the USA on January 20, 2025. Several sources mention his inauguration and actions taken on that day. These actions include pardoning criminal defendants and announcing a new advisory group.\n"
          ]
        }
      ],
      "source": [
        "result = graph.invoke({\"question\": \"Who became the new President of the USA on January 20, 2025?\"})\n",
        "\n",
        "print(f'Context: {result[\"context\"]}\\n\\n')\n",
        "print(f'Answer: {result[\"answer\"]}')"
      ]
    },
    {
      "cell_type": "markdown",
      "metadata": {
        "id": "aoz9dRTrL_-C"
      },
      "source": [
        " ## langGraph workflow"
      ]
    },
    {
      "cell_type": "code",
      "execution_count": 99,
      "metadata": {
        "colab": {
          "base_uri": "https://localhost:8080/"
        },
        "id": "CQmAqVCeL7k5",
        "outputId": "a44ebc1f-51f5-4b91-8a6b-6fd1a657b588"
      },
      "outputs": [
        {
          "name": "stdout",
          "output_type": "stream",
          "text": [
            "{'retrieve': {'context': [Document(metadata={'title': '2025 in the United States - Wikipedia', 'language': 'en', 'source': 'https://en.wikipedia.org/wiki/2025_in_the_United_States'}, page_content='^ Balk, Tim (November 6, 2024). \"When Will Donald Trump Take Office?\". The New York Times. Retrieved November 6, 2024.\\n\\n^ Reilly, Ryan J. (January 20, 2025). \"Trump pardons roughly 1,500 criminal defendants charged in the Jan. 6 Capitol attack\". NBC News. NBCUniversal Media, LLC. Retrieved January 20, 2025.\\n\\n^ Daniels, Cheyanne M. (November 13, 2024). \"Sharpton to hold MLK rally on same day as Trump inauguration\". The Hill.\\n\\n^ \"National Action Network announces 2025 Inauguration Day rally\". November 25, 2024.\\n\\n^ \"Restoring Names That Honor American Greatness\". White House. January 2025.\\n\\n^ Kelly, Laura (January 20, 2025). \"Rubio unanimously confirmed as secretary of State, becoming Trump\\'s first Cabinet official\". thehill.com. Retrieved January 27, 2025.\\n\\n^ Satter, Raphael; Reid, Tim; Singh, Kanishka (January 20, 2025). \"Trump announces \\'DOGE\\' advisory group, attracting instant lawsuits\". Reuters. Retrieved January 27, 2025.'), Document(metadata={'source': 'https://en.wikipedia.org/wiki/2025_in_the_United_States', 'title': '2025 in the United States - Wikipedia', 'language': 'en'}, page_content='^ Balk, Tim (November 6, 2024). \"When Will Donald Trump Take Office?\". The New York Times. Retrieved November 6, 2024.\\n\\n^ Reilly, Ryan J. (January 20, 2025). \"Trump pardons roughly 1,500 criminal defendants charged in the Jan. 6 Capitol attack\". NBC News. NBCUniversal Media, LLC. Retrieved January 20, 2025.\\n\\n^ Daniels, Cheyanne M. (November 13, 2024). \"Sharpton to hold MLK rally on same day as Trump inauguration\". The Hill.\\n\\n^ \"National Action Network announces 2025 Inauguration Day rally\". November 25, 2024.\\n\\n^ \"Restoring Names That Honor American Greatness\". White House. January 2025.\\n\\n^ Kelly, Laura (January 20, 2025). \"Rubio unanimously confirmed as secretary of State, becoming Trump\\'s first Cabinet official\". thehill.com. Retrieved January 27, 2025.\\n\\n^ Satter, Raphael; Reid, Tim; Singh, Kanishka (January 20, 2025). \"Trump announces \\'DOGE\\' advisory group, attracting instant lawsuits\". Reuters. Retrieved January 27, 2025.'), Document(metadata={'title': '2025 in the United States - Wikipedia', 'source': 'https://en.wikipedia.org/wiki/2025_in_the_United_States', 'language': 'en'}, page_content='^ Balk, Tim (November 6, 2024). \"When Will Donald Trump Take Office?\". The New York Times. Retrieved November 6, 2024.\\n\\n^ Reilly, Ryan J. (January 20, 2025). \"Trump pardons roughly 1,500 criminal defendants charged in the Jan. 6 Capitol attack\". NBC News. NBCUniversal Media, LLC. Retrieved January 20, 2025.\\n\\n^ Daniels, Cheyanne M. (November 13, 2024). \"Sharpton to hold MLK rally on same day as Trump inauguration\". The Hill.\\n\\n^ \"National Action Network announces 2025 Inauguration Day rally\". November 25, 2024.\\n\\n^ \"Restoring Names That Honor American Greatness\". White House. January 2025.\\n\\n^ Kelly, Laura (January 20, 2025). \"Rubio unanimously confirmed as secretary of State, becoming Trump\\'s first Cabinet official\". thehill.com. Retrieved January 27, 2025.\\n\\n^ Satter, Raphael; Reid, Tim; Singh, Kanishka (January 20, 2025). \"Trump announces \\'DOGE\\' advisory group, attracting instant lawsuits\". Reuters. Retrieved January 27, 2025.'), Document(metadata={'source': 'https://en.wikipedia.org/wiki/2025_in_the_United_States', 'language': 'en', 'title': '2025 in the United States - Wikipedia'}, page_content='^ Balk, Tim (November 6, 2024). \"When Will Donald Trump Take Office?\". The New York Times. Retrieved November 6, 2024.\\n\\n^ Reilly, Ryan J. (January 20, 2025). \"Trump pardons roughly 1,500 criminal defendants charged in the Jan. 6 Capitol attack\". NBC News. NBCUniversal Media, LLC. Retrieved January 20, 2025.\\n\\n^ Daniels, Cheyanne M. (November 13, 2024). \"Sharpton to hold MLK rally on same day as Trump inauguration\". The Hill.\\n\\n^ \"National Action Network announces 2025 Inauguration Day rally\". November 25, 2024.\\n\\n^ \"Restoring Names That Honor American Greatness\". White House. January 2025.\\n\\n^ Kelly, Laura (January 20, 2025). \"Rubio unanimously confirmed as secretary of State, becoming Trump\\'s first Cabinet official\". thehill.com. Retrieved January 27, 2025.\\n\\n^ Satter, Raphael; Reid, Tim; Singh, Kanishka (January 20, 2025). \"Trump announces \\'DOGE\\' advisory group, attracting instant lawsuits\". Reuters. Retrieved January 27, 2025.')]}}\n",
            "\n",
            "----------------\n",
            "\n",
            "{'generate': {'answer': 'Based on the provided context, Donald Trump became the new President of the USA on January 20, 2025. This is indicated by references to his inauguration and actions taken on that day. These actions include pardoning criminal defendants and announcing a new advisory group.'}}\n",
            "\n",
            "----------------\n",
            "\n"
          ]
        }
      ],
      "source": [
        "for step in graph.stream(\n",
        "    {\"question\": \"Who became the new President of the USA on January 20, 2025?\"}, stream_mode=\"updates\"\n",
        "):\n",
        "    print(f\"{step}\\n\\n----------------\\n\")\n"
      ]
    },
    {
      "cell_type": "markdown",
      "metadata": {
        "id": "Ltc2RcSYMKj9"
      },
      "source": [
        "## Adjust the prompt (5 attempt)"
      ]
    },
    {
      "cell_type": "code",
      "execution_count": 100,
      "metadata": {
        "id": "ejwzTAoIXZQZ"
      },
      "outputs": [],
      "source": [
        "from langchain_core.prompts import PromptTemplate\n",
        "\n",
        "template = \"\"\"Use the following pieces of context to answer the question at the end.\n",
        "If you don't know the answer, just say that you don't know, don't try to make up an answer.\n",
        "Use three sentences maximum and keep the answer as concise as possible.\n",
        "Always say \"thanks for asking!\" at the end of the answer.\n",
        "\n",
        "{context}\n",
        "\n",
        "Question: {question}\n",
        "\n",
        "Helpful Answer:\"\"\"\n",
        "custom_rag_prompt = PromptTemplate.from_template(template)"
      ]
    },
    {
      "cell_type": "code",
      "execution_count": 101,
      "metadata": {
        "colab": {
          "base_uri": "https://localhost:8080/"
        },
        "id": "07nREUuvOIwp",
        "outputId": "a6e8ac66-e147-4cab-9114-3b9eb0ed78b2"
      },
      "outputs": [
        {
          "name": "stdout",
          "output_type": "stream",
          "text": [
            "{'retrieve': {'context': [Document(metadata={'language': 'en', 'title': '2025 in the United States - Wikipedia', 'source': 'https://en.wikipedia.org/wiki/2025_in_the_United_States'}, page_content=\"The Department of Veterans Affairs announces it will lay off over 80,000 jobs to comply with the Trump administration's plans under the Department of Government Efficiency.[284]\\nThe Department of Defense denies previous media reports that Secretary of Defense Pete Hegseth had ordered a halt to offensive cyber operations and information operations against Russia by the United States Cyber Command.[285]\\nLos Angeles County files a lawsuit against Southern California Edison, the electric utility company servicing most of Southern California, and alleges that the company's power system started the Eaton Fire, seeking to recover costs and damages sustained from the fire that damaged over 9,400 buildings and killed 17 people.[286]\"), Document(metadata={'title': '2025 in the United States - Wikipedia', 'language': 'en', 'source': 'https://en.wikipedia.org/wiki/2025_in_the_United_States'}, page_content=\"The Department of Veterans Affairs announces it will lay off over 80,000 jobs to comply with the Trump administration's plans under the Department of Government Efficiency.[284]\\nThe Department of Defense denies previous media reports that Secretary of Defense Pete Hegseth had ordered a halt to offensive cyber operations and information operations against Russia by the United States Cyber Command.[285]\\nLos Angeles County files a lawsuit against Southern California Edison, the electric utility company servicing most of Southern California, and alleges that the company's power system started the Eaton Fire, seeking to recover costs and damages sustained from the fire that damaged over 9,400 buildings and killed 17 people.[286]\"), Document(metadata={'title': '2025 in the United States - Wikipedia', 'language': 'en', 'source': 'https://en.wikipedia.org/wiki/2025_in_the_United_States'}, page_content=\"The Department of Veterans Affairs announces it will lay off over 80,000 jobs to comply with the Trump administration's plans under the Department of Government Efficiency.[284]\\nThe Department of Defense denies previous media reports that Secretary of Defense Pete Hegseth had ordered a halt to offensive cyber operations and information operations against Russia by the United States Cyber Command.[285]\\nLos Angeles County files a lawsuit against Southern California Edison, the electric utility company servicing most of Southern California, and alleges that the company's power system started the Eaton Fire, seeking to recover costs and damages sustained from the fire that damaged over 9,400 buildings and killed 17 people.[286]\"), Document(metadata={'title': '2025 in the United States - Wikipedia', 'language': 'en', 'source': 'https://en.wikipedia.org/wiki/2025_in_the_United_States'}, page_content=\"The Department of Veterans Affairs announces it will lay off over 80,000 jobs to comply with the Trump administration's plans under the Department of Government Efficiency.[284]\\nThe Department of Defense denies previous media reports that Secretary of Defense Pete Hegseth had ordered a halt to offensive cyber operations and information operations against Russia by the United States Cyber Command.[285]\\nLos Angeles County files a lawsuit against Southern California Edison, the electric utility company servicing most of Southern California, and alleges that the company's power system started the Eaton Fire, seeking to recover costs and damages sustained from the fire that damaged over 9,400 buildings and killed 17 people.[286]\")]}}\n",
            "\n",
            "----------------\n",
            "\n",
            "{'generate': {'answer': \"A lawsuit filed by Los Angeles County alleges that Southern California Edison's power system started the Eaton Fire. This fire damaged over 9,400 buildings and killed 17 people. This demonstrates how a natural disaster, like a fire, can be started by and affect a public utility company's infrastructure.\"}}\n",
            "\n",
            "----------------\n",
            "\n"
          ]
        }
      ],
      "source": [
        "for step in graph.stream(\n",
        "    {\"question\": \"How did natural disasters affect public utilities and services in the U.S.?\"}, stream_mode=\"updates\"\n",
        "):\n",
        "    print(f\"{step}\\n\\n----------------\\n\")\n"
      ]
    },
    {
      "cell_type": "code",
      "execution_count": 102,
      "metadata": {
        "id": "uMDrmY2CPTrG"
      },
      "outputs": [],
      "source": [
        "from langchain_core.prompts import PromptTemplate\n",
        "\n",
        "template = \"\"\"Here is some information that might help answer the question below.\n",
        "If you're not sure about the answer, it's okay to say you don't know.\n",
        "Please keep the answer short and friendly – no more than three sentences.\n",
        "End your answer with: \"Hope that helps!\"\n",
        "\n",
        "{context}\n",
        "\n",
        "Question: {question}\n",
        "\n",
        "Helpful Answer:\"\"\"\n",
        "\n",
        "custom_rag_prompt = PromptTemplate.from_template(template)"
      ]
    },
    {
      "cell_type": "code",
      "execution_count": 103,
      "metadata": {
        "colab": {
          "base_uri": "https://localhost:8080/"
        },
        "id": "d05OsUgGPX97",
        "outputId": "5ae7d978-2994-4b8a-f0e8-6bc28ba3f5e0"
      },
      "outputs": [
        {
          "name": "stdout",
          "output_type": "stream",
          "text": [
            "{'retrieve': {'context': [Document(metadata={'language': 'en', 'title': '2025 in the United States - Wikipedia', 'source': 'https://en.wikipedia.org/wiki/2025_in_the_United_States'}, page_content='^ \"Authorities declare local health emergency from ash and smoke\". BBC News. BBC News. January 11, 2025. Retrieved January 11, 2025.\\n\\n^ \"Local Health Emergency Declared Due to Critical Fire Events and Windstorm Conditions - Health Officer Issues Order Prohibiting Use of Power Air Blowers, Including Leaf Blowers, to Reduce Health Risks from Fire Ash and Smoke\". County of Los Angeles Public Health. County of Los Angeles Public Health. January 11, 2025. Retrieved January 11, 2025.\\n\\n^ \"LA residents warned to stay inside over smoke fears, as evacuation area grows\". BBC News. BBC News. January 11, 2025. Retrieved January 11, 2025.\\n\\n^ \"California governor calls for investigation into water supplies\". BBC News. BBC News. January 11, 2025. Retrieved January 11, 2025.\\n\\n^ \"Donald Trump\\'s Middle East envoy pushes for Gaza ceasefire deal ahead of US inauguration\". Sky News. January 11, 2025. Archived from the original on January 12, 2025.'), Document(metadata={'source': 'https://en.wikipedia.org/wiki/2025_in_the_United_States', 'language': 'en', 'title': '2025 in the United States - Wikipedia'}, page_content='^ \"Authorities declare local health emergency from ash and smoke\". BBC News. BBC News. January 11, 2025. Retrieved January 11, 2025.\\n\\n^ \"Local Health Emergency Declared Due to Critical Fire Events and Windstorm Conditions - Health Officer Issues Order Prohibiting Use of Power Air Blowers, Including Leaf Blowers, to Reduce Health Risks from Fire Ash and Smoke\". County of Los Angeles Public Health. County of Los Angeles Public Health. January 11, 2025. Retrieved January 11, 2025.\\n\\n^ \"LA residents warned to stay inside over smoke fears, as evacuation area grows\". BBC News. BBC News. January 11, 2025. Retrieved January 11, 2025.\\n\\n^ \"California governor calls for investigation into water supplies\". BBC News. BBC News. January 11, 2025. Retrieved January 11, 2025.\\n\\n^ \"Donald Trump\\'s Middle East envoy pushes for Gaza ceasefire deal ahead of US inauguration\". Sky News. January 11, 2025. Archived from the original on January 12, 2025.'), Document(metadata={'source': 'https://en.wikipedia.org/wiki/2025_in_the_United_States', 'title': '2025 in the United States - Wikipedia', 'language': 'en'}, page_content='^ \"Authorities declare local health emergency from ash and smoke\". BBC News. BBC News. January 11, 2025. Retrieved January 11, 2025.\\n\\n^ \"Local Health Emergency Declared Due to Critical Fire Events and Windstorm Conditions - Health Officer Issues Order Prohibiting Use of Power Air Blowers, Including Leaf Blowers, to Reduce Health Risks from Fire Ash and Smoke\". County of Los Angeles Public Health. County of Los Angeles Public Health. January 11, 2025. Retrieved January 11, 2025.\\n\\n^ \"LA residents warned to stay inside over smoke fears, as evacuation area grows\". BBC News. BBC News. January 11, 2025. Retrieved January 11, 2025.\\n\\n^ \"California governor calls for investigation into water supplies\". BBC News. BBC News. January 11, 2025. Retrieved January 11, 2025.\\n\\n^ \"Donald Trump\\'s Middle East envoy pushes for Gaza ceasefire deal ahead of US inauguration\". Sky News. January 11, 2025. Archived from the original on January 12, 2025.'), Document(metadata={'language': 'en', 'title': '2025 in the United States - Wikipedia', 'source': 'https://en.wikipedia.org/wiki/2025_in_the_United_States'}, page_content='^ \"Authorities declare local health emergency from ash and smoke\". BBC News. BBC News. January 11, 2025. Retrieved January 11, 2025.\\n\\n^ \"Local Health Emergency Declared Due to Critical Fire Events and Windstorm Conditions - Health Officer Issues Order Prohibiting Use of Power Air Blowers, Including Leaf Blowers, to Reduce Health Risks from Fire Ash and Smoke\". County of Los Angeles Public Health. County of Los Angeles Public Health. January 11, 2025. Retrieved January 11, 2025.\\n\\n^ \"LA residents warned to stay inside over smoke fears, as evacuation area grows\". BBC News. BBC News. January 11, 2025. Retrieved January 11, 2025.\\n\\n^ \"California governor calls for investigation into water supplies\". BBC News. BBC News. January 11, 2025. Retrieved January 11, 2025.\\n\\n^ \"Donald Trump\\'s Middle East envoy pushes for Gaza ceasefire deal ahead of US inauguration\". Sky News. January 11, 2025. Archived from the original on January 12, 2025.')]}}\n",
            "\n",
            "----------------\n",
            "\n",
            "{'generate': {'answer': 'U.S. health officials declared a local health emergency due to ash and smoke. Los Angeles residents were warned to stay inside because of smoke fears. Additionally, the use of power air blowers, including leaf blowers, was prohibited to reduce health risks from fire ash and smoke.'}}\n",
            "\n",
            "----------------\n",
            "\n"
          ]
        }
      ],
      "source": [
        "for step in graph.stream(\n",
        "    {\"question\": \"What public health initiatives or warnings were issued by U.S. health officials?\"}, stream_mode=\"updates\"\n",
        "):\n",
        "    print(f\"{step}\\n\\n----------------\\n\")\n"
      ]
    },
    {
      "cell_type": "code",
      "execution_count": 104,
      "metadata": {
        "id": "4HP9jB-WPX57"
      },
      "outputs": [],
      "source": [
        "template = \"\"\"Based on the provided information, answer the following question as clearly and accurately as possible.\n",
        "Do not guess; if the information is insufficient, respond with \"Information not available.\"\n",
        "Limit your answer to three concise sentences.\n",
        "Conclude with: \"Thank you for your question.\"\n",
        "\n",
        "{context}\n",
        "\n",
        "Question: {question}\n",
        "\n",
        "Helpful Answer:\"\"\"\n",
        "\n",
        "custom_rag_prompt = PromptTemplate.from_template(template)"
      ]
    },
    {
      "cell_type": "code",
      "execution_count": 105,
      "metadata": {
        "colab": {
          "base_uri": "https://localhost:8080/"
        },
        "id": "aVzS7HUSPXGw",
        "outputId": "4b8431a2-89e2-49c7-fe58-677f5d30284f"
      },
      "outputs": [
        {
          "name": "stdout",
          "output_type": "stream",
          "text": [
            "{'retrieve': {'context': [Document(metadata={'source': 'https://en.wikipedia.org/wiki/2025_in_the_United_States', 'title': '2025 in the United States - Wikipedia', 'language': 'en'}, page_content=\"2025 Boston Marathon: Kenyan athletes John Korir and Sharon Lokedi win, both with times of 2:04:45.[418]\\nApril 22 – Roche announces plans to invest $50 billion in the United States over the next five years, creating 12,000 jobs.[419]\\nApril 23 – Harvey Weinstein's rape retrial begins after the original verdict was overturned.[420]\\nApril 24\\nA group of twelve states file a lawsuit against the Trump administration, alleging that the national trade policy is subjected to President Donald Trump's will instead of the law. The states are Arizona, Colorado, Connecticut, Delaware, Illinois, Maine, Minnesota, Nevada, Oregon, New Mexico, New York, and Vermont.[421]\\n2025 NFL draft: The NFL draft is held at Lambeau Field in Green Bay, Wisconsin, with the Tennessee Titans selected quarterback Cam Ward from the Miami Hurricanes as the first overall pick.[422]\"), Document(metadata={'title': '2025 in the United States - Wikipedia', 'source': 'https://en.wikipedia.org/wiki/2025_in_the_United_States', 'language': 'en'}, page_content=\"2025 Boston Marathon: Kenyan athletes John Korir and Sharon Lokedi win, both with times of 2:04:45.[418]\\nApril 22 – Roche announces plans to invest $50 billion in the United States over the next five years, creating 12,000 jobs.[419]\\nApril 23 – Harvey Weinstein's rape retrial begins after the original verdict was overturned.[420]\\nApril 24\\nA group of twelve states file a lawsuit against the Trump administration, alleging that the national trade policy is subjected to President Donald Trump's will instead of the law. The states are Arizona, Colorado, Connecticut, Delaware, Illinois, Maine, Minnesota, Nevada, Oregon, New Mexico, New York, and Vermont.[421]\\n2025 NFL draft: The NFL draft is held at Lambeau Field in Green Bay, Wisconsin, with the Tennessee Titans selected quarterback Cam Ward from the Miami Hurricanes as the first overall pick.[422]\"), Document(metadata={'source': 'https://en.wikipedia.org/wiki/2025_in_the_United_States', 'language': 'en', 'title': '2025 in the United States - Wikipedia'}, page_content=\"2025 Boston Marathon: Kenyan athletes John Korir and Sharon Lokedi win, both with times of 2:04:45.[418]\\nApril 22 – Roche announces plans to invest $50 billion in the United States over the next five years, creating 12,000 jobs.[419]\\nApril 23 – Harvey Weinstein's rape retrial begins after the original verdict was overturned.[420]\\nApril 24\\nA group of twelve states file a lawsuit against the Trump administration, alleging that the national trade policy is subjected to President Donald Trump's will instead of the law. The states are Arizona, Colorado, Connecticut, Delaware, Illinois, Maine, Minnesota, Nevada, Oregon, New Mexico, New York, and Vermont.[421]\\n2025 NFL draft: The NFL draft is held at Lambeau Field in Green Bay, Wisconsin, with the Tennessee Titans selected quarterback Cam Ward from the Miami Hurricanes as the first overall pick.[422]\"), Document(metadata={'language': 'en', 'source': 'https://en.wikipedia.org/wiki/2025_in_the_United_States', 'title': '2025 in the United States - Wikipedia'}, page_content=\"2025 Boston Marathon: Kenyan athletes John Korir and Sharon Lokedi win, both with times of 2:04:45.[418]\\nApril 22 – Roche announces plans to invest $50 billion in the United States over the next five years, creating 12,000 jobs.[419]\\nApril 23 – Harvey Weinstein's rape retrial begins after the original verdict was overturned.[420]\\nApril 24\\nA group of twelve states file a lawsuit against the Trump administration, alleging that the national trade policy is subjected to President Donald Trump's will instead of the law. The states are Arizona, Colorado, Connecticut, Delaware, Illinois, Maine, Minnesota, Nevada, Oregon, New Mexico, New York, and Vermont.[421]\\n2025 NFL draft: The NFL draft is held at Lambeau Field in Green Bay, Wisconsin, with the Tennessee Titans selected quarterback Cam Ward from the Miami Hurricanes as the first overall pick.[422]\")]}}\n",
            "\n",
            "----------------\n",
            "\n",
            "{'generate': {'answer': 'In 2025, the Boston Marathon was held, with Kenyan athletes winning. The NFL draft was also held at Lambeau Field in Green Bay, Wisconsin. The Tennessee Titans selected Cam Ward as the first overall pick.'}}\n",
            "\n",
            "----------------\n",
            "\n"
          ]
        }
      ],
      "source": [
        "for step in graph.stream(\n",
        "    {\"question\": \"What major cultural or sporting events were scheduled to take place in the U.S. in 2025?\"}, stream_mode=\"updates\"\n",
        "):\n",
        "    print(f\"{step}\\n\\n----------------\\n\")\n"
      ]
    },
    {
      "cell_type": "code",
      "execution_count": 106,
      "metadata": {
        "id": "1oTh3T6CPWJR"
      },
      "outputs": [],
      "source": [
        "template = \"\"\"Use the information below to answer the question.\n",
        "If you don't know the answer, just say: \"I’m not sure from this information.\"\n",
        "Keep the answer short – up to three sentences – and easy to understand.\n",
        "Always say: \"Thanks for your question!\" at the end.\n",
        "\n",
        "{context}\n",
        "\n",
        "Question: {question}\n",
        "\n",
        "Helpful Answer:\"\"\"\n",
        "custom_rag_prompt = PromptTemplate.from_template(template)"
      ]
    },
    {
      "cell_type": "code",
      "execution_count": 107,
      "metadata": {
        "colab": {
          "base_uri": "https://localhost:8080/"
        },
        "id": "oQBhVTssPWA1",
        "outputId": "bebcd025-2784-41e8-b52b-27a7013d3f52"
      },
      "outputs": [
        {
          "name": "stdout",
          "output_type": "stream",
          "text": [
            "{'retrieve': {'context': [Document(metadata={'title': '2025 in the United States - Wikipedia', 'source': 'https://en.wikipedia.org/wiki/2025_in_the_United_States', 'language': 'en'}, page_content=\"2025 Boston Marathon: Kenyan athletes John Korir and Sharon Lokedi win, both with times of 2:04:45.[418]\\nApril 22 – Roche announces plans to invest $50 billion in the United States over the next five years, creating 12,000 jobs.[419]\\nApril 23 – Harvey Weinstein's rape retrial begins after the original verdict was overturned.[420]\\nApril 24\\nA group of twelve states file a lawsuit against the Trump administration, alleging that the national trade policy is subjected to President Donald Trump's will instead of the law. The states are Arizona, Colorado, Connecticut, Delaware, Illinois, Maine, Minnesota, Nevada, Oregon, New Mexico, New York, and Vermont.[421]\\n2025 NFL draft: The NFL draft is held at Lambeau Field in Green Bay, Wisconsin, with the Tennessee Titans selected quarterback Cam Ward from the Miami Hurricanes as the first overall pick.[422]\"), Document(metadata={'title': '2025 in the United States - Wikipedia', 'language': 'en', 'source': 'https://en.wikipedia.org/wiki/2025_in_the_United_States'}, page_content=\"2025 Boston Marathon: Kenyan athletes John Korir and Sharon Lokedi win, both with times of 2:04:45.[418]\\nApril 22 – Roche announces plans to invest $50 billion in the United States over the next five years, creating 12,000 jobs.[419]\\nApril 23 – Harvey Weinstein's rape retrial begins after the original verdict was overturned.[420]\\nApril 24\\nA group of twelve states file a lawsuit against the Trump administration, alleging that the national trade policy is subjected to President Donald Trump's will instead of the law. The states are Arizona, Colorado, Connecticut, Delaware, Illinois, Maine, Minnesota, Nevada, Oregon, New Mexico, New York, and Vermont.[421]\\n2025 NFL draft: The NFL draft is held at Lambeau Field in Green Bay, Wisconsin, with the Tennessee Titans selected quarterback Cam Ward from the Miami Hurricanes as the first overall pick.[422]\"), Document(metadata={'title': '2025 in the United States - Wikipedia', 'language': 'en', 'source': 'https://en.wikipedia.org/wiki/2025_in_the_United_States'}, page_content=\"2025 Boston Marathon: Kenyan athletes John Korir and Sharon Lokedi win, both with times of 2:04:45.[418]\\nApril 22 – Roche announces plans to invest $50 billion in the United States over the next five years, creating 12,000 jobs.[419]\\nApril 23 – Harvey Weinstein's rape retrial begins after the original verdict was overturned.[420]\\nApril 24\\nA group of twelve states file a lawsuit against the Trump administration, alleging that the national trade policy is subjected to President Donald Trump's will instead of the law. The states are Arizona, Colorado, Connecticut, Delaware, Illinois, Maine, Minnesota, Nevada, Oregon, New Mexico, New York, and Vermont.[421]\\n2025 NFL draft: The NFL draft is held at Lambeau Field in Green Bay, Wisconsin, with the Tennessee Titans selected quarterback Cam Ward from the Miami Hurricanes as the first overall pick.[422]\"), Document(metadata={'language': 'en', 'title': '2025 in the United States - Wikipedia', 'source': 'https://en.wikipedia.org/wiki/2025_in_the_United_States'}, page_content=\"2025 Boston Marathon: Kenyan athletes John Korir and Sharon Lokedi win, both with times of 2:04:45.[418]\\nApril 22 – Roche announces plans to invest $50 billion in the United States over the next five years, creating 12,000 jobs.[419]\\nApril 23 – Harvey Weinstein's rape retrial begins after the original verdict was overturned.[420]\\nApril 24\\nA group of twelve states file a lawsuit against the Trump administration, alleging that the national trade policy is subjected to President Donald Trump's will instead of the law. The states are Arizona, Colorado, Connecticut, Delaware, Illinois, Maine, Minnesota, Nevada, Oregon, New Mexico, New York, and Vermont.[421]\\n2025 NFL draft: The NFL draft is held at Lambeau Field in Green Bay, Wisconsin, with the Tennessee Titans selected quarterback Cam Ward from the Miami Hurricanes as the first overall pick.[422]\")]}}\n",
            "\n",
            "----------------\n",
            "\n",
            "{'generate': {'answer': 'The U.S. is hosting the NFL draft at Lambeau Field in Green Bay, Wisconsin in mid-2025. The Tennessee Titans selected quarterback Cam Ward from the Miami Hurricanes as the first overall pick. The Boston Marathon also takes place in the U.S. in 2025.'}}\n",
            "\n",
            "----------------\n",
            "\n"
          ]
        }
      ],
      "source": [
        "for step in graph.stream(\n",
        "    {\"question\": \"What major sporting event is the U.S. hosting in mid-2025?\"}, stream_mode=\"updates\"\n",
        "):\n",
        "    print(f\"{step}\\n\\n----------------\\n\")\n"
      ]
    },
    {
      "cell_type": "code",
      "execution_count": 108,
      "metadata": {
        "id": "9oSnPzlsPV3X"
      },
      "outputs": [],
      "source": [
        "template = \"\"\"Read the context and use it to answer the question below.\n",
        "Do not provide an answer unless the context clearly supports it.\n",
        "Answer in no more than three sentences.\n",
        "End your response with: \"Thanks for asking!\"\n",
        "\n",
        "{context}\n",
        "\n",
        "Question: {question}\n",
        "\n",
        "Helpful Answer:\"\"\"\n",
        "custom_rag_prompt = PromptTemplate.from_template(template)"
      ]
    },
    {
      "cell_type": "code",
      "execution_count": 109,
      "metadata": {
        "colab": {
          "base_uri": "https://localhost:8080/"
        },
        "id": "m8GN_qzPU92T",
        "outputId": "4bee1e2b-916c-4862-b2f1-2182928a949a"
      },
      "outputs": [
        {
          "name": "stdout",
          "output_type": "stream",
          "text": [
            "{'retrieve': {'context': [Document(metadata={'title': '2025 in the United States - Wikipedia', 'source': 'https://en.wikipedia.org/wiki/2025_in_the_United_States', 'language': 'en'}, page_content='Donald Trump pardons Ross Ulbricht, the creator of the Silk Road. Ulbricht was serving a life sentence for charges including conspiracy to commit money laundering, hacking, and drug trafficking.[92]\\nJanuary 22\\nThe death toll of a historic winter storm event on the Gulf Coast of the United States rises to nine. 8\\xa0in (20\\xa0cm) of snow falls at Louis Armstrong New Orleans International Airport in Louisiana, and the statewide snowfall record in Florida is broken as over 5.5\\xa0in (14\\xa0cm) falls in Molino.[89]\\nThe United States House of Representatives passes the Laken Riley Act, heading to Trump for his signature.[93]\\nDonald Trump re-designates the Yemeni Houthi movement as a foreign terrorist organization.[94]\\nA school shooting at Antioch High School in Nashville, Tennessee, kills two students and injures two others.[95]'), Document(metadata={'source': 'https://en.wikipedia.org/wiki/2025_in_the_United_States', 'language': 'en', 'title': '2025 in the United States - Wikipedia'}, page_content='Donald Trump pardons Ross Ulbricht, the creator of the Silk Road. Ulbricht was serving a life sentence for charges including conspiracy to commit money laundering, hacking, and drug trafficking.[92]\\nJanuary 22\\nThe death toll of a historic winter storm event on the Gulf Coast of the United States rises to nine. 8\\xa0in (20\\xa0cm) of snow falls at Louis Armstrong New Orleans International Airport in Louisiana, and the statewide snowfall record in Florida is broken as over 5.5\\xa0in (14\\xa0cm) falls in Molino.[89]\\nThe United States House of Representatives passes the Laken Riley Act, heading to Trump for his signature.[93]\\nDonald Trump re-designates the Yemeni Houthi movement as a foreign terrorist organization.[94]\\nA school shooting at Antioch High School in Nashville, Tennessee, kills two students and injures two others.[95]'), Document(metadata={'language': 'en', 'title': '2025 in the United States - Wikipedia', 'source': 'https://en.wikipedia.org/wiki/2025_in_the_United_States'}, page_content='Donald Trump pardons Ross Ulbricht, the creator of the Silk Road. Ulbricht was serving a life sentence for charges including conspiracy to commit money laundering, hacking, and drug trafficking.[92]\\nJanuary 22\\nThe death toll of a historic winter storm event on the Gulf Coast of the United States rises to nine. 8\\xa0in (20\\xa0cm) of snow falls at Louis Armstrong New Orleans International Airport in Louisiana, and the statewide snowfall record in Florida is broken as over 5.5\\xa0in (14\\xa0cm) falls in Molino.[89]\\nThe United States House of Representatives passes the Laken Riley Act, heading to Trump for his signature.[93]\\nDonald Trump re-designates the Yemeni Houthi movement as a foreign terrorist organization.[94]\\nA school shooting at Antioch High School in Nashville, Tennessee, kills two students and injures two others.[95]'), Document(metadata={'title': '2025 in the United States - Wikipedia', 'language': 'en', 'source': 'https://en.wikipedia.org/wiki/2025_in_the_United_States'}, page_content='Donald Trump pardons Ross Ulbricht, the creator of the Silk Road. Ulbricht was serving a life sentence for charges including conspiracy to commit money laundering, hacking, and drug trafficking.[92]\\nJanuary 22\\nThe death toll of a historic winter storm event on the Gulf Coast of the United States rises to nine. 8\\xa0in (20\\xa0cm) of snow falls at Louis Armstrong New Orleans International Airport in Louisiana, and the statewide snowfall record in Florida is broken as over 5.5\\xa0in (14\\xa0cm) falls in Molino.[89]\\nThe United States House of Representatives passes the Laken Riley Act, heading to Trump for his signature.[93]\\nDonald Trump re-designates the Yemeni Houthi movement as a foreign terrorist organization.[94]\\nA school shooting at Antioch High School in Nashville, Tennessee, kills two students and injures two others.[95]')]}}\n",
            "\n",
            "----------------\n",
            "\n",
            "{'generate': {'answer': \"The provided text does not contain information about Donald Trump's second term inauguration. Therefore, I cannot answer the question.\"}}\n",
            "\n",
            "----------------\n",
            "\n"
          ]
        }
      ],
      "source": [
        "for step in graph.stream(\n",
        "    {\"question\": \"When was Donald Trump inaugurated for his second term?\"}, stream_mode=\"updates\"\n",
        "):\n",
        "    print(f\"{step}\\n\\n----------------\\n\")\n",
        "\n"
      ]
    },
    {
      "cell_type": "markdown",
      "metadata": {
        "id": "dUsU09cZMO14"
      },
      "source": [
        "## Query Analysis"
      ]
    },
    {
      "cell_type": "code",
      "execution_count": null,
      "metadata": {
        "id": "-c5plj2VMQYI"
      },
      "outputs": [],
      "source": [
        "from math import ceil\n",
        "\n",
        "total = len(all_splits)\n",
        "chunk_size = ceil(total / 10)\n",
        "\n",
        "for i, doc in enumerate(all_splits):\n",
        "    section = (i // chunk_size) + 1\n",
        "    doc.metadata[\"section\"] = str(section)\n"
      ]
    },
    {
      "cell_type": "code",
      "execution_count": 111,
      "metadata": {
        "colab": {
          "base_uri": "https://localhost:8080/"
        },
        "id": "SpRzPYDVT0oT",
        "outputId": "955a1cf7-54cd-4919-9582-9ca5f253d0d1"
      },
      "outputs": [
        {
          "name": "stdout",
          "output_type": "stream",
          "text": [
            "Number of documents per section:\n",
            "  Section 1: 21 Documents\n",
            "  Section 10: 13 Documents\n",
            "  Section 2: 21 Documents\n",
            "  Section 3: 21 Documents\n",
            "  Section 4: 21 Documents\n",
            "  Section 5: 21 Documents\n",
            "  Section 6: 21 Documents\n",
            "  Section 7: 21 Documents\n",
            "  Section 8: 21 Documents\n",
            "  Section 9: 21 Documents\n"
          ]
        }
      ],
      "source": [
        "from collections import Counter\n",
        "\n",
        "sections = [doc.metadata.get(\"section\") for doc in all_splits]\n",
        "count_per_section = Counter(sections)\n",
        "\n",
        "print(\"Number of documents per section:\")\n",
        "for section, count in sorted(count_per_section.items()):\n",
        "    print(f\"  Section {section}: {count} Documents\")"
      ]
    },
    {
      "cell_type": "markdown",
      "metadata": {
        "id": "lE1EhZGIN9mY"
      },
      "source": [
        "### Update the documents in our vector store."
      ]
    },
    {
      "cell_type": "code",
      "execution_count": 112,
      "metadata": {
        "id": "cxD_fW0yU7_a"
      },
      "outputs": [],
      "source": [
        "from langchain_core.vectorstores import InMemoryVectorStore\n",
        "\n",
        "vector_store = InMemoryVectorStore(embeddings)\n",
        "_ = vector_store.add_documents(all_splits)"
      ]
    },
    {
      "cell_type": "markdown",
      "metadata": {
        "id": "AJTDmS0aN7e8"
      },
      "source": [
        "15. Define a schema for the search query."
      ]
    },
    {
      "cell_type": "code",
      "execution_count": 113,
      "metadata": {
        "id": "owZtgmASYPml"
      },
      "outputs": [],
      "source": [
        "from typing import Literal\n",
        "from typing_extensions import Annotated\n",
        "from typing import TypedDict\n",
        "\n",
        "class Search(TypedDict):\n",
        "    query: Annotated[str, ..., \"Search query to run.\"]\n",
        "    section: Annotated[\n",
        "        Literal[\"1\", \"2\", \"3\", \"4\", \"5\", \"6\", \"7\", \"8\", \"9\", \"10\"],\n",
        "        ...,\n",
        "        \"Section to query (1–10).\"\n",
        "    ]\n"
      ]
    },
    {
      "cell_type": "markdown",
      "metadata": {
        "id": "uj39SzyZbSRO"
      },
      "source": [
        "### Define prompt and  state for application"
      ]
    },
    {
      "cell_type": "code",
      "execution_count": 114,
      "metadata": {
        "id": "0CcnUF5_0nU6"
      },
      "outputs": [],
      "source": [
        "from langgraph.graph import MessagesState, StateGraph\n",
        "\n",
        "graph_builder = StateGraph(MessagesState)"
      ]
    },
    {
      "cell_type": "code",
      "execution_count": 55,
      "metadata": {
        "colab": {
          "base_uri": "https://localhost:8080/"
        },
        "id": "FgJmd-LkYTGx",
        "outputId": "398e5a86-777a-4073-a16e-5c6f6548b49a"
      },
      "outputs": [
        {
          "name": "stderr",
          "output_type": "stream",
          "text": [
            "/usr/local/lib/python3.11/dist-packages/langsmith/client.py:272: LangSmithMissingAPIKeyWarning: API key must be provided when using hosted LangSmith API\n",
            "  warnings.warn(\n"
          ]
        }
      ],
      "source": [
        "\n",
        "# Define prompt for question-answering\n",
        "prompt = hub.pull(\"rlm/rag-prompt\")\n",
        "\n",
        "\n",
        "# Define state for application\n",
        "class State(TypedDict):\n",
        "    question: str\n",
        "    query: Search\n",
        "    context: List[Document]\n",
        "    answer: str\n",
        "\n",
        "\n",
        "def analyze_query(state: State):\n",
        "    structured_llm = model.with_structured_output(Search)\n",
        "    query = structured_llm.invoke(state[\"question\"])\n",
        "    return {\"query\": query}\n",
        "\n",
        "\n",
        "def retrieve(state: State):\n",
        "    query = state[\"query\"]\n",
        "    retrieved_docs = vector_store.similarity_search(\n",
        "        query[\"query\"],\n",
        "        filter=lambda doc: doc.metadata.get(\"section\") == query[\"section\"],\n",
        "    )\n",
        "    return {\"context\": retrieved_docs}\n",
        "\n",
        "\n",
        "def generate(state: State):\n",
        "    docs_content = \"\\n\\n\".join(doc.page_content for doc in state[\"context\"])\n",
        "    messages = prompt.invoke({\"question\": state[\"question\"], \"context\": docs_content})\n",
        "    response = model.invoke(messages)\n",
        "    return {\"answer\": response.content}\n",
        "\n",
        "\n",
        "graph_builder = StateGraph(State).add_sequence([analyze_query, retrieve, generate])\n",
        "graph_builder.add_edge(START, \"analyze_query\")\n",
        "graph = graph_builder.compile()"
      ]
    },
    {
      "cell_type": "code",
      "execution_count": 115,
      "metadata": {
        "colab": {
          "base_uri": "https://localhost:8080/",
          "height": 350
        },
        "id": "uUu-JrcWYkHi",
        "outputId": "98c25b04-39a9-4733-940b-4aa9f60e6e9c"
      },
      "outputs": [
        {
          "data": {
            "image/png": "[encoded data removed]",
            "text/plain": [
              "<IPython.core.display.Image object>"
            ]
          },
          "metadata": {},
          "output_type": "display_data"
        }
      ],
      "source": [
        "from IPython.display import Image, display\n",
        "\n",
        "display(Image(graph.get_graph().draw_mermaid_png()))"
      ]
    },
    {
      "cell_type": "code",
      "execution_count": 116,
      "metadata": {
        "colab": {
          "base_uri": "https://localhost:8080/"
        },
        "id": "Bs2OlNWhYxJy",
        "outputId": "3cd60dcb-0f3f-429e-c6ff-23592662f325"
      },
      "outputs": [
        {
          "name": "stdout",
          "output_type": "stream",
          "text": [
            "{'retrieve': {'context': [Document(id='192c1e24-29d3-4894-927a-57752c2a8039', metadata={'source': 'https://en.wikipedia.org/wiki/2025_in_the_United_States', 'title': '2025 in the United States - Wikipedia', 'language': 'en', 'section': '1'}, page_content='2025 in the United States - Wikipedia\\n\\n\\n\\n\\n\\n\\n\\n\\n\\n\\n\\n\\n\\n\\n\\n\\n\\n\\n\\n\\n\\n\\n\\n\\n\\n\\n\\nJump to content\\n\\n\\n\\n\\n\\n\\n\\nMain menu\\n\\n\\n\\n\\n\\nMain menu\\nmove to sidebar\\nhide\\n\\n\\n\\n\\t\\tNavigation\\n\\t\\n\\n\\nMain pageContentsCurrent eventsRandom articleAbout WikipediaContact us\\n\\n\\n\\n\\n\\n\\t\\tContribute\\n\\t\\n\\n\\nHelpLearn to editCommunity portalRecent changesUpload fileSpecial pages\\n\\n\\n\\n\\n\\n\\n\\n\\n\\n\\n\\n\\n\\n\\n\\n\\n\\n\\n\\nSearch\\n\\n\\n\\n\\n\\n\\n\\n\\n\\n\\n\\nSearch\\n\\n\\n\\n\\n\\n\\n\\n\\n\\n\\n\\n\\n\\n\\n\\n\\n\\n\\n\\n\\n\\n\\nAppearance\\n\\n\\n\\n\\n\\n\\n\\n\\n\\n\\n\\n\\n\\n\\n\\n\\nDonate\\n\\nCreate account\\n\\nLog in\\n\\n\\n\\n\\n\\n\\n\\n\\nPersonal tools\\n\\n\\n\\n\\n\\nDonate Create account Log in\\n\\n\\n\\n\\n\\n\\t\\tPages for logged out editors learn more\\n\\n\\n\\nContributionsTalk\\n\\n\\n\\n\\n\\n\\n\\n\\n\\n\\n\\n\\n\\n\\n\\n\\n\\n\\n\\n\\n\\n\\n\\n\\n\\n\\n\\n\\nContents\\nmove to sidebar\\nhide\\n\\n\\n\\n\\n(Top)\\n\\n\\n\\n\\n\\n1\\nIncumbents\\n\\n\\n\\n\\nToggle Incumbents subsection\\n\\n\\n\\n\\n\\n1.1\\nFederal government\\n\\n\\n\\n\\n\\n\\n\\n\\n1.2\\nGovernors\\n\\n\\n\\n\\n\\n\\n\\n\\n1.3\\nLieutenant governors\\n\\n\\n\\n\\n\\n\\n\\n\\n\\n\\n2\\nElections\\n\\n\\n\\n\\n\\n\\n\\n\\n3\\nEvents\\n\\n\\n\\n\\nToggle Events subsection\\n\\n\\n\\n\\n\\n3.1\\nJanuary\\n\\n\\n\\n\\n\\n\\n\\n\\n3.2\\nFebruary\\n\\n\\n\\n\\n\\n\\n\\n\\n3.3\\nMarch\\n\\n\\n\\n\\n\\n\\n\\n\\n3.4\\nApril\\n\\n\\n\\n\\n\\n\\n\\n\\n3.5\\nMay\\n\\n\\n\\n\\n\\n\\n\\n\\n\\n\\n4\\nScheduled events\\n\\n\\n\\n\\n\\n\\n\\n\\n5\\nSee also\\n\\n\\n\\n\\n\\n\\n\\n\\n6\\nReferences'), Document(id='66837a36-1775-4b24-a1fc-ab2feb86ff40', metadata={'source': 'https://en.wikipedia.org/wiki/2025_in_the_United_States', 'title': '2025 in the United States - Wikipedia', 'language': 'en', 'section': '9'}, page_content='^ \"Florida bus driver fatally shoots 2 passengers, police say\". AP News. March 31, 2025. Retrieved April 5, 2025.\\n\\n^ Drellich, Evan; Rosenthal, Ken (April 4, 2024). \"Oakland A\\'s to play in Sacramento\\'s Sutter Health Park beginning in 2025 ahead of move to Las Vegas\". The Athletic. Archived from the original on April 4, 2024. Retrieved April 4, 2024.\\n\\n^ Barrett, Morgan Rimmer, Manu Raju, Clare Foran, Ted (March 31, 2025). \"Cory Booker makes history with longest Senate floor speech in protest of Trump agenda | CNN Politics\". CNN. Retrieved April 2, 2025.{{cite web}}:  CS1 maint: multiple names: authors list (link)\\n\\n^ \"US sanctions 6 over Hong Kong security crackdown – DW – 04/01/2025\". dw.com. Retrieved April 5, 2025.\\n\\n^ \"Control of the Wisconsin Supreme Court is up for grabs — again — in first big 2025 battleground race\". NBC News. February 15, 2025. Retrieved March 4, 2025.'), Document(id='74474ee8-d2a6-4752-86ec-fab9ab90dbf0', metadata={'source': 'https://en.wikipedia.org/wiki/2025_in_the_United_States', 'title': '2025 in the United States - Wikipedia', 'language': 'en', 'section': '5'}, page_content=\"Utah becomes the first US state to ban LGBTQ pride flags in government buildings and schools.[368][369][370]\\nMarch 29\\nProtests are held at Tesla dealerships across the United States, Canada, and Europe to protest against DOGE chief and Tesla CEO Elon Musk's role in the second Trump administration.[371]\\nA SOCATA TBM-700 crashes into an unoccupied house in Brooklyn Park, Minnesota, killing everyone on board.[372]\\nMarch 30 – A bus driver shoots and kills two passengers on a Miami-Dade Transit bus in Miami Gardens, Florida.[373]\\nMarch 31\\n2025 MLB season: The Athletics begin their temporary relocation to West Sacramento, California, which is planned to last until 2028, as part of their ongoing relocation to Las Vegas.[374]\\nU.S. Senator Cory Booker of New Jersey gives a 25 hour speech criticizing Trump's policies.[375]\"), Document(id='d8162a48-22e0-415d-97ff-b885fe58312b', metadata={'source': 'https://en.wikipedia.org/wiki/2025_in_the_United_States', 'title': '2025 in the United States - Wikipedia', 'language': 'en', 'section': '9'}, page_content='^ \"Control of the Wisconsin Supreme Court is up for grabs — again — in first big 2025 battleground race\". NBC News. February 15, 2025. Retrieved March 4, 2025.\\n\\n^ \"Susan Crawford wins Wisconsin Supreme Court race, defying Elon Musk\". NBC News. April 2, 2025. Retrieved April 5, 2025.\\n\\n^ Carney, Jordain (April 1, 2025). \"So long, Strom: Cory Booker breaks Thurmond\\'s Senate record with 25-hour speech\". POLITICO. Retrieved April 5, 2025.\\n\\n^ Al Jazeera Staff. \"Five key takeaways from Trump\\'s \\'Liberation Day\\' reciprocal tariffs\". Al Jazeera. Retrieved April 3, 2025.\\n\\n^ \"Trump tariffs list: The US global tariffs plan at a glance\". www.bbc.com. April 3, 2025. Retrieved April 3, 2025.\\n\\n^ Walsh, Deirde (April 2, 2025). \"Senate rebukes Trump\\'s tariffs on Canada\". NPR.\\n\\n^ \"Global markets in turmoil as Trump tariffs wipe £1.5tn off Wall Street\". The Guardian. April 3, 2025. Retrieved April 3, 2025.\\n\\n^ \"UK set to host 2035 Women\\'s World Cup as only \\'valid\\' bid\". BBC Sport. Retrieved April 3, 2025.')]}}\n",
            "\n",
            "----------------\n",
            "\n",
            "{'generate': {'answer': \"I'm sorry, but the provided document does not contain information about a city introducing a congestion charge in early 2025. Therefore, I cannot answer the question.\"}}\n",
            "\n",
            "----------------\n",
            "\n"
          ]
        }
      ],
      "source": [
        "for step in graph.stream(\n",
        "    {\"question\": \"Which city introduced a congestion charge in early 2025?\"},\n",
        "    stream_mode=\"updates\",\n",
        "):\n",
        "    print(f\"{step}\\n\\n----------------\\n\")"
      ]
    },
    {
      "cell_type": "markdown",
      "metadata": {
        "id": "mMetE0uMcYY1"
      },
      "source": [
        "## Dialog flow"
      ]
    },
    {
      "cell_type": "code",
      "execution_count": 117,
      "metadata": {
        "id": "K3rvjk_5ZJCl"
      },
      "outputs": [],
      "source": [
        "from langgraph.graph import MessagesState, StateGraph\n",
        "\n",
        "graph_builder = StateGraph(MessagesState)"
      ]
    },
    {
      "cell_type": "code",
      "execution_count": 118,
      "metadata": {
        "id": "gA0dUuyF67kc"
      },
      "outputs": [],
      "source": [
        "from langchain_core.tools import tool\n",
        "\n",
        "\n",
        "@tool(response_format=\"content_and_artifact\")\n",
        "def retrieve(query: str):\n",
        "    \"\"\"Retrieve information related to a query.\"\"\"\n",
        "    retrieved_docs = vector_store.similarity_search(query, k=2)\n",
        "    serialized = \"\\n\\n\".join(\n",
        "        (f\"Source: {doc.metadata}\\n\" f\"Content: {doc.page_content}\")\n",
        "        for doc in retrieved_docs\n",
        "    )\n",
        "    return serialized, retrieved_docs"
      ]
    },
    {
      "cell_type": "code",
      "execution_count": 119,
      "metadata": {
        "id": "tm2oZ23f7I2U"
      },
      "outputs": [],
      "source": [
        "from langchain_core.messages import SystemMessage\n",
        "from langgraph.prebuilt import ToolNode\n",
        "\n",
        "\n",
        "# Step 1: Generate an AIMessage that may include a tool-call to be sent.\n",
        "def query_or_respond(state: MessagesState):\n",
        "    \"\"\"Generate tool call for retrieval or respond.\"\"\"\n",
        "    llm_with_tools = model.bind_tools([retrieve])\n",
        "    response = llm_with_tools.invoke(state[\"messages\"])\n",
        "    # MessagesState appends messages to state instead of overwriting\n",
        "    return {\"messages\": [response]}\n",
        "\n",
        "\n",
        "# Step 2: Execute the retrieval.\n",
        "tools = ToolNode([retrieve])\n",
        "\n",
        "\n",
        "# Step 3: Generate a response using the retrieved content.\n",
        "def generate(state: MessagesState):\n",
        "    \"\"\"Generate answer.\"\"\"\n",
        "    # Get generated ToolMessages\n",
        "    recent_tool_messages = []\n",
        "    for message in reversed(state[\"messages\"]):\n",
        "        if message.type == \"tool\":\n",
        "            recent_tool_messages.append(message)\n",
        "        else:\n",
        "            break\n",
        "    tool_messages = recent_tool_messages[::-1]\n",
        "\n",
        "    # Format into prompt\n",
        "    docs_content = \"\\n\\n\".join(doc.content for doc in tool_messages)\n",
        "    system_message_content = (\n",
        "        \"You are an assistant for question-answering tasks. \"\n",
        "        \"Use the following pieces of retrieved context to answer \"\n",
        "        \"the question. If you don't know the answer, say that you \"\n",
        "        \"don't know. Use three sentences maximum and keep the \"\n",
        "        \"answer concise.\"\n",
        "        \"\\n\\n\"\n",
        "        f\"{docs_content}\"\n",
        "    )\n",
        "    conversation_messages = [\n",
        "        message\n",
        "        for message in state[\"messages\"]\n",
        "        if message.type in (\"human\", \"system\")\n",
        "        or (message.type == \"ai\" and not message.tool_calls)\n",
        "    ]\n",
        "    prompt = [SystemMessage(system_message_content)] + conversation_messages\n",
        "\n",
        "    # Run\n",
        "    response = model.invoke(prompt)\n",
        "    return {\"messages\": [response]}"
      ]
    },
    {
      "cell_type": "code",
      "execution_count": 120,
      "metadata": {
        "id": "iVoJc79W6_ee"
      },
      "outputs": [],
      "source": [
        "from langgraph.graph import END\n",
        "from langgraph.prebuilt import ToolNode, tools_condition\n",
        "\n",
        "graph_builder.add_node(query_or_respond)\n",
        "graph_builder.add_node(tools)\n",
        "graph_builder.add_node(generate)\n",
        "\n",
        "graph_builder.set_entry_point(\"query_or_respond\")\n",
        "graph_builder.add_conditional_edges(\n",
        "    \"query_or_respond\",\n",
        "    tools_condition,\n",
        "    {END: END, \"tools\": \"tools\"},\n",
        ")\n",
        "graph_builder.add_edge(\"tools\", \"generate\")\n",
        "graph_builder.add_edge(\"generate\", END)\n",
        "\n",
        "graph = graph_builder.compile()"
      ]
    },
    {
      "cell_type": "code",
      "execution_count": 121,
      "metadata": {
        "colab": {
          "base_uri": "https://localhost:8080/",
          "height": 449
        },
        "id": "FrvILFgl1eSA",
        "outputId": "1076c81a-c7c0-4405-f543-9efcf075224f"
      },
      "outputs": [
        {
          "data": {
            "image/png": "[encoded data removed]",
            "text/plain": [
              "<IPython.core.display.Image object>"
            ]
          },
          "metadata": {},
          "output_type": "display_data"
        }
      ],
      "source": [
        "from IPython.display import Image, display\n",
        "\n",
        "display(Image(graph.get_graph().draw_mermaid_png()))"
      ]
    },
    {
      "cell_type": "markdown",
      "metadata": {
        "id": "BS9BNb95cm9F"
      },
      "source": [
        "### Example without Memory"
      ]
    },
    {
      "cell_type": "code",
      "execution_count": 122,
      "metadata": {
        "colab": {
          "base_uri": "https://localhost:8080/"
        },
        "id": "lZLdY2yo6C5F",
        "outputId": "3f96683c-6a11-4b88-a761-77e7e1a7537e"
      },
      "outputs": [
        {
          "name": "stdout",
          "output_type": "stream",
          "text": [
            "================================\u001b[1m Human Message \u001b[0m=================================\n",
            "\n",
            "Hello\n",
            "==================================\u001b[1m Ai Message \u001b[0m==================================\n",
            "\n",
            "Hello! How can I help you today?\n"
          ]
        }
      ],
      "source": [
        "input_message = \"Hello\"\n",
        "\n",
        "for step in graph.stream(\n",
        "    {\"messages\": [{\"role\": \"user\", \"content\": input_message}]},\n",
        "    stream_mode=\"values\",\n",
        "):\n",
        "    step[\"messages\"][-1].pretty_print()"
      ]
    },
    {
      "cell_type": "code",
      "execution_count": 124,
      "metadata": {
        "colab": {
          "base_uri": "https://localhost:8080/"
        },
        "id": "FZunug7J7_jn",
        "outputId": "b867da1c-4b24-424b-80e3-4140c99ae764"
      },
      "outputs": [
        {
          "name": "stdout",
          "output_type": "stream",
          "text": [
            "================================\u001b[1m Human Message \u001b[0m=================================\n",
            "\n",
            "How did the SpaceX Starship test flight end in 2025?\n",
            "==================================\u001b[1m Ai Message \u001b[0m==================================\n",
            "Tool Calls:\n",
            "  retrieve (091d735d-cbc3-4429-8292-a1543ee2fce4)\n",
            " Call ID: 091d735d-cbc3-4429-8292-a1543ee2fce4\n",
            "  Args:\n",
            "    query: SpaceX Starship test flight in 2025\n",
            "=================================\u001b[1m Tool Message \u001b[0m=================================\n",
            "Name: retrieve\n",
            "\n",
            "Source: {'source': 'https://en.wikipedia.org/wiki/2025_in_the_United_States', 'title': '2025 in the United States - Wikipedia', 'language': 'en', 'section': '4'}\n",
            "Content: CMA CGM announces a $20 billion investment in United States logistics over the next four years, aiming to create 10,000 new jobs.[292]\n",
            "President Donald Trump signs an executive order creating a Strategic Bitcoin Reserve funded exclusively with bitcoin seized in criminal and civil forfeiture cases.[293]\n",
            "According to a report in the academic journal Science, the population of the 554 recorded species of butterflies in the United States has declined by 22% since 2000.[294]\n",
            "The United States withdraws from the Just Energy Transition Partnership, a program that helps emerging countries transition away from non-renewable energy sources like fossil fuels.[295]\n",
            "SpaceX launches its eighth test flight of the Starship launch vehicle from Starbase in Texas. The first stage is caught by the launch tower despite Raptor engine failures during landing, but the second stage fails during its burn, mirroring the last flight test in January.[296]\n",
            "\n",
            "Source: {'source': 'https://en.wikipedia.org/wiki/2025_in_the_United_States', 'title': '2025 in the United States - Wikipedia', 'language': 'en', 'section': '2'}\n",
            "Content: SpaceX launches its seventh test flight of the Starship launch vehicle, with an improved second stage out of its Starbase launch site in Texas. The company catches the first stage but the second stage breaks up shortly before engine shutdown.[60]\n",
            "Two homeless people are killed and two others are injured in a mass stabbing attack in Miami. A 30-year-old suspect is arrested.[61]\n",
            "2025 California wildfires: It is reported that the Eaton Fire, which has burned over 14,000 acres and has killed 17 people, is 65% contained.[62]\n",
            "January 17\n",
            "The Supreme Court of the United States upholds the provisions of the Protecting Americans from Foreign Adversary Controlled Applications Act banning social media platform TikTok unless it is sold by ByteDance.[63][64]\n",
            "==================================\u001b[1m Ai Message \u001b[0m==================================\n",
            "\n",
            "In 2025, SpaceX launched its seventh test flight of the Starship launch vehicle with an improved second stage, catching the first stage but experiencing a breakup of the second stage shortly before engine shutdown. The eighth test flight saw the first stage caught by the launch tower despite engine failures, but the second stage failed during its burn.\n"
          ]
        }
      ],
      "source": [
        "input_message = \"How did the SpaceX Starship test flight end in 2025?\"\n",
        "\n",
        "for step in graph.stream(\n",
        "    {\"messages\": [{\"role\": \"user\", \"content\": input_message}]},\n",
        "    stream_mode=\"values\",\n",
        "):\n",
        "    step[\"messages\"][-1].pretty_print()"
      ]
    },
    {
      "cell_type": "code",
      "execution_count": 125,
      "metadata": {
        "colab": {
          "base_uri": "https://localhost:8080/"
        },
        "id": "tzbDbiz77cwy",
        "outputId": "cb15d2c5-90c0-472e-bb5f-7cdfbc3b443b"
      },
      "outputs": [
        {
          "name": "stdout",
          "output_type": "stream",
          "text": [
            "================================\u001b[1m Human Message \u001b[0m=================================\n",
            "\n",
            "What did President Biden ban before leaving office?\n",
            "==================================\u001b[1m Ai Message \u001b[0m==================================\n",
            "\n",
            "Could you please provide more details or context? I don't have enough information to understand what you are asking. Which office are you referring to? Do you mean before President Biden left his previous office or before his term as President ends?\n"
          ]
        }
      ],
      "source": [
        "input_message = \"What did President Biden ban before leaving office?\"\n",
        "\n",
        "for step in graph.stream(\n",
        "    {\"messages\": [{\"role\": \"user\", \"content\": input_message}]},\n",
        "    stream_mode=\"values\",\n",
        "):\n",
        "    step[\"messages\"][-1].pretty_print()"
      ]
    },
    {
      "cell_type": "markdown",
      "metadata": {
        "id": "iKIaM-6wcslf"
      },
      "source": [
        "### Memory (to track context across messages)"
      ]
    },
    {
      "cell_type": "code",
      "execution_count": 126,
      "metadata": {
        "id": "51geTr5T8xST"
      },
      "outputs": [],
      "source": [
        "from langgraph.checkpoint.memory import MemorySaver\n",
        "\n",
        "memory = MemorySaver()\n",
        "graph = graph_builder.compile(checkpointer=memory)\n",
        "\n",
        "# Specify an ID for the thread\n",
        "config = {\"configurable\": {\"thread_id\": \"abc123\"}}"
      ]
    },
    {
      "cell_type": "code",
      "execution_count": 127,
      "metadata": {
        "colab": {
          "base_uri": "https://localhost:8080/"
        },
        "id": "Ho8xCrlzG28t",
        "outputId": "c38463c4-0de8-44d4-8974-f6e0611a3fd3"
      },
      "outputs": [
        {
          "name": "stdout",
          "output_type": "stream",
          "text": [
            "================================\u001b[1m Human Message \u001b[0m=================================\n",
            "\n",
            "Who attended Trump’s 2025 inauguration?\n",
            "==================================\u001b[1m Ai Message \u001b[0m==================================\n",
            "Tool Calls:\n",
            "  retrieve (bc74c23e-0511-4d68-9fa8-1650d3cb9445)\n",
            " Call ID: bc74c23e-0511-4d68-9fa8-1650d3cb9445\n",
            "  Args:\n",
            "    query: Who attended Trump’s 2025 inauguration?\n",
            "=================================\u001b[1m Tool Message \u001b[0m=================================\n",
            "Name: retrieve\n",
            "\n",
            "Source: {'source': 'https://en.wikipedia.org/wiki/2025_in_the_United_States', 'title': '2025 in the United States - Wikipedia', 'language': 'en', 'section': '7'}\n",
            "Content: ^ Balk, Tim (November 6, 2024). \"When Will Donald Trump Take Office?\". The New York Times. Retrieved November 6, 2024.\n",
            "\n",
            "^ Reilly, Ryan J. (January 20, 2025). \"Trump pardons roughly 1,500 criminal defendants charged in the Jan. 6 Capitol attack\". NBC News. NBCUniversal Media, LLC. Retrieved January 20, 2025.\n",
            "\n",
            "^ Daniels, Cheyanne M. (November 13, 2024). \"Sharpton to hold MLK rally on same day as Trump inauguration\". The Hill.\n",
            "\n",
            "^ \"National Action Network announces 2025 Inauguration Day rally\". November 25, 2024.\n",
            "\n",
            "^ \"Restoring Names That Honor American Greatness\". White House. January 2025.\n",
            "\n",
            "^ Kelly, Laura (January 20, 2025). \"Rubio unanimously confirmed as secretary of State, becoming Trump's first Cabinet official\". thehill.com. Retrieved January 27, 2025.\n",
            "\n",
            "^ Satter, Raphael; Reid, Tim; Singh, Kanishka (January 20, 2025). \"Trump announces 'DOGE' advisory group, attracting instant lawsuits\". Reuters. Retrieved January 27, 2025.\n",
            "\n",
            "Source: {'source': 'https://en.wikipedia.org/wiki/2025_in_the_United_States', 'title': '2025 in the United States - Wikipedia', 'language': 'en', 'section': '2'}\n",
            "Content: U.S. President-elect Donald Trump announces that his upcoming second inauguration will be moved indoors at the United States Capitol Rotunda due to cold temperatures, making it the first to be held indoors since the second 'public' inauguration of the 40th U.S. President, Ronald Reagan in 1985.[65]\n",
            "The Treasury Department sanctions a cybersecurity company and hacker, both with ties to China's Ministry of State Security, for their alleged roles in hacking American telecommunications companies.[66]\n",
            "January 18\n",
            "Ahead of Trump's second term, the Women's March hosts protests at Columbus Circle in Washington, D.C. The People's March on Washington is also held on the same day.[67][68]\n",
            "The Mega Zeph roller coaster at the former Six Flags New Orleans amusement park catches fire.[69]\n",
            "In American football, the Washington Commanders (formerly the Redskins) upset the Detroit Lions, 45-31, to reach the NFC Championship game, their first since the 1991 season when they were known as the Redskins.[70]\n",
            "==================================\u001b[1m Ai Message \u001b[0m==================================\n",
            "\n",
            "Donald Trump's second inauguration was moved indoors at the United States Capitol Rotunda due to cold temperatures. Sharpton held an MLK rally on the same day as Trump's inauguration. The Women's March also hosted protests at Columbus Circle in Washington, D.C. ahead of Trump's second term.\n"
          ]
        }
      ],
      "source": [
        "input_message = \"Who attended Trump’s 2025 inauguration?\"\n",
        "\n",
        "for step in graph.stream(\n",
        "    {\"messages\": [{\"role\": \"user\", \"content\": input_message}]},\n",
        "    stream_mode=\"values\",\n",
        "    config=config,\n",
        "):\n",
        "    step[\"messages\"][-1].pretty_print()"
      ]
    },
    {
      "cell_type": "code",
      "execution_count": 128,
      "metadata": {
        "colab": {
          "base_uri": "https://localhost:8080/"
        },
        "id": "F88wTFFZ81OI",
        "outputId": "80a8616e-a4f1-4727-f6e7-8c409b913648"
      },
      "outputs": [
        {
          "name": "stdout",
          "output_type": "stream",
          "text": [
            "================================\u001b[1m Human Message \u001b[0m=================================\n",
            "\n",
            "Which city implemented the first congestion charge in the U.S. in January 2025?\n",
            "==================================\u001b[1m Ai Message \u001b[0m==================================\n",
            "Tool Calls:\n",
            "  retrieve (3587e354-2734-4051-a1bf-758d580bd716)\n",
            " Call ID: 3587e354-2734-4051-a1bf-758d580bd716\n",
            "  Args:\n",
            "    query: Which city implemented the first congestion charge in the U.S. in January 2025?\n",
            "=================================\u001b[1m Tool Message \u001b[0m=================================\n",
            "Name: retrieve\n",
            "\n",
            "Source: {'source': 'https://en.wikipedia.org/wiki/2025_in_the_United_States', 'title': '2025 in the United States - Wikipedia', 'language': 'en', 'section': '1'}\n",
            "Content: January 3\n",
            "The 119th Congress begins. Vice President Kamala Harris officiates the swearing-in of senators, while representatives vote to re-elect Mike Johnson as speaker of the House.[11]\n",
            "President Joe Biden blocks the proposed acquisition of U.S. Steel by Nippon Steel.[12]\n",
            "Surgeon general Vivek Murthy calls for cancer warnings on alcohol.[13]\n",
            "SpaceX successfully launches the United Arab Emirates Space Agency's communications satellite Thuraya 4-NGS via a Falcon 9 rocket from Cape Canaveral Space Force Station in Florida.[14]\n",
            "January 5\n",
            "New York City enacts a congestion charge for vehicles entering Lower and Midtown Manhattan below 60th Street, becoming the first city in the United States to do so. All proceeds go to the Metropolitan Transportation Authority, which plans to invest in long-term transportation initiatives citywide.[15]\n",
            "\n",
            "Source: {'source': 'https://en.wikipedia.org/wiki/2025_in_the_United_States', 'title': '2025 in the United States - Wikipedia', 'language': 'en', 'section': '5'}\n",
            "Content: Utah becomes the first US state to ban LGBTQ pride flags in government buildings and schools.[368][369][370]\n",
            "March 29\n",
            "Protests are held at Tesla dealerships across the United States, Canada, and Europe to protest against DOGE chief and Tesla CEO Elon Musk's role in the second Trump administration.[371]\n",
            "A SOCATA TBM-700 crashes into an unoccupied house in Brooklyn Park, Minnesota, killing everyone on board.[372]\n",
            "March 30 – A bus driver shoots and kills two passengers on a Miami-Dade Transit bus in Miami Gardens, Florida.[373]\n",
            "March 31\n",
            "2025 MLB season: The Athletics begin their temporary relocation to West Sacramento, California, which is planned to last until 2028, as part of their ongoing relocation to Las Vegas.[374]\n",
            "U.S. Senator Cory Booker of New Jersey gives a 25 hour speech criticizing Trump's policies.[375]\n",
            "==================================\u001b[1m Ai Message \u001b[0m==================================\n",
            "\n",
            "New York City enacted a congestion charge for vehicles entering Lower and Midtown Manhattan below 60th Street on January 5, 2025. This made it the first city in the United States to implement such a charge. All proceeds are intended for the Metropolitan Transportation Authority to invest in transportation initiatives citywide.\n"
          ]
        }
      ],
      "source": [
        "input_message = \"Which city implemented the first congestion charge in the U.S. in January 2025?\"\n",
        "\n",
        "for step in graph.stream(\n",
        "    {\"messages\": [{\"role\": \"user\", \"content\": input_message}]},\n",
        "    stream_mode=\"values\",\n",
        "    config=config,\n",
        "):\n",
        "    step[\"messages\"][-1].pretty_print()"
      ]
    },
    {
      "cell_type": "code",
      "execution_count": null,
      "metadata": {
        "id": "X9gk6IjcEEJP"
      },
      "outputs": [],
      "source": []
    }
  ],
  "metadata": {
    "accelerator": "GPU",
    "colab": {
      "gpuType": "T4",
      "provenance": []
    },
    "kernelspec": {
      "display_name": "Python 3",
      "name": "python3"
    },
    "language_info": {
      "name": "python"
    }
  },
  "nbformat": 4,
  "nbformat_minor": 0
}
