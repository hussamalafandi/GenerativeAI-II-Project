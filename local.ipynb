{
 "cells": [
  {
   "cell_type": "code",
   "execution_count": 11,
   "id": "46JmhtQ94KS9",
   "metadata": {
    "colab": {
     "base_uri": "https://localhost:8080/"
    },
    "executionInfo": {
     "elapsed": 103,
     "status": "ok",
     "timestamp": 1746956713777,
     "user": {
      "displayName": "Feras Hennidi",
      "userId": "03153705358914755113"
     },
     "user_tz": -120
    },
    "id": "46JmhtQ94KS9",
    "outputId": "8a8e4a71-2cb7-41ae-cfc7-e612919c53d3"
   },
   "outputs": [],
   "source": [
    "# !source /content/drive/MyDrive/GEN_AI_2/venv/bin/activate; pip3 install --quiet --upgrade langchain-text-splitters langchain-community langgraph langchain-google-genai \"langchain-chroma>=0.1.2\""
   ]
  },
  {
   "cell_type": "markdown",
   "id": "41457efc",
   "metadata": {
    "id": "41457efc"
   },
   "source": [
    "# Generative AI 2 Project: RAG System"
   ]
  },
  {
   "cell_type": "markdown",
   "id": "13367198",
   "metadata": {
    "id": "13367198"
   },
   "source": [
    "## Project Setup"
   ]
  },
  {
   "cell_type": "markdown",
   "id": "3629960a",
   "metadata": {
    "id": "3629960a"
   },
   "source": [
    "### Dependencies"
   ]
  },
  {
   "cell_type": "code",
   "execution_count": 12,
   "id": "b88f28a3",
   "metadata": {
    "colab": {
     "base_uri": "https://localhost:8080/",
     "height": 443
    },
    "executionInfo": {
     "elapsed": 73,
     "status": "error",
     "timestamp": 1746957874706,
     "user": {
      "displayName": "Feras Hennidi",
      "userId": "03153705358914755113"
     },
     "user_tz": -120
    },
    "id": "b88f28a3",
    "outputId": "7ff657f0-2bdf-4cea-e087-f15450416a62"
   },
   "outputs": [],
   "source": [
    "import os\n",
    "from dotenv import load_dotenv\n",
    "import bs4\n",
    "from uuid import uuid4\n",
    "from langchain_community.document_loaders import WebBaseLoader\n",
    "from langchain_text_splitters import RecursiveCharacterTextSplitter\n",
    "from langchain_google_genai import GoogleGenerativeAIEmbeddings\n",
    "from langchain_chroma import Chroma\n",
    "from langchain_google_genai import ChatGoogleGenerativeAI\n",
    "from langchain_core.prompts import PromptTemplate\n",
    "from langchain import hub\n",
    "from typing_extensions import List, TypedDict\n",
    "from langchain_core.documents import Document\n",
    "from langgraph.graph import START, StateGraph"
   ]
  },
  {
   "cell_type": "markdown",
   "id": "9e008fa5",
   "metadata": {},
   "source": [
    "### Loading Environment Variables"
   ]
  },
  {
   "cell_type": "code",
   "execution_count": 13,
   "id": "132290a4",
   "metadata": {},
   "outputs": [
    {
     "data": {
      "text/plain": [
       "True"
      ]
     },
     "execution_count": 13,
     "metadata": {},
     "output_type": "execute_result"
    }
   ],
   "source": [
    "load_dotenv()"
   ]
  },
  {
   "cell_type": "markdown",
   "id": "03038fa2",
   "metadata": {
    "id": "03038fa2"
   },
   "source": [
    "## Retrieval"
   ]
  },
  {
   "cell_type": "markdown",
   "id": "3f55d303",
   "metadata": {
    "id": "3f55d303"
   },
   "source": [
    "### Loading Webpage Article"
   ]
  },
  {
   "cell_type": "code",
   "execution_count": 14,
   "id": "acb375ad",
   "metadata": {
    "colab": {
     "base_uri": "https://localhost:8080/"
    },
    "executionInfo": {
     "elapsed": 981,
     "status": "ok",
     "timestamp": 1746957093791,
     "user": {
      "displayName": "Feras Hennidi",
      "userId": "03153705358914755113"
     },
     "user_tz": -120
    },
    "id": "acb375ad",
    "outputId": "0869b17b-6f06-4b98-ee84-08632c6b62dc"
   },
   "outputs": [
    {
     "name": "stdout",
     "output_type": "stream",
     "text": [
      "Total characters: 141159\n"
     ]
    }
   ],
   "source": [
    "bs4_strainer = bs4.SoupStrainer(class_=(\"BlogItem-title\", \"col sqs-col-12 span-12\"))\n",
    "loader = WebBaseLoader(\n",
    "    web_paths=(\"https://datareportal.com/reports/digital-2025-global-overview-report\",),\n",
    "    bs_kwargs={\"parse_only\": bs4_strainer},\n",
    "    encoding=\"utf-8\",\n",
    ")\n",
    "docs = loader.load()\n",
    "\n",
    "assert len(docs) == 1\n",
    "print(f\"Total characters: {len(docs[0].page_content)}\")"
   ]
  },
  {
   "cell_type": "markdown",
   "id": "2a6beb80",
   "metadata": {
    "id": "2a6beb80"
   },
   "source": [
    "### Text Extraction Validation Test"
   ]
  },
  {
   "cell_type": "code",
   "execution_count": 15,
   "id": "f62a012a",
   "metadata": {
    "colab": {
     "base_uri": "https://localhost:8080/"
    },
    "executionInfo": {
     "elapsed": 12,
     "status": "ok",
     "timestamp": 1746957096665,
     "user": {
      "displayName": "Feras Hennidi",
      "userId": "03153705358914755113"
     },
     "user_tz": -120
    },
    "id": "f62a012a",
    "outputId": "a376570b-e917-499c-8024-6235adb46182"
   },
   "outputs": [
    {
     "name": "stdout",
     "output_type": "stream",
     "text": [
      "Total characters: 141159\n",
      "Digital 2025: Global Overview ReportADVERTISEMENT\n",
      "\n",
      "\n",
      "\n",
      "\n",
      "\n",
      "\n",
      "\n",
      "2025 looks set to be another bumper year in digital, with rapid advances in AI, the evolving social media landscape, and broadening online behaviours all gearing up to reshape our connected lives over the coming months.With so much going on, the pace of digital trends can feel overwhelming, but our enormous new Digital 2025 Global Overview Report – published in partnership between We Are Social and Meltwater – has all the stats, insights, \n"
     ]
    }
   ],
   "source": [
    "assert len(docs) == 1\n",
    "print(f\"Total characters: {len(docs[0].page_content)}\")\n",
    "print(docs[0].page_content[:500])"
   ]
  },
  {
   "cell_type": "markdown",
   "id": "03007a5c",
   "metadata": {
    "id": "03007a5c"
   },
   "source": [
    "### Text Splitting"
   ]
  },
  {
   "cell_type": "code",
   "execution_count": 16,
   "id": "d26fc688",
   "metadata": {
    "colab": {
     "base_uri": "https://localhost:8080/"
    },
    "executionInfo": {
     "elapsed": 34,
     "status": "ok",
     "timestamp": 1746957115538,
     "user": {
      "displayName": "Feras Hennidi",
      "userId": "03153705358914755113"
     },
     "user_tz": -120
    },
    "id": "d26fc688",
    "outputId": "34117ca9-1823-41b7-9801-291efb763461"
   },
   "outputs": [
    {
     "name": "stdout",
     "output_type": "stream",
     "text": [
      "Split blog post into 226 sub-documents.\n"
     ]
    }
   ],
   "source": [
    "text_splitter = RecursiveCharacterTextSplitter(\n",
    "    chunk_size=1000,  # chunk size (characters)\n",
    "    chunk_overlap=200,  # chunk overlap (characters)\n",
    "    add_start_index=True,  # track index in original document\n",
    ")\n",
    "\n",
    "all_splits = text_splitter.split_documents(docs)\n",
    "\n",
    "print(f\"Split blog post into {len(all_splits)} sub-documents.\")"
   ]
  },
  {
   "cell_type": "code",
   "execution_count": 17,
   "id": "0a310eda",
   "metadata": {
    "colab": {
     "base_uri": "https://localhost:8080/"
    },
    "executionInfo": {
     "elapsed": 10,
     "status": "ok",
     "timestamp": 1746957140213,
     "user": {
      "displayName": "Feras Hennidi",
      "userId": "03153705358914755113"
     },
     "user_tz": -120
    },
    "id": "0a310eda",
    "outputId": "a92a48b4-2835-4a0c-9f69-ebac75f395b1"
   },
   "outputs": [
    {
     "name": "stdout",
     "output_type": "stream",
     "text": [
      "a later date. Because of this, we strongly encourage you to explore the timeline charts available in our local country reports, which will provide more informed insight into the evolution of digital adoption and behaviour. Note that our Digital 2025 local country reports will be available to read in full – and for free – on the DataReportal website at the end of February 2025, but you can already explore data for previous years via our complete online library.The United Nations published a comprehensive update to its World Population Prospects data in July 2024, and this update included some important revisions to population numbers around the world. In addition to impacting the figures that we report for population, these revisions may also affect any data point where we show digital adoption or activity as a percentage of the total population (e.g. internet and social media adoption), or as a percentage of specific age groups within the broader population (e.g. people aged 18 and\n"
     ]
    }
   ],
   "source": [
    "print(all_splits[5].page_content)"
   ]
  },
  {
   "cell_type": "markdown",
   "id": "fb9e54ab",
   "metadata": {
    "id": "fb9e54ab"
   },
   "source": [
    "### Storing Text Chunks"
   ]
  },
  {
   "cell_type": "code",
   "execution_count": 18,
   "id": "b4fcbbf2",
   "metadata": {
    "colab": {
     "base_uri": "https://localhost:8080/",
     "height": 211
    },
    "executionInfo": {
     "elapsed": 876,
     "status": "error",
     "timestamp": 1746957866909,
     "user": {
      "displayName": "Feras Hennidi",
      "userId": "03153705358914755113"
     },
     "user_tz": -120
    },
    "id": "b4fcbbf2",
    "outputId": "dced6f0e-1db6-4bbe-97ef-369c1087fc3e"
   },
   "outputs": [
    {
     "data": {
      "text/plain": [
       "['636dfb11-f853-45b0-9ee6-160a782287f9',\n",
       " '8bd2b996-aba2-4792-a96e-08d6f620f4a4',\n",
       " '5bbefa3e-7fdd-4f97-bd59-8be9a1fd607f',\n",
       " '28e49d6b-1f4c-4579-8c9e-52fb859cbcff',\n",
       " '9d0d9713-8d88-4501-a9ff-a895d5162c65',\n",
       " '56098677-96f1-4feb-b0db-bc96ce2d7ce4',\n",
       " 'a52c0111-e023-421c-9aad-4bfd2096d4ba',\n",
       " 'ee026569-0ebf-4f7d-bf15-648ef3a686bf',\n",
       " '03f22009-c6df-4102-9ac4-016e123c2493',\n",
       " '374df7a3-bb9b-4ebb-9aee-fbe740296f91',\n",
       " '3764193c-1dab-4545-b260-91bea4cdc278',\n",
       " 'b16ea068-2143-4f9b-8028-396706b69035',\n",
       " '86ee3503-35f7-43a9-94ec-4c26fcc547fe',\n",
       " 'b5066c7e-0759-41cc-980b-b26fc8490a5f',\n",
       " 'f4140449-4ce6-4e06-9045-0a6e7ed72a9e',\n",
       " '32b4d9cb-f0d5-409f-9bfe-9ce7bc3acb6f',\n",
       " 'f8dc0cb2-d7b1-4cc1-8914-c4f75a7c485c',\n",
       " '6215b7a5-d200-4d46-a2fc-aa87f7c3d61d',\n",
       " '6f125dec-6ffd-4e51-bb73-14ee57c54d9d',\n",
       " '385d66b8-f102-436f-b030-5842ef5737ed',\n",
       " '12447f4a-bd6f-4958-8f38-f93225a7d0d7',\n",
       " 'be955f1b-069f-4dce-96f4-18ab5fa8c9b9',\n",
       " 'e241df8b-ffe6-47d8-83ab-f980f3518a48',\n",
       " 'c0e00e4b-cb4a-48aa-9dbc-4d14d42ca16b',\n",
       " 'db0c0433-ea3a-4c48-9b26-68f703e8586c',\n",
       " 'd9fe8f35-6c4d-4d63-b741-3efcf917dbd1',\n",
       " '232b9e7b-2fb1-4fa0-8362-99b624b3afc3',\n",
       " '1dfba60b-baca-433e-ac8e-971162c35932',\n",
       " '16026ac3-f6c0-4605-a985-1f967331bb97',\n",
       " '481a0a2a-66e0-4601-9f38-e3899d74a232',\n",
       " '7c79d835-41fa-477c-8eff-54eb15a28001',\n",
       " '790b3894-4068-40c9-b264-40d8d0491583',\n",
       " '07426a46-9ec5-417e-b077-6f93dede0297',\n",
       " '19527fd0-2583-438e-8486-a606c29ee0b2',\n",
       " '89f87a58-139d-42bf-a187-6a9a636116da',\n",
       " 'd593f95f-02fe-4cbf-a16e-c4ea41b31708',\n",
       " '7146d9f0-23ea-4e2e-8008-bdb1ae8a70d4',\n",
       " '08edb86a-4526-4a44-86c7-dd0ab065da52',\n",
       " '063ea67e-8fe0-4851-8e28-6067286d53be',\n",
       " 'd118b663-522c-4a17-83e6-ac589694b142',\n",
       " 'df3170a5-1b88-4213-9720-745134c36e16',\n",
       " '56434de3-20db-4ff4-8ace-c9f8a6d1aeb8',\n",
       " 'e40690a1-cde9-4d59-b4c7-b4bf1d3c07c5',\n",
       " '7bcfe946-2d15-472c-93ed-6dc75ebe073d',\n",
       " 'f5ad1995-1822-40cf-a934-e77fc9a72cc3',\n",
       " 'f21d6aab-fe44-489d-bf47-b8d95dc43ab7',\n",
       " 'ac0c4550-3fe1-4898-a7a2-5c074e626546',\n",
       " '82494fcf-1170-40bc-b87f-1b1c0b6545c7',\n",
       " '126244d0-0bce-4b35-908b-a54f5bd78943',\n",
       " 'bf4f3d61-314b-46ce-8f74-fbfc2e05621d',\n",
       " '7eadab6e-b1be-4ac3-8856-48c3041a529d',\n",
       " '8e34a536-6710-4932-bed3-89b70f9d38ce',\n",
       " 'ae13010f-eef1-4c6e-b893-2f08a7b2a843',\n",
       " 'ef6a0936-a171-4d33-bf26-b9b8c0f4c6dc',\n",
       " '55c2ed1a-1b1e-4145-86e5-043abce63de0',\n",
       " '21ea35f8-249c-4870-beb5-5768a9c1ce0b',\n",
       " '64d1635a-8adf-4a81-8ec5-36f3630f5eca',\n",
       " '58d77136-10a5-443f-917f-4435d4c6e138',\n",
       " 'a14ff123-c841-4e43-9344-a2b0eecdc184',\n",
       " 'a96257d4-e71f-444e-bb50-b6c5494b511b',\n",
       " 'dd10e5c2-f003-4cb4-bb6b-54e8453a26db',\n",
       " '390a6ffc-8ceb-493c-b63f-99e152102bf0',\n",
       " 'd622c003-d59c-483a-8bd6-71c1a2605fff',\n",
       " '6a4f2f25-2b75-497a-b52b-9fe96b818a2a',\n",
       " '2c2ae177-389d-4f2c-88e5-35ee78765ed6',\n",
       " '92322e76-e36d-414f-8e1d-b28477f0710e',\n",
       " '38089739-f4b3-41fc-97c6-0acd16d4ca86',\n",
       " '713778d1-e3e2-4e5c-942e-25f7b965db17',\n",
       " '3487e439-4799-4a17-aea8-db90093c5dd9',\n",
       " 'e6b43d3e-f003-4073-89ff-f9b0d1b3e35f',\n",
       " '74536cb4-1bca-45ad-96fc-1466289e57e8',\n",
       " '2be39a16-8de5-4b2b-afd8-d0e601791ff2',\n",
       " 'b609a462-cb94-4045-b499-1bc770da2ccc',\n",
       " '30c89dde-56cb-444e-91df-cee70ed6b53c',\n",
       " '83f0a9d1-7d6c-4291-a972-aee98235d15d',\n",
       " 'd0d9844c-8b15-4dea-b795-85785e28107f',\n",
       " '3b529684-3b8c-4dab-86d8-174d1878aee7',\n",
       " 'f55301c2-f440-4884-a88c-8429d604d57b',\n",
       " '8474d28d-b361-4401-9479-2d30878d9698',\n",
       " '92ebca11-b684-4364-93c7-9dc42b6bb8da',\n",
       " '13bf5254-96c8-4b98-a44c-5aad7fc47950',\n",
       " '0c961c87-1632-42eb-881a-9bcd5e0e8f21',\n",
       " '9635dc05-b5a4-43bd-82b3-bf575a73be31',\n",
       " '142b4ca0-1466-4942-9c79-26031925a56f',\n",
       " '5e2f8abe-3ef9-4bd5-b9be-88b5fa69bd14',\n",
       " '75a26c70-0ee6-4459-ae8b-bd94f0d67c24',\n",
       " '442280fd-90ec-43a3-aeb1-e3af0c284fa4',\n",
       " 'c44373d0-ac08-4693-8d5c-6bc5291ab09c',\n",
       " 'd87a8fe7-a41f-4258-8de4-df46ab0882e2',\n",
       " '4790a6b1-2cf2-4d95-b8ff-a19db2f22048',\n",
       " 'c525b240-1595-4e19-adb3-14ca9187d613',\n",
       " '45f07d06-5032-4779-9b54-f8b652044926',\n",
       " '58ddea98-4c39-49d5-b63d-ba505bc156d3',\n",
       " 'f2e7a92b-d633-440e-bccb-b082de693c24',\n",
       " 'c7ccbc1d-7a56-47e7-ba04-a62700f326bb',\n",
       " '186d7c13-75b4-4078-9676-22d73934b458',\n",
       " '0cc29737-b67c-48e8-a64d-6d6df590edf6',\n",
       " '042fd436-e2fe-46fb-b2af-0ea0c01033e1',\n",
       " '0c1a571b-8ca8-4d48-966a-979ebdc61bcb',\n",
       " 'f64908c2-d2dd-44bc-90a9-63f6e3508bd5',\n",
       " 'a8cec62b-cb6b-4986-900d-9399148e2749',\n",
       " '2c5d5771-9392-4d52-80e9-228430bb4518',\n",
       " '13acd998-e849-4e41-b6dd-05b0e5c5b7a0',\n",
       " '29c64f06-dcca-4010-8c13-b66c51fbde03',\n",
       " 'fa7b443a-9f7c-4dd6-91e4-6f92c4b745b5',\n",
       " 'eda9e806-55f4-461b-9824-d0c940382236',\n",
       " '797966a8-130b-4ffb-a547-ae66a46a27aa',\n",
       " 'b2be8b5f-a8c3-4d59-9785-73aa553af92a',\n",
       " 'ae620d6c-f62b-4dc6-80d2-6420a12425f0',\n",
       " '14c7d40c-6072-430a-827d-36aa6b275139',\n",
       " '69f7c93d-12e3-462e-9494-c7b8f35e1e1d',\n",
       " '188ba43b-ed5c-4d30-ae07-e3638ac68521',\n",
       " '850fd32c-7147-4551-8a39-22b7b97cf886',\n",
       " '63ddd557-f362-45f3-a965-ea539977e92f',\n",
       " 'ed26030d-cc55-4e14-a6ce-ee87407916f9',\n",
       " '9ee5668d-4b23-4da3-95f9-d3f421bced34',\n",
       " '2fee8864-4f9c-42fd-b2fd-2a323a09479b',\n",
       " '6b79a9c5-71c9-48e8-bb7d-2a6c5f664a0c',\n",
       " '0bdf0ec5-65aa-4651-924f-a35aadfb549b',\n",
       " '77a754ed-0542-405f-9ea7-997c6cb02e01',\n",
       " '112ec6da-aa64-402d-913d-d131311a5d21',\n",
       " '55e1136a-2e48-4a96-9073-f7e2bd2e8a82',\n",
       " 'cb310903-71d4-4357-9bdb-02c2cc853135',\n",
       " '6999f166-dd67-434f-ba8a-81e3790ef5f7',\n",
       " 'cfabf3cf-c61e-4235-adb3-d4543035a9b4',\n",
       " 'bdb7efec-6d32-484d-9393-53866316842f',\n",
       " '3443f9ff-3149-461e-9d78-ac9bdea218b6',\n",
       " 'c5d86a9f-ba4b-4b80-af8c-9a817a4cfee9',\n",
       " 'd0b89d37-8420-4863-8ce8-969040826a51',\n",
       " '22adb56b-e096-43d2-a88f-3aa6c77e634e',\n",
       " '0536ae12-62aa-4110-a8da-75e9df929cf0',\n",
       " '86da6f8b-756c-4332-a119-e1a892196134',\n",
       " 'd1293e77-0a29-4147-bc8d-94c3bc0ff322',\n",
       " '8843a006-6e73-4f22-a301-676ad739feeb',\n",
       " '69f2d320-ffd2-4145-b245-aed7755902c8',\n",
       " '4959eba7-b620-47c1-98cd-1396a6426a81',\n",
       " 'fffdc015-d9fe-42ca-bc55-a076a62a8359',\n",
       " '10802853-b68d-4821-92c7-47d17daa661d',\n",
       " '8ac62bca-8392-4f6a-aad5-cdba179e29e5',\n",
       " 'ad3bb9f6-4e55-4e78-b8bd-18ae1734c9d0',\n",
       " '4d89c5a7-3442-409b-bf0b-d0e176215e3d',\n",
       " '5bc7763b-85fc-4250-9949-733955578941',\n",
       " 'd2ea577a-f8e2-4d0e-a2a3-e71a6361dafb',\n",
       " '0328868f-fbb3-4f8a-8d87-31ab35cbf58e',\n",
       " '5e901313-f772-4a88-bbd2-a91a42881897',\n",
       " '6ad28bfd-dc99-4474-a4ff-8a2772a9d8d2',\n",
       " 'd9b79b02-88ae-43b9-991e-0f384dac2e59',\n",
       " '87b34429-d077-4865-afba-8c7505dbb608',\n",
       " '92ee3fca-0841-4e39-890e-428cc6d8e01f',\n",
       " '11039d90-8f44-470d-97f3-aa84ba48b8cf',\n",
       " '8ffb74a0-cd72-426c-b48a-8e845074358c',\n",
       " 'fc09df65-f175-4b08-b166-8f69a990cc58',\n",
       " 'e2318794-a220-4c3a-b283-7e88171631ed',\n",
       " '89096af0-2e7a-4fc0-8126-632bae428f45',\n",
       " '1b9c2050-2c66-47ea-8bac-ce05ff7a7fd1',\n",
       " '608ebeec-118d-4bd9-995c-852dbf132f99',\n",
       " '221fa1e0-d416-406d-86dd-c9e871e557ee',\n",
       " 'c54da1f3-3274-4ac4-afed-130c65757981',\n",
       " '25665648-e857-4bb7-aba1-efa316d16798',\n",
       " 'e823c49b-659d-468f-9d8a-89ef7c34fdf6',\n",
       " 'c0b001aa-3ebb-406b-96b9-a633c8c93f36',\n",
       " '8274f0fe-d51f-4854-b65d-cde17cd05565',\n",
       " 'c50fadeb-917e-4e2a-9b79-ff49452fafe6',\n",
       " '0fc35b6f-54b6-460e-9bb1-886ac0cda192',\n",
       " 'b3d7b716-ac0a-4522-a5f1-b39699354acb',\n",
       " '240630b3-f736-4da0-aa55-f2d7f98f1d3e',\n",
       " 'ae9ab96c-da10-4eaa-9648-b15c355dc5b8',\n",
       " 'ea6b2391-73ae-41d4-a508-dc1f325f3b0a',\n",
       " '0e1ceae9-c0f3-4b16-9fcc-6425c5119d05',\n",
       " 'c9c0d1d6-53f5-4a5c-ad54-d79e8aa43c2b',\n",
       " '1de28e6c-211f-440d-b29b-dc02e82dadb0',\n",
       " '3aa21b6f-40b4-423f-b41a-3cd6a5a4c185',\n",
       " '92aecfeb-7048-47d4-9f92-f609aa318d54',\n",
       " 'b664e9d6-fa5f-4c3c-bf49-d5565a1a7b59',\n",
       " 'ec56ca8f-2aa7-4b31-ac7a-2cd3de40ed1e',\n",
       " 'b7b77ff5-437f-4779-9379-b7cb00ca1cd9',\n",
       " '28ab6912-377c-4823-a371-4cd125ed4a71',\n",
       " '271239d3-ca0f-4cb7-b805-c1396b9709cf',\n",
       " '1d8049c8-f1f2-4baf-9d6f-3d47e8daf46e',\n",
       " '037ee54e-7330-46f7-9be4-e37013ba1691',\n",
       " '9d58fdd9-903d-47c9-85d0-baa48d207094',\n",
       " '393fb93e-91a0-4f3b-a037-65769499e92f',\n",
       " '5fa9304a-513e-4a90-ae71-9022b4e6205d',\n",
       " '2c55e416-1a08-4175-906f-96c0d8987a00',\n",
       " '1b4365fb-4cf1-405f-9125-669c50c7677c',\n",
       " 'b660f85c-47f4-49fd-bae3-ce6b4061d33d',\n",
       " '980bd47a-a83f-4729-96af-de41506f3c60',\n",
       " '05b6f09c-f4e0-4c72-b8d3-ad8b3fb115f0',\n",
       " 'aedabfa3-1b37-40ef-bab5-6a13d337b66e',\n",
       " 'fbe9f824-419c-45d8-b4a0-e45b537a168b',\n",
       " 'b38ca841-d14d-4e0d-baa3-32d080e0e53a',\n",
       " '0b3c45ac-20d0-47d5-b0cd-b7a546346462',\n",
       " 'd41b6143-2099-4d19-8839-603149c0b3c0',\n",
       " 'c30b59de-1d97-4e0e-bc87-43a099018889',\n",
       " '9ccf9349-081f-4b07-8009-b5029168dd9e',\n",
       " 'abf7ac67-14e6-4f6f-82be-cd4a114313a6',\n",
       " '2f84934f-295d-4bdf-b95a-3622f0387a16',\n",
       " 'a6ea3c72-16d7-4e8f-bf76-818146df6680',\n",
       " '3db0efe5-1d68-40de-be95-4da5aa8fe5ef',\n",
       " '632dad14-20a6-4463-9f93-24857a034492',\n",
       " '932985ad-3d30-4cc8-b05a-b0ebc241670a',\n",
       " '9b1841bb-4d0a-4dd8-95a2-33812fc76f85',\n",
       " '15884576-4ac4-480b-93ac-a35e2fea6bd7',\n",
       " '2a2be2e8-15e4-4c7a-a47c-905273245225',\n",
       " '7cc813a0-b21c-4f2f-afed-e7bc7829d962',\n",
       " '073847bd-96c7-44de-aa57-790a9e07cf28',\n",
       " '620c21d0-f952-4147-8139-8e61a3b872c7',\n",
       " '6d4178c6-b953-4cb9-9b59-a6ffd694a53c',\n",
       " 'b8b72e32-bb9a-4e75-9754-61b917c3cb73',\n",
       " '36f5dfc6-ff67-4734-a473-a7827fd0b820',\n",
       " '2ffcc24d-c05e-4ae5-853e-e9b60bb006b1',\n",
       " 'd62fc34f-66f6-41b0-895d-36ae7985b4ec',\n",
       " 'db273fc1-0d36-480e-88ad-a5538c0af09e',\n",
       " '1d4ddea7-0494-43d0-8b74-5336426b1b4d',\n",
       " '3d3d4ebd-a944-42e8-b57f-8686f1e9c252',\n",
       " '09769987-2f41-4038-9b7c-36b13525b5c6',\n",
       " 'c8ad222f-c229-4a31-a65d-87953e5173f3',\n",
       " '8d39ba76-5a05-41f3-a0d4-40480510d8e4',\n",
       " '69644e6c-d975-48ce-996b-c778e7d04df7',\n",
       " 'a573f756-1dba-4001-b681-dd3ed25c7e7e',\n",
       " '7730ee9a-6ee5-4702-b60a-5ab207a9c94b',\n",
       " 'cef47f89-16f8-49c8-8da1-9ebb8b4a6076',\n",
       " '164fb7ec-2c56-4289-a51d-0a99489d03fb',\n",
       " 'f1e0360f-bf38-436e-8ae4-52e77bd72e30',\n",
       " '56255ad2-ce94-41a6-8a57-a16423287cd8',\n",
       " '2292cf1c-a5cc-49fb-8286-68022fa19c9f']"
      ]
     },
     "execution_count": 18,
     "metadata": {},
     "output_type": "execute_result"
    }
   ],
   "source": [
    "embeddings = GoogleGenerativeAIEmbeddings(model=\"models/text-embedding-004\", google_api_key=os.getenv('GEMINI_API_KEY'))\n",
    "\n",
    "vector_store = Chroma(\n",
    "    collection_name=\"text_collection\",\n",
    "    embedding_function=embeddings,\n",
    "    persist_directory=\"./chroma\",  # Where to save data locally, remove if not necessary\n",
    ")\n",
    "uuids = [str(uuid4()) for _ in range(len(all_splits))]\n",
    "vector_store.add_documents(documents=all_splits, ids=uuids)"
   ]
  },
  {
   "cell_type": "code",
   "execution_count": 19,
   "id": "8a9f9f5a",
   "metadata": {},
   "outputs": [],
   "source": [
    "results = vector_store.similarity_search(\n",
    "    \"tiktok adult reach\",\n",
    ")"
   ]
  },
  {
   "cell_type": "markdown",
   "id": "e896b866",
   "metadata": {},
   "source": [
    "## Generation"
   ]
  },
  {
   "cell_type": "markdown",
   "id": "b1e675fe",
   "metadata": {},
   "source": [
    "### Prompt Template"
   ]
  },
  {
   "cell_type": "code",
   "execution_count": 20,
   "id": "9c55de58",
   "metadata": {},
   "outputs": [],
   "source": [
    "template = \"\"\"You are a helpful assistant that answers questions about the Digital 2025 Global Overview Report.\n",
    "You are only allowed to use the following pieces of context to formulate your answer. If the answer to the question\n",
    "lies outside of the provided context, simply state that you don't know, and don't try to make up an answer.\n",
    "Use three sentences maximum and keep the answer as concise as possible.\n",
    "\n",
    "Chat History: {chat_history}\n",
    "\n",
    "Question: {question}\n",
    "\n",
    "Contetxt: {context}\n",
    "\n",
    "Helpful Answer:\"\"\"\n",
    "\n",
    "prompt = PromptTemplate.from_template(template)"
   ]
  },
  {
   "cell_type": "code",
   "execution_count": 21,
   "id": "f20ec29d",
   "metadata": {},
   "outputs": [],
   "source": [
    "llm = ChatGoogleGenerativeAI(\n",
    "    model=\"gemini-2.0-flash\",\n",
    "    temperature=0,\n",
    "    max_tokens=None,\n",
    "    timeout=None,\n",
    "    max_retries=2, \n",
    "    google_api_key=os.getenv('GEMINI_API_KEY')\n",
    ")"
   ]
  },
  {
   "cell_type": "code",
   "execution_count": 22,
   "id": "b37fb9df",
   "metadata": {},
   "outputs": [],
   "source": [
    "class State(TypedDict):\n",
    "    question: str\n",
    "    context: List[Document]\n",
    "    chat_history: List[str]\n",
    "    answer: str"
   ]
  },
  {
   "cell_type": "code",
   "execution_count": 23,
   "id": "95a95699",
   "metadata": {},
   "outputs": [],
   "source": [
    "def retrieve(state: State):\n",
    "    retrieved_docs = vector_store.similarity_search(state[\"question\"])\n",
    "    return {\"context\": retrieved_docs}\n",
    "\n",
    "def generate(state: State):\n",
    "    question = state[\"question\"]\n",
    "    context = \"\\n\\n\".join(doc.page_content for doc in state[\"context\"])\n",
    "    chat_history = '\\n'.join(state[\"chat_history\"])\n",
    "    messages = prompt.invoke({\"question\": question, \"context\": context, \"chat_history\": chat_history})\n",
    "    response = llm.invoke(messages)\n",
    "    return {\"answer\": response.content}\n",
    "\n",
    "graph_builder = StateGraph(State).add_sequence([retrieve, generate])\n",
    "graph_builder.add_edge(START, \"retrieve\")\n",
    "graph = graph_builder.compile()"
   ]
  },
  {
   "cell_type": "markdown",
   "id": "05a416c7",
   "metadata": {},
   "source": [
    "## Question/Answer Testing"
   ]
  },
  {
   "cell_type": "markdown",
   "id": "d578acf1",
   "metadata": {},
   "source": [
    "### Question 1"
   ]
  },
  {
   "cell_type": "code",
   "execution_count": 24,
   "id": "5eee81ca",
   "metadata": {},
   "outputs": [
    {
     "name": "stdout",
     "output_type": "stream",
     "text": [
      "Answer: The median cellular data transfer rate in Myanmar has fallen by almost 80 percent over the past 12 months. Mobile users in Myanmar now struggle with a median bandwidth of just 5.09 Mbps.\n"
     ]
    },
    {
     "name": "stderr",
     "output_type": "stream",
     "text": [
      "Failed to send compressed multipart ingest: langsmith.utils.LangSmithError: Failed to POST https://api.smith.langchain.com/runs/multipart in LangSmith API. HTTPError('422 Client Error: unknown for url: https://api.smith.langchain.com/runs/multipart', '{\"error\":\"Unprocessable entity: invalid JSON part for patch.a84b42ef-9a62-43fb-be2d-14799e55df24: could not unmarshal run: unexpected end of JSON input\"}\\n')\n"
     ]
    }
   ],
   "source": [
    "result = graph.invoke({\"question\": \"how has the median cellular data transfer rate in Myanmar changed in the past 12 months?\", \"chat_history\":\"\"})\n",
    "\n",
    "print(f'Answer: {result[\"answer\"]}')"
   ]
  },
  {
   "cell_type": "markdown",
   "id": "dbfbb52e",
   "metadata": {},
   "source": [
    "### Question 2"
   ]
  },
  {
   "cell_type": "code",
   "execution_count": 25,
   "id": "2e3035ba",
   "metadata": {},
   "outputs": [
    {
     "name": "stdout",
     "output_type": "stream",
     "text": [
      "Answer: YouTube ads reach at least 2.53 billion users each month across 88 countries. This figure has increased by 40 million compared to the previous year. However, the numbers hadn't been updated since October at the time of report production.\n"
     ]
    }
   ],
   "source": [
    "result = graph.invoke({\"question\": \"how many users do youtube ads reach each month?\", \"chat_history\":\"\"})\n",
    "\n",
    "print(f'Answer: {result[\"answer\"]}')"
   ]
  },
  {
   "cell_type": "markdown",
   "id": "176862f2",
   "metadata": {},
   "source": [
    "### Question 3"
   ]
  },
  {
   "cell_type": "code",
   "execution_count": 26,
   "id": "900c4f8e",
   "metadata": {},
   "outputs": [
    {
     "name": "stdout",
     "output_type": "stream",
     "text": [
      "Answer: No, older people are less likely to follow meme and parody accounts. The appeal of these accounts drops off quickly as people get older. This category doesn’t even appear in the top ten amongst social media users aged 55 and above.\n"
     ]
    }
   ],
   "source": [
    "result = graph.invoke({\"question\": \"Are older people more likely to follow meme, and parody accounts?\", \"chat_history\":\"\"})\n",
    "\n",
    "print(f'Answer: {result[\"answer\"]}')"
   ]
  },
  {
   "cell_type": "markdown",
   "id": "1688e1c0",
   "metadata": {},
   "source": [
    "### Question 4"
   ]
  },
  {
   "cell_type": "code",
   "execution_count": 27,
   "id": "e87418ae",
   "metadata": {},
   "outputs": [
    {
     "name": "stdout",
     "output_type": "stream",
     "text": [
      "Answer: The data indicates that Facebook remains the world’s second most used social media platform at the start of 2025. Third-party intelligence suggests that the platform still attracts 2.3 billion users to its mobile app each month. Meta’s data suggests that Facebook ads still reach more than 2¼ billion adults each month.\n"
     ]
    }
   ],
   "source": [
    "result = graph.invoke({\"question\": \"some claim that facebook maybe 'dying as a platform, does the data that facebook still attracts users?\", \"chat_history\":\"\"})\n",
    "print(f'Answer: {result[\"answer\"]}')"
   ]
  },
  {
   "cell_type": "markdown",
   "id": "2dd2e1e3",
   "metadata": {},
   "source": [
    "### Question 5"
   ]
  },
  {
   "cell_type": "code",
   "execution_count": 29,
   "id": "594b5b27",
   "metadata": {},
   "outputs": [
    {
     "name": "stdout",
     "output_type": "stream",
     "text": [
      "Answer: The top social platforms for brand research are Instagram, Facebook, and TikTok. Instagram ranks first, with 62.3 percent of its active adult users utilizing the platform for brand and product research. Facebook ranks second at 52.5 percent, and TikTok ranks third at 51.5 percent.\n"
     ]
    }
   ],
   "source": [
    "result = graph.invoke({\"question\": \"what are the top ranking platforms for brand research in 2025?\", \"chat_history\":\"\"})\n",
    "print(f'Answer: {result[\"answer\"]}')"
   ]
  },
  {
   "cell_type": "markdown",
   "id": "217eaab8",
   "metadata": {},
   "source": [
    "## Dialog Flow"
   ]
  },
  {
   "cell_type": "code",
   "execution_count": null,
   "id": "ab37f226",
   "metadata": {},
   "outputs": [],
   "source": []
  },
  {
   "cell_type": "code",
   "execution_count": null,
   "id": "e98155a8",
   "metadata": {},
   "outputs": [
    {
     "name": "stdout",
     "output_type": "stream",
     "text": [
      "Hello, i am here to help you answer your questions about the Digital 2025 Global Overview Report. How may i help you?\n",
      "\n"
     ]
    }
   ],
   "source": [
    "def dialog():\n",
    "    print(\"Hello, i am here to help you answer your questions about the Digital 2025 Global Overview Report. How may i help you?\\n\")\n",
    "    chat_history = []\n",
    "    while True:\n",
    "        prompt = input(\"prompt: \")\n",
    "        result = graph.invoke({\"question\": \"what are the top ranking platforms for brand research in 2025?\", \"chat_history\":chat_history})\n",
    "        print(f'Answer: {result[\"answer\"]}')\n",
    "        print(\"Do you have any more questions? (Y/N)\")\n",
    "        exit_dialog = input(\"continue? \")\n",
    "        if exit_dialog.lower() == 'n':\n",
    "            break\n",
    "        chat_history.append(\"prompt: \" + prompt + \"\\nanswer: \" + result[\"answer\"])\n",
    "    pass\n",
    "\n",
    "dialog()"
   ]
  },
  {
   "cell_type": "markdown",
   "id": "51a03162",
   "metadata": {},
   "source": [
    "## Langsmith Link:\n",
    "https://smith.langchain.com/o/c4e1bf8b-29f8-4eb7-ba10-63a709b30eb0/"
   ]
  }
 ],
 "metadata": {
  "colab": {
   "provenance": []
  },
  "kernelspec": {
   "display_name": ".venv",
   "language": "python",
   "name": "python3"
  },
  "language_info": {
   "codemirror_mode": {
    "name": "ipython",
    "version": 3
   },
   "file_extension": ".py",
   "mimetype": "text/x-python",
   "name": "python",
   "nbconvert_exporter": "python",
   "pygments_lexer": "ipython3",
   "version": "3.13.3"
  }
 },
 "nbformat": 4,
 "nbformat_minor": 5
}
