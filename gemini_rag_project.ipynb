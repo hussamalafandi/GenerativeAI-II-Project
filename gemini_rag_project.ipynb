{
  "nbformat": 4,
  "nbformat_minor": 0,
  "metadata": {
    "colab": {
      "provenance": []
    },
    "kernelspec": {
      "name": "python3",
      "display_name": "Python 3"
    },
    "language_info": {
      "name": "python"
    }
  },
  "cells": [
    {
      "cell_type": "markdown",
      "source": [
        "**📚 RAG-System mit LangChain, ChromaDB und Gemini 2**\n",
        "\n",
        "---\n",
        "\n",
        "Dieses Notebook implementiert ein einfaches Retrieval-Augmented Generation (RAG) System.\n",
        "Es verwendet ChromaDB zur Dokumentenspeicherung, LangChain für Workflow-Management und das Modell gemini-2.0-flash.\n",
        "Das System lädt ein Dokument, unterteilt es in kleinere Chunks, speichert sie in einer Vektor-Datenbank\n",
        "und nutzt Google Gemini zur Generierung von Antworten auf benutzerdefinierte Fragen unter Berücksichtigung von Kontext und vorherigen Gesprächen.`\n",
        "\n",
        "---"
      ],
      "metadata": {
        "id": "-QBFFuU0X8of"
      }
    },
    {
      "cell_type": "markdown",
      "source": [
        " ✅ Installieren aller Abhängigkeiten.Zuerst installieren wir alle notwendigen Bibliotheken, die für das RAG-System benötigt werden.Dazu gehören LangChain, LangChain Community, Google Gemini und ChromaDB.\n",
        "---\n",
        "\n",
        "\n",
        "\n"
      ],
      "metadata": {
        "id": "pibdF3VVYkrm"
      }
    },
    {
      "cell_type": "code",
      "source": [
        "!pip uninstall -y google-generativeai\n",
        "!pip install -q langchain-google-genai==2.1.4 google-ai-generativelanguage==0.6.18\n"
      ],
      "metadata": {
        "colab": {
          "base_uri": "https://localhost:8080/"
        },
        "id": "qDFCVrgDSfFZ",
        "outputId": "23c882c4-e331-4279-85a8-c9a2d900c3a5"
      },
      "execution_count": 3,
      "outputs": [
        {
          "output_type": "stream",
          "name": "stdout",
          "text": [
            "Found existing installation: google-generativeai 0.8.5\n",
            "Uninstalling google-generativeai-0.8.5:\n",
            "  Successfully uninstalled google-generativeai-0.8.5\n"
          ]
        }
      ]
    },
    {
      "cell_type": "markdown",
      "source": [],
      "metadata": {
        "id": "pDqp-yU9b3dx"
      }
    },
    {
      "cell_type": "code",
      "source": [
        "!pip install -q langchain langchain-community langchain-google-genai langgraph chromadb"
      ],
      "metadata": {
        "id": "wt6ZQEqLSlgE"
      },
      "execution_count": 4,
      "outputs": []
    },
    {
      "cell_type": "markdown",
      "source": [
        "✅ Bibliotheken importieren.In diesem Abschnitt importieren wir alle erforderlichen Bibliotheken.Dies umfasst LangChain für die Dokumentenverarbeitung, Google Gemini für das Modell, und ChromaDB für die Speicherung und den Abruf von Vektor-Daten.\n",
        "---"
      ],
      "metadata": {
        "id": "OehbSpWSYyM5"
      }
    },
    {
      "cell_type": "code",
      "source": [
        "import os\n",
        "from getpass import getpass\n",
        "from langchain_community.document_loaders import WebBaseLoader\n",
        "from langchain.text_splitter import RecursiveCharacterTextSplitter\n",
        "from langchain.vectorstores import Chroma\n",
        "from langchain.memory import ConversationBufferMemory\n",
        "from langchain_google_genai import ChatGoogleGenerativeAI\n",
        "from langchain.chains import ConversationalRetrievalChain\n",
        "from langchain_community.embeddings import HuggingFaceEmbeddings\n",
        "from langchain.memory.chat_message_histories import FileChatMessageHistory\n",
        "from langchain.retrievers.multi_query import MultiQueryRetriever\n",
        "from langchain.callbacks.tracers import LangChainTracer\n",
        "from langchain_core.documents import Document\n",
        "from langgraph.graph import START, StateGraph\n",
        "from typing_extensions import TypedDict, List\n",
        "from langchain import hub"
      ],
      "metadata": {
        "colab": {
          "base_uri": "https://localhost:8080/"
        },
        "id": "VrZm8r2IStag",
        "outputId": "7d01bd08-5e85-4550-bd46-54842fb42fa2"
      },
      "execution_count": 5,
      "outputs": [
        {
          "output_type": "stream",
          "name": "stderr",
          "text": [
            "WARNING:langchain_community.utils.user_agent:USER_AGENT environment variable not set, consider setting it to identify your requests.\n"
          ]
        }
      ]
    },
    {
      "cell_type": "markdown",
      "source": [
        "✅ Einstellen der Umgebungsvariablen.Hier setzen wir die Umgebungsvariablen für die API-Schlüssel von LangChain und Google Gemini.Diese Schlüssel werden benötigt, um die Funktionen des Systems zu aktivieren.\n",
        "---"
      ],
      "metadata": {
        "id": "Bpq2n82BY8eD"
      }
    },
    {
      "cell_type": "code",
      "source": [
        "os.environ[\"LANGCHAIN_API_KEY\"] = getpass(\"🔑LangSmith API Key: \")\n",
        "os.environ[\"LANGCHAIN_PROJECT\"] = \"RAG.2025\"\n",
        "os.environ[\"LANGCHAIN_TRACING_V2\"] = \"true\"\n",
        "os.environ[\"GOOGLE_API_KEY\"] = getpass(\"🔑API Key (Gemini): \")\n",
        "os.environ[\"USER_AGENT\"] = \"Mozilla/5.0 (Windows NT 10.0; Win64; x64) Chrome/123.0.0.0 Safari/537.36\""
      ],
      "metadata": {
        "colab": {
          "base_uri": "https://localhost:8080/"
        },
        "id": "sxqZrZr1TJTq",
        "outputId": "2ac313bd-44ac-431d-94e6-238f364ef7a3"
      },
      "execution_count": 7,
      "outputs": [
        {
          "name": "stdout",
          "output_type": "stream",
          "text": [
            "🔑LangSmith API Key: ··········\n",
            "🔑API Key (Gemini): ··········\n"
          ]
        }
      ]
    },
    {
      "cell_type": "markdown",
      "source": [
        "✅ Laden des Dokuments (nach August 2024).In diesem Schritt laden wir das Dokument von der angegebenen URL und extrahieren den Text.Die URL verweist auf eine Seite, die Informationen zum rückläufigen Mars in der Astrologie enthält.\n",
        "---"
      ],
      "metadata": {
        "id": "BbLbypyvZFBo"
      }
    },
    {
      "cell_type": "code",
      "source": [
        "url = \"https://www.astromind.de/astrologie-artikel/r%C3%BCcklaeufiger-mars.html\"\n",
        "loader = WebBaseLoader(url)\n",
        "documents = loader.load()\n"
      ],
      "metadata": {
        "id": "il4-tFi0TU0a"
      },
      "execution_count": 13,
      "outputs": []
    },
    {
      "cell_type": "markdown",
      "source": [
        "✅ Dokument in Chunks aufteilen.Um das Dokument effizient zu verarbeiten und die Antwortqualität zu verbessern, teilen wir es in kleinere Chunks auf.Dies erleichtert das Abrufen relevanter Informationen für spezifische Anfragen.\n",
        "---"
      ],
      "metadata": {
        "id": "ImlRw9BUZezH"
      }
    },
    {
      "cell_type": "code",
      "source": [
        "splitter = RecursiveCharacterTextSplitter(chunk_size=500, chunk_overlap=100)\n",
        "chunks = splitter.split_documents(documents)\n",
        "print(f\"🔹 Сhunks: {len(chunks)}\")\n"
      ],
      "metadata": {
        "colab": {
          "base_uri": "https://localhost:8080/"
        },
        "id": "iY2SSZYxTbS-",
        "outputId": "a6fcd560-d347-42f0-b634-110d33a8ba26"
      },
      "execution_count": 14,
      "outputs": [
        {
          "output_type": "stream",
          "name": "stdout",
          "text": [
            "🔹 Сhunks: 53\n"
          ]
        }
      ]
    },
    {
      "cell_type": "markdown",
      "source": [
        "✅ Vektorisierung und Speicherung.Hier vektorisieren wir die Chunks des Dokuments mit einem vortrainierten Modell von HuggingFace.Anschließend speichern wir die Vektoren in einer Chroma-Datenbank, die als persistente Speicherung dient.\n",
        "---"
      ],
      "metadata": {
        "id": "X1bBghXMZqIs"
      }
    },
    {
      "cell_type": "code",
      "source": [
        "embedding = HuggingFaceEmbeddings(model_name=\"sentence-transformers/all-mpnet-base-v2\")\n",
        "persist_directory = \"chroma_db\"\n",
        "\n",
        "if os.path.exists(persist_directory) and os.listdir(persist_directory):\n",
        "    vectorstore = Chroma(persist_directory=persist_directory, embedding_function=embedding)   # Wenn die Chroma-Datenbank bereits existiert, laden wir sie.\n",
        "else:\n",
        "    vectorstore = Chroma.from_documents(documents=chunks, embedding=embedding, persist_directory=persist_directory) # Ansonsten erstellen wir die Chroma-Datenbank und speichern die Vektoren.\n",
        "    vectorstore.persist()\n"
      ],
      "metadata": {
        "id": "42UvnYLcU4ql"
      },
      "execution_count": 28,
      "outputs": []
    },
    {
      "cell_type": "markdown",
      "source": [
        "✅ Einrichtung der Speicher- und Tracking-Funktionen.In diesem Schritt richten wir die Speicherung des Chat-Verlaufs und die Tracking-Funktion ein,die es uns ermöglicht, die Anfragen und Antworten in unserem RAG-System nachzuverfolgen.\n",
        "---"
      ],
      "metadata": {
        "id": "Esj2J8JDaDjG"
      }
    },
    {
      "cell_type": "code",
      "source": [
        "from langchain.memory import ConversationBufferMemory\n",
        "from langchain.memory.chat_message_histories import FileChatMessageHistory\n",
        "\n",
        "# Создание и настройка памяти\n",
        "message_history = FileChatMessageHistory(\"chat_history.json\")\n",
        "\n",
        "memory = ConversationBufferMemory(\n",
        "    memory_key=\"chat_history\",\n",
        "    chat_memory=message_history,\n",
        "    return_messages=True\n",
        ")\n"
      ],
      "metadata": {
        "id": "R70XbMq-VE3J"
      },
      "execution_count": 20,
      "outputs": []
    },
    {
      "cell_type": "markdown",
      "source": [
        "✅ Einrichtung des Modells und Retrievers.Wir konfigurieren das generative Modell von Google (Gemini) und den Multi-Query Retriever,der mehrere verwandte Dokumente für jede Anfrage abruft, um genauere Antworten zu generieren.\n",
        "---"
      ],
      "metadata": {
        "id": "EB24tO0maRo6"
      }
    },
    {
      "cell_type": "code",
      "source": [
        "llm = ChatGoogleGenerativeAI(model=\"gemini-2.0-flash\")\n",
        "\n",
        "multi_query_retriever = MultiQueryRetriever.from_llm(\n",
        "    retriever=vectorstore.as_retriever(),\n",
        "    llm=llm\n",
        ")"
      ],
      "metadata": {
        "id": "f6_s5-w4VVvJ"
      },
      "execution_count": 21,
      "outputs": []
    },
    {
      "cell_type": "markdown",
      "source": [
        "✅ Abrufen des Prompts aus LangChain Hub.Hier rufen wir das Prompt aus dem LangChain Hub ab, das als Vorlage für das Generieren von Antworten dient.\n",
        "---"
      ],
      "metadata": {
        "id": "NvZ7ZjBXaZsL"
      }
    },
    {
      "cell_type": "code",
      "source": [
        "prompt = hub.pull(\"rlm/rag-prompt\")"
      ],
      "metadata": {
        "id": "WIwXn6oiVgYF"
      },
      "execution_count": 22,
      "outputs": []
    },
    {
      "cell_type": "markdown",
      "source": [
        " ✅ Definition des Zustands und der Funktionen.Wir definieren den Zustand des Systems und zwei Funktionen:- \"retrieve\" zum Abrufen relevanter Dokumente.- \"generate\" zur Generierung der Antwort unter Verwendung des Modells und der gespeicherten Kontexte.\n",
        " ---"
      ],
      "metadata": {
        "id": "DgLX9up5ahum"
      }
    },
    {
      "cell_type": "code",
      "source": [
        "\n",
        "class State(TypedDict):\n",
        "    question: str\n",
        "    context: List[Document]\n",
        "    answer: str\n",
        "\n",
        "def retrieve(state: State):\n",
        "    docs = multi_query_retriever.get_relevant_documents(state[\"question\"])\n",
        "    return {\"context\": docs}\n",
        "\n",
        "def generate(state: State):\n",
        "    history = memory.load_memory_variables({})[\"chat_history\"]\n",
        "    custom_instruction = \"Antworte auf Deutsch.\"\n",
        "    docs_content = \"\\n\\n\".join(doc.page_content for doc in state[\"context\"])\n",
        "    full_context = f\"{custom_instruction}\\n\\n{history}\\n\\nDokumente:\\n{docs_content}\"\n",
        "    messages = prompt.invoke({\"question\": state[\"question\"], \"context\": full_context})    # Abrufen der Antwort mit dem generativen Modell\n",
        "    response = llm.invoke(messages, config={\"callbacks\": [tracer]})\n",
        "    memory.save_context(inputs={\"input\": state[\"question\"]}, outputs={\"output\": response.content})    # Speichern der Antwort im Verlauf\n",
        "    return {\"answer\": response.content}"
      ],
      "metadata": {
        "id": "fiHLvBgzVkF3"
      },
      "execution_count": 30,
      "outputs": []
    },
    {
      "cell_type": "markdown",
      "source": [
        "✅ Erstellen des Zustandsgraphen.Wir bauen den Graphen für die Zustandsübergänge, wobei wir die Funktionen \"retrieve\" und \"generate\" verknüpfen.\n",
        "---"
      ],
      "metadata": {
        "id": "CdWFRcPXa_X1"
      }
    },
    {
      "cell_type": "code",
      "source": [
        "graph_builder = StateGraph(State).add_sequence([retrieve, generate])\n",
        "graph_builder.add_edge(START, \"retrieve\")\n",
        "graph = graph_builder.compile()"
      ],
      "metadata": {
        "id": "iKg41clWVqul"
      },
      "execution_count": 31,
      "outputs": []
    },
    {
      "cell_type": "markdown",
      "source": [
        "✅ Beispiel für die Ausführung.In diesem Beispiel stellen wir eine Frage an das System und generieren die Antwort basierend auf dem Kontext.\n",
        "---"
      ],
      "metadata": {
        "id": "p4cK1Gc_bNMd"
      }
    },
    {
      "cell_type": "code",
      "source": [
        "# ✅ Пример запуска\n",
        "state = {\"question\": \"Was bedeutet ein rückläufiger Mars?\"}\n",
        "result = graph.invoke(state)\n",
        "print(\"📍Antwort:\", result[\"answer\"])"
      ],
      "metadata": {
        "colab": {
          "base_uri": "https://localhost:8080/"
        },
        "id": "X7WNt1g7VuDv",
        "outputId": "d7d7ff37-1f58-4110-bd95-9879da7f1e10"
      },
      "execution_count": 26,
      "outputs": [
        {
          "output_type": "stream",
          "name": "stdout",
          "text": [
            "📍Antwort: Ein rückläufiger Mars bedeutet, dass der Planet von der Erde aus betrachtet rückwärts durch den Himmel zu wandern scheint. In der Astrologie wird dies als eine Zeit beschrieben, in der die Energie des Planeten nach innen gelenkt wird. Für Mars, der normalerweise für Antrieb, Mut und Tatendrang steht, kann das bedeuten, dass man verlangsamt wird und vor unüberlegten Entscheidungen geschützt wird.\n"
          ]
        }
      ]
    },
    {
      "cell_type": "markdown",
      "source": [
        "✅Beispiel-Dialog\n",
        "----"
      ],
      "metadata": {
        "id": "dDZVdPtIbZfp"
      }
    },
    {
      "cell_type": "code",
      "source": [
        "questions = [\n",
        "    \"Warum ist das bedeutsam für den Jahresbeginn?\",\n",
        "    \"Was sollte man bei der Planung von Aktivitäten während des rückläufigen Mars beachten?\",\n",
        "    \"Welche Empfehlungen gibt die Astrologie, um die negativen Effekte des rückläufigen Mars zu minimieren?\",\n",
        "    \"Wie beeinflusst der rückläufige Mars das Privatleben?\",\n",
        "    \"Welche Fehler sollte man während des rückläufigen Mars vermeiden?\"\n",
        "]\n",
        "\n",
        "for q in questions:\n",
        "    result = graph.invoke({\"question\": q})\n",
        "    print(f\"❓ Frage: {q}\")\n",
        "    print(f\"✅ Antwort: {result['answer']}\\n{'-'*80}\")"
      ],
      "metadata": {
        "colab": {
          "base_uri": "https://localhost:8080/"
        },
        "id": "CRPgYSf9WSb3",
        "outputId": "0d626e05-28c3-40d8-9b69-19d09c9f88ed"
      },
      "execution_count": 27,
      "outputs": [
        {
          "output_type": "stream",
          "name": "stdout",
          "text": [
            "❓ Frage: Warum ist das bedeutsam für den Jahresbeginn?\n",
            "✅ Antwort: Der rückläufige Mars zu Jahresbeginn 2025 bedeutet, dass man nicht überstürzt mit neuen Ideen ins Jahr starten sollte. Es ist eine Zeit, um Altes loszulassen und Klarheit darüber zu gewinnen, was man wirklich will. Dies schützt vor unüberlegten Entscheidungen und ermöglicht es, sich auf das Wesentliche zu konzentrieren.\n",
            "--------------------------------------------------------------------------------\n",
            "❓ Frage: Was sollte man bei der Planung von Aktivitäten während des rückläufigen Mars beachten?\n",
            "✅ Antwort: Während des rückläufigen Mars sollte man es vermeiden, überstürzt mit neuen Ideen zu starten und sich stattdessen darauf konzentrieren, Altes loszulassen und Klarheit zu gewinnen. Man sollte sich innerlich flexibel halten und offen für Veränderungen sein, falls man in dieser Zeit mit etwas Neuem beginnen muss. Es ist ratsam, innovative Vorhaben aufzuschieben, bis die Phase des rückläufigen Mars vorbei ist.\n",
            "--------------------------------------------------------------------------------\n",
            "❓ Frage: Welche Empfehlungen gibt die Astrologie, um die negativen Effekte des rückläufigen Mars zu minimieren?\n",
            "✅ Antwort: Die Astrologie empfiehlt, während des rückläufigen Mars keine überstürzten neuen Ideen zu beginnen, sondern sich darauf zu konzentrieren, Altes loszulassen und Klarheit zu gewinnen. Es wird geraten, sich innerlich flexibel zu halten und innovative Vorhaben aufzuschieben, bis die Phase vorbei ist. Dies soll vor unüberlegten Entscheidungen schützen und ermöglichen, sich auf das Wesentliche zu konzentrieren.\n",
            "--------------------------------------------------------------------------------\n",
            "❓ Frage: Wie beeinflusst der rückläufige Mars das Privatleben?\n",
            "✅ Antwort: Der bereitgestellte Kontext enthält keine spezifischen Informationen darüber, wie ein rückläufiger Mars das Privatleben beeinflusst. Es wird lediglich beschrieben, dass ein rückläufiger Mars die Energie des Planeten nach innen lenkt und vor unüberlegten Entscheidungen schützt. Dies kann dazu beitragen, Klarheit darüber zu gewinnen, was man wirklich will.\n",
            "--------------------------------------------------------------------------------\n",
            "❓ Frage: Welche Fehler sollte man während des rückläufigen Mars vermeiden?\n",
            "✅ Antwort: Während des rückläufigen Mars sollte man es vermeiden, überstürzt mit neuen Ideen zu starten. Konzentriere dich stattdessen darauf, Altes loszulassen und Klarheit zu gewinnen. Es ist ratsam, innovative Vorhaben aufzuschieben, bis die Phase des rückläufigen Mars vorbei ist.\n",
            "--------------------------------------------------------------------------------\n"
          ]
        }
      ]
    }
  ]
}