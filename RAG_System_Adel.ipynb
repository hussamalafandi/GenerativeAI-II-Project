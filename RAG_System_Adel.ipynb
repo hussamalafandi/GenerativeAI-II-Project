{
  "nbformat": 4,
  "nbformat_minor": 0,
  "metadata": {
    "colab": {
      "provenance": [],
      "gpuType": "T4"
    },
    "kernelspec": {
      "name": "python3",
      "display_name": "Python 3"
    },
    "language_info": {
      "name": "python"
    },
    "accelerator": "GPU"
  },
  "cells": [
    {
      "cell_type": "markdown",
      "source": [
        "# Retrieval-Augmented Generation (RAG)"
      ],
      "metadata": {
        "id": "TpZbRl8q2ZFT"
      }
    },
    {
      "cell_type": "markdown",
      "source": [
        "1. Installation"
      ],
      "metadata": {
        "id": "CYctipMc2wv0"
      }
    },
    {
      "cell_type": "code",
      "source": [
        "%pip install --quiet --upgrade langchain-text-splitters langchain-community langgraph\n",
        "\n"
      ],
      "metadata": {
        "id": "Bv4phvmg2ZnH"
      },
      "execution_count": 1,
      "outputs": []
    },
    {
      "cell_type": "markdown",
      "source": [
        " 2. API-Keys und Umgebungsvariablen"
      ],
      "metadata": {
        "id": "aHTJzfLe51d3"
      }
    },
    {
      "cell_type": "code",
      "source": [
        "import getpass\n",
        "import os\n",
        "from google.colab import userdata\n",
        "\n",
        "os.environ[\"LANGSMITH_TRACING\"] = \"true\"\n",
        "os.environ[\"LANGSMITH_API_KEY\"] =  userdata.get('LANGSMITH_API_KEY')\n",
        "os.environ[\"GOOGLE_API_KEY\"] = userdata.get('GOOGLE_API_KEY')\n",
        "os.environ[\"HF_TOKEN\"] = userdata.get('HF_TOKEN')"
      ],
      "metadata": {
        "id": "-929-Ris2jX3"
      },
      "execution_count": 2,
      "outputs": []
    },
    {
      "cell_type": "markdown",
      "source": [
        "3. Chat models"
      ],
      "metadata": {
        "id": "KnIkxYJtGB16"
      }
    },
    {
      "cell_type": "code",
      "source": [
        "!pip install -qU \"langchain[google-genai]\""
      ],
      "metadata": {
        "id": "ZeSSf-gR4z14"
      },
      "execution_count": 3,
      "outputs": []
    },
    {
      "cell_type": "code",
      "source": [
        "from langchain.chat_models import init_chat_model\n",
        "\n",
        "model = init_chat_model(\"gemini-2.0-flash\", model_provider=\"google_genai\")"
      ],
      "metadata": {
        "id": "6jiJjl-UF3GB"
      },
      "execution_count": 4,
      "outputs": []
    },
    {
      "cell_type": "markdown",
      "source": [
        "4.  embeddings model"
      ],
      "metadata": {
        "id": "_mtO0eHHHKlR"
      }
    },
    {
      "cell_type": "code",
      "source": [
        "!pip install -qU langchain-huggingface"
      ],
      "metadata": {
        "id": "K1QEVdCwGE_l"
      },
      "execution_count": 5,
      "outputs": []
    },
    {
      "cell_type": "code",
      "source": [
        "from langchain_huggingface import HuggingFaceEmbeddings\n",
        "\n",
        "embeddings = HuggingFaceEmbeddings(model_name=\"sentence-transformers/all-mpnet-base-v2\")"
      ],
      "metadata": {
        "id": "Jzr44AmPHJLt"
      },
      "execution_count": 6,
      "outputs": []
    },
    {
      "cell_type": "markdown",
      "source": [
        "5. store model"
      ],
      "metadata": {
        "id": "oSFDyWbMJUjy"
      }
    },
    {
      "cell_type": "code",
      "source": [
        "\n",
        "!pip uninstall -y opentelemetry-sdk opentelemetry-exporter-otlp-proto-grpc opentelemetry-util opentelemetry-instrumentation chromadb langchain_chroma\n",
        "\n",
        "#  Neu installieren: chromadb und kompatible opentelemetry\n",
        "!pip install -U \"chromadb>=0.4.24\" \"opentelemetry-sdk==1.33.0\" \"opentelemetry-api==1.33.0\" \"opentelemetry-exporter-otlp-proto-grpc==1.33.0\"\n",
        "\n",
        "# ✅Dann installiere langchain und langchain_chroma separat\n",
        "!pip install -U langchain langchain-chroma\n"
      ],
      "metadata": {
        "colab": {
          "base_uri": "https://localhost:8080/"
        },
        "id": "Gi4T-p_JDF70",
        "outputId": "310a94a7-3670-40e9-a8d7-ff702b8b5de3",
        "collapsed": true
      },
      "execution_count": 7,
      "outputs": [
        {
          "output_type": "stream",
          "name": "stdout",
          "text": [
            "Found existing installation: opentelemetry-sdk 1.33.0\n",
            "Uninstalling opentelemetry-sdk-1.33.0:\n",
            "  Successfully uninstalled opentelemetry-sdk-1.33.0\n",
            "Found existing installation: opentelemetry-exporter-otlp-proto-grpc 1.33.0\n",
            "Uninstalling opentelemetry-exporter-otlp-proto-grpc-1.33.0:\n",
            "  Successfully uninstalled opentelemetry-exporter-otlp-proto-grpc-1.33.0\n",
            "\u001b[33mWARNING: Skipping opentelemetry-util as it is not installed.\u001b[0m\u001b[33m\n",
            "\u001b[0mFound existing installation: opentelemetry-instrumentation 0.54b0\n",
            "Uninstalling opentelemetry-instrumentation-0.54b0:\n",
            "  Successfully uninstalled opentelemetry-instrumentation-0.54b0\n",
            "Found existing installation: chromadb 0.6.3\n",
            "Uninstalling chromadb-0.6.3:\n",
            "  Successfully uninstalled chromadb-0.6.3\n",
            "Found existing installation: langchain-chroma 0.2.3\n",
            "Uninstalling langchain-chroma-0.2.3:\n",
            "  Successfully uninstalled langchain-chroma-0.2.3\n",
            "Collecting chromadb>=0.4.24\n",
            "  Using cached chromadb-1.0.8-cp39-abi3-manylinux_2_17_x86_64.manylinux2014_x86_64.whl.metadata (6.9 kB)\n",
            "Collecting opentelemetry-sdk==1.33.0\n",
            "  Using cached opentelemetry_sdk-1.33.0-py3-none-any.whl.metadata (1.6 kB)\n",
            "Requirement already satisfied: opentelemetry-api==1.33.0 in /usr/local/lib/python3.11/dist-packages (1.33.0)\n",
            "Collecting opentelemetry-exporter-otlp-proto-grpc==1.33.0\n",
            "  Using cached opentelemetry_exporter_otlp_proto_grpc-1.33.0-py3-none-any.whl.metadata (2.5 kB)\n",
            "Requirement already satisfied: opentelemetry-semantic-conventions==0.54b0 in /usr/local/lib/python3.11/dist-packages (from opentelemetry-sdk==1.33.0) (0.54b0)\n",
            "Requirement already satisfied: typing-extensions>=3.7.4 in /usr/local/lib/python3.11/dist-packages (from opentelemetry-sdk==1.33.0) (4.13.2)\n",
            "Requirement already satisfied: deprecated>=1.2.6 in /usr/local/lib/python3.11/dist-packages (from opentelemetry-api==1.33.0) (1.2.18)\n",
            "Requirement already satisfied: importlib-metadata<8.7.0,>=6.0 in /usr/local/lib/python3.11/dist-packages (from opentelemetry-api==1.33.0) (8.6.1)\n",
            "Requirement already satisfied: googleapis-common-protos~=1.52 in /usr/local/lib/python3.11/dist-packages (from opentelemetry-exporter-otlp-proto-grpc==1.33.0) (1.70.0)\n",
            "Requirement already satisfied: grpcio<2.0.0,>=1.63.2 in /usr/local/lib/python3.11/dist-packages (from opentelemetry-exporter-otlp-proto-grpc==1.33.0) (1.71.0)\n",
            "Requirement already satisfied: opentelemetry-exporter-otlp-proto-common==1.33.0 in /usr/local/lib/python3.11/dist-packages (from opentelemetry-exporter-otlp-proto-grpc==1.33.0) (1.33.0)\n",
            "Requirement already satisfied: opentelemetry-proto==1.33.0 in /usr/local/lib/python3.11/dist-packages (from opentelemetry-exporter-otlp-proto-grpc==1.33.0) (1.33.0)\n",
            "Requirement already satisfied: protobuf<6.0,>=5.0 in /usr/local/lib/python3.11/dist-packages (from opentelemetry-proto==1.33.0->opentelemetry-exporter-otlp-proto-grpc==1.33.0) (5.29.4)\n",
            "Requirement already satisfied: build>=1.0.3 in /usr/local/lib/python3.11/dist-packages (from chromadb>=0.4.24) (1.2.2.post1)\n",
            "Requirement already satisfied: pydantic>=1.9 in /usr/local/lib/python3.11/dist-packages (from chromadb>=0.4.24) (2.11.4)\n",
            "Requirement already satisfied: fastapi==0.115.9 in /usr/local/lib/python3.11/dist-packages (from chromadb>=0.4.24) (0.115.9)\n",
            "Requirement already satisfied: uvicorn>=0.18.3 in /usr/local/lib/python3.11/dist-packages (from uvicorn[standard]>=0.18.3->chromadb>=0.4.24) (0.34.2)\n",
            "Requirement already satisfied: numpy>=1.22.5 in /usr/local/lib/python3.11/dist-packages (from chromadb>=0.4.24) (2.0.2)\n",
            "Requirement already satisfied: posthog>=2.4.0 in /usr/local/lib/python3.11/dist-packages (from chromadb>=0.4.24) (4.0.1)\n",
            "Requirement already satisfied: onnxruntime>=1.14.1 in /usr/local/lib/python3.11/dist-packages (from chromadb>=0.4.24) (1.22.0)\n",
            "Requirement already satisfied: opentelemetry-instrumentation-fastapi>=0.41b0 in /usr/local/lib/python3.11/dist-packages (from chromadb>=0.4.24) (0.54b0)\n",
            "Requirement already satisfied: tokenizers>=0.13.2 in /usr/local/lib/python3.11/dist-packages (from chromadb>=0.4.24) (0.21.1)\n",
            "Requirement already satisfied: pypika>=0.48.9 in /usr/local/lib/python3.11/dist-packages (from chromadb>=0.4.24) (0.48.9)\n",
            "Requirement already satisfied: tqdm>=4.65.0 in /usr/local/lib/python3.11/dist-packages (from chromadb>=0.4.24) (4.67.1)\n",
            "Requirement already satisfied: overrides>=7.3.1 in /usr/local/lib/python3.11/dist-packages (from chromadb>=0.4.24) (7.7.0)\n",
            "Requirement already satisfied: importlib-resources in /usr/local/lib/python3.11/dist-packages (from chromadb>=0.4.24) (6.5.2)\n",
            "Requirement already satisfied: bcrypt>=4.0.1 in /usr/local/lib/python3.11/dist-packages (from chromadb>=0.4.24) (4.3.0)\n",
            "Requirement already satisfied: typer>=0.9.0 in /usr/local/lib/python3.11/dist-packages (from chromadb>=0.4.24) (0.15.3)\n",
            "Requirement already satisfied: kubernetes>=28.1.0 in /usr/local/lib/python3.11/dist-packages (from chromadb>=0.4.24) (32.0.1)\n",
            "Requirement already satisfied: tenacity>=8.2.3 in /usr/local/lib/python3.11/dist-packages (from chromadb>=0.4.24) (9.1.2)\n",
            "Requirement already satisfied: pyyaml>=6.0.0 in /usr/local/lib/python3.11/dist-packages (from chromadb>=0.4.24) (6.0.2)\n",
            "Requirement already satisfied: mmh3>=4.0.1 in /usr/local/lib/python3.11/dist-packages (from chromadb>=0.4.24) (5.1.0)\n",
            "Requirement already satisfied: orjson>=3.9.12 in /usr/local/lib/python3.11/dist-packages (from chromadb>=0.4.24) (3.10.18)\n",
            "Requirement already satisfied: httpx>=0.27.0 in /usr/local/lib/python3.11/dist-packages (from chromadb>=0.4.24) (0.28.1)\n",
            "Requirement already satisfied: rich>=10.11.0 in /usr/local/lib/python3.11/dist-packages (from chromadb>=0.4.24) (13.9.4)\n",
            "Requirement already satisfied: jsonschema>=4.19.0 in /usr/local/lib/python3.11/dist-packages (from chromadb>=0.4.24) (4.23.0)\n",
            "Requirement already satisfied: starlette<0.46.0,>=0.40.0 in /usr/local/lib/python3.11/dist-packages (from fastapi==0.115.9->chromadb>=0.4.24) (0.45.3)\n",
            "Requirement already satisfied: packaging>=19.1 in /usr/local/lib/python3.11/dist-packages (from build>=1.0.3->chromadb>=0.4.24) (24.2)\n",
            "Requirement already satisfied: pyproject_hooks in /usr/local/lib/python3.11/dist-packages (from build>=1.0.3->chromadb>=0.4.24) (1.2.0)\n",
            "Requirement already satisfied: wrapt<2,>=1.10 in /usr/local/lib/python3.11/dist-packages (from deprecated>=1.2.6->opentelemetry-api==1.33.0) (1.17.2)\n",
            "Requirement already satisfied: anyio in /usr/local/lib/python3.11/dist-packages (from httpx>=0.27.0->chromadb>=0.4.24) (4.9.0)\n",
            "Requirement already satisfied: certifi in /usr/local/lib/python3.11/dist-packages (from httpx>=0.27.0->chromadb>=0.4.24) (2025.4.26)\n",
            "Requirement already satisfied: httpcore==1.* in /usr/local/lib/python3.11/dist-packages (from httpx>=0.27.0->chromadb>=0.4.24) (1.0.9)\n",
            "Requirement already satisfied: idna in /usr/local/lib/python3.11/dist-packages (from httpx>=0.27.0->chromadb>=0.4.24) (3.10)\n",
            "Requirement already satisfied: h11>=0.16 in /usr/local/lib/python3.11/dist-packages (from httpcore==1.*->httpx>=0.27.0->chromadb>=0.4.24) (0.16.0)\n",
            "Requirement already satisfied: zipp>=3.20 in /usr/local/lib/python3.11/dist-packages (from importlib-metadata<8.7.0,>=6.0->opentelemetry-api==1.33.0) (3.21.0)\n",
            "Requirement already satisfied: attrs>=22.2.0 in /usr/local/lib/python3.11/dist-packages (from jsonschema>=4.19.0->chromadb>=0.4.24) (25.3.0)\n",
            "Requirement already satisfied: jsonschema-specifications>=2023.03.6 in /usr/local/lib/python3.11/dist-packages (from jsonschema>=4.19.0->chromadb>=0.4.24) (2025.4.1)\n",
            "Requirement already satisfied: referencing>=0.28.4 in /usr/local/lib/python3.11/dist-packages (from jsonschema>=4.19.0->chromadb>=0.4.24) (0.36.2)\n",
            "Requirement already satisfied: rpds-py>=0.7.1 in /usr/local/lib/python3.11/dist-packages (from jsonschema>=4.19.0->chromadb>=0.4.24) (0.24.0)\n",
            "Requirement already satisfied: six>=1.9.0 in /usr/local/lib/python3.11/dist-packages (from kubernetes>=28.1.0->chromadb>=0.4.24) (1.17.0)\n",
            "Requirement already satisfied: python-dateutil>=2.5.3 in /usr/local/lib/python3.11/dist-packages (from kubernetes>=28.1.0->chromadb>=0.4.24) (2.9.0.post0)\n",
            "Requirement already satisfied: google-auth>=1.0.1 in /usr/local/lib/python3.11/dist-packages (from kubernetes>=28.1.0->chromadb>=0.4.24) (2.38.0)\n",
            "Requirement already satisfied: websocket-client!=0.40.0,!=0.41.*,!=0.42.*,>=0.32.0 in /usr/local/lib/python3.11/dist-packages (from kubernetes>=28.1.0->chromadb>=0.4.24) (1.8.0)\n",
            "Requirement already satisfied: requests in /usr/local/lib/python3.11/dist-packages (from kubernetes>=28.1.0->chromadb>=0.4.24) (2.32.3)\n",
            "Requirement already satisfied: requests-oauthlib in /usr/local/lib/python3.11/dist-packages (from kubernetes>=28.1.0->chromadb>=0.4.24) (2.0.0)\n",
            "Requirement already satisfied: oauthlib>=3.2.2 in /usr/local/lib/python3.11/dist-packages (from kubernetes>=28.1.0->chromadb>=0.4.24) (3.2.2)\n",
            "Requirement already satisfied: urllib3>=1.24.2 in /usr/local/lib/python3.11/dist-packages (from kubernetes>=28.1.0->chromadb>=0.4.24) (2.4.0)\n",
            "Requirement already satisfied: durationpy>=0.7 in /usr/local/lib/python3.11/dist-packages (from kubernetes>=28.1.0->chromadb>=0.4.24) (0.9)\n",
            "Requirement already satisfied: coloredlogs in /usr/local/lib/python3.11/dist-packages (from onnxruntime>=1.14.1->chromadb>=0.4.24) (15.0.1)\n",
            "Requirement already satisfied: flatbuffers in /usr/local/lib/python3.11/dist-packages (from onnxruntime>=1.14.1->chromadb>=0.4.24) (25.2.10)\n",
            "Requirement already satisfied: sympy in /usr/local/lib/python3.11/dist-packages (from onnxruntime>=1.14.1->chromadb>=0.4.24) (1.13.1)\n",
            "Requirement already satisfied: opentelemetry-instrumentation-asgi==0.54b0 in /usr/local/lib/python3.11/dist-packages (from opentelemetry-instrumentation-fastapi>=0.41b0->chromadb>=0.4.24) (0.54b0)\n",
            "Collecting opentelemetry-instrumentation==0.54b0 (from opentelemetry-instrumentation-fastapi>=0.41b0->chromadb>=0.4.24)\n",
            "  Using cached opentelemetry_instrumentation-0.54b0-py3-none-any.whl.metadata (6.8 kB)\n",
            "Requirement already satisfied: opentelemetry-util-http==0.54b0 in /usr/local/lib/python3.11/dist-packages (from opentelemetry-instrumentation-fastapi>=0.41b0->chromadb>=0.4.24) (0.54b0)\n",
            "Requirement already satisfied: asgiref~=3.0 in /usr/local/lib/python3.11/dist-packages (from opentelemetry-instrumentation-asgi==0.54b0->opentelemetry-instrumentation-fastapi>=0.41b0->chromadb>=0.4.24) (3.8.1)\n",
            "Requirement already satisfied: backoff>=1.10.0 in /usr/local/lib/python3.11/dist-packages (from posthog>=2.4.0->chromadb>=0.4.24) (2.2.1)\n",
            "Requirement already satisfied: distro>=1.5.0 in /usr/local/lib/python3.11/dist-packages (from posthog>=2.4.0->chromadb>=0.4.24) (1.9.0)\n",
            "Requirement already satisfied: annotated-types>=0.6.0 in /usr/local/lib/python3.11/dist-packages (from pydantic>=1.9->chromadb>=0.4.24) (0.7.0)\n",
            "Requirement already satisfied: pydantic-core==2.33.2 in /usr/local/lib/python3.11/dist-packages (from pydantic>=1.9->chromadb>=0.4.24) (2.33.2)\n",
            "Requirement already satisfied: typing-inspection>=0.4.0 in /usr/local/lib/python3.11/dist-packages (from pydantic>=1.9->chromadb>=0.4.24) (0.4.0)\n",
            "Requirement already satisfied: markdown-it-py>=2.2.0 in /usr/local/lib/python3.11/dist-packages (from rich>=10.11.0->chromadb>=0.4.24) (3.0.0)\n",
            "Requirement already satisfied: pygments<3.0.0,>=2.13.0 in /usr/local/lib/python3.11/dist-packages (from rich>=10.11.0->chromadb>=0.4.24) (2.19.1)\n",
            "Requirement already satisfied: huggingface-hub<1.0,>=0.16.4 in /usr/local/lib/python3.11/dist-packages (from tokenizers>=0.13.2->chromadb>=0.4.24) (0.30.2)\n",
            "Requirement already satisfied: click>=8.0.0 in /usr/local/lib/python3.11/dist-packages (from typer>=0.9.0->chromadb>=0.4.24) (8.1.8)\n",
            "Requirement already satisfied: shellingham>=1.3.0 in /usr/local/lib/python3.11/dist-packages (from typer>=0.9.0->chromadb>=0.4.24) (1.5.4)\n",
            "Requirement already satisfied: httptools>=0.6.3 in /usr/local/lib/python3.11/dist-packages (from uvicorn[standard]>=0.18.3->chromadb>=0.4.24) (0.6.4)\n",
            "Requirement already satisfied: python-dotenv>=0.13 in /usr/local/lib/python3.11/dist-packages (from uvicorn[standard]>=0.18.3->chromadb>=0.4.24) (1.1.0)\n",
            "Requirement already satisfied: uvloop!=0.15.0,!=0.15.1,>=0.14.0 in /usr/local/lib/python3.11/dist-packages (from uvicorn[standard]>=0.18.3->chromadb>=0.4.24) (0.21.0)\n",
            "Requirement already satisfied: watchfiles>=0.13 in /usr/local/lib/python3.11/dist-packages (from uvicorn[standard]>=0.18.3->chromadb>=0.4.24) (1.0.5)\n",
            "Requirement already satisfied: websockets>=10.4 in /usr/local/lib/python3.11/dist-packages (from uvicorn[standard]>=0.18.3->chromadb>=0.4.24) (15.0.1)\n",
            "Requirement already satisfied: cachetools<6.0,>=2.0.0 in /usr/local/lib/python3.11/dist-packages (from google-auth>=1.0.1->kubernetes>=28.1.0->chromadb>=0.4.24) (5.5.2)\n",
            "Requirement already satisfied: pyasn1-modules>=0.2.1 in /usr/local/lib/python3.11/dist-packages (from google-auth>=1.0.1->kubernetes>=28.1.0->chromadb>=0.4.24) (0.4.2)\n",
            "Requirement already satisfied: rsa<5,>=3.1.4 in /usr/local/lib/python3.11/dist-packages (from google-auth>=1.0.1->kubernetes>=28.1.0->chromadb>=0.4.24) (4.9.1)\n",
            "Requirement already satisfied: filelock in /usr/local/lib/python3.11/dist-packages (from huggingface-hub<1.0,>=0.16.4->tokenizers>=0.13.2->chromadb>=0.4.24) (3.18.0)\n",
            "Requirement already satisfied: fsspec>=2023.5.0 in /usr/local/lib/python3.11/dist-packages (from huggingface-hub<1.0,>=0.16.4->tokenizers>=0.13.2->chromadb>=0.4.24) (2025.3.2)\n",
            "Requirement already satisfied: mdurl~=0.1 in /usr/local/lib/python3.11/dist-packages (from markdown-it-py>=2.2.0->rich>=10.11.0->chromadb>=0.4.24) (0.1.2)\n",
            "Requirement already satisfied: charset-normalizer<4,>=2 in /usr/local/lib/python3.11/dist-packages (from requests->kubernetes>=28.1.0->chromadb>=0.4.24) (3.4.1)\n",
            "Requirement already satisfied: sniffio>=1.1 in /usr/local/lib/python3.11/dist-packages (from anyio->httpx>=0.27.0->chromadb>=0.4.24) (1.3.1)\n",
            "Requirement already satisfied: humanfriendly>=9.1 in /usr/local/lib/python3.11/dist-packages (from coloredlogs->onnxruntime>=1.14.1->chromadb>=0.4.24) (10.0)\n",
            "Requirement already satisfied: mpmath<1.4,>=1.1.0 in /usr/local/lib/python3.11/dist-packages (from sympy->onnxruntime>=1.14.1->chromadb>=0.4.24) (1.3.0)\n",
            "Requirement already satisfied: pyasn1<0.7.0,>=0.6.1 in /usr/local/lib/python3.11/dist-packages (from pyasn1-modules>=0.2.1->google-auth>=1.0.1->kubernetes>=28.1.0->chromadb>=0.4.24) (0.6.1)\n",
            "Using cached opentelemetry_sdk-1.33.0-py3-none-any.whl (118 kB)\n",
            "Using cached opentelemetry_exporter_otlp_proto_grpc-1.33.0-py3-none-any.whl (18 kB)\n",
            "Using cached chromadb-1.0.8-cp39-abi3-manylinux_2_17_x86_64.manylinux2014_x86_64.whl (18.9 MB)\n",
            "Using cached opentelemetry_instrumentation-0.54b0-py3-none-any.whl (31 kB)\n",
            "Installing collected packages: opentelemetry-sdk, opentelemetry-instrumentation, opentelemetry-exporter-otlp-proto-grpc, chromadb\n",
            "Successfully installed chromadb-1.0.8 opentelemetry-exporter-otlp-proto-grpc-1.33.0 opentelemetry-instrumentation-0.54b0 opentelemetry-sdk-1.33.0\n",
            "Requirement already satisfied: langchain in /usr/local/lib/python3.11/dist-packages (0.3.25)\n",
            "Collecting langchain-chroma\n",
            "  Using cached langchain_chroma-0.2.3-py3-none-any.whl.metadata (1.1 kB)\n",
            "Requirement already satisfied: langchain-core<1.0.0,>=0.3.58 in /usr/local/lib/python3.11/dist-packages (from langchain) (0.3.59)\n",
            "Requirement already satisfied: langchain-text-splitters<1.0.0,>=0.3.8 in /usr/local/lib/python3.11/dist-packages (from langchain) (0.3.8)\n",
            "Requirement already satisfied: langsmith<0.4,>=0.1.17 in /usr/local/lib/python3.11/dist-packages (from langchain) (0.3.39)\n",
            "Requirement already satisfied: pydantic<3.0.0,>=2.7.4 in /usr/local/lib/python3.11/dist-packages (from langchain) (2.11.4)\n",
            "Requirement already satisfied: SQLAlchemy<3,>=1.4 in /usr/local/lib/python3.11/dist-packages (from langchain) (2.0.40)\n",
            "Requirement already satisfied: requests<3,>=2 in /usr/local/lib/python3.11/dist-packages (from langchain) (2.32.3)\n",
            "Requirement already satisfied: PyYAML>=5.3 in /usr/local/lib/python3.11/dist-packages (from langchain) (6.0.2)\n",
            "Requirement already satisfied: numpy>=1.26.0 in /usr/local/lib/python3.11/dist-packages (from langchain-chroma) (2.0.2)\n",
            "Collecting chromadb!=0.5.10,!=0.5.11,!=0.5.12,!=0.5.4,!=0.5.5,!=0.5.7,!=0.5.9,<0.7.0,>=0.4.0 (from langchain-chroma)\n",
            "  Using cached chromadb-0.6.3-py3-none-any.whl.metadata (6.8 kB)\n",
            "Requirement already satisfied: build>=1.0.3 in /usr/local/lib/python3.11/dist-packages (from chromadb!=0.5.10,!=0.5.11,!=0.5.12,!=0.5.4,!=0.5.5,!=0.5.7,!=0.5.9,<0.7.0,>=0.4.0->langchain-chroma) (1.2.2.post1)\n",
            "Requirement already satisfied: chroma-hnswlib==0.7.6 in /usr/local/lib/python3.11/dist-packages (from chromadb!=0.5.10,!=0.5.11,!=0.5.12,!=0.5.4,!=0.5.5,!=0.5.7,!=0.5.9,<0.7.0,>=0.4.0->langchain-chroma) (0.7.6)\n",
            "Requirement already satisfied: fastapi>=0.95.2 in /usr/local/lib/python3.11/dist-packages (from chromadb!=0.5.10,!=0.5.11,!=0.5.12,!=0.5.4,!=0.5.5,!=0.5.7,!=0.5.9,<0.7.0,>=0.4.0->langchain-chroma) (0.115.9)\n",
            "Requirement already satisfied: uvicorn>=0.18.3 in /usr/local/lib/python3.11/dist-packages (from uvicorn[standard]>=0.18.3->chromadb!=0.5.10,!=0.5.11,!=0.5.12,!=0.5.4,!=0.5.5,!=0.5.7,!=0.5.9,<0.7.0,>=0.4.0->langchain-chroma) (0.34.2)\n",
            "Requirement already satisfied: posthog>=2.4.0 in /usr/local/lib/python3.11/dist-packages (from chromadb!=0.5.10,!=0.5.11,!=0.5.12,!=0.5.4,!=0.5.5,!=0.5.7,!=0.5.9,<0.7.0,>=0.4.0->langchain-chroma) (4.0.1)\n",
            "Requirement already satisfied: typing_extensions>=4.5.0 in /usr/local/lib/python3.11/dist-packages (from chromadb!=0.5.10,!=0.5.11,!=0.5.12,!=0.5.4,!=0.5.5,!=0.5.7,!=0.5.9,<0.7.0,>=0.4.0->langchain-chroma) (4.13.2)\n",
            "Requirement already satisfied: onnxruntime>=1.14.1 in /usr/local/lib/python3.11/dist-packages (from chromadb!=0.5.10,!=0.5.11,!=0.5.12,!=0.5.4,!=0.5.5,!=0.5.7,!=0.5.9,<0.7.0,>=0.4.0->langchain-chroma) (1.22.0)\n",
            "Requirement already satisfied: opentelemetry-api>=1.2.0 in /usr/local/lib/python3.11/dist-packages (from chromadb!=0.5.10,!=0.5.11,!=0.5.12,!=0.5.4,!=0.5.5,!=0.5.7,!=0.5.9,<0.7.0,>=0.4.0->langchain-chroma) (1.33.0)\n",
            "Requirement already satisfied: opentelemetry-exporter-otlp-proto-grpc>=1.2.0 in /usr/local/lib/python3.11/dist-packages (from chromadb!=0.5.10,!=0.5.11,!=0.5.12,!=0.5.4,!=0.5.5,!=0.5.7,!=0.5.9,<0.7.0,>=0.4.0->langchain-chroma) (1.33.0)\n",
            "Requirement already satisfied: opentelemetry-instrumentation-fastapi>=0.41b0 in /usr/local/lib/python3.11/dist-packages (from chromadb!=0.5.10,!=0.5.11,!=0.5.12,!=0.5.4,!=0.5.5,!=0.5.7,!=0.5.9,<0.7.0,>=0.4.0->langchain-chroma) (0.54b0)\n",
            "Requirement already satisfied: opentelemetry-sdk>=1.2.0 in /usr/local/lib/python3.11/dist-packages (from chromadb!=0.5.10,!=0.5.11,!=0.5.12,!=0.5.4,!=0.5.5,!=0.5.7,!=0.5.9,<0.7.0,>=0.4.0->langchain-chroma) (1.33.0)\n",
            "Requirement already satisfied: tokenizers>=0.13.2 in /usr/local/lib/python3.11/dist-packages (from chromadb!=0.5.10,!=0.5.11,!=0.5.12,!=0.5.4,!=0.5.5,!=0.5.7,!=0.5.9,<0.7.0,>=0.4.0->langchain-chroma) (0.21.1)\n",
            "Requirement already satisfied: pypika>=0.48.9 in /usr/local/lib/python3.11/dist-packages (from chromadb!=0.5.10,!=0.5.11,!=0.5.12,!=0.5.4,!=0.5.5,!=0.5.7,!=0.5.9,<0.7.0,>=0.4.0->langchain-chroma) (0.48.9)\n",
            "Requirement already satisfied: tqdm>=4.65.0 in /usr/local/lib/python3.11/dist-packages (from chromadb!=0.5.10,!=0.5.11,!=0.5.12,!=0.5.4,!=0.5.5,!=0.5.7,!=0.5.9,<0.7.0,>=0.4.0->langchain-chroma) (4.67.1)\n",
            "Requirement already satisfied: overrides>=7.3.1 in /usr/local/lib/python3.11/dist-packages (from chromadb!=0.5.10,!=0.5.11,!=0.5.12,!=0.5.4,!=0.5.5,!=0.5.7,!=0.5.9,<0.7.0,>=0.4.0->langchain-chroma) (7.7.0)\n",
            "Requirement already satisfied: importlib-resources in /usr/local/lib/python3.11/dist-packages (from chromadb!=0.5.10,!=0.5.11,!=0.5.12,!=0.5.4,!=0.5.5,!=0.5.7,!=0.5.9,<0.7.0,>=0.4.0->langchain-chroma) (6.5.2)\n",
            "Requirement already satisfied: grpcio>=1.58.0 in /usr/local/lib/python3.11/dist-packages (from chromadb!=0.5.10,!=0.5.11,!=0.5.12,!=0.5.4,!=0.5.5,!=0.5.7,!=0.5.9,<0.7.0,>=0.4.0->langchain-chroma) (1.71.0)\n",
            "Requirement already satisfied: bcrypt>=4.0.1 in /usr/local/lib/python3.11/dist-packages (from chromadb!=0.5.10,!=0.5.11,!=0.5.12,!=0.5.4,!=0.5.5,!=0.5.7,!=0.5.9,<0.7.0,>=0.4.0->langchain-chroma) (4.3.0)\n",
            "Requirement already satisfied: typer>=0.9.0 in /usr/local/lib/python3.11/dist-packages (from chromadb!=0.5.10,!=0.5.11,!=0.5.12,!=0.5.4,!=0.5.5,!=0.5.7,!=0.5.9,<0.7.0,>=0.4.0->langchain-chroma) (0.15.3)\n",
            "Requirement already satisfied: kubernetes>=28.1.0 in /usr/local/lib/python3.11/dist-packages (from chromadb!=0.5.10,!=0.5.11,!=0.5.12,!=0.5.4,!=0.5.5,!=0.5.7,!=0.5.9,<0.7.0,>=0.4.0->langchain-chroma) (32.0.1)\n",
            "Requirement already satisfied: tenacity>=8.2.3 in /usr/local/lib/python3.11/dist-packages (from chromadb!=0.5.10,!=0.5.11,!=0.5.12,!=0.5.4,!=0.5.5,!=0.5.7,!=0.5.9,<0.7.0,>=0.4.0->langchain-chroma) (9.1.2)\n",
            "Requirement already satisfied: mmh3>=4.0.1 in /usr/local/lib/python3.11/dist-packages (from chromadb!=0.5.10,!=0.5.11,!=0.5.12,!=0.5.4,!=0.5.5,!=0.5.7,!=0.5.9,<0.7.0,>=0.4.0->langchain-chroma) (5.1.0)\n",
            "Requirement already satisfied: orjson>=3.9.12 in /usr/local/lib/python3.11/dist-packages (from chromadb!=0.5.10,!=0.5.11,!=0.5.12,!=0.5.4,!=0.5.5,!=0.5.7,!=0.5.9,<0.7.0,>=0.4.0->langchain-chroma) (3.10.18)\n",
            "Requirement already satisfied: httpx>=0.27.0 in /usr/local/lib/python3.11/dist-packages (from chromadb!=0.5.10,!=0.5.11,!=0.5.12,!=0.5.4,!=0.5.5,!=0.5.7,!=0.5.9,<0.7.0,>=0.4.0->langchain-chroma) (0.28.1)\n",
            "Requirement already satisfied: rich>=10.11.0 in /usr/local/lib/python3.11/dist-packages (from chromadb!=0.5.10,!=0.5.11,!=0.5.12,!=0.5.4,!=0.5.5,!=0.5.7,!=0.5.9,<0.7.0,>=0.4.0->langchain-chroma) (13.9.4)\n",
            "Requirement already satisfied: jsonpatch<2.0,>=1.33 in /usr/local/lib/python3.11/dist-packages (from langchain-core<1.0.0,>=0.3.58->langchain) (1.33)\n",
            "Requirement already satisfied: packaging<25,>=23.2 in /usr/local/lib/python3.11/dist-packages (from langchain-core<1.0.0,>=0.3.58->langchain) (24.2)\n",
            "Requirement already satisfied: requests-toolbelt<2.0.0,>=1.0.0 in /usr/local/lib/python3.11/dist-packages (from langsmith<0.4,>=0.1.17->langchain) (1.0.0)\n",
            "Requirement already satisfied: zstandard<0.24.0,>=0.23.0 in /usr/local/lib/python3.11/dist-packages (from langsmith<0.4,>=0.1.17->langchain) (0.23.0)\n",
            "Requirement already satisfied: annotated-types>=0.6.0 in /usr/local/lib/python3.11/dist-packages (from pydantic<3.0.0,>=2.7.4->langchain) (0.7.0)\n",
            "Requirement already satisfied: pydantic-core==2.33.2 in /usr/local/lib/python3.11/dist-packages (from pydantic<3.0.0,>=2.7.4->langchain) (2.33.2)\n",
            "Requirement already satisfied: typing-inspection>=0.4.0 in /usr/local/lib/python3.11/dist-packages (from pydantic<3.0.0,>=2.7.4->langchain) (0.4.0)\n",
            "Requirement already satisfied: charset-normalizer<4,>=2 in /usr/local/lib/python3.11/dist-packages (from requests<3,>=2->langchain) (3.4.1)\n",
            "Requirement already satisfied: idna<4,>=2.5 in /usr/local/lib/python3.11/dist-packages (from requests<3,>=2->langchain) (3.10)\n",
            "Requirement already satisfied: urllib3<3,>=1.21.1 in /usr/local/lib/python3.11/dist-packages (from requests<3,>=2->langchain) (2.4.0)\n",
            "Requirement already satisfied: certifi>=2017.4.17 in /usr/local/lib/python3.11/dist-packages (from requests<3,>=2->langchain) (2025.4.26)\n",
            "Requirement already satisfied: greenlet>=1 in /usr/local/lib/python3.11/dist-packages (from SQLAlchemy<3,>=1.4->langchain) (3.2.1)\n",
            "Requirement already satisfied: pyproject_hooks in /usr/local/lib/python3.11/dist-packages (from build>=1.0.3->chromadb!=0.5.10,!=0.5.11,!=0.5.12,!=0.5.4,!=0.5.5,!=0.5.7,!=0.5.9,<0.7.0,>=0.4.0->langchain-chroma) (1.2.0)\n",
            "Requirement already satisfied: starlette<0.46.0,>=0.40.0 in /usr/local/lib/python3.11/dist-packages (from fastapi>=0.95.2->chromadb!=0.5.10,!=0.5.11,!=0.5.12,!=0.5.4,!=0.5.5,!=0.5.7,!=0.5.9,<0.7.0,>=0.4.0->langchain-chroma) (0.45.3)\n",
            "Requirement already satisfied: anyio in /usr/local/lib/python3.11/dist-packages (from httpx>=0.27.0->chromadb!=0.5.10,!=0.5.11,!=0.5.12,!=0.5.4,!=0.5.5,!=0.5.7,!=0.5.9,<0.7.0,>=0.4.0->langchain-chroma) (4.9.0)\n",
            "Requirement already satisfied: httpcore==1.* in /usr/local/lib/python3.11/dist-packages (from httpx>=0.27.0->chromadb!=0.5.10,!=0.5.11,!=0.5.12,!=0.5.4,!=0.5.5,!=0.5.7,!=0.5.9,<0.7.0,>=0.4.0->langchain-chroma) (1.0.9)\n",
            "Requirement already satisfied: h11>=0.16 in /usr/local/lib/python3.11/dist-packages (from httpcore==1.*->httpx>=0.27.0->chromadb!=0.5.10,!=0.5.11,!=0.5.12,!=0.5.4,!=0.5.5,!=0.5.7,!=0.5.9,<0.7.0,>=0.4.0->langchain-chroma) (0.16.0)\n",
            "Requirement already satisfied: jsonpointer>=1.9 in /usr/local/lib/python3.11/dist-packages (from jsonpatch<2.0,>=1.33->langchain-core<1.0.0,>=0.3.58->langchain) (3.0.0)\n",
            "Requirement already satisfied: six>=1.9.0 in /usr/local/lib/python3.11/dist-packages (from kubernetes>=28.1.0->chromadb!=0.5.10,!=0.5.11,!=0.5.12,!=0.5.4,!=0.5.5,!=0.5.7,!=0.5.9,<0.7.0,>=0.4.0->langchain-chroma) (1.17.0)\n",
            "Requirement already satisfied: python-dateutil>=2.5.3 in /usr/local/lib/python3.11/dist-packages (from kubernetes>=28.1.0->chromadb!=0.5.10,!=0.5.11,!=0.5.12,!=0.5.4,!=0.5.5,!=0.5.7,!=0.5.9,<0.7.0,>=0.4.0->langchain-chroma) (2.9.0.post0)\n",
            "Requirement already satisfied: google-auth>=1.0.1 in /usr/local/lib/python3.11/dist-packages (from kubernetes>=28.1.0->chromadb!=0.5.10,!=0.5.11,!=0.5.12,!=0.5.4,!=0.5.5,!=0.5.7,!=0.5.9,<0.7.0,>=0.4.0->langchain-chroma) (2.38.0)\n",
            "Requirement already satisfied: websocket-client!=0.40.0,!=0.41.*,!=0.42.*,>=0.32.0 in /usr/local/lib/python3.11/dist-packages (from kubernetes>=28.1.0->chromadb!=0.5.10,!=0.5.11,!=0.5.12,!=0.5.4,!=0.5.5,!=0.5.7,!=0.5.9,<0.7.0,>=0.4.0->langchain-chroma) (1.8.0)\n",
            "Requirement already satisfied: requests-oauthlib in /usr/local/lib/python3.11/dist-packages (from kubernetes>=28.1.0->chromadb!=0.5.10,!=0.5.11,!=0.5.12,!=0.5.4,!=0.5.5,!=0.5.7,!=0.5.9,<0.7.0,>=0.4.0->langchain-chroma) (2.0.0)\n",
            "Requirement already satisfied: oauthlib>=3.2.2 in /usr/local/lib/python3.11/dist-packages (from kubernetes>=28.1.0->chromadb!=0.5.10,!=0.5.11,!=0.5.12,!=0.5.4,!=0.5.5,!=0.5.7,!=0.5.9,<0.7.0,>=0.4.0->langchain-chroma) (3.2.2)\n",
            "Requirement already satisfied: durationpy>=0.7 in /usr/local/lib/python3.11/dist-packages (from kubernetes>=28.1.0->chromadb!=0.5.10,!=0.5.11,!=0.5.12,!=0.5.4,!=0.5.5,!=0.5.7,!=0.5.9,<0.7.0,>=0.4.0->langchain-chroma) (0.9)\n",
            "Requirement already satisfied: coloredlogs in /usr/local/lib/python3.11/dist-packages (from onnxruntime>=1.14.1->chromadb!=0.5.10,!=0.5.11,!=0.5.12,!=0.5.4,!=0.5.5,!=0.5.7,!=0.5.9,<0.7.0,>=0.4.0->langchain-chroma) (15.0.1)\n",
            "Requirement already satisfied: flatbuffers in /usr/local/lib/python3.11/dist-packages (from onnxruntime>=1.14.1->chromadb!=0.5.10,!=0.5.11,!=0.5.12,!=0.5.4,!=0.5.5,!=0.5.7,!=0.5.9,<0.7.0,>=0.4.0->langchain-chroma) (25.2.10)\n",
            "Requirement already satisfied: protobuf in /usr/local/lib/python3.11/dist-packages (from onnxruntime>=1.14.1->chromadb!=0.5.10,!=0.5.11,!=0.5.12,!=0.5.4,!=0.5.5,!=0.5.7,!=0.5.9,<0.7.0,>=0.4.0->langchain-chroma) (5.29.4)\n",
            "Requirement already satisfied: sympy in /usr/local/lib/python3.11/dist-packages (from onnxruntime>=1.14.1->chromadb!=0.5.10,!=0.5.11,!=0.5.12,!=0.5.4,!=0.5.5,!=0.5.7,!=0.5.9,<0.7.0,>=0.4.0->langchain-chroma) (1.13.1)\n",
            "Requirement already satisfied: deprecated>=1.2.6 in /usr/local/lib/python3.11/dist-packages (from opentelemetry-api>=1.2.0->chromadb!=0.5.10,!=0.5.11,!=0.5.12,!=0.5.4,!=0.5.5,!=0.5.7,!=0.5.9,<0.7.0,>=0.4.0->langchain-chroma) (1.2.18)\n",
            "Requirement already satisfied: importlib-metadata<8.7.0,>=6.0 in /usr/local/lib/python3.11/dist-packages (from opentelemetry-api>=1.2.0->chromadb!=0.5.10,!=0.5.11,!=0.5.12,!=0.5.4,!=0.5.5,!=0.5.7,!=0.5.9,<0.7.0,>=0.4.0->langchain-chroma) (8.6.1)\n",
            "Requirement already satisfied: googleapis-common-protos~=1.52 in /usr/local/lib/python3.11/dist-packages (from opentelemetry-exporter-otlp-proto-grpc>=1.2.0->chromadb!=0.5.10,!=0.5.11,!=0.5.12,!=0.5.4,!=0.5.5,!=0.5.7,!=0.5.9,<0.7.0,>=0.4.0->langchain-chroma) (1.70.0)\n",
            "Requirement already satisfied: opentelemetry-exporter-otlp-proto-common==1.33.0 in /usr/local/lib/python3.11/dist-packages (from opentelemetry-exporter-otlp-proto-grpc>=1.2.0->chromadb!=0.5.10,!=0.5.11,!=0.5.12,!=0.5.4,!=0.5.5,!=0.5.7,!=0.5.9,<0.7.0,>=0.4.0->langchain-chroma) (1.33.0)\n",
            "Requirement already satisfied: opentelemetry-proto==1.33.0 in /usr/local/lib/python3.11/dist-packages (from opentelemetry-exporter-otlp-proto-grpc>=1.2.0->chromadb!=0.5.10,!=0.5.11,!=0.5.12,!=0.5.4,!=0.5.5,!=0.5.7,!=0.5.9,<0.7.0,>=0.4.0->langchain-chroma) (1.33.0)\n",
            "Requirement already satisfied: opentelemetry-instrumentation-asgi==0.54b0 in /usr/local/lib/python3.11/dist-packages (from opentelemetry-instrumentation-fastapi>=0.41b0->chromadb!=0.5.10,!=0.5.11,!=0.5.12,!=0.5.4,!=0.5.5,!=0.5.7,!=0.5.9,<0.7.0,>=0.4.0->langchain-chroma) (0.54b0)\n",
            "Requirement already satisfied: opentelemetry-instrumentation==0.54b0 in /usr/local/lib/python3.11/dist-packages (from opentelemetry-instrumentation-fastapi>=0.41b0->chromadb!=0.5.10,!=0.5.11,!=0.5.12,!=0.5.4,!=0.5.5,!=0.5.7,!=0.5.9,<0.7.0,>=0.4.0->langchain-chroma) (0.54b0)\n",
            "Requirement already satisfied: opentelemetry-semantic-conventions==0.54b0 in /usr/local/lib/python3.11/dist-packages (from opentelemetry-instrumentation-fastapi>=0.41b0->chromadb!=0.5.10,!=0.5.11,!=0.5.12,!=0.5.4,!=0.5.5,!=0.5.7,!=0.5.9,<0.7.0,>=0.4.0->langchain-chroma) (0.54b0)\n",
            "Requirement already satisfied: opentelemetry-util-http==0.54b0 in /usr/local/lib/python3.11/dist-packages (from opentelemetry-instrumentation-fastapi>=0.41b0->chromadb!=0.5.10,!=0.5.11,!=0.5.12,!=0.5.4,!=0.5.5,!=0.5.7,!=0.5.9,<0.7.0,>=0.4.0->langchain-chroma) (0.54b0)\n",
            "Requirement already satisfied: wrapt<2.0.0,>=1.0.0 in /usr/local/lib/python3.11/dist-packages (from opentelemetry-instrumentation==0.54b0->opentelemetry-instrumentation-fastapi>=0.41b0->chromadb!=0.5.10,!=0.5.11,!=0.5.12,!=0.5.4,!=0.5.5,!=0.5.7,!=0.5.9,<0.7.0,>=0.4.0->langchain-chroma) (1.17.2)\n",
            "Requirement already satisfied: asgiref~=3.0 in /usr/local/lib/python3.11/dist-packages (from opentelemetry-instrumentation-asgi==0.54b0->opentelemetry-instrumentation-fastapi>=0.41b0->chromadb!=0.5.10,!=0.5.11,!=0.5.12,!=0.5.4,!=0.5.5,!=0.5.7,!=0.5.9,<0.7.0,>=0.4.0->langchain-chroma) (3.8.1)\n",
            "Requirement already satisfied: backoff>=1.10.0 in /usr/local/lib/python3.11/dist-packages (from posthog>=2.4.0->chromadb!=0.5.10,!=0.5.11,!=0.5.12,!=0.5.4,!=0.5.5,!=0.5.7,!=0.5.9,<0.7.0,>=0.4.0->langchain-chroma) (2.2.1)\n",
            "Requirement already satisfied: distro>=1.5.0 in /usr/local/lib/python3.11/dist-packages (from posthog>=2.4.0->chromadb!=0.5.10,!=0.5.11,!=0.5.12,!=0.5.4,!=0.5.5,!=0.5.7,!=0.5.9,<0.7.0,>=0.4.0->langchain-chroma) (1.9.0)\n",
            "Requirement already satisfied: markdown-it-py>=2.2.0 in /usr/local/lib/python3.11/dist-packages (from rich>=10.11.0->chromadb!=0.5.10,!=0.5.11,!=0.5.12,!=0.5.4,!=0.5.5,!=0.5.7,!=0.5.9,<0.7.0,>=0.4.0->langchain-chroma) (3.0.0)\n",
            "Requirement already satisfied: pygments<3.0.0,>=2.13.0 in /usr/local/lib/python3.11/dist-packages (from rich>=10.11.0->chromadb!=0.5.10,!=0.5.11,!=0.5.12,!=0.5.4,!=0.5.5,!=0.5.7,!=0.5.9,<0.7.0,>=0.4.0->langchain-chroma) (2.19.1)\n",
            "Requirement already satisfied: huggingface-hub<1.0,>=0.16.4 in /usr/local/lib/python3.11/dist-packages (from tokenizers>=0.13.2->chromadb!=0.5.10,!=0.5.11,!=0.5.12,!=0.5.4,!=0.5.5,!=0.5.7,!=0.5.9,<0.7.0,>=0.4.0->langchain-chroma) (0.30.2)\n",
            "Requirement already satisfied: click>=8.0.0 in /usr/local/lib/python3.11/dist-packages (from typer>=0.9.0->chromadb!=0.5.10,!=0.5.11,!=0.5.12,!=0.5.4,!=0.5.5,!=0.5.7,!=0.5.9,<0.7.0,>=0.4.0->langchain-chroma) (8.1.8)\n",
            "Requirement already satisfied: shellingham>=1.3.0 in /usr/local/lib/python3.11/dist-packages (from typer>=0.9.0->chromadb!=0.5.10,!=0.5.11,!=0.5.12,!=0.5.4,!=0.5.5,!=0.5.7,!=0.5.9,<0.7.0,>=0.4.0->langchain-chroma) (1.5.4)\n",
            "Requirement already satisfied: httptools>=0.6.3 in /usr/local/lib/python3.11/dist-packages (from uvicorn[standard]>=0.18.3->chromadb!=0.5.10,!=0.5.11,!=0.5.12,!=0.5.4,!=0.5.5,!=0.5.7,!=0.5.9,<0.7.0,>=0.4.0->langchain-chroma) (0.6.4)\n",
            "Requirement already satisfied: python-dotenv>=0.13 in /usr/local/lib/python3.11/dist-packages (from uvicorn[standard]>=0.18.3->chromadb!=0.5.10,!=0.5.11,!=0.5.12,!=0.5.4,!=0.5.5,!=0.5.7,!=0.5.9,<0.7.0,>=0.4.0->langchain-chroma) (1.1.0)\n",
            "Requirement already satisfied: uvloop!=0.15.0,!=0.15.1,>=0.14.0 in /usr/local/lib/python3.11/dist-packages (from uvicorn[standard]>=0.18.3->chromadb!=0.5.10,!=0.5.11,!=0.5.12,!=0.5.4,!=0.5.5,!=0.5.7,!=0.5.9,<0.7.0,>=0.4.0->langchain-chroma) (0.21.0)\n",
            "Requirement already satisfied: watchfiles>=0.13 in /usr/local/lib/python3.11/dist-packages (from uvicorn[standard]>=0.18.3->chromadb!=0.5.10,!=0.5.11,!=0.5.12,!=0.5.4,!=0.5.5,!=0.5.7,!=0.5.9,<0.7.0,>=0.4.0->langchain-chroma) (1.0.5)\n",
            "Requirement already satisfied: websockets>=10.4 in /usr/local/lib/python3.11/dist-packages (from uvicorn[standard]>=0.18.3->chromadb!=0.5.10,!=0.5.11,!=0.5.12,!=0.5.4,!=0.5.5,!=0.5.7,!=0.5.9,<0.7.0,>=0.4.0->langchain-chroma) (15.0.1)\n",
            "Requirement already satisfied: cachetools<6.0,>=2.0.0 in /usr/local/lib/python3.11/dist-packages (from google-auth>=1.0.1->kubernetes>=28.1.0->chromadb!=0.5.10,!=0.5.11,!=0.5.12,!=0.5.4,!=0.5.5,!=0.5.7,!=0.5.9,<0.7.0,>=0.4.0->langchain-chroma) (5.5.2)\n",
            "Requirement already satisfied: pyasn1-modules>=0.2.1 in /usr/local/lib/python3.11/dist-packages (from google-auth>=1.0.1->kubernetes>=28.1.0->chromadb!=0.5.10,!=0.5.11,!=0.5.12,!=0.5.4,!=0.5.5,!=0.5.7,!=0.5.9,<0.7.0,>=0.4.0->langchain-chroma) (0.4.2)\n",
            "Requirement already satisfied: rsa<5,>=3.1.4 in /usr/local/lib/python3.11/dist-packages (from google-auth>=1.0.1->kubernetes>=28.1.0->chromadb!=0.5.10,!=0.5.11,!=0.5.12,!=0.5.4,!=0.5.5,!=0.5.7,!=0.5.9,<0.7.0,>=0.4.0->langchain-chroma) (4.9.1)\n",
            "Requirement already satisfied: filelock in /usr/local/lib/python3.11/dist-packages (from huggingface-hub<1.0,>=0.16.4->tokenizers>=0.13.2->chromadb!=0.5.10,!=0.5.11,!=0.5.12,!=0.5.4,!=0.5.5,!=0.5.7,!=0.5.9,<0.7.0,>=0.4.0->langchain-chroma) (3.18.0)\n",
            "Requirement already satisfied: fsspec>=2023.5.0 in /usr/local/lib/python3.11/dist-packages (from huggingface-hub<1.0,>=0.16.4->tokenizers>=0.13.2->chromadb!=0.5.10,!=0.5.11,!=0.5.12,!=0.5.4,!=0.5.5,!=0.5.7,!=0.5.9,<0.7.0,>=0.4.0->langchain-chroma) (2025.3.2)\n",
            "Requirement already satisfied: zipp>=3.20 in /usr/local/lib/python3.11/dist-packages (from importlib-metadata<8.7.0,>=6.0->opentelemetry-api>=1.2.0->chromadb!=0.5.10,!=0.5.11,!=0.5.12,!=0.5.4,!=0.5.5,!=0.5.7,!=0.5.9,<0.7.0,>=0.4.0->langchain-chroma) (3.21.0)\n",
            "Requirement already satisfied: mdurl~=0.1 in /usr/local/lib/python3.11/dist-packages (from markdown-it-py>=2.2.0->rich>=10.11.0->chromadb!=0.5.10,!=0.5.11,!=0.5.12,!=0.5.4,!=0.5.5,!=0.5.7,!=0.5.9,<0.7.0,>=0.4.0->langchain-chroma) (0.1.2)\n",
            "Requirement already satisfied: sniffio>=1.1 in /usr/local/lib/python3.11/dist-packages (from anyio->httpx>=0.27.0->chromadb!=0.5.10,!=0.5.11,!=0.5.12,!=0.5.4,!=0.5.5,!=0.5.7,!=0.5.9,<0.7.0,>=0.4.0->langchain-chroma) (1.3.1)\n",
            "Requirement already satisfied: humanfriendly>=9.1 in /usr/local/lib/python3.11/dist-packages (from coloredlogs->onnxruntime>=1.14.1->chromadb!=0.5.10,!=0.5.11,!=0.5.12,!=0.5.4,!=0.5.5,!=0.5.7,!=0.5.9,<0.7.0,>=0.4.0->langchain-chroma) (10.0)\n",
            "Requirement already satisfied: mpmath<1.4,>=1.1.0 in /usr/local/lib/python3.11/dist-packages (from sympy->onnxruntime>=1.14.1->chromadb!=0.5.10,!=0.5.11,!=0.5.12,!=0.5.4,!=0.5.5,!=0.5.7,!=0.5.9,<0.7.0,>=0.4.0->langchain-chroma) (1.3.0)\n",
            "Requirement already satisfied: pyasn1<0.7.0,>=0.6.1 in /usr/local/lib/python3.11/dist-packages (from pyasn1-modules>=0.2.1->google-auth>=1.0.1->kubernetes>=28.1.0->chromadb!=0.5.10,!=0.5.11,!=0.5.12,!=0.5.4,!=0.5.5,!=0.5.7,!=0.5.9,<0.7.0,>=0.4.0->langchain-chroma) (0.6.1)\n",
            "Using cached langchain_chroma-0.2.3-py3-none-any.whl (11 kB)\n",
            "Using cached chromadb-0.6.3-py3-none-any.whl (611 kB)\n",
            "Installing collected packages: chromadb, langchain-chroma\n",
            "  Attempting uninstall: chromadb\n",
            "    Found existing installation: chromadb 1.0.8\n",
            "    Uninstalling chromadb-1.0.8:\n",
            "      Successfully uninstalled chromadb-1.0.8\n",
            "Successfully installed chromadb-0.6.3 langchain-chroma-0.2.3\n"
          ]
        }
      ]
    },
    {
      "cell_type": "code",
      "source": [
        "from langchain_chroma import Chroma\n",
        "vector_store = Chroma(\n",
        "    collection_name=\"example_collection\",\n",
        "    embedding_function=embeddings,\n",
        "    persist_directory=\"./chroma_langchain_db\"\n",
        ")"
      ],
      "metadata": {
        "id": "cvhmggnbJTvh"
      },
      "execution_count": 8,
      "outputs": []
    },
    {
      "cell_type": "markdown",
      "source": [
        "6. Define prompt für die Frage-Antwort"
      ],
      "metadata": {
        "id": "4MPea4zZJA4P"
      }
    },
    {
      "cell_type": "code",
      "source": [
        "# Define prompt for question-answering\n",
        "from langchain import hub\n",
        "\n",
        "prompt = hub.pull(\"rlm/rag-prompt\")\n",
        "\n",
        "example_messages = prompt.invoke(\n",
        "    {\"context\": \"(context goes here)\", \"question\": \"(question goes here)\"}\n",
        ").to_messages()\n",
        "# Beispiel-Frage (vor dem Dokument)\n",
        "frage = \"Wie hoch ist der Prozentsatz bei SPD partei ?\"\n",
        "\n",
        "# TEST 1 – Ohne Retrieval (leerer Kontext)\n",
        "gefüllter_prompt = prompt.format(context=\"\", question=frage)\n",
        "antwort = model.invoke(gefüllter_prompt)\n",
        "print(\"\\n Antwort ohne Kontext:\\n\", antwort.content)"
      ],
      "metadata": {
        "colab": {
          "base_uri": "https://localhost:8080/"
        },
        "id": "Fb53DJr6Tyqt",
        "outputId": "80fc4ba2-cd3a-4a12-e3ed-328033171d35"
      },
      "execution_count": 9,
      "outputs": [
        {
          "output_type": "stream",
          "name": "stdout",
          "text": [
            "\n",
            " Antwort ohne Kontext:\n",
            " Ich weiß die Antwort nicht.\n"
          ]
        }
      ]
    },
    {
      "cell_type": "markdown",
      "source": [
        "7. Dokumente laden"
      ],
      "metadata": {
        "id": "EzJ2povdK-bc"
      }
    },
    {
      "cell_type": "code",
      "source": [
        "!pip install text_splitter\n",
        "\n"
      ],
      "metadata": {
        "colab": {
          "base_uri": "https://localhost:8080/"
        },
        "id": "emRFDdE2S834",
        "outputId": "7da1bcd0-acc1-4b4a-cc05-ddedad3dcbaf"
      },
      "execution_count": 10,
      "outputs": [
        {
          "output_type": "stream",
          "name": "stdout",
          "text": [
            "\u001b[31mERROR: Could not find a version that satisfies the requirement text_splitter (from versions: none)\u001b[0m\u001b[31m\n",
            "\u001b[0m\u001b[31mERROR: No matching distribution found for text_splitter\u001b[0m\u001b[31m\n",
            "\u001b[0m"
          ]
        }
      ]
    },
    {
      "cell_type": "code",
      "source": [
        "from langchain.document_loaders import WebBaseLoader\n",
        "from langchain.text_splitter import RecursiveCharacterTextSplitter\n",
        "from langchain_huggingface import HuggingFaceEmbeddings\n",
        "import chromadb  # Importiere ChromaDB\n",
        "from langchain.vectorstores import Chroma\n",
        "\n",
        "# 1. Webseite laden\n",
        "loader = WebBaseLoader(web_paths=[\"https://de.wikipedia.org/wiki/Bundestagswahl_2025\"])\n",
        "docs = loader.load()\n",
        "\n",
        "# 2. Aufteilen in ≥ 50 Chunks\n",
        "splitter = RecursiveCharacterTextSplitter(\n",
        "    chunk_size=1000,  # Chunks von max 1000 Zeichen\n",
        "    chunk_overlap=200,  # 200 Zeichen Überlappung zwischen Chunks\n",
        "    separators=[\"\\n\\n\", \"\\n\", \".\", \" \", \"\"]\n",
        ")\n",
        "# Chunks aufteilen\n",
        "all_splits = splitter.split_documents(docs)\n",
        "\n",
        "# 3. HuggingFace Embeddings initialisieren\n",
        "embeddings = HuggingFaceEmbeddings(model_name=\"sentence-transformers/all-mpnet-base-v2\")\n",
        "\n",
        "# 4. Vektorspeicher mit ChromaDB initialisieren\n",
        "client = chromadb.Client()\n",
        "\n",
        "# ChromaDB-Datenbank initialisieren, dies könnte auch der Name deiner spezifischen Sammlung sein\n",
        "vector_store = Chroma.from_documents(documents=all_splits, embedding=embeddings, client=client, collection_name=\"bundestagswahl_2025\")\n",
        "\n",
        "# 5. Dokumente in den Vektorspeicher hinzufügen\n",
        "vector_store.add_documents(all_splits)\n",
        "\n",
        "# Ausgabe der Anzahl der Chunks\n",
        "print(f\"Anzahl der Chunks: {len(all_splits)}\")\n"
      ],
      "metadata": {
        "colab": {
          "base_uri": "https://localhost:8080/"
        },
        "id": "ItBxF-BNV4ts",
        "outputId": "062fb562-9f64-41ab-f7e0-0d47e232e009"
      },
      "execution_count": 11,
      "outputs": [
        {
          "output_type": "stream",
          "name": "stderr",
          "text": [
            "WARNING:langchain_community.utils.user_agent:USER_AGENT environment variable not set, consider setting it to identify your requests.\n"
          ]
        },
        {
          "output_type": "stream",
          "name": "stdout",
          "text": [
            "Anzahl der Chunks: 138\n"
          ]
        }
      ]
    },
    {
      "cell_type": "markdown",
      "source": [
        "8. Retrieval and Generation"
      ],
      "metadata": {
        "id": "JGcfpqO2LaZ-"
      }
    },
    {
      "cell_type": "code",
      "source": [
        "from langgraph.graph import MessagesState, StateGraph\n",
        "\n",
        "graph_builder = StateGraph(MessagesState)"
      ],
      "metadata": {
        "id": "lPpvjwpWzHDn"
      },
      "execution_count": 12,
      "outputs": []
    },
    {
      "cell_type": "code",
      "source": [
        "from langchain import hub\n",
        "\n",
        "prompt = hub.pull(\"rlm/rag-prompt\")\n",
        "\n",
        "example_messages = prompt.invoke(\n",
        "    {\"context\": \"(context goes here)\", \"question\": \"(question goes here)\"}\n",
        ").to_messages()\n",
        "\n",
        "assert len(example_messages) == 1\n",
        "print(example_messages[0].content)"
      ],
      "metadata": {
        "colab": {
          "base_uri": "https://localhost:8080/"
        },
        "id": "2SLqlPTzHbJQ",
        "outputId": "84a59048-1461-43d4-de6c-d6cc3b73d737"
      },
      "execution_count": 13,
      "outputs": [
        {
          "output_type": "stream",
          "name": "stdout",
          "text": [
            "You are an assistant for question-answering tasks. Use the following pieces of retrieved context to answer the question. If you don't know the answer, just say that you don't know. Use three sentences maximum and keep the answer concise.\n",
            "Question: (question goes here) \n",
            "Context: (context goes here) \n",
            "Answer:\n"
          ]
        }
      ]
    },
    {
      "cell_type": "code",
      "source": [
        "from langchain_core.documents import Document\n",
        "from typing_extensions import List, TypedDict\n",
        "\n",
        "\n",
        "class State(TypedDict):\n",
        "    question: str\n",
        "    context: List[Document]\n",
        "    answer: str"
      ],
      "metadata": {
        "id": "2xwy676AHcQB"
      },
      "execution_count": 14,
      "outputs": []
    },
    {
      "cell_type": "code",
      "source": [
        "def retrieve(state: State):\n",
        "    retrieved_docs = vector_store.similarity_search(state[\"question\"])\n",
        "    return {\"context\": retrieved_docs}\n",
        "\n",
        "\n",
        "def generate(state: State):\n",
        "    docs_content = \"\\n\\n\".join(doc.page_content for doc in state[\"context\"])\n",
        "    messages = prompt.invoke({\"question\": state[\"question\"], \"context\": docs_content})\n",
        "    response = model.invoke(messages)\n",
        "    return {\"answer\": response.content}"
      ],
      "metadata": {
        "id": "KHjZ_aGTHfJX"
      },
      "execution_count": 15,
      "outputs": []
    },
    {
      "cell_type": "markdown",
      "source": [
        "9. Kontrollfluss"
      ],
      "metadata": {
        "id": "GJYfxjBBLkoH"
      }
    },
    {
      "cell_type": "code",
      "source": [
        "from langgraph.graph import START, StateGraph\n",
        "\n",
        "graph_builder = StateGraph(State).add_sequence([retrieve, generate])\n",
        "graph_builder.add_edge(START, \"retrieve\")\n",
        "graph = graph_builder.compile()"
      ],
      "metadata": {
        "id": "ZINLK1LnHlCU"
      },
      "execution_count": 16,
      "outputs": []
    },
    {
      "cell_type": "code",
      "source": [
        "from IPython.display import Image, display\n",
        "\n",
        "display(Image(graph.get_graph().draw_mermaid_png()))"
      ],
      "metadata": {
        "colab": {
          "base_uri": "https://localhost:8080/",
          "height": 350
        },
        "id": "oTcvLtlpHm40",
        "outputId": "73adcfbb-466f-4434-bcc1-6d358dd3cf8c"
      },
      "execution_count": 17,
      "outputs": [
        {
          "output_type": "display_data",
          "data": {
            "image/png": "[encoded data removed]",
            "text/plain": [
              "<IPython.core.display.Image object>"
            ]
          },
          "metadata": {}
        }
      ]
    },
    {
      "cell_type": "markdown",
      "source": [
        "10.  test"
      ],
      "metadata": {
        "id": "j8zJvfR6LrBr"
      }
    },
    {
      "cell_type": "code",
      "source": [
        "result = graph.invoke({\"question\": \"Wie hoch ist der Prozentsatz bei SPD partei ?\"})\n",
        "\n",
        "print(f'Context: {result[\"context\"]}\\n\\n')\n",
        "print(f'Answer: {result[\"answer\"]}')"
      ],
      "metadata": {
        "colab": {
          "base_uri": "https://localhost:8080/"
        },
        "id": "ZO5Vtin0HqGH",
        "outputId": "f98c2ee9-c76e-4924-eb58-7a7912821968"
      },
      "execution_count": 18,
      "outputs": [
        {
          "output_type": "stream",
          "name": "stdout",
          "text": [
            "Context: [Document(metadata={'language': 'de', 'source': 'https://de.wikipedia.org/wiki/Bundestagswahl_2025', 'title': 'Bundestagswahl 2025 – Wikipedia'}, page_content='Die Freie Demokratische Partei stürzte um über sieben Prozentpunkte auf 4,3\\xa0% der Zweitstimmen ab und verschlechterte sich damit im Vergleich zur Wahl 2013. Zum zweiten Mal in der Geschichte der Bundesrepublik werden die Freidemokraten damit dem Bundestag nicht angehören. Selbst in ihrem traditionellen Stammland Baden-Württemberg erreichte sie nur noch 5,6\\xa0%. Darüber hinaus lag die FDP nur in Hessen knapp oberhalb der Fünf-Prozent-Marke, ihren Tiefpunkt setzte sie in Thüringen mit 2,8\\xa0% der Zweitstimmen.'), Document(metadata={'language': 'de', 'source': 'https://de.wikipedia.org/wiki/Bundestagswahl_2025', 'title': 'Bundestagswahl 2025 – Wikipedia'}, page_content='Die Freie Demokratische Partei stürzte um über sieben Prozentpunkte auf 4,3\\xa0% der Zweitstimmen ab und verschlechterte sich damit im Vergleich zur Wahl 2013. Zum zweiten Mal in der Geschichte der Bundesrepublik werden die Freidemokraten damit dem Bundestag nicht angehören. Selbst in ihrem traditionellen Stammland Baden-Württemberg erreichte sie nur noch 5,6\\xa0%. Darüber hinaus lag die FDP nur in Hessen knapp oberhalb der Fünf-Prozent-Marke, ihren Tiefpunkt setzte sie in Thüringen mit 2,8\\xa0% der Zweitstimmen.'), Document(metadata={'language': 'de', 'source': 'https://de.wikipedia.org/wiki/Bundestagswahl_2025', 'title': 'Bundestagswahl 2025 – Wikipedia'}, page_content='Die Linke dagegen verlor fast die Hälfte der Wähler, verpasste die Fünf-Prozent-Hürde und galt damit als ein weiterer Verlierer der Wahl; aufgrund dreier gewonnener Direktmandate, zwei davon in Berlin, zog die Partei durch die Grundmandatsklausel dennoch gemäß ihrem Zweitstimmenergebnis in den Bundestag ein. Dort stellte sie mehr als fünf Prozent der Abgeordneten, sodass sie bis zur Abspaltung des BSW drei Jahre lang als Bundestagsfraktion vertreten war. Alle sonstigen angetretenen Parteien verfehlten deutlich die Fünf-Prozent-Hürde, vier konnten dabei die für die Parteienfinanzierung relevante Schwelle von 0,5\\xa0% passieren. Der Südschleswigsche Wählerverband, als Partei der dänischen Minderheit von der Fünf-Prozent-Hürde befreit, erreichte bundesweit 0,1\\xa0% der gültigen Stimmen (in Schleswig-Holstein 3,2\\xa0%) und zog damit erstmals seit der Bundestagswahl 1949 wieder mit einem Abgeordneten in den Bundestag ein. Zuletzt hatte der SSW bei der Bundestagswahl 1961 kandidiert.'), Document(metadata={'language': 'de', 'source': 'https://de.wikipedia.org/wiki/Bundestagswahl_2025', 'title': 'Bundestagswahl 2025 – Wikipedia'}, page_content='Die Linke dagegen verlor fast die Hälfte der Wähler, verpasste die Fünf-Prozent-Hürde und galt damit als ein weiterer Verlierer der Wahl; aufgrund dreier gewonnener Direktmandate, zwei davon in Berlin, zog die Partei durch die Grundmandatsklausel dennoch gemäß ihrem Zweitstimmenergebnis in den Bundestag ein. Dort stellte sie mehr als fünf Prozent der Abgeordneten, sodass sie bis zur Abspaltung des BSW drei Jahre lang als Bundestagsfraktion vertreten war. Alle sonstigen angetretenen Parteien verfehlten deutlich die Fünf-Prozent-Hürde, vier konnten dabei die für die Parteienfinanzierung relevante Schwelle von 0,5\\xa0% passieren. Der Südschleswigsche Wählerverband, als Partei der dänischen Minderheit von der Fünf-Prozent-Hürde befreit, erreichte bundesweit 0,1\\xa0% der gültigen Stimmen (in Schleswig-Holstein 3,2\\xa0%) und zog damit erstmals seit der Bundestagswahl 1949 wieder mit einem Abgeordneten in den Bundestag ein. Zuletzt hatte der SSW bei der Bundestagswahl 1961 kandidiert.')]\n",
            "\n",
            "\n",
            "Answer: Ich kann die Frage nicht beantworten, da der Kontext keine Informationen über den Prozentsatz der SPD-Partei enthält. Der Kontext enthält Informationen über die Freie Demokratische Partei, Die Linke und den Südschleswigschen Wählerverband.\n"
          ]
        }
      ]
    },
    {
      "cell_type": "markdown",
      "source": [
        "11. langGrapgh ablauf"
      ],
      "metadata": {
        "id": "aoz9dRTrL_-C"
      }
    },
    {
      "cell_type": "code",
      "source": [
        "for step in graph.stream(\n",
        "    {\"question\": \"Wie hoch ist der Prozentsatz bei SPD partei ?\"}, stream_mode=\"updates\"\n",
        "):\n",
        "    print(f\"{step}\\n\\n----------------\\n\")\n"
      ],
      "metadata": {
        "colab": {
          "base_uri": "https://localhost:8080/"
        },
        "id": "CQmAqVCeL7k5",
        "outputId": "defc06d5-36b1-4cea-9502-346690a44922"
      },
      "execution_count": 19,
      "outputs": [
        {
          "output_type": "stream",
          "name": "stdout",
          "text": [
            "{'retrieve': {'context': [Document(metadata={'language': 'de', 'source': 'https://de.wikipedia.org/wiki/Bundestagswahl_2025', 'title': 'Bundestagswahl 2025 – Wikipedia'}, page_content='Die Freie Demokratische Partei stürzte um über sieben Prozentpunkte auf 4,3\\xa0% der Zweitstimmen ab und verschlechterte sich damit im Vergleich zur Wahl 2013. Zum zweiten Mal in der Geschichte der Bundesrepublik werden die Freidemokraten damit dem Bundestag nicht angehören. Selbst in ihrem traditionellen Stammland Baden-Württemberg erreichte sie nur noch 5,6\\xa0%. Darüber hinaus lag die FDP nur in Hessen knapp oberhalb der Fünf-Prozent-Marke, ihren Tiefpunkt setzte sie in Thüringen mit 2,8\\xa0% der Zweitstimmen.'), Document(metadata={'language': 'de', 'source': 'https://de.wikipedia.org/wiki/Bundestagswahl_2025', 'title': 'Bundestagswahl 2025 – Wikipedia'}, page_content='Die Freie Demokratische Partei stürzte um über sieben Prozentpunkte auf 4,3\\xa0% der Zweitstimmen ab und verschlechterte sich damit im Vergleich zur Wahl 2013. Zum zweiten Mal in der Geschichte der Bundesrepublik werden die Freidemokraten damit dem Bundestag nicht angehören. Selbst in ihrem traditionellen Stammland Baden-Württemberg erreichte sie nur noch 5,6\\xa0%. Darüber hinaus lag die FDP nur in Hessen knapp oberhalb der Fünf-Prozent-Marke, ihren Tiefpunkt setzte sie in Thüringen mit 2,8\\xa0% der Zweitstimmen.'), Document(metadata={'language': 'de', 'source': 'https://de.wikipedia.org/wiki/Bundestagswahl_2025', 'title': 'Bundestagswahl 2025 – Wikipedia'}, page_content='Die Linke dagegen verlor fast die Hälfte der Wähler, verpasste die Fünf-Prozent-Hürde und galt damit als ein weiterer Verlierer der Wahl; aufgrund dreier gewonnener Direktmandate, zwei davon in Berlin, zog die Partei durch die Grundmandatsklausel dennoch gemäß ihrem Zweitstimmenergebnis in den Bundestag ein. Dort stellte sie mehr als fünf Prozent der Abgeordneten, sodass sie bis zur Abspaltung des BSW drei Jahre lang als Bundestagsfraktion vertreten war. Alle sonstigen angetretenen Parteien verfehlten deutlich die Fünf-Prozent-Hürde, vier konnten dabei die für die Parteienfinanzierung relevante Schwelle von 0,5\\xa0% passieren. Der Südschleswigsche Wählerverband, als Partei der dänischen Minderheit von der Fünf-Prozent-Hürde befreit, erreichte bundesweit 0,1\\xa0% der gültigen Stimmen (in Schleswig-Holstein 3,2\\xa0%) und zog damit erstmals seit der Bundestagswahl 1949 wieder mit einem Abgeordneten in den Bundestag ein. Zuletzt hatte der SSW bei der Bundestagswahl 1961 kandidiert.'), Document(metadata={'language': 'de', 'source': 'https://de.wikipedia.org/wiki/Bundestagswahl_2025', 'title': 'Bundestagswahl 2025 – Wikipedia'}, page_content='Die Linke dagegen verlor fast die Hälfte der Wähler, verpasste die Fünf-Prozent-Hürde und galt damit als ein weiterer Verlierer der Wahl; aufgrund dreier gewonnener Direktmandate, zwei davon in Berlin, zog die Partei durch die Grundmandatsklausel dennoch gemäß ihrem Zweitstimmenergebnis in den Bundestag ein. Dort stellte sie mehr als fünf Prozent der Abgeordneten, sodass sie bis zur Abspaltung des BSW drei Jahre lang als Bundestagsfraktion vertreten war. Alle sonstigen angetretenen Parteien verfehlten deutlich die Fünf-Prozent-Hürde, vier konnten dabei die für die Parteienfinanzierung relevante Schwelle von 0,5\\xa0% passieren. Der Südschleswigsche Wählerverband, als Partei der dänischen Minderheit von der Fünf-Prozent-Hürde befreit, erreichte bundesweit 0,1\\xa0% der gültigen Stimmen (in Schleswig-Holstein 3,2\\xa0%) und zog damit erstmals seit der Bundestagswahl 1949 wieder mit einem Abgeordneten in den Bundestag ein. Zuletzt hatte der SSW bei der Bundestagswahl 1961 kandidiert.')]}}\n",
            "\n",
            "----------------\n",
            "\n",
            "{'generate': {'answer': 'Die gegebene Informationen enthalten keine Daten über den Prozentsatz der SPD. Daher kann ich diese Frage nicht beantworten.'}}\n",
            "\n",
            "----------------\n",
            "\n"
          ]
        }
      ]
    },
    {
      "cell_type": "markdown",
      "source": [],
      "metadata": {
        "id": "H0H6cTFUMi9V"
      }
    },
    {
      "cell_type": "markdown",
      "source": [
        "12. Anpassen das prompt\n",
        "(5 versuch)"
      ],
      "metadata": {
        "id": "Ltc2RcSYMKj9"
      }
    },
    {
      "cell_type": "code",
      "source": [
        "from langchain_core.prompts import PromptTemplate\n",
        "\n",
        "template = \"\"\"Use the following pieces of context to answer the question at the end.\n",
        "If you don't know the answer, just say that you don't know, don't try to make up an answer.\n",
        "Use three sentences maximum and keep the answer as concise as possible.\n",
        "Always say \"thanks for asking!\" at the end of the answer.\n",
        "\n",
        "{context}\n",
        "\n",
        "Question: {question}\n",
        "\n",
        "Helpful Answer:\"\"\"\n",
        "custom_rag_prompt = PromptTemplate.from_template(template)"
      ],
      "metadata": {
        "id": "ejwzTAoIXZQZ"
      },
      "execution_count": 20,
      "outputs": []
    },
    {
      "cell_type": "code",
      "source": [
        "for step in graph.stream(\n",
        "    {\"question\": \"Wann fand die Bundestagswahl 2025 statt?\"}, stream_mode=\"updates\"\n",
        "):\n",
        "    print(f\"{step}\\n\\n----------------\\n\")\n"
      ],
      "metadata": {
        "colab": {
          "base_uri": "https://localhost:8080/"
        },
        "id": "07nREUuvOIwp",
        "outputId": "120d601b-9745-40a7-fde9-038688536046"
      },
      "execution_count": 21,
      "outputs": [
        {
          "output_type": "stream",
          "name": "stdout",
          "text": [
            "{'retrieve': {'context': [Document(metadata={'language': 'de', 'source': 'https://de.wikipedia.org/wiki/Bundestagswahl_2025', 'title': 'Bundestagswahl 2025 – Wikipedia'}, page_content='Bundestagswahl 2025 – Wikipedia\\n\\n\\n\\n\\n\\n\\n\\n\\n\\n\\n\\n\\n\\n\\n\\n\\n\\n\\n\\n\\n\\n\\n\\n\\n\\n\\n\\n\\n\\n\\n\\n\\n\\n\\n\\n\\nZum Inhalt springen\\n\\n\\n\\n\\n\\n\\n\\nHauptmenü\\n\\n\\n\\n\\n\\nHauptmenü\\nIn die Seitenleiste verschieben\\nVerbergen\\n\\n\\n\\n\\t\\tNavigation\\n\\t\\n\\n\\nHauptseiteThemenportaleZufälliger ArtikelSpezialseiten\\n\\n\\n\\n\\n\\n\\t\\tMitmachen\\n\\t\\n\\n\\nArtikel verbessernNeuen Artikel anlegenAutorenportalHilfeLetzte ÄnderungenKontakt\\n\\n\\n\\n\\n\\n\\n\\n\\n\\n\\n\\n\\n\\n\\n\\n\\n\\n\\n\\nSuche\\n\\n\\n\\n\\n\\n\\n\\n\\n\\n\\n\\nSuchen\\n\\n\\n\\n\\n\\n\\n\\n\\n\\n\\n\\n\\n\\n\\n\\n\\n\\n\\n\\n\\n\\n\\nErscheinungsbild\\n\\n\\n\\n\\n\\n\\n\\n\\n\\n\\n\\n\\n\\n\\n\\n\\nSpenden\\n\\nBenutzerkonto erstellen\\n\\nAnmelden\\n\\n\\n\\n\\n\\n\\n\\n\\nMeine Werkzeuge\\n\\n\\n\\n\\n\\nSpenden Benutzerkonto erstellen Anmelden\\n\\n\\n\\n\\n\\n\\t\\tSeiten für nicht angemeldete Benutzer weitere Informationen\\n\\n\\n\\nBeiträgeDiskussionsseite\\n\\n\\n\\n\\n\\n\\n\\n\\n\\n\\n\\n\\n\\n\\n\\n\\n\\n\\n\\n\\n\\n\\n\\n\\n\\n\\n\\n\\nInhaltsverzeichnis\\nIn die Seitenleiste verschieben\\nVerbergen\\n\\n\\n\\n\\n(Anfang)\\n\\n\\n\\n\\n\\n1\\nTermin\\n\\n\\n\\n\\n\\n\\n\\n\\n2\\nWahlrecht\\n\\n\\n\\n\\n\\n\\n\\n\\n3\\nAusgangslage\\n\\n\\n\\n\\nUnterabschnitt Ausgangslage umschalten\\n\\n\\n\\n\\n\\n3.1\\nVorherige Bundestagswahl\\n\\n\\n\\n\\n\\n\\n\\n\\n3.2\\nSitzverteilung im 20. Bundestag\\n\\n\\n\\n\\n\\n\\n\\n\\n3.3\\nRegierungsbildung 2021'), Document(metadata={'language': 'de', 'source': 'https://de.wikipedia.org/wiki/Bundestagswahl_2025', 'title': 'Bundestagswahl 2025 – Wikipedia'}, page_content='Bundestagswahl 2025 – Wikipedia\\n\\n\\n\\n\\n\\n\\n\\n\\n\\n\\n\\n\\n\\n\\n\\n\\n\\n\\n\\n\\n\\n\\n\\n\\n\\n\\n\\n\\n\\n\\n\\n\\n\\n\\n\\n\\nZum Inhalt springen\\n\\n\\n\\n\\n\\n\\n\\nHauptmenü\\n\\n\\n\\n\\n\\nHauptmenü\\nIn die Seitenleiste verschieben\\nVerbergen\\n\\n\\n\\n\\t\\tNavigation\\n\\t\\n\\n\\nHauptseiteThemenportaleZufälliger ArtikelSpezialseiten\\n\\n\\n\\n\\n\\n\\t\\tMitmachen\\n\\t\\n\\n\\nArtikel verbessernNeuen Artikel anlegenAutorenportalHilfeLetzte ÄnderungenKontakt\\n\\n\\n\\n\\n\\n\\n\\n\\n\\n\\n\\n\\n\\n\\n\\n\\n\\n\\n\\nSuche\\n\\n\\n\\n\\n\\n\\n\\n\\n\\n\\n\\nSuchen\\n\\n\\n\\n\\n\\n\\n\\n\\n\\n\\n\\n\\n\\n\\n\\n\\n\\n\\n\\n\\n\\n\\nErscheinungsbild\\n\\n\\n\\n\\n\\n\\n\\n\\n\\n\\n\\n\\n\\n\\n\\n\\nSpenden\\n\\nBenutzerkonto erstellen\\n\\nAnmelden\\n\\n\\n\\n\\n\\n\\n\\n\\nMeine Werkzeuge\\n\\n\\n\\n\\n\\nSpenden Benutzerkonto erstellen Anmelden\\n\\n\\n\\n\\n\\n\\t\\tSeiten für nicht angemeldete Benutzer weitere Informationen\\n\\n\\n\\nBeiträgeDiskussionsseite\\n\\n\\n\\n\\n\\n\\n\\n\\n\\n\\n\\n\\n\\n\\n\\n\\n\\n\\n\\n\\n\\n\\n\\n\\n\\n\\n\\n\\nInhaltsverzeichnis\\nIn die Seitenleiste verschieben\\nVerbergen\\n\\n\\n\\n\\n(Anfang)\\n\\n\\n\\n\\n\\n1\\nTermin\\n\\n\\n\\n\\n\\n\\n\\n\\n2\\nWahlrecht\\n\\n\\n\\n\\n\\n\\n\\n\\n3\\nAusgangslage\\n\\n\\n\\n\\nUnterabschnitt Ausgangslage umschalten\\n\\n\\n\\n\\n\\n3.1\\nVorherige Bundestagswahl\\n\\n\\n\\n\\n\\n\\n\\n\\n3.2\\nSitzverteilung im 20. Bundestag\\n\\n\\n\\n\\n\\n\\n\\n\\n3.3\\nRegierungsbildung 2021'), Document(metadata={'language': 'de', 'source': 'https://de.wikipedia.org/wiki/Bundestagswahl_2025', 'title': 'Bundestagswahl 2025 – Wikipedia'}, page_content='↑ Noch nicht Rekord: Bundestagswahl verzeichnet hohen Anstieg bei Wahlbeteiligung. 23.\\xa0Februar 2025, abgerufen am 23.\\xa0Februar 2025.\\xa0\\n\\n↑ Bundestagswahl 2025: Wahlbeteiligung steigt auf 83 bis 84 Prozent. In: Der Spiegel. 23.\\xa0Februar 2025, ISSN\\xa02195-1349 (spiegel.de [abgerufen am 23.\\xa0Februar 2025]).\\xa0\\n\\n↑ Ergebnisse Deutschland – Die Bundeswahlleiterin. Abgerufen am 24.\\xa0Februar 2025.\\xa0\\n\\n↑ Weniger Wähler: Stimmberechtigte bei Bundestagswahl sinken im Vergleich zu 2021, n-tv, 4. Dezember 2024: „Im Bundesgebiet sind aktuell mindestens 59,2 Millionen Deutsche wahlberechtigt, wie das Statistische Bundesamt am Mittwoch schätzte. 2021 waren es noch rund 61,2 Millionen Personen. ‚Die Differenz geht vor allem auf die demografische Entwicklung zurück‘, hieß es zur Begründung.“\\n\\n↑ Bundestagswahl 2021: Erststimmen Prozente, bundeswahlleiterin.de, abgerufen am 25. Februar 2025\\n\\n↑ Bundestagswahl 2025: Erststimmen Prozente, bundeswahlleiterin.de, abgerufen am 25. Februar 2025'), Document(metadata={'language': 'de', 'source': 'https://de.wikipedia.org/wiki/Bundestagswahl_2025', 'title': 'Bundestagswahl 2025 – Wikipedia'}, page_content='↑ Noch nicht Rekord: Bundestagswahl verzeichnet hohen Anstieg bei Wahlbeteiligung. 23.\\xa0Februar 2025, abgerufen am 23.\\xa0Februar 2025.\\xa0\\n\\n↑ Bundestagswahl 2025: Wahlbeteiligung steigt auf 83 bis 84 Prozent. In: Der Spiegel. 23.\\xa0Februar 2025, ISSN\\xa02195-1349 (spiegel.de [abgerufen am 23.\\xa0Februar 2025]).\\xa0\\n\\n↑ Ergebnisse Deutschland – Die Bundeswahlleiterin. Abgerufen am 24.\\xa0Februar 2025.\\xa0\\n\\n↑ Weniger Wähler: Stimmberechtigte bei Bundestagswahl sinken im Vergleich zu 2021, n-tv, 4. Dezember 2024: „Im Bundesgebiet sind aktuell mindestens 59,2 Millionen Deutsche wahlberechtigt, wie das Statistische Bundesamt am Mittwoch schätzte. 2021 waren es noch rund 61,2 Millionen Personen. ‚Die Differenz geht vor allem auf die demografische Entwicklung zurück‘, hieß es zur Begründung.“\\n\\n↑ Bundestagswahl 2021: Erststimmen Prozente, bundeswahlleiterin.de, abgerufen am 25. Februar 2025\\n\\n↑ Bundestagswahl 2025: Erststimmen Prozente, bundeswahlleiterin.de, abgerufen am 25. Februar 2025')]}}\n",
            "\n",
            "----------------\n",
            "\n",
            "{'generate': {'answer': 'Die Bundestagswahl 2025 fand am 23. Februar 2025 statt. Die Wahlbeteiligung stieg auf 83 bis 84 Prozent. Die Ergebnisse sind auf der Webseite der Bundeswahlleiterin abrufbar.'}}\n",
            "\n",
            "----------------\n",
            "\n"
          ]
        }
      ]
    },
    {
      "cell_type": "code",
      "source": [
        "from langchain_core.prompts import PromptTemplate\n",
        "\n",
        "template = \"\"\"Here is some information that might help answer the question below.\n",
        "If you're not sure about the answer, it's okay to say you don't know.\n",
        "Please keep the answer short and friendly – no more than three sentences.\n",
        "End your answer with: \"Hope that helps!\"\n",
        "\n",
        "{context}\n",
        "\n",
        "Question: {question}\n",
        "\n",
        "Helpful Answer:\"\"\"\n",
        "\n",
        "custom_rag_prompt = PromptTemplate.from_template(template)"
      ],
      "metadata": {
        "id": "uMDrmY2CPTrG"
      },
      "execution_count": 22,
      "outputs": []
    },
    {
      "cell_type": "code",
      "source": [
        "for step in graph.stream(\n",
        "    {\"question\": \"Welche Partei bekam die meisten Zweitstimmen bei der Wahl 2025?\"}, stream_mode=\"updates\"\n",
        "):\n",
        "    print(f\"{step}\\n\\n----------------\\n\")\n"
      ],
      "metadata": {
        "colab": {
          "base_uri": "https://localhost:8080/"
        },
        "id": "d05OsUgGPX97",
        "outputId": "896ffc5b-08dc-4745-a2ef-711081fe73f0"
      },
      "execution_count": 23,
      "outputs": [
        {
          "output_type": "stream",
          "name": "stdout",
          "text": [
            "{'retrieve': {'context': [Document(metadata={'language': 'de', 'source': 'https://de.wikipedia.org/wiki/Bundestagswahl_2025', 'title': 'Bundestagswahl 2025 – Wikipedia'}, page_content='Außerhalb der genannten Parteien gewann nur der von der Sperrklausel ausgenommene Südschleswigsche Wählerverband ein Mandat. Die Partei der dänischen Minderheit erreichte 76.126 Zweitstimmen, was 4,0\\xa0% der Zweitstimmen in Schleswig-Holstein entsprach. Rechnerisch hätten der Partei bereits 34.100 Stimmen für das erste Mandat gereicht; für ein zweites Mandat hätte sie rund 102.500 Stimmen erzielen müssen. Schon 2021 hatte der SSW 55.578 Zweitstimmen in Schleswig-Holstein erhalten, was 3,2\\xa0% der dortigen Zweitstimmen entsprach.[32][120] Die Freien Wähler, welche den Einzug in den Bundestag als Ziel ausgaben, verloren im Gegenteil einen Prozentpunkt im Vergleich zur Wahl 2021.'), Document(metadata={'language': 'de', 'source': 'https://de.wikipedia.org/wiki/Bundestagswahl_2025', 'title': 'Bundestagswahl 2025 – Wikipedia'}, page_content='Außerhalb der genannten Parteien gewann nur der von der Sperrklausel ausgenommene Südschleswigsche Wählerverband ein Mandat. Die Partei der dänischen Minderheit erreichte 76.126 Zweitstimmen, was 4,0\\xa0% der Zweitstimmen in Schleswig-Holstein entsprach. Rechnerisch hätten der Partei bereits 34.100 Stimmen für das erste Mandat gereicht; für ein zweites Mandat hätte sie rund 102.500 Stimmen erzielen müssen. Schon 2021 hatte der SSW 55.578 Zweitstimmen in Schleswig-Holstein erhalten, was 3,2\\xa0% der dortigen Zweitstimmen entsprach.[32][120] Die Freien Wähler, welche den Einzug in den Bundestag als Ziel ausgaben, verloren im Gegenteil einen Prozentpunkt im Vergleich zur Wahl 2021.'), Document(metadata={'language': 'de', 'source': 'https://de.wikipedia.org/wiki/Bundestagswahl_2025', 'title': 'Bundestagswahl 2025 – Wikipedia'}, page_content='Bei der Bundestagswahl 2025 schaffte es das Bündnis aus CDU und CSU, die Spitzenposition zurückzuholen, nachdem sie diese bei der Bundestagswahl 2021 an die SPD verloren hatte. Mit 28,5\\xa0% der Zweitstimmen steigerte die Union ihr Zweitstimmenergebnis hingegen nur leicht und blieb damit erneut deutlich unter den Resultaten über 32\\xa0% der Merkel-Ära, auch unter den 31\\xa0% von 1949. Für die CDU war es somit das zweitschlechteste Abschneiden in der Geschichte der Bundesrepublik, für die CSU das drittschlechteste. Der CSU gelang es, alle 47 Wahlkreise in Bayern zu gewinnen, wobei nur die 44 höchsten Erststimmenergebnisse auch Direktmandate zugeteilt bekamen, drei bayrische Wahlkreissieger bekamen kein Mandat da dem bundesweiten Zweitstimmenergebnis der Partei eine entsprechende Anzahl von Mandaten zugeteilt wird'), Document(metadata={'language': 'de', 'source': 'https://de.wikipedia.org/wiki/Bundestagswahl_2025', 'title': 'Bundestagswahl 2025 – Wikipedia'}, page_content='Bei der Bundestagswahl 2025 schaffte es das Bündnis aus CDU und CSU, die Spitzenposition zurückzuholen, nachdem sie diese bei der Bundestagswahl 2021 an die SPD verloren hatte. Mit 28,5\\xa0% der Zweitstimmen steigerte die Union ihr Zweitstimmenergebnis hingegen nur leicht und blieb damit erneut deutlich unter den Resultaten über 32\\xa0% der Merkel-Ära, auch unter den 31\\xa0% von 1949. Für die CDU war es somit das zweitschlechteste Abschneiden in der Geschichte der Bundesrepublik, für die CSU das drittschlechteste. Der CSU gelang es, alle 47 Wahlkreise in Bayern zu gewinnen, wobei nur die 44 höchsten Erststimmenergebnisse auch Direktmandate zugeteilt bekamen, drei bayrische Wahlkreissieger bekamen kein Mandat da dem bundesweiten Zweitstimmenergebnis der Partei eine entsprechende Anzahl von Mandaten zugeteilt wird')]}}\n",
            "\n",
            "----------------\n",
            "\n",
            "{'generate': {'answer': 'Das Bündnis aus CDU und CSU hat bei der Bundestagswahl 2025 mit 28,5 % die meisten Zweitstimmen erhalten. Damit konnten sie die Spitzenposition von der SPD zurückgewinnen. Es war jedoch das zweitschlechteste Ergebnis für die CDU in der Geschichte der Bundesrepublik.'}}\n",
            "\n",
            "----------------\n",
            "\n"
          ]
        }
      ]
    },
    {
      "cell_type": "code",
      "source": [
        "template = \"\"\"Based on the provided information, answer the following question as clearly and accurately as possible.\n",
        "Do not guess; if the information is insufficient, respond with \"Information not available.\"\n",
        "Limit your answer to three concise sentences.\n",
        "Conclude with: \"Thank you for your question.\"\n",
        "\n",
        "{context}\n",
        "\n",
        "Question: {question}\n",
        "\n",
        "Helpful Answer:\"\"\"\n",
        "\n",
        "custom_rag_prompt = PromptTemplate.from_template(template)"
      ],
      "metadata": {
        "id": "4HP9jB-WPX57"
      },
      "execution_count": 24,
      "outputs": []
    },
    {
      "cell_type": "code",
      "source": [
        "for step in graph.stream(\n",
        "    {\"question\": \"Welche Partei bekam die meisten Zweitstimmen bei der Wahl 2025?\"}, stream_mode=\"updates\"\n",
        "):\n",
        "    print(f\"{step}\\n\\n----------------\\n\")\n"
      ],
      "metadata": {
        "colab": {
          "base_uri": "https://localhost:8080/"
        },
        "id": "aVzS7HUSPXGw",
        "outputId": "c7c586a5-1393-403c-b8af-5efd501d2ba3"
      },
      "execution_count": 25,
      "outputs": [
        {
          "output_type": "stream",
          "name": "stdout",
          "text": [
            "{'retrieve': {'context': [Document(metadata={'language': 'de', 'source': 'https://de.wikipedia.org/wiki/Bundestagswahl_2025', 'title': 'Bundestagswahl 2025 – Wikipedia'}, page_content='Außerhalb der genannten Parteien gewann nur der von der Sperrklausel ausgenommene Südschleswigsche Wählerverband ein Mandat. Die Partei der dänischen Minderheit erreichte 76.126 Zweitstimmen, was 4,0\\xa0% der Zweitstimmen in Schleswig-Holstein entsprach. Rechnerisch hätten der Partei bereits 34.100 Stimmen für das erste Mandat gereicht; für ein zweites Mandat hätte sie rund 102.500 Stimmen erzielen müssen. Schon 2021 hatte der SSW 55.578 Zweitstimmen in Schleswig-Holstein erhalten, was 3,2\\xa0% der dortigen Zweitstimmen entsprach.[32][120] Die Freien Wähler, welche den Einzug in den Bundestag als Ziel ausgaben, verloren im Gegenteil einen Prozentpunkt im Vergleich zur Wahl 2021.'), Document(metadata={'language': 'de', 'source': 'https://de.wikipedia.org/wiki/Bundestagswahl_2025', 'title': 'Bundestagswahl 2025 – Wikipedia'}, page_content='Außerhalb der genannten Parteien gewann nur der von der Sperrklausel ausgenommene Südschleswigsche Wählerverband ein Mandat. Die Partei der dänischen Minderheit erreichte 76.126 Zweitstimmen, was 4,0\\xa0% der Zweitstimmen in Schleswig-Holstein entsprach. Rechnerisch hätten der Partei bereits 34.100 Stimmen für das erste Mandat gereicht; für ein zweites Mandat hätte sie rund 102.500 Stimmen erzielen müssen. Schon 2021 hatte der SSW 55.578 Zweitstimmen in Schleswig-Holstein erhalten, was 3,2\\xa0% der dortigen Zweitstimmen entsprach.[32][120] Die Freien Wähler, welche den Einzug in den Bundestag als Ziel ausgaben, verloren im Gegenteil einen Prozentpunkt im Vergleich zur Wahl 2021.'), Document(metadata={'language': 'de', 'source': 'https://de.wikipedia.org/wiki/Bundestagswahl_2025', 'title': 'Bundestagswahl 2025 – Wikipedia'}, page_content='Bei der Bundestagswahl 2025 schaffte es das Bündnis aus CDU und CSU, die Spitzenposition zurückzuholen, nachdem sie diese bei der Bundestagswahl 2021 an die SPD verloren hatte. Mit 28,5\\xa0% der Zweitstimmen steigerte die Union ihr Zweitstimmenergebnis hingegen nur leicht und blieb damit erneut deutlich unter den Resultaten über 32\\xa0% der Merkel-Ära, auch unter den 31\\xa0% von 1949. Für die CDU war es somit das zweitschlechteste Abschneiden in der Geschichte der Bundesrepublik, für die CSU das drittschlechteste. Der CSU gelang es, alle 47 Wahlkreise in Bayern zu gewinnen, wobei nur die 44 höchsten Erststimmenergebnisse auch Direktmandate zugeteilt bekamen, drei bayrische Wahlkreissieger bekamen kein Mandat da dem bundesweiten Zweitstimmenergebnis der Partei eine entsprechende Anzahl von Mandaten zugeteilt wird'), Document(metadata={'language': 'de', 'source': 'https://de.wikipedia.org/wiki/Bundestagswahl_2025', 'title': 'Bundestagswahl 2025 – Wikipedia'}, page_content='Bei der Bundestagswahl 2025 schaffte es das Bündnis aus CDU und CSU, die Spitzenposition zurückzuholen, nachdem sie diese bei der Bundestagswahl 2021 an die SPD verloren hatte. Mit 28,5\\xa0% der Zweitstimmen steigerte die Union ihr Zweitstimmenergebnis hingegen nur leicht und blieb damit erneut deutlich unter den Resultaten über 32\\xa0% der Merkel-Ära, auch unter den 31\\xa0% von 1949. Für die CDU war es somit das zweitschlechteste Abschneiden in der Geschichte der Bundesrepublik, für die CSU das drittschlechteste. Der CSU gelang es, alle 47 Wahlkreise in Bayern zu gewinnen, wobei nur die 44 höchsten Erststimmenergebnisse auch Direktmandate zugeteilt bekamen, drei bayrische Wahlkreissieger bekamen kein Mandat da dem bundesweiten Zweitstimmenergebnis der Partei eine entsprechende Anzahl von Mandaten zugeteilt wird')]}}\n",
            "\n",
            "----------------\n",
            "\n",
            "{'generate': {'answer': 'Das Bündnis aus CDU und CSU holte sich bei der Bundestagswahl 2025 mit 28,5 % der Zweitstimmen die Spitzenposition zurück. Damit übertrafen sie das Ergebnis der SPD von 2021. Es war jedoch das zweitschlechteste Ergebnis für die CDU in der Geschichte der Bundesrepublik.'}}\n",
            "\n",
            "----------------\n",
            "\n"
          ]
        }
      ]
    },
    {
      "cell_type": "code",
      "source": [
        "template = \"\"\"Use the information below to answer the question.\n",
        "If you don't know the answer, just say: \"I’m not sure from this information.\"\n",
        "Keep the answer short – up to three sentences – and easy to understand.\n",
        "Always say: \"Thanks for your question!\" at the end.\n",
        "\n",
        "{context}\n",
        "\n",
        "Question: {question}\n",
        "\n",
        "Helpful Answer:\"\"\"\n",
        "custom_rag_prompt = PromptTemplate.from_template(template)"
      ],
      "metadata": {
        "id": "1oTh3T6CPWJR"
      },
      "execution_count": 26,
      "outputs": []
    },
    {
      "cell_type": "code",
      "source": [
        "for step in graph.stream(\n",
        "    {\"question\": \"Wie hoch war die Wahlbeteiligung bei der Bundestagswahl 2025?\"}, stream_mode=\"updates\"\n",
        "):\n",
        "    print(f\"{step}\\n\\n----------------\\n\")\n"
      ],
      "metadata": {
        "colab": {
          "base_uri": "https://localhost:8080/"
        },
        "id": "oQBhVTssPWA1",
        "outputId": "75014469-f3e2-4492-812b-f48373c229b8"
      },
      "execution_count": 27,
      "outputs": [
        {
          "output_type": "stream",
          "name": "stdout",
          "text": [
            "{'retrieve': {'context': [Document(metadata={'language': 'de', 'source': 'https://de.wikipedia.org/wiki/Bundestagswahl_2025', 'title': 'Bundestagswahl 2025 – Wikipedia'}, page_content='↑ Noch nicht Rekord: Bundestagswahl verzeichnet hohen Anstieg bei Wahlbeteiligung. 23.\\xa0Februar 2025, abgerufen am 23.\\xa0Februar 2025.\\xa0\\n\\n↑ Bundestagswahl 2025: Wahlbeteiligung steigt auf 83 bis 84 Prozent. In: Der Spiegel. 23.\\xa0Februar 2025, ISSN\\xa02195-1349 (spiegel.de [abgerufen am 23.\\xa0Februar 2025]).\\xa0\\n\\n↑ Ergebnisse Deutschland – Die Bundeswahlleiterin. Abgerufen am 24.\\xa0Februar 2025.\\xa0\\n\\n↑ Weniger Wähler: Stimmberechtigte bei Bundestagswahl sinken im Vergleich zu 2021, n-tv, 4. Dezember 2024: „Im Bundesgebiet sind aktuell mindestens 59,2 Millionen Deutsche wahlberechtigt, wie das Statistische Bundesamt am Mittwoch schätzte. 2021 waren es noch rund 61,2 Millionen Personen. ‚Die Differenz geht vor allem auf die demografische Entwicklung zurück‘, hieß es zur Begründung.“\\n\\n↑ Bundestagswahl 2021: Erststimmen Prozente, bundeswahlleiterin.de, abgerufen am 25. Februar 2025\\n\\n↑ Bundestagswahl 2025: Erststimmen Prozente, bundeswahlleiterin.de, abgerufen am 25. Februar 2025'), Document(metadata={'language': 'de', 'source': 'https://de.wikipedia.org/wiki/Bundestagswahl_2025', 'title': 'Bundestagswahl 2025 – Wikipedia'}, page_content='↑ Noch nicht Rekord: Bundestagswahl verzeichnet hohen Anstieg bei Wahlbeteiligung. 23.\\xa0Februar 2025, abgerufen am 23.\\xa0Februar 2025.\\xa0\\n\\n↑ Bundestagswahl 2025: Wahlbeteiligung steigt auf 83 bis 84 Prozent. In: Der Spiegel. 23.\\xa0Februar 2025, ISSN\\xa02195-1349 (spiegel.de [abgerufen am 23.\\xa0Februar 2025]).\\xa0\\n\\n↑ Ergebnisse Deutschland – Die Bundeswahlleiterin. Abgerufen am 24.\\xa0Februar 2025.\\xa0\\n\\n↑ Weniger Wähler: Stimmberechtigte bei Bundestagswahl sinken im Vergleich zu 2021, n-tv, 4. Dezember 2024: „Im Bundesgebiet sind aktuell mindestens 59,2 Millionen Deutsche wahlberechtigt, wie das Statistische Bundesamt am Mittwoch schätzte. 2021 waren es noch rund 61,2 Millionen Personen. ‚Die Differenz geht vor allem auf die demografische Entwicklung zurück‘, hieß es zur Begründung.“\\n\\n↑ Bundestagswahl 2021: Erststimmen Prozente, bundeswahlleiterin.de, abgerufen am 25. Februar 2025\\n\\n↑ Bundestagswahl 2025: Erststimmen Prozente, bundeswahlleiterin.de, abgerufen am 25. Februar 2025'), Document(metadata={'language': 'de', 'source': 'https://de.wikipedia.org/wiki/Bundestagswahl_2025', 'title': 'Bundestagswahl 2025 – Wikipedia'}, page_content='Bundestagswahl 2025 – Wikipedia\\n\\n\\n\\n\\n\\n\\n\\n\\n\\n\\n\\n\\n\\n\\n\\n\\n\\n\\n\\n\\n\\n\\n\\n\\n\\n\\n\\n\\n\\n\\n\\n\\n\\n\\n\\n\\nZum Inhalt springen\\n\\n\\n\\n\\n\\n\\n\\nHauptmenü\\n\\n\\n\\n\\n\\nHauptmenü\\nIn die Seitenleiste verschieben\\nVerbergen\\n\\n\\n\\n\\t\\tNavigation\\n\\t\\n\\n\\nHauptseiteThemenportaleZufälliger ArtikelSpezialseiten\\n\\n\\n\\n\\n\\n\\t\\tMitmachen\\n\\t\\n\\n\\nArtikel verbessernNeuen Artikel anlegenAutorenportalHilfeLetzte ÄnderungenKontakt\\n\\n\\n\\n\\n\\n\\n\\n\\n\\n\\n\\n\\n\\n\\n\\n\\n\\n\\n\\nSuche\\n\\n\\n\\n\\n\\n\\n\\n\\n\\n\\n\\nSuchen\\n\\n\\n\\n\\n\\n\\n\\n\\n\\n\\n\\n\\n\\n\\n\\n\\n\\n\\n\\n\\n\\n\\nErscheinungsbild\\n\\n\\n\\n\\n\\n\\n\\n\\n\\n\\n\\n\\n\\n\\n\\n\\nSpenden\\n\\nBenutzerkonto erstellen\\n\\nAnmelden\\n\\n\\n\\n\\n\\n\\n\\n\\nMeine Werkzeuge\\n\\n\\n\\n\\n\\nSpenden Benutzerkonto erstellen Anmelden\\n\\n\\n\\n\\n\\n\\t\\tSeiten für nicht angemeldete Benutzer weitere Informationen\\n\\n\\n\\nBeiträgeDiskussionsseite\\n\\n\\n\\n\\n\\n\\n\\n\\n\\n\\n\\n\\n\\n\\n\\n\\n\\n\\n\\n\\n\\n\\n\\n\\n\\n\\n\\n\\nInhaltsverzeichnis\\nIn die Seitenleiste verschieben\\nVerbergen\\n\\n\\n\\n\\n(Anfang)\\n\\n\\n\\n\\n\\n1\\nTermin\\n\\n\\n\\n\\n\\n\\n\\n\\n2\\nWahlrecht\\n\\n\\n\\n\\n\\n\\n\\n\\n3\\nAusgangslage\\n\\n\\n\\n\\nUnterabschnitt Ausgangslage umschalten\\n\\n\\n\\n\\n\\n3.1\\nVorherige Bundestagswahl\\n\\n\\n\\n\\n\\n\\n\\n\\n3.2\\nSitzverteilung im 20. Bundestag\\n\\n\\n\\n\\n\\n\\n\\n\\n3.3\\nRegierungsbildung 2021'), Document(metadata={'language': 'de', 'source': 'https://de.wikipedia.org/wiki/Bundestagswahl_2025', 'title': 'Bundestagswahl 2025 – Wikipedia'}, page_content='Bundestagswahl 2025 – Wikipedia\\n\\n\\n\\n\\n\\n\\n\\n\\n\\n\\n\\n\\n\\n\\n\\n\\n\\n\\n\\n\\n\\n\\n\\n\\n\\n\\n\\n\\n\\n\\n\\n\\n\\n\\n\\n\\nZum Inhalt springen\\n\\n\\n\\n\\n\\n\\n\\nHauptmenü\\n\\n\\n\\n\\n\\nHauptmenü\\nIn die Seitenleiste verschieben\\nVerbergen\\n\\n\\n\\n\\t\\tNavigation\\n\\t\\n\\n\\nHauptseiteThemenportaleZufälliger ArtikelSpezialseiten\\n\\n\\n\\n\\n\\n\\t\\tMitmachen\\n\\t\\n\\n\\nArtikel verbessernNeuen Artikel anlegenAutorenportalHilfeLetzte ÄnderungenKontakt\\n\\n\\n\\n\\n\\n\\n\\n\\n\\n\\n\\n\\n\\n\\n\\n\\n\\n\\n\\nSuche\\n\\n\\n\\n\\n\\n\\n\\n\\n\\n\\n\\nSuchen\\n\\n\\n\\n\\n\\n\\n\\n\\n\\n\\n\\n\\n\\n\\n\\n\\n\\n\\n\\n\\n\\n\\nErscheinungsbild\\n\\n\\n\\n\\n\\n\\n\\n\\n\\n\\n\\n\\n\\n\\n\\n\\nSpenden\\n\\nBenutzerkonto erstellen\\n\\nAnmelden\\n\\n\\n\\n\\n\\n\\n\\n\\nMeine Werkzeuge\\n\\n\\n\\n\\n\\nSpenden Benutzerkonto erstellen Anmelden\\n\\n\\n\\n\\n\\n\\t\\tSeiten für nicht angemeldete Benutzer weitere Informationen\\n\\n\\n\\nBeiträgeDiskussionsseite\\n\\n\\n\\n\\n\\n\\n\\n\\n\\n\\n\\n\\n\\n\\n\\n\\n\\n\\n\\n\\n\\n\\n\\n\\n\\n\\n\\n\\nInhaltsverzeichnis\\nIn die Seitenleiste verschieben\\nVerbergen\\n\\n\\n\\n\\n(Anfang)\\n\\n\\n\\n\\n\\n1\\nTermin\\n\\n\\n\\n\\n\\n\\n\\n\\n2\\nWahlrecht\\n\\n\\n\\n\\n\\n\\n\\n\\n3\\nAusgangslage\\n\\n\\n\\n\\nUnterabschnitt Ausgangslage umschalten\\n\\n\\n\\n\\n\\n3.1\\nVorherige Bundestagswahl\\n\\n\\n\\n\\n\\n\\n\\n\\n3.2\\nSitzverteilung im 20. Bundestag\\n\\n\\n\\n\\n\\n\\n\\n\\n3.3\\nRegierungsbildung 2021')]}}\n",
            "\n",
            "----------------\n",
            "\n",
            "{'generate': {'answer': 'Die Wahlbeteiligung bei der Bundestagswahl 2025 stieg auf 83 bis 84 Prozent. Dies geht aus einem Artikel im Spiegel vom 23. Februar 2025 hervor. Es gab einen hohen Anstieg der Wahlbeteiligung im Vergleich zu vorherigen Wahlen.'}}\n",
            "\n",
            "----------------\n",
            "\n"
          ]
        }
      ]
    },
    {
      "cell_type": "code",
      "source": [
        "template = \"\"\"Read the context and use it to answer the question below.\n",
        "Do not provide an answer unless the context clearly supports it.\n",
        "Answer in no more than three sentences.\n",
        "End your response with: \"Thanks for asking!\"\n",
        "\n",
        "{context}\n",
        "\n",
        "Question: {question}\n",
        "\n",
        "Helpful Answer:\"\"\"\n",
        "custom_rag_prompt = PromptTemplate.from_template(template)"
      ],
      "metadata": {
        "id": "9oSnPzlsPV3X"
      },
      "execution_count": 28,
      "outputs": []
    },
    {
      "cell_type": "code",
      "source": [
        "for step in graph.stream(\n",
        "    {\"question\": \"Welche Partei stellte 2025 den Kanzlerkandidaten Friedrich Merz?\"}, stream_mode=\"updates\"\n",
        "):\n",
        "    print(f\"{step}\\n\\n----------------\\n\")\n",
        "\n"
      ],
      "metadata": {
        "colab": {
          "base_uri": "https://localhost:8080/"
        },
        "id": "m8GN_qzPU92T",
        "outputId": "9a1bad68-6f30-416f-8770-600cdc57dbab"
      },
      "execution_count": 29,
      "outputs": [
        {
          "output_type": "stream",
          "name": "stdout",
          "text": [
            "{'retrieve': {'context': [Document(metadata={'language': 'de', 'source': 'https://de.wikipedia.org/wiki/Bundestagswahl_2025', 'title': 'Bundestagswahl 2025 – Wikipedia'}, page_content='↑ CDU und CSU: Merz wird Kanzlerkandidat der Union. In: Tagesschau. Norddeutscher Rundfunk, 18.\\xa0September 2024, abgerufen am 18.\\xa0September 2024.\\xa0\\n\\n↑ Wüst sieht von Kanzlerkandidatur ab – und unterstützt Merz. In: Spiegel. 16.\\xa0September 2024, abgerufen am 16.\\xa0September 2024.\\xa0\\n\\n↑ Das Kanzlerkandidaten-Karussell der Union. ZDF, 4.\\xa0Oktober 2023, abgerufen am 20.\\xa0Oktober 2023.\\xa0\\n\\n↑ Baerbock schließt erneute Kanzlerkandidatur aus. In: tagesschau.de. 10.\\xa0Juli 2024, abgerufen am 8.\\xa0November 2024.\\xa0\\n\\n↑ Matthias Deiß: So begründet Habeck seine Kanzlerkandidatur. In: tagesschau.de. 8.\\xa0November 2024, abgerufen am 8.\\xa0November 2024.\\xa0\\n\\n↑ Markus Balser, Vivien Timmler: Grüne: Robert Habeck tritt im Spitzenduo mit Annalena Baerbock an. 14.\\xa0November 2024, abgerufen am 15.\\xa0November 2024.\\xa0\\n\\n↑ Nach Bruch der Ampel-Koalition – FDP-Chef Lindner will seine Partei erneut als Spitzenkandidat in die Bundestagswahl führen. In: deutschlandfunk.de. 7.\\xa0November 2024, abgerufen am 8.\\xa0November 2024.'), Document(metadata={'language': 'de', 'source': 'https://de.wikipedia.org/wiki/Bundestagswahl_2025', 'title': 'Bundestagswahl 2025 – Wikipedia'}, page_content='↑ CDU und CSU: Merz wird Kanzlerkandidat der Union. In: Tagesschau. Norddeutscher Rundfunk, 18.\\xa0September 2024, abgerufen am 18.\\xa0September 2024.\\xa0\\n\\n↑ Wüst sieht von Kanzlerkandidatur ab – und unterstützt Merz. In: Spiegel. 16.\\xa0September 2024, abgerufen am 16.\\xa0September 2024.\\xa0\\n\\n↑ Das Kanzlerkandidaten-Karussell der Union. ZDF, 4.\\xa0Oktober 2023, abgerufen am 20.\\xa0Oktober 2023.\\xa0\\n\\n↑ Baerbock schließt erneute Kanzlerkandidatur aus. In: tagesschau.de. 10.\\xa0Juli 2024, abgerufen am 8.\\xa0November 2024.\\xa0\\n\\n↑ Matthias Deiß: So begründet Habeck seine Kanzlerkandidatur. In: tagesschau.de. 8.\\xa0November 2024, abgerufen am 8.\\xa0November 2024.\\xa0\\n\\n↑ Markus Balser, Vivien Timmler: Grüne: Robert Habeck tritt im Spitzenduo mit Annalena Baerbock an. 14.\\xa0November 2024, abgerufen am 15.\\xa0November 2024.\\xa0\\n\\n↑ Nach Bruch der Ampel-Koalition – FDP-Chef Lindner will seine Partei erneut als Spitzenkandidat in die Bundestagswahl führen. In: deutschlandfunk.de. 7.\\xa0November 2024, abgerufen am 8.\\xa0November 2024.'), Document(metadata={'language': 'de', 'source': 'https://de.wikipedia.org/wiki/Bundestagswahl_2025', 'title': 'Bundestagswahl 2025 – Wikipedia'}, page_content='↑ Bundestagswahl 2021: Erststimmen Prozente, bundeswahlleiterin.de, abgerufen am 25. Februar 2025\\n\\n↑ Bundestagswahl 2025: Erststimmen Prozente, bundeswahlleiterin.de, abgerufen am 25. Februar 2025\\n\\n↑ Bundestagswahl 2025: Endgültiges Ergebnis. In: bundeswahlleiterin.de. 14.\\xa0März 2025, abgerufen am 14.\\xa0März 2025.\\xa0\\n\\n↑ Kabinett empfiehlt 28. September als Wahltag. In: Tagesschau. 24.\\xa0Juli 2024, abgerufen am 24.\\xa0Juli 2024.\\xa0\\n\\n↑ Bundespräsident Steinmeier fertigt Anordnung über Bundestagswahl aus. Bundespräsident, 23.\\xa0August 2024, abgerufen am 23.\\xa0August 2024.\\xa0\\n\\n↑ publisher: Bundesgesetzblatt Teil I – Anordnung über die Bundestagswahl 2025 – Bundesgesetzblatt. Archiviert vom Original (nicht mehr online verfügbar) am 14.\\xa0Februar 2025; abgerufen am 24.\\xa0Februar 2025.\\xa0\\n\\n↑ Pressestatement von Bundeskanzler Scholz zur Entlassung von Bundesfinanzminister Lindner am 6. November 2024 in Berlin. In: Bundeskanzler. www.bundeskanzler.de, 6.\\xa0November 2023, abgerufen am 12.\\xa0November 2024.'), Document(metadata={'language': 'de', 'source': 'https://de.wikipedia.org/wiki/Bundestagswahl_2025', 'title': 'Bundestagswahl 2025 – Wikipedia'}, page_content='↑ Bundestagswahl 2021: Erststimmen Prozente, bundeswahlleiterin.de, abgerufen am 25. Februar 2025\\n\\n↑ Bundestagswahl 2025: Erststimmen Prozente, bundeswahlleiterin.de, abgerufen am 25. Februar 2025\\n\\n↑ Bundestagswahl 2025: Endgültiges Ergebnis. In: bundeswahlleiterin.de. 14.\\xa0März 2025, abgerufen am 14.\\xa0März 2025.\\xa0\\n\\n↑ Kabinett empfiehlt 28. September als Wahltag. In: Tagesschau. 24.\\xa0Juli 2024, abgerufen am 24.\\xa0Juli 2024.\\xa0\\n\\n↑ Bundespräsident Steinmeier fertigt Anordnung über Bundestagswahl aus. Bundespräsident, 23.\\xa0August 2024, abgerufen am 23.\\xa0August 2024.\\xa0\\n\\n↑ publisher: Bundesgesetzblatt Teil I – Anordnung über die Bundestagswahl 2025 – Bundesgesetzblatt. Archiviert vom Original (nicht mehr online verfügbar) am 14.\\xa0Februar 2025; abgerufen am 24.\\xa0Februar 2025.\\xa0\\n\\n↑ Pressestatement von Bundeskanzler Scholz zur Entlassung von Bundesfinanzminister Lindner am 6. November 2024 in Berlin. In: Bundeskanzler. www.bundeskanzler.de, 6.\\xa0November 2023, abgerufen am 12.\\xa0November 2024.')]}}\n",
            "\n",
            "----------------\n",
            "\n",
            "{'generate': {'answer': 'Friedrich Merz war 2025 Kanzlerkandidat der CDU und CSU. Dies geht aus einem Tagesschau-Bericht vom 18. September 2024 hervor. Wüst unterstützte Merz ebenfalls bei seiner Kanzlerkandidatur.'}}\n",
            "\n",
            "----------------\n",
            "\n"
          ]
        }
      ]
    },
    {
      "cell_type": "markdown",
      "source": [
        "13. Query Analysis für 13 section"
      ],
      "metadata": {
        "id": "dUsU09cZMO14"
      }
    },
    {
      "cell_type": "code",
      "source": [
        "from math import ceil\n",
        "\n",
        "total = len(all_splits)\n",
        "chunk_size = ceil(total / 10)\n",
        "\n",
        "for i, doc in enumerate(all_splits):\n",
        "    section = (i // chunk_size) + 1\n",
        "    doc.metadata[\"section\"] = str(section)\n"
      ],
      "metadata": {
        "id": "-c5plj2VMQYI"
      },
      "execution_count": 30,
      "outputs": []
    },
    {
      "cell_type": "code",
      "source": [
        "from collections import Counter\n",
        "\n",
        "sections = [doc.metadata.get(\"section\") for doc in all_splits]\n",
        "count_per_section = Counter(sections)\n",
        "\n",
        "print(\" Dokumentanzahl pro Sektion:\")\n",
        "for section, count in sorted(count_per_section.items()):\n",
        "    print(f\"  Section {section}: {count} Dokumente\")"
      ],
      "metadata": {
        "colab": {
          "base_uri": "https://localhost:8080/"
        },
        "id": "SpRzPYDVT0oT",
        "outputId": "5c189c36-2351-40d5-d875-5e5f6a43266f"
      },
      "execution_count": 31,
      "outputs": [
        {
          "output_type": "stream",
          "name": "stdout",
          "text": [
            " Dokumentanzahl pro Sektion:\n",
            "  Section 1: 14 Dokumente\n",
            "  Section 10: 12 Dokumente\n",
            "  Section 2: 14 Dokumente\n",
            "  Section 3: 14 Dokumente\n",
            "  Section 4: 14 Dokumente\n",
            "  Section 5: 14 Dokumente\n",
            "  Section 6: 14 Dokumente\n",
            "  Section 7: 14 Dokumente\n",
            "  Section 8: 14 Dokumente\n",
            "  Section 9: 14 Dokumente\n"
          ]
        }
      ]
    },
    {
      "cell_type": "markdown",
      "source": [],
      "metadata": {
        "id": "SUa8618EN8rt"
      }
    },
    {
      "cell_type": "markdown",
      "source": [
        "14. Aktualisieren Sie die Dokumente in unserem Vektorspeicher"
      ],
      "metadata": {
        "id": "lE1EhZGIN9mY"
      }
    },
    {
      "cell_type": "code",
      "source": [
        "from langchain_core.vectorstores import InMemoryVectorStore\n",
        "\n",
        "vector_store = InMemoryVectorStore(embeddings)\n",
        "_ = vector_store.add_documents(all_splits)"
      ],
      "metadata": {
        "id": "cxD_fW0yU7_a"
      },
      "execution_count": 32,
      "outputs": []
    },
    {
      "cell_type": "markdown",
      "source": [
        "15. Define a schema for the search query."
      ],
      "metadata": {
        "id": "AJTDmS0aN7e8"
      }
    },
    {
      "cell_type": "code",
      "source": [
        "from typing import Literal\n",
        "from typing_extensions import Annotated\n",
        "from typing import TypedDict\n",
        "\n",
        "class Search(TypedDict):\n",
        "    query: Annotated[str, ..., \"Search query to run.\"]\n",
        "    section: Annotated[\n",
        "        Literal[\"1\", \"2\", \"3\", \"4\", \"5\", \"6\", \"7\", \"8\", \"9\", \"10\"],\n",
        "        ...,\n",
        "        \"Section to query (1–10).\"\n",
        "    ]\n"
      ],
      "metadata": {
        "id": "owZtgmASYPml"
      },
      "execution_count": 33,
      "outputs": []
    },
    {
      "cell_type": "markdown",
      "source": [
        "16.  Define prompt and  state for application"
      ],
      "metadata": {
        "id": "uj39SzyZbSRO"
      }
    },
    {
      "cell_type": "code",
      "source": [
        "from langgraph.graph import MessagesState, StateGraph\n",
        "\n",
        "graph_builder = StateGraph(MessagesState)"
      ],
      "metadata": {
        "id": "0CcnUF5_0nU6"
      },
      "execution_count": 34,
      "outputs": []
    },
    {
      "cell_type": "code",
      "source": [
        "\n",
        "# Define prompt for question-answering\n",
        "prompt = hub.pull(\"rlm/rag-prompt\")\n",
        "\n",
        "\n",
        "# Define state for application\n",
        "class State(TypedDict):\n",
        "    question: str\n",
        "    query: Search\n",
        "    context: List[Document]\n",
        "    answer: str\n",
        "\n",
        "\n",
        "def analyze_query(state: State):\n",
        "    structured_llm = model.with_structured_output(Search)\n",
        "    query = structured_llm.invoke(state[\"question\"])\n",
        "    return {\"query\": query}\n",
        "\n",
        "\n",
        "def retrieve(state: State):\n",
        "    query = state[\"query\"]\n",
        "    retrieved_docs = vector_store.similarity_search(\n",
        "        query[\"query\"],\n",
        "        filter=lambda doc: doc.metadata.get(\"section\") == query[\"section\"],\n",
        "    )\n",
        "    return {\"context\": retrieved_docs}\n",
        "\n",
        "\n",
        "def generate(state: State):\n",
        "    docs_content = \"\\n\\n\".join(doc.page_content for doc in state[\"context\"])\n",
        "    messages = prompt.invoke({\"question\": state[\"question\"], \"context\": docs_content})\n",
        "    response = model.invoke(messages)\n",
        "    return {\"answer\": response.content}\n",
        "\n",
        "\n",
        "graph_builder = StateGraph(State).add_sequence([analyze_query, retrieve, generate])\n",
        "graph_builder.add_edge(START, \"analyze_query\")\n",
        "graph = graph_builder.compile()"
      ],
      "metadata": {
        "id": "FgJmd-LkYTGx"
      },
      "execution_count": 35,
      "outputs": []
    },
    {
      "cell_type": "code",
      "source": [
        "from IPython.display import Image, display\n",
        "\n",
        "display(Image(graph.get_graph().draw_mermaid_png()))"
      ],
      "metadata": {
        "colab": {
          "base_uri": "https://localhost:8080/",
          "height": 449
        },
        "id": "uUu-JrcWYkHi",
        "outputId": "3bf17aa9-e591-460c-dd98-cdf07c68cbca"
      },
      "execution_count": 36,
      "outputs": [
        {
          "output_type": "display_data",
          "data": {
            "image/png": "[encoded data removed]",
            "text/plain": [
              "<IPython.core.display.Image object>"
            ]
          },
          "metadata": {}
        }
      ]
    },
    {
      "cell_type": "code",
      "source": [
        "for step in graph.stream(\n",
        "    {\"question\": \"Wie hoch ist der Prozentsatz bei SPD partei ?\"},\n",
        "    stream_mode=\"updates\",\n",
        "):\n",
        "    print(f\"{step}\\n\\n----------------\\n\")"
      ],
      "metadata": {
        "colab": {
          "base_uri": "https://localhost:8080/"
        },
        "id": "Bs2OlNWhYxJy",
        "outputId": "3e618547-1340-43c9-9d6f-7295de00db75"
      },
      "execution_count": 37,
      "outputs": [
        {
          "output_type": "stream",
          "name": "stdout",
          "text": [
            "{'analyze_query': {'query': {'query': 'Wie hoch ist der Prozentsatz bei SPD partei ?', 'section': '1'}}}\n",
            "\n",
            "----------------\n",
            "\n",
            "{'retrieve': {'context': [Document(id='10e3d8fc-33bb-405f-aeb5-fd2202b78ada', metadata={'source': 'https://de.wikipedia.org/wiki/Bundestagswahl_2025', 'title': 'Bundestagswahl 2025 – Wikipedia', 'language': 'de', 'section': '1'}, page_content='Da insgesamt 14\\xa0% der Zweitstimmen auf Parteien entfielen, die nicht in den Bundestag einzogen, kamen Union und SPD mit zusammen 44,9\\xa0% der Zweitstimmen auf 52\\xa0% der Sitze. Die noch im Parlament vertretenen Parteien, die bisher Bundesregierungen bildeten (Union, SPD, Grüne), verfügen im Bundestag nach diesem Ergebnis nicht mehr über eine gemeinsame Zweidrittelmehrheit, die unter anderem für Grundgesetzänderungen erforderlich ist.\\nDie Wahlbeteiligung war mit 82,5\\xa0% die höchste im wiedervereinigten Deutschland.[2][3][4] Vor allem wegen der demographischen Entwicklung[5] ging die Zahl der Wahlberechtigten von 61,17 Millionen bei der Bundestagswahl 2021 um fast 700.000 auf 60,49 Millionen zurück.[6][7] Der Anteil der Briefwähler ist im Vergleich zur Vorwahl, die unter Pandemiebedingungen stattfand, auf 37,0\\xa0% zurückgegangen.[8]'), Document(id='3760cf3a-5522-437e-ad8f-2bfc72c8b7fd', metadata={'source': 'https://de.wikipedia.org/wiki/Bundestagswahl_2025', 'title': 'Bundestagswahl 2025 – Wikipedia', 'language': 'de', 'section': '1'}, page_content='Die Unionsparteien CDU und CSU mit Kanzlerkandidat Friedrich Merz erhielten bei der Wahl mit zusammen 28,5\\xa0% die meisten Zweitstimmen und konnten das Ergebnis im Vergleich zum historisch schlechtesten Ergebnis in der vorherigen Wahl um gut 4 Prozentpunkte steigern. An zweiter Stelle folgte die AfD, die ihren Stimmenanteil gegenüber der Vorwahl auf 20,8\\xa0% verdoppeln konnte. Die SPD um den erneuten Kanzlerkandidaten Scholz erlitt starke Verluste und fuhr mit 16,4\\xa0% ihr bisher schlechtestes Ergebnis bei einer freien Parlamentswahl auf rein nationaler Ebene seit der Reichstagswahl 1887 ein und wurde nur drittstärkste Kraft. Auch Bündnis 90/Die Grünen verloren an Stimmen und landeten bei 11,6\\xa0%. Die FDP stürzte auf 4,3\\xa0% ab und schied zum zweiten Mal in ihrer Geschichte nach der Wahl 2013 aus dem Parlament aus. Die Linke konnte ihren Stimmenanteil deutlich ausbauen und erreichte 8,8\\xa0% der Zweitstimmen'), Document(id='7764f4cc-6110-4bf9-89ea-5cdf292fb1bb', metadata={'source': 'https://de.wikipedia.org/wiki/Bundestagswahl_2025', 'title': 'Bundestagswahl 2025 – Wikipedia', 'language': 'de', 'section': '1'}, page_content='120\\n\\n85\\n\\n1\\n\\n208\\n\\n152\\n64\\xa0120\\xa085\\xa01\\xa0208\\xa0152\\xa0\\nInsgesamt 630 Sitze \\n\\ufeffLinke: 64 \\n\\ufeffSPD: 120 \\n\\ufeffGrüne: 85 \\n\\ufeffSSW: 1 \\n\\ufeffUnion: 208 \\n\\ufeffAfD: 152 \\n\\n\\n\\nVerhältnis Regierung-Opposition im21. Deutschen Bundestag\\n328\\n\\n302\\n328\\xa0302\\xa0\\nInsgesamt 630 Sitze \\n\\ufeffRegierung: 328 \\n\\ufeffOpposition: 302'), Document(id='057f9a97-a415-4b1e-b84a-b6b4bbe43018', metadata={'source': 'https://de.wikipedia.org/wiki/Bundestagswahl_2025', 'title': 'Bundestagswahl 2025 – Wikipedia', 'language': 'de', 'section': '1'}, page_content='Reichstagsgebäude (2024), Sitz des Deutschen Bundestages\\nBundestagswahlergebnisse und Koalitionen in Bundesregierungen seit 1949\\nMit der Wahl zum 21. Deutschen Bundestag wurde die Volksvertretung der Bundesrepublik Deutschland neu gewählt. Sie fand als vorgezogene Neuwahl am 23.\\xa0Februar 2025 statt. Voraussetzung für diesen Termin war die gescheiterte Vertrauensfrage von Bundeskanzler Olaf Scholz (SPD) vom 16. Dezember 2024, der vorgezogene Neuwahlen nach dem Bruch der Ampelkoalition am 6.\\xa0November 2024 angekündigt hatte. Am 27.\\xa0Dezember 2024 ordnete Bundespräsident Frank-Walter Steinmeier die Auflösung des Deutschen Bundestages und den Termin für die Neuwahl an. Als Termin für eine turnusmäßige Wahl war ursprünglich der 28.\\xa0September 2025 festgelegt.')]}}\n",
            "\n",
            "----------------\n",
            "\n",
            "{'generate': {'answer': 'Bei der Wahl erzielte die SPD 16,4 % der Stimmen. Dies war ihr bisher schlechtestes Ergebnis bei einer freien Parlamentswahl auf rein nationaler Ebene seit der Reichstagswahl 1887. Die SPD wurde damit nur drittstärkste Kraft.'}}\n",
            "\n",
            "----------------\n",
            "\n"
          ]
        }
      ]
    },
    {
      "cell_type": "markdown",
      "source": [
        "17. Dialog flow (multi-turn interaction)"
      ],
      "metadata": {
        "id": "mMetE0uMcYY1"
      }
    },
    {
      "cell_type": "code",
      "source": [
        "from langgraph.graph import MessagesState, StateGraph\n",
        "\n",
        "graph_builder = StateGraph(MessagesState)"
      ],
      "metadata": {
        "id": "K3rvjk_5ZJCl"
      },
      "execution_count": 38,
      "outputs": []
    },
    {
      "cell_type": "code",
      "source": [
        "from langchain_core.tools import tool\n",
        "\n",
        "\n",
        "@tool(response_format=\"content_and_artifact\")\n",
        "def retrieve(query: str):\n",
        "    \"\"\"Retrieve information related to a query.\"\"\"\n",
        "    retrieved_docs = vector_store.similarity_search(query, k=2)\n",
        "    serialized = \"\\n\\n\".join(\n",
        "        (f\"Source: {doc.metadata}\\n\" f\"Content: {doc.page_content}\")\n",
        "        for doc in retrieved_docs\n",
        "    )\n",
        "    return serialized, retrieved_docs"
      ],
      "metadata": {
        "id": "gA0dUuyF67kc"
      },
      "execution_count": 39,
      "outputs": []
    },
    {
      "cell_type": "code",
      "source": [
        "from langchain_core.messages import SystemMessage\n",
        "from langgraph.prebuilt import ToolNode\n",
        "\n",
        "\n",
        "# Step 1: Generate an AIMessage that may include a tool-call to be sent.\n",
        "def query_or_respond(state: MessagesState):\n",
        "    \"\"\"Generate tool call for retrieval or respond.\"\"\"\n",
        "    llm_with_tools = model.bind_tools([retrieve])\n",
        "    response = llm_with_tools.invoke(state[\"messages\"])\n",
        "    # MessagesState appends messages to state instead of overwriting\n",
        "    return {\"messages\": [response]}\n",
        "\n",
        "\n",
        "# Step 2: Execute the retrieval.\n",
        "tools = ToolNode([retrieve])\n",
        "\n",
        "\n",
        "# Step 3: Generate a response using the retrieved content.\n",
        "def generate(state: MessagesState):\n",
        "    \"\"\"Generate answer.\"\"\"\n",
        "    # Get generated ToolMessages\n",
        "    recent_tool_messages = []\n",
        "    for message in reversed(state[\"messages\"]):\n",
        "        if message.type == \"tool\":\n",
        "            recent_tool_messages.append(message)\n",
        "        else:\n",
        "            break\n",
        "    tool_messages = recent_tool_messages[::-1]\n",
        "\n",
        "    # Format into prompt\n",
        "    docs_content = \"\\n\\n\".join(doc.content for doc in tool_messages)\n",
        "    system_message_content = (\n",
        "        \"You are an assistant for question-answering tasks. \"\n",
        "        \"Use the following pieces of retrieved context to answer \"\n",
        "        \"the question. If you don't know the answer, say that you \"\n",
        "        \"don't know. Use three sentences maximum and keep the \"\n",
        "        \"answer concise.\"\n",
        "        \"\\n\\n\"\n",
        "        f\"{docs_content}\"\n",
        "    )\n",
        "    conversation_messages = [\n",
        "        message\n",
        "        for message in state[\"messages\"]\n",
        "        if message.type in (\"human\", \"system\")\n",
        "        or (message.type == \"ai\" and not message.tool_calls)\n",
        "    ]\n",
        "    prompt = [SystemMessage(system_message_content)] + conversation_messages\n",
        "\n",
        "    # Run\n",
        "    response = model.invoke(prompt)\n",
        "    return {\"messages\": [response]}"
      ],
      "metadata": {
        "id": "tm2oZ23f7I2U"
      },
      "execution_count": 40,
      "outputs": []
    },
    {
      "cell_type": "code",
      "source": [
        "from langgraph.graph import END\n",
        "from langgraph.prebuilt import ToolNode, tools_condition\n",
        "\n",
        "graph_builder.add_node(query_or_respond)\n",
        "graph_builder.add_node(tools)\n",
        "graph_builder.add_node(generate)\n",
        "\n",
        "graph_builder.set_entry_point(\"query_or_respond\")\n",
        "graph_builder.add_conditional_edges(\n",
        "    \"query_or_respond\",\n",
        "    tools_condition,\n",
        "    {END: END, \"tools\": \"tools\"},\n",
        ")\n",
        "graph_builder.add_edge(\"tools\", \"generate\")\n",
        "graph_builder.add_edge(\"generate\", END)\n",
        "\n",
        "graph = graph_builder.compile()"
      ],
      "metadata": {
        "id": "iVoJc79W6_ee"
      },
      "execution_count": 41,
      "outputs": []
    },
    {
      "cell_type": "code",
      "source": [
        "from IPython.display import Image, display\n",
        "\n",
        "display(Image(graph.get_graph().draw_mermaid_png()))"
      ],
      "metadata": {
        "colab": {
          "base_uri": "https://localhost:8080/",
          "height": 449
        },
        "id": "FrvILFgl1eSA",
        "outputId": "d28afa6d-392b-4a85-88b8-d5293ee62c52"
      },
      "execution_count": 42,
      "outputs": [
        {
          "output_type": "display_data",
          "data": {
            "image/png": "[encoded data removed]",
            "text/plain": [
              "<IPython.core.display.Image object>"
            ]
          },
          "metadata": {}
        }
      ]
    },
    {
      "cell_type": "markdown",
      "source": [
        "18. beispiel ohne Memory"
      ],
      "metadata": {
        "id": "BS9BNb95cm9F"
      }
    },
    {
      "cell_type": "code",
      "source": [
        "input_message = \"Hello\"\n",
        "\n",
        "for step in graph.stream(\n",
        "    {\"messages\": [{\"role\": \"user\", \"content\": input_message}]},\n",
        "    stream_mode=\"values\",\n",
        "):\n",
        "    step[\"messages\"][-1].pretty_print()"
      ],
      "metadata": {
        "colab": {
          "base_uri": "https://localhost:8080/"
        },
        "id": "lZLdY2yo6C5F",
        "outputId": "7cc82437-a01c-4e57-a13d-7ddd1c3f8b43"
      },
      "execution_count": 43,
      "outputs": [
        {
          "output_type": "stream",
          "name": "stdout",
          "text": [
            "================================\u001b[1m Human Message \u001b[0m=================================\n",
            "\n",
            "Hello\n",
            "==================================\u001b[1m Ai Message \u001b[0m==================================\n",
            "\n",
            "Hello! How can I help you today?\n"
          ]
        }
      ]
    },
    {
      "cell_type": "code",
      "source": [
        "input_message = \"Was wissen Sie über die CDU?\"\n",
        "\n",
        "for step in graph.stream(\n",
        "    {\"messages\": [{\"role\": \"user\", \"content\": input_message}]},\n",
        "    stream_mode=\"values\",\n",
        "):\n",
        "    step[\"messages\"][-1].pretty_print()"
      ],
      "metadata": {
        "colab": {
          "base_uri": "https://localhost:8080/"
        },
        "id": "FZunug7J7_jn",
        "outputId": "744ff5d6-8982-4d9e-e720-6b24a68d0044"
      },
      "execution_count": 44,
      "outputs": [
        {
          "output_type": "stream",
          "name": "stdout",
          "text": [
            "================================\u001b[1m Human Message \u001b[0m=================================\n",
            "\n",
            "Was wissen Sie über die CDU?\n",
            "==================================\u001b[1m Ai Message \u001b[0m==================================\n",
            "Tool Calls:\n",
            "  retrieve (2bb3cb7c-f5ad-4b0d-a365-e81d4c05b49b)\n",
            " Call ID: 2bb3cb7c-f5ad-4b0d-a365-e81d4c05b49b\n",
            "  Args:\n",
            "    query: Was ist die CDU?\n",
            "=================================\u001b[1m Tool Message \u001b[0m=================================\n",
            "Name: retrieve\n",
            "\n",
            "Source: {'source': 'https://de.wikipedia.org/wiki/Bundestagswahl_2025', 'title': 'Bundestagswahl 2025 – Wikipedia', 'language': 'de', 'section': '8'}\n",
            "Content: Am 9. April einigten sich die Verhandler der drei Parteien auf einen Koalitionsvertrag, der anschließend vom CSU-Vorstand, einem Parteitag der CDU und im Falle der SPD auch durch ein Mitgliedervotum bestätigt wurde, sodass die Parteispitzen am 5. Mai den Koalitionsvertrag gemeinsam unterzeichneten.[146][147] Personell sind darin neben dem Bundeskanzler Friedrich Merz 17 Minister vorgesehen, von denen 7 (u. a. Wirtschaft, Äußeres und ein neues Ministerium für Digitalisierung und Staatsmodernisierung) an die CDU, 7 an die SPD (u. a. Finanzen, Justiz und Verteidigung) und 3 an die CSU (u. a. Inneres) gehen.[148]\n",
            "\n",
            "Source: {'source': 'https://de.wikipedia.org/wiki/Bundestagswahl_2025', 'title': 'Bundestagswahl 2025 – Wikipedia', 'language': 'de', 'section': '6'}\n",
            "Content: . Die CDU konnte in den westdeutschen Bundesländern ebenfalls viele Direktmandate von SPD und Grünen zurückgewinnen, verlor jedoch gleichzeitig in den ostdeutschen Flächenländern und Berlin-Ost sämtliche Direktmandate an die AfD. Abgesehen von vier der AfD und einmal SPD waren 18 Direktkandidaten von CDU und CSU abseits der Parteihochburgen in den westdeutschen Bundesländern in besonderem Maße von den Auswirkungen des neuen Wahlrechts betroffen da sie weder durch einen Wahlkreissieg noch durch Landeslisten ein Mandat erringen konnten.\n",
            "==================================\u001b[1m Ai Message \u001b[0m==================================\n",
            "\n",
            "Die CDU konnte in den westdeutschen Bundesländern viele Direktmandate von SPD und Grünen zurückgewinnen, verlor jedoch gleichzeitig in den ostdeutschen Flächenländern und Berlin-Ost sämtliche Direktmandate an die AfD. Laut einem Koalitionsvertrag stehen der CDU 7 Ministerposten zu, darunter Wirtschaft, Äußeres und ein neues Ministerium für Digitalisierung und Staatsmodernisierung.\n"
          ]
        }
      ]
    },
    {
      "cell_type": "code",
      "source": [
        "input_message = \"Wie hoch ist der Prozentsatz bei diese partei ?\"\n",
        "\n",
        "for step in graph.stream(\n",
        "    {\"messages\": [{\"role\": \"user\", \"content\": input_message}]},\n",
        "    stream_mode=\"values\",\n",
        "):\n",
        "    step[\"messages\"][-1].pretty_print()"
      ],
      "metadata": {
        "colab": {
          "base_uri": "https://localhost:8080/"
        },
        "id": "tzbDbiz77cwy",
        "outputId": "9ad0c538-92e7-428b-f169-303428d07fb2"
      },
      "execution_count": 45,
      "outputs": [
        {
          "output_type": "stream",
          "name": "stdout",
          "text": [
            "================================\u001b[1m Human Message \u001b[0m=================================\n",
            "\n",
            "Wie hoch ist der Prozentsatz bei diese partei ?\n",
            "==================================\u001b[1m Ai Message \u001b[0m==================================\n",
            "\n",
            "Auf welche Partei beziehst du dich? Bitte gib den Namen der Partei an.\n"
          ]
        }
      ]
    },
    {
      "cell_type": "markdown",
      "source": [
        "19. Memory (to track context across messages)"
      ],
      "metadata": {
        "id": "iKIaM-6wcslf"
      }
    },
    {
      "cell_type": "code",
      "source": [
        "from langgraph.checkpoint.memory import MemorySaver\n",
        "\n",
        "memory = MemorySaver()\n",
        "graph = graph_builder.compile(checkpointer=memory)\n",
        "\n",
        "# Specify an ID for the thread\n",
        "config = {\"configurable\": {\"thread_id\": \"abc123\"}}"
      ],
      "metadata": {
        "id": "51geTr5T8xST"
      },
      "execution_count": 46,
      "outputs": []
    },
    {
      "cell_type": "code",
      "source": [
        "input_message = \"Was wissen Sie über die CDU?\"\n",
        "\n",
        "for step in graph.stream(\n",
        "    {\"messages\": [{\"role\": \"user\", \"content\": input_message}]},\n",
        "    stream_mode=\"values\",\n",
        "    config=config,\n",
        "):\n",
        "    step[\"messages\"][-1].pretty_print()"
      ],
      "metadata": {
        "colab": {
          "base_uri": "https://localhost:8080/"
        },
        "id": "Ho8xCrlzG28t",
        "outputId": "609a67ab-bdac-49dc-d8be-874f82fde800"
      },
      "execution_count": 47,
      "outputs": [
        {
          "output_type": "stream",
          "name": "stdout",
          "text": [
            "================================\u001b[1m Human Message \u001b[0m=================================\n",
            "\n",
            "Was wissen Sie über die CDU?\n",
            "==================================\u001b[1m Ai Message \u001b[0m==================================\n",
            "Tool Calls:\n",
            "  retrieve (19fbb830-166e-4d1e-bf9d-6793a851238d)\n",
            " Call ID: 19fbb830-166e-4d1e-bf9d-6793a851238d\n",
            "  Args:\n",
            "    query: Was ist die CDU?\n",
            "=================================\u001b[1m Tool Message \u001b[0m=================================\n",
            "Name: retrieve\n",
            "\n",
            "Source: {'source': 'https://de.wikipedia.org/wiki/Bundestagswahl_2025', 'title': 'Bundestagswahl 2025 – Wikipedia', 'language': 'de', 'section': '8'}\n",
            "Content: Am 9. April einigten sich die Verhandler der drei Parteien auf einen Koalitionsvertrag, der anschließend vom CSU-Vorstand, einem Parteitag der CDU und im Falle der SPD auch durch ein Mitgliedervotum bestätigt wurde, sodass die Parteispitzen am 5. Mai den Koalitionsvertrag gemeinsam unterzeichneten.[146][147] Personell sind darin neben dem Bundeskanzler Friedrich Merz 17 Minister vorgesehen, von denen 7 (u. a. Wirtschaft, Äußeres und ein neues Ministerium für Digitalisierung und Staatsmodernisierung) an die CDU, 7 an die SPD (u. a. Finanzen, Justiz und Verteidigung) und 3 an die CSU (u. a. Inneres) gehen.[148]\n",
            "\n",
            "Source: {'source': 'https://de.wikipedia.org/wiki/Bundestagswahl_2025', 'title': 'Bundestagswahl 2025 – Wikipedia', 'language': 'de', 'section': '6'}\n",
            "Content: . Die CDU konnte in den westdeutschen Bundesländern ebenfalls viele Direktmandate von SPD und Grünen zurückgewinnen, verlor jedoch gleichzeitig in den ostdeutschen Flächenländern und Berlin-Ost sämtliche Direktmandate an die AfD. Abgesehen von vier der AfD und einmal SPD waren 18 Direktkandidaten von CDU und CSU abseits der Parteihochburgen in den westdeutschen Bundesländern in besonderem Maße von den Auswirkungen des neuen Wahlrechts betroffen da sie weder durch einen Wahlkreissieg noch durch Landeslisten ein Mandat erringen konnten.\n",
            "==================================\u001b[1m Ai Message \u001b[0m==================================\n",
            "\n",
            "Die CDU konnte in den westdeutschen Bundesländern viele Direktmandate von SPD und Grünen zurückgewinnen, verlor jedoch gleichzeitig in den ostdeutschen Flächenländern und Berlin-Ost sämtliche Direktmandate an die AfD. Die CDU hat im Koalitionsvertrag sieben Ministerposten erhalten, darunter Wirtschaft, Äußeres und ein neues Ministerium für Digitalisierung und Staatsmodernisierung.\n"
          ]
        }
      ]
    },
    {
      "cell_type": "code",
      "source": [
        "input_message = \"Wie hoch ist der Prozentsatz bei diese partei in 2025?\"\n",
        "\n",
        "for step in graph.stream(\n",
        "    {\"messages\": [{\"role\": \"user\", \"content\": input_message}]},\n",
        "    stream_mode=\"values\",\n",
        "    config=config,\n",
        "):\n",
        "    step[\"messages\"][-1].pretty_print()"
      ],
      "metadata": {
        "colab": {
          "base_uri": "https://localhost:8080/"
        },
        "id": "F88wTFFZ81OI",
        "outputId": "02633da6-2874-4af9-bc20-b5390f44d5b2"
      },
      "execution_count": 48,
      "outputs": [
        {
          "output_type": "stream",
          "name": "stdout",
          "text": [
            "================================\u001b[1m Human Message \u001b[0m=================================\n",
            "\n",
            "Wie hoch ist der Prozentsatz bei diese partei in 2025?\n",
            "==================================\u001b[1m Ai Message \u001b[0m==================================\n",
            "Tool Calls:\n",
            "  retrieve (7790b5bc-9aab-443f-97fd-760e60b62b12)\n",
            " Call ID: 7790b5bc-9aab-443f-97fd-760e60b62b12\n",
            "  Args:\n",
            "    query: Wie hoch ist der Prozentsatz der CDU bei der Bundestagswahl 2025?\n",
            "=================================\u001b[1m Tool Message \u001b[0m=================================\n",
            "Name: retrieve\n",
            "\n",
            "Source: {'source': 'https://de.wikipedia.org/wiki/Bundestagswahl_2025', 'title': 'Bundestagswahl 2025 – Wikipedia', 'language': 'de', 'section': '2'}\n",
            "Content: Bundestagswahl 2021Endgültiges Ergebnis – Zweitstimmen[27] %3020100\n",
            "25,724,114,711,410,44,98,8\n",
            "SPDUnionGrüneFDPAfDLinkeSonst.\n",
            "Vorherige Bundestagswahl[Bearbeiten | Quelltext bearbeiten]\n",
            "→ Hauptartikel: Bundestagswahl 2021\n",
            "An der Bundestagswahl 2021 beteiligten sich 76,35 % der wahlberechtigten Deutschen.\n",
            "Für CDU/CSU und SPD, auf die in den 1970er Jahren zusammen über 90 Prozent der Zweitstimmen entfielen, entschieden sich erstmals weniger als 50 Prozent der Wähler, während die vier anderen seit 2017 im Bundestag vertreten Parteien erneut in Summe über 40 Prozent erreichten.\n",
            "Dabei wurde die SPD mit Rückgewinnen gegenüber dem Allzeittief von 2017 erstmals seit der Bundestagswahl 2002 wieder stärkste Kraft, jedoch mit 25,7 % auf deutlich niedrigerem Niveau als 1998 und 1972 mit über 40 %. Die Unionsparteien verzeichneten mit 24,1 % der Zweitstimmen ihr historisch schlechtestes Ergebnis.\n",
            "\n",
            "Source: {'source': 'https://de.wikipedia.org/wiki/Bundestagswahl_2025', 'title': 'Bundestagswahl 2025 – Wikipedia', 'language': 'de', 'section': '6'}\n",
            "Content: Bei der Bundestagswahl 2025 schaffte es das Bündnis aus CDU und CSU, die Spitzenposition zurückzuholen, nachdem sie diese bei der Bundestagswahl 2021 an die SPD verloren hatte. Mit 28,5 % der Zweitstimmen steigerte die Union ihr Zweitstimmenergebnis hingegen nur leicht und blieb damit erneut deutlich unter den Resultaten über 32 % der Merkel-Ära, auch unter den 31 % von 1949. Für die CDU war es somit das zweitschlechteste Abschneiden in der Geschichte der Bundesrepublik, für die CSU das drittschlechteste. Der CSU gelang es, alle 47 Wahlkreise in Bayern zu gewinnen, wobei nur die 44 höchsten Erststimmenergebnisse auch Direktmandate zugeteilt bekamen, drei bayrische Wahlkreissieger bekamen kein Mandat da dem bundesweiten Zweitstimmenergebnis der Partei eine entsprechende Anzahl von Mandaten zugeteilt wird\n",
            "==================================\u001b[1m Ai Message \u001b[0m==================================\n",
            "\n",
            "Die CDU/CSU erreichte bei der Bundestagswahl 2025 28,5 % der Zweitstimmen.\n"
          ]
        }
      ]
    },
    {
      "cell_type": "markdown",
      "source": [],
      "metadata": {
        "id": "K3pkSrhLe_Mf"
      }
    },
    {
      "cell_type": "markdown",
      "source": [
        "# bonus multi"
      ],
      "metadata": {
        "id": "y3Y7w6xyj85q"
      }
    },
    {
      "cell_type": "markdown",
      "source": [
        "prompt"
      ],
      "metadata": {
        "id": "7Mu09lt4kMeT"
      }
    },
    {
      "cell_type": "code",
      "source": [
        "# Build a sample vectorDB\n",
        "from langchain_chroma import Chroma\n",
        "from langchain_community.document_loaders import WebBaseLoader\n",
        "from langchain_huggingface import HuggingFaceEmbeddings\n",
        "from langchain_text_splitters import RecursiveCharacterTextSplitter\n",
        "\n",
        "# Load blog post\n",
        "loader = WebBaseLoader(\"https://de.wikipedia.org/wiki/Bundestagswahl_2025\")\n",
        "data = loader.load()\n",
        "\n",
        "# Split\n",
        "text_splitter = RecursiveCharacterTextSplitter(chunk_size=1000 , chunk_overlap=200)\n",
        "splits = text_splitter.split_documents(data)\n",
        "\n",
        "# VectorDB\n",
        "embedding = HuggingFaceEmbeddings(model_name=\"sentence-transformers/all-mpnet-base-v2\")\n",
        "vectordb = Chroma.from_documents(documents=splits, embedding=embedding)"
      ],
      "metadata": {
        "id": "fURFneS8kL5O"
      },
      "execution_count": 49,
      "outputs": []
    },
    {
      "cell_type": "code",
      "source": [
        "from langchain.retrievers.multi_query import MultiQueryRetriever\n",
        "from langchain.chat_models import init_chat_model\n",
        "\n",
        "\n",
        "\n",
        "# LLM initialisieren\n",
        "llm = init_chat_model(\"gemini-2.0-flash\", model_provider=\"google_genai\", temperature=0)\n",
        "\n",
        "# MultiQueryRetriever konfigurieren\n",
        "question = \"wann wird die Abstimmung im Bundestag über die Vertrauensfrage?\"\n",
        "\n",
        "retriever_from_llm = MultiQueryRetriever.from_llm(\n",
        "    retriever=vectordb.as_retriever(), llm=llm\n",
        ")\n",
        "\n"
      ],
      "metadata": {
        "id": "-5oL_C9Uo5m-"
      },
      "execution_count": 50,
      "outputs": []
    },
    {
      "cell_type": "code",
      "source": [
        "# Set logging for the queries\n",
        "import logging\n",
        "\n",
        "logging.basicConfig()\n",
        "logging.getLogger(\"langchain.retrievers.multi_query\").setLevel(logging.INFO)"
      ],
      "metadata": {
        "id": "uE9a6StvpmFx"
      },
      "execution_count": 51,
      "outputs": []
    },
    {
      "cell_type": "code",
      "source": [
        "unique_docs = retriever_from_llm.invoke(question)\n",
        "len(unique_docs)"
      ],
      "metadata": {
        "colab": {
          "base_uri": "https://localhost:8080/"
        },
        "id": "Z-2pHyzZpner",
        "outputId": "9946de78-01f9-4481-ca15-524f60f9520d"
      },
      "execution_count": 52,
      "outputs": [
        {
          "output_type": "stream",
          "name": "stderr",
          "text": [
            "INFO:langchain.retrievers.multi_query:Generated queries: ['Wann findet die Vertrauensabstimmung im Bundestag statt?', 'Welcher Termin ist für die Vertrauensfrage im Bundestag angesetzt?', 'An welchem Tag stimmt der Bundestag über das Misstrauen gegenüber der Regierung ab?']\n"
          ]
        },
        {
          "output_type": "execute_result",
          "data": {
            "text/plain": [
              "7"
            ]
          },
          "metadata": {},
          "execution_count": 52
        }
      ]
    },
    {
      "cell_type": "code",
      "source": [
        "import shutil\n",
        "\n",
        "# Alles im aktuellen Arbeitsverzeichnis in eine ZIP-Datei packen\n",
        "shutil.make_archive(\"colab_backup\", \"zip\", \".\")\n",
        "\n",
        "# Download-Link erzeugen\n",
        "from google.colab import files\n",
        "files.download(\"colab_backup.zip\")\n"
      ],
      "metadata": {
        "colab": {
          "base_uri": "https://localhost:8080/",
          "height": 17
        },
        "id": "BKd6PX4c7Kkb",
        "outputId": "9fe7c71f-6f4a-4d1c-c782-4147afed916a"
      },
      "execution_count": 62,
      "outputs": [
        {
          "output_type": "display_data",
          "data": {
            "text/plain": [
              "<IPython.core.display.Javascript object>"
            ],
            "application/javascript": [
              "\n",
              "    async function download(id, filename, size) {\n",
              "      if (!google.colab.kernel.accessAllowed) {\n",
              "        return;\n",
              "      }\n",
              "      const div = document.createElement('div');\n",
              "      const label = document.createElement('label');\n",
              "      label.textContent = `Downloading \"${filename}\": `;\n",
              "      div.appendChild(label);\n",
              "      const progress = document.createElement('progress');\n",
              "      progress.max = size;\n",
              "      div.appendChild(progress);\n",
              "      document.body.appendChild(div);\n",
              "\n",
              "      const buffers = [];\n",
              "      let downloaded = 0;\n",
              "\n",
              "      const channel = await google.colab.kernel.comms.open(id);\n",
              "      // Send a message to notify the kernel that we're ready.\n",
              "      channel.send({})\n",
              "\n",
              "      for await (const message of channel.messages) {\n",
              "        // Send a message to notify the kernel that we're ready.\n",
              "        channel.send({})\n",
              "        if (message.buffers) {\n",
              "          for (const buffer of message.buffers) {\n",
              "            buffers.push(buffer);\n",
              "            downloaded += buffer.byteLength;\n",
              "            progress.value = downloaded;\n",
              "          }\n",
              "        }\n",
              "      }\n",
              "      const blob = new Blob(buffers, {type: 'application/binary'});\n",
              "      const a = document.createElement('a');\n",
              "      a.href = window.URL.createObjectURL(blob);\n",
              "      a.download = filename;\n",
              "      div.appendChild(a);\n",
              "      a.click();\n",
              "      div.remove();\n",
              "    }\n",
              "  "
            ]
          },
          "metadata": {}
        },
        {
          "output_type": "display_data",
          "data": {
            "text/plain": [
              "<IPython.core.display.Javascript object>"
            ],
            "application/javascript": [
              "download(\"download_b4efbd1d-2874-420a-9ec5-ec95ffa9854e\", \"colab_backup.zip\", 10864568)"
            ]
          },
          "metadata": {}
        }
      ]
    }
  ]
}