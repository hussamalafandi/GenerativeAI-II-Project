{
 "cells": [
  {
   "cell_type": "markdown",
   "id": "623dfb3c",
   "metadata": {},
   "source": [
    "RAG (Retrieval-Augmented Generation) System"
   ]
  },
  {
   "cell_type": "code",
   "execution_count": 433,
   "id": "7b009f7f",
   "metadata": {},
   "outputs": [
    {
     "name": "stderr",
     "output_type": "stream",
     "text": [
      "python(14157) MallocStackLogging: can't turn off malloc stack logging because it was not enabled.\n",
      "huggingface/tokenizers: The current process just got forked, after parallelism has already been used. Disabling parallelism to avoid deadlocks...\n",
      "To disable this warning, you can either:\n",
      "\t- Avoid using `tokenizers` before the fork if possible\n",
      "\t- Explicitly set the environment variable TOKENIZERS_PARALLELISM=(true | false)\n"
     ]
    },
    {
     "name": "stdout",
     "output_type": "stream",
     "text": [
      "Note: you may need to restart the kernel to use updated packages.\n"
     ]
    }
   ],
   "source": [
    "%pip install --quiet --upgrade langchain-text-splitters langchain-community langgraph"
   ]
  },
  {
   "cell_type": "code",
   "execution_count": 479,
   "id": "7c7e6c84",
   "metadata": {},
   "outputs": [],
   "source": [
    "import getpass\n",
    "import os\n",
    "from dotenv import load_dotenv\n",
    "\n",
    "load_dotenv()\n",
    "os.environ[\"LANGSMITH_TRACING\"] = \"true\""
   ]
  },
  {
   "cell_type": "code",
   "execution_count": 435,
   "id": "544e0a71",
   "metadata": {},
   "outputs": [
    {
     "name": "stderr",
     "output_type": "stream",
     "text": [
      "python(14158) MallocStackLogging: can't turn off malloc stack logging because it was not enabled.\n",
      "huggingface/tokenizers: The current process just got forked, after parallelism has already been used. Disabling parallelism to avoid deadlocks...\n",
      "To disable this warning, you can either:\n",
      "\t- Avoid using `tokenizers` before the fork if possible\n",
      "\t- Explicitly set the environment variable TOKENIZERS_PARALLELISM=(true | false)\n"
     ]
    },
    {
     "name": "stdout",
     "output_type": "stream",
     "text": [
      "Requirement already satisfied: langchain-google-genai in /opt/anaconda3/envs/KII/lib/python3.10/site-packages (2.1.4)\n",
      "Requirement already satisfied: filetype<2.0.0,>=1.2.0 in /opt/anaconda3/envs/KII/lib/python3.10/site-packages (from langchain-google-genai) (1.2.0)\n",
      "Requirement already satisfied: google-ai-generativelanguage<0.7.0,>=0.6.18 in /opt/anaconda3/envs/KII/lib/python3.10/site-packages (from langchain-google-genai) (0.6.18)\n",
      "Requirement already satisfied: langchain-core<0.4.0,>=0.3.52 in /opt/anaconda3/envs/KII/lib/python3.10/site-packages (from langchain-google-genai) (0.3.60)\n",
      "Requirement already satisfied: pydantic<3,>=2 in /opt/anaconda3/envs/KII/lib/python3.10/site-packages (from langchain-google-genai) (2.11.4)\n",
      "Requirement already satisfied: google-api-core!=2.0.*,!=2.1.*,!=2.10.*,!=2.2.*,!=2.3.*,!=2.4.*,!=2.5.*,!=2.6.*,!=2.7.*,!=2.8.*,!=2.9.*,<3.0.0,>=1.34.1 in /opt/anaconda3/envs/KII/lib/python3.10/site-packages (from google-api-core[grpc]!=2.0.*,!=2.1.*,!=2.10.*,!=2.2.*,!=2.3.*,!=2.4.*,!=2.5.*,!=2.6.*,!=2.7.*,!=2.8.*,!=2.9.*,<3.0.0,>=1.34.1->google-ai-generativelanguage<0.7.0,>=0.6.18->langchain-google-genai) (2.24.2)\n",
      "Requirement already satisfied: google-auth!=2.24.0,!=2.25.0,<3.0.0,>=2.14.1 in /opt/anaconda3/envs/KII/lib/python3.10/site-packages (from google-ai-generativelanguage<0.7.0,>=0.6.18->langchain-google-genai) (2.40.1)\n",
      "Requirement already satisfied: proto-plus<2.0.0,>=1.22.3 in /opt/anaconda3/envs/KII/lib/python3.10/site-packages (from google-ai-generativelanguage<0.7.0,>=0.6.18->langchain-google-genai) (1.26.1)\n",
      "Requirement already satisfied: protobuf!=4.21.0,!=4.21.1,!=4.21.2,!=4.21.3,!=4.21.4,!=4.21.5,<7.0.0,>=3.20.2 in /opt/anaconda3/envs/KII/lib/python3.10/site-packages (from google-ai-generativelanguage<0.7.0,>=0.6.18->langchain-google-genai) (6.31.0)\n",
      "Requirement already satisfied: googleapis-common-protos<2.0.0,>=1.56.2 in /opt/anaconda3/envs/KII/lib/python3.10/site-packages (from google-api-core!=2.0.*,!=2.1.*,!=2.10.*,!=2.2.*,!=2.3.*,!=2.4.*,!=2.5.*,!=2.6.*,!=2.7.*,!=2.8.*,!=2.9.*,<3.0.0,>=1.34.1->google-api-core[grpc]!=2.0.*,!=2.1.*,!=2.10.*,!=2.2.*,!=2.3.*,!=2.4.*,!=2.5.*,!=2.6.*,!=2.7.*,!=2.8.*,!=2.9.*,<3.0.0,>=1.34.1->google-ai-generativelanguage<0.7.0,>=0.6.18->langchain-google-genai) (1.70.0)\n",
      "Requirement already satisfied: requests<3.0.0,>=2.18.0 in /opt/anaconda3/envs/KII/lib/python3.10/site-packages (from google-api-core!=2.0.*,!=2.1.*,!=2.10.*,!=2.2.*,!=2.3.*,!=2.4.*,!=2.5.*,!=2.6.*,!=2.7.*,!=2.8.*,!=2.9.*,<3.0.0,>=1.34.1->google-api-core[grpc]!=2.0.*,!=2.1.*,!=2.10.*,!=2.2.*,!=2.3.*,!=2.4.*,!=2.5.*,!=2.6.*,!=2.7.*,!=2.8.*,!=2.9.*,<3.0.0,>=1.34.1->google-ai-generativelanguage<0.7.0,>=0.6.18->langchain-google-genai) (2.32.3)\n",
      "Requirement already satisfied: grpcio<2.0dev,>=1.33.2 in /opt/anaconda3/envs/KII/lib/python3.10/site-packages (from google-api-core[grpc]!=2.0.*,!=2.1.*,!=2.10.*,!=2.2.*,!=2.3.*,!=2.4.*,!=2.5.*,!=2.6.*,!=2.7.*,!=2.8.*,!=2.9.*,<3.0.0,>=1.34.1->google-ai-generativelanguage<0.7.0,>=0.6.18->langchain-google-genai) (1.72.0rc1)\n",
      "Requirement already satisfied: grpcio-status<2.0.dev0,>=1.33.2 in /opt/anaconda3/envs/KII/lib/python3.10/site-packages (from google-api-core[grpc]!=2.0.*,!=2.1.*,!=2.10.*,!=2.2.*,!=2.3.*,!=2.4.*,!=2.5.*,!=2.6.*,!=2.7.*,!=2.8.*,!=2.9.*,<3.0.0,>=1.34.1->google-ai-generativelanguage<0.7.0,>=0.6.18->langchain-google-genai) (1.72.0rc1)\n",
      "Requirement already satisfied: cachetools<6.0,>=2.0.0 in /opt/anaconda3/envs/KII/lib/python3.10/site-packages (from google-auth!=2.24.0,!=2.25.0,<3.0.0,>=2.14.1->google-ai-generativelanguage<0.7.0,>=0.6.18->langchain-google-genai) (5.5.2)\n",
      "Requirement already satisfied: pyasn1-modules>=0.2.1 in /opt/anaconda3/envs/KII/lib/python3.10/site-packages (from google-auth!=2.24.0,!=2.25.0,<3.0.0,>=2.14.1->google-ai-generativelanguage<0.7.0,>=0.6.18->langchain-google-genai) (0.4.2)\n",
      "Requirement already satisfied: rsa<5,>=3.1.4 in /opt/anaconda3/envs/KII/lib/python3.10/site-packages (from google-auth!=2.24.0,!=2.25.0,<3.0.0,>=2.14.1->google-ai-generativelanguage<0.7.0,>=0.6.18->langchain-google-genai) (4.9.1)\n",
      "Requirement already satisfied: langsmith<0.4,>=0.1.126 in /opt/anaconda3/envs/KII/lib/python3.10/site-packages (from langchain-core<0.4.0,>=0.3.52->langchain-google-genai) (0.3.42)\n",
      "Requirement already satisfied: tenacity!=8.4.0,<10.0.0,>=8.1.0 in /opt/anaconda3/envs/KII/lib/python3.10/site-packages (from langchain-core<0.4.0,>=0.3.52->langchain-google-genai) (9.1.2)\n",
      "Requirement already satisfied: jsonpatch<2.0,>=1.33 in /opt/anaconda3/envs/KII/lib/python3.10/site-packages (from langchain-core<0.4.0,>=0.3.52->langchain-google-genai) (1.33)\n",
      "Requirement already satisfied: PyYAML>=5.3 in /opt/anaconda3/envs/KII/lib/python3.10/site-packages (from langchain-core<0.4.0,>=0.3.52->langchain-google-genai) (6.0.2)\n",
      "Requirement already satisfied: packaging<25,>=23.2 in /opt/anaconda3/envs/KII/lib/python3.10/site-packages (from langchain-core<0.4.0,>=0.3.52->langchain-google-genai) (24.2)\n",
      "Requirement already satisfied: typing-extensions>=4.7 in /opt/anaconda3/envs/KII/lib/python3.10/site-packages (from langchain-core<0.4.0,>=0.3.52->langchain-google-genai) (4.13.2)\n",
      "Requirement already satisfied: jsonpointer>=1.9 in /opt/anaconda3/envs/KII/lib/python3.10/site-packages (from jsonpatch<2.0,>=1.33->langchain-core<0.4.0,>=0.3.52->langchain-google-genai) (3.0.0)\n",
      "Requirement already satisfied: httpx<1,>=0.23.0 in /opt/anaconda3/envs/KII/lib/python3.10/site-packages (from langsmith<0.4,>=0.1.126->langchain-core<0.4.0,>=0.3.52->langchain-google-genai) (0.28.1)\n",
      "Requirement already satisfied: orjson<4.0.0,>=3.9.14 in /opt/anaconda3/envs/KII/lib/python3.10/site-packages (from langsmith<0.4,>=0.1.126->langchain-core<0.4.0,>=0.3.52->langchain-google-genai) (3.10.18)\n",
      "Requirement already satisfied: requests-toolbelt<2.0.0,>=1.0.0 in /opt/anaconda3/envs/KII/lib/python3.10/site-packages (from langsmith<0.4,>=0.1.126->langchain-core<0.4.0,>=0.3.52->langchain-google-genai) (1.0.0)\n",
      "Requirement already satisfied: zstandard<0.24.0,>=0.23.0 in /opt/anaconda3/envs/KII/lib/python3.10/site-packages (from langsmith<0.4,>=0.1.126->langchain-core<0.4.0,>=0.3.52->langchain-google-genai) (0.23.0)\n",
      "Requirement already satisfied: anyio in /opt/anaconda3/envs/KII/lib/python3.10/site-packages (from httpx<1,>=0.23.0->langsmith<0.4,>=0.1.126->langchain-core<0.4.0,>=0.3.52->langchain-google-genai) (4.9.0)\n",
      "Requirement already satisfied: certifi in /opt/anaconda3/envs/KII/lib/python3.10/site-packages (from httpx<1,>=0.23.0->langsmith<0.4,>=0.1.126->langchain-core<0.4.0,>=0.3.52->langchain-google-genai) (2025.4.26)\n",
      "Requirement already satisfied: httpcore==1.* in /opt/anaconda3/envs/KII/lib/python3.10/site-packages (from httpx<1,>=0.23.0->langsmith<0.4,>=0.1.126->langchain-core<0.4.0,>=0.3.52->langchain-google-genai) (1.0.9)\n",
      "Requirement already satisfied: idna in /opt/anaconda3/envs/KII/lib/python3.10/site-packages (from httpx<1,>=0.23.0->langsmith<0.4,>=0.1.126->langchain-core<0.4.0,>=0.3.52->langchain-google-genai) (3.10)\n",
      "Requirement already satisfied: h11>=0.16 in /opt/anaconda3/envs/KII/lib/python3.10/site-packages (from httpcore==1.*->httpx<1,>=0.23.0->langsmith<0.4,>=0.1.126->langchain-core<0.4.0,>=0.3.52->langchain-google-genai) (0.16.0)\n",
      "Requirement already satisfied: annotated-types>=0.6.0 in /opt/anaconda3/envs/KII/lib/python3.10/site-packages (from pydantic<3,>=2->langchain-google-genai) (0.7.0)\n",
      "Requirement already satisfied: pydantic-core==2.33.2 in /opt/anaconda3/envs/KII/lib/python3.10/site-packages (from pydantic<3,>=2->langchain-google-genai) (2.33.2)\n",
      "Requirement already satisfied: typing-inspection>=0.4.0 in /opt/anaconda3/envs/KII/lib/python3.10/site-packages (from pydantic<3,>=2->langchain-google-genai) (0.4.0)\n",
      "Requirement already satisfied: charset-normalizer<4,>=2 in /opt/anaconda3/envs/KII/lib/python3.10/site-packages (from requests<3.0.0,>=2.18.0->google-api-core!=2.0.*,!=2.1.*,!=2.10.*,!=2.2.*,!=2.3.*,!=2.4.*,!=2.5.*,!=2.6.*,!=2.7.*,!=2.8.*,!=2.9.*,<3.0.0,>=1.34.1->google-api-core[grpc]!=2.0.*,!=2.1.*,!=2.10.*,!=2.2.*,!=2.3.*,!=2.4.*,!=2.5.*,!=2.6.*,!=2.7.*,!=2.8.*,!=2.9.*,<3.0.0,>=1.34.1->google-ai-generativelanguage<0.7.0,>=0.6.18->langchain-google-genai) (3.4.2)\n",
      "Requirement already satisfied: urllib3<3,>=1.21.1 in /opt/anaconda3/envs/KII/lib/python3.10/site-packages (from requests<3.0.0,>=2.18.0->google-api-core!=2.0.*,!=2.1.*,!=2.10.*,!=2.2.*,!=2.3.*,!=2.4.*,!=2.5.*,!=2.6.*,!=2.7.*,!=2.8.*,!=2.9.*,<3.0.0,>=1.34.1->google-api-core[grpc]!=2.0.*,!=2.1.*,!=2.10.*,!=2.2.*,!=2.3.*,!=2.4.*,!=2.5.*,!=2.6.*,!=2.7.*,!=2.8.*,!=2.9.*,<3.0.0,>=1.34.1->google-ai-generativelanguage<0.7.0,>=0.6.18->langchain-google-genai) (2.4.0)\n",
      "Requirement already satisfied: pyasn1>=0.1.3 in /opt/anaconda3/envs/KII/lib/python3.10/site-packages (from rsa<5,>=3.1.4->google-auth!=2.24.0,!=2.25.0,<3.0.0,>=2.14.1->google-ai-generativelanguage<0.7.0,>=0.6.18->langchain-google-genai) (0.6.1)\n",
      "Requirement already satisfied: exceptiongroup>=1.0.2 in /opt/anaconda3/envs/KII/lib/python3.10/site-packages (from anyio->httpx<1,>=0.23.0->langsmith<0.4,>=0.1.126->langchain-core<0.4.0,>=0.3.52->langchain-google-genai) (1.3.0)\n",
      "Requirement already satisfied: sniffio>=1.1 in /opt/anaconda3/envs/KII/lib/python3.10/site-packages (from anyio->httpx<1,>=0.23.0->langsmith<0.4,>=0.1.126->langchain-core<0.4.0,>=0.3.52->langchain-google-genai) (1.3.1)\n",
      "Note: you may need to restart the kernel to use updated packages.\n"
     ]
    }
   ],
   "source": [
    "%pip install -U langchain-google-genai"
   ]
  },
  {
   "cell_type": "code",
   "execution_count": 436,
   "id": "fecb9d6e",
   "metadata": {},
   "outputs": [],
   "source": [
    "from langchain.chat_models import init_chat_model\n",
    "\n",
    "model = init_chat_model(\"gemini-2.0-flash\", model_provider=\"google_genai\")"
   ]
  },
  {
   "cell_type": "code",
   "execution_count": 437,
   "id": "3a1fc111",
   "metadata": {},
   "outputs": [
    {
     "name": "stderr",
     "output_type": "stream",
     "text": [
      "python(14159) MallocStackLogging: can't turn off malloc stack logging because it was not enabled.\n",
      "huggingface/tokenizers: The current process just got forked, after parallelism has already been used. Disabling parallelism to avoid deadlocks...\n",
      "To disable this warning, you can either:\n",
      "\t- Avoid using `tokenizers` before the fork if possible\n",
      "\t- Explicitly set the environment variable TOKENIZERS_PARALLELISM=(true | false)\n"
     ]
    },
    {
     "name": "stdout",
     "output_type": "stream",
     "text": [
      "Note: you may need to restart the kernel to use updated packages.\n"
     ]
    }
   ],
   "source": [
    "%pip install -qU langchain-huggingface"
   ]
  },
  {
   "cell_type": "code",
   "execution_count": 438,
   "id": "d0cd330a",
   "metadata": {},
   "outputs": [],
   "source": [
    "from langchain_huggingface import HuggingFaceEmbeddings\n",
    "\n",
    "embeddings = HuggingFaceEmbeddings(model_name=\"sentence-transformers/all-mpnet-base-v2\")"
   ]
  },
  {
   "cell_type": "code",
   "execution_count": 439,
   "id": "896eb9f3",
   "metadata": {},
   "outputs": [
    {
     "name": "stderr",
     "output_type": "stream",
     "text": [
      "python(14171) MallocStackLogging: can't turn off malloc stack logging because it was not enabled.\n",
      "huggingface/tokenizers: The current process just got forked, after parallelism has already been used. Disabling parallelism to avoid deadlocks...\n",
      "To disable this warning, you can either:\n",
      "\t- Avoid using `tokenizers` before the fork if possible\n",
      "\t- Explicitly set the environment variable TOKENIZERS_PARALLELISM=(true | false)\n"
     ]
    },
    {
     "name": "stdout",
     "output_type": "stream",
     "text": [
      "Found existing installation: opentelemetry-sdk 1.33.0\n",
      "Uninstalling opentelemetry-sdk-1.33.0:\n",
      "  Successfully uninstalled opentelemetry-sdk-1.33.0\n",
      "Found existing installation: opentelemetry-exporter-otlp-proto-grpc 1.33.0\n",
      "Uninstalling opentelemetry-exporter-otlp-proto-grpc-1.33.0:\n",
      "  Successfully uninstalled opentelemetry-exporter-otlp-proto-grpc-1.33.0\n",
      "\u001b[33mWARNING: Skipping opentelemetry-util as it is not installed.\u001b[0m\u001b[33m\n",
      "\u001b[0mFound existing installation: opentelemetry-instrumentation 0.54b0\n",
      "Uninstalling opentelemetry-instrumentation-0.54b0:\n",
      "  Successfully uninstalled opentelemetry-instrumentation-0.54b0\n",
      "Found existing installation: chromadb 1.0.9\n",
      "Uninstalling chromadb-1.0.9:\n",
      "  Successfully uninstalled chromadb-1.0.9\n",
      "Found existing installation: langchain-chroma 0.2.4\n",
      "Uninstalling langchain-chroma-0.2.4:\n",
      "  Successfully uninstalled langchain-chroma-0.2.4\n",
      "Note: you may need to restart the kernel to use updated packages.\n"
     ]
    },
    {
     "name": "stderr",
     "output_type": "stream",
     "text": [
      "python(14176) MallocStackLogging: can't turn off malloc stack logging because it was not enabled.\n",
      "huggingface/tokenizers: The current process just got forked, after parallelism has already been used. Disabling parallelism to avoid deadlocks...\n",
      "To disable this warning, you can either:\n",
      "\t- Avoid using `tokenizers` before the fork if possible\n",
      "\t- Explicitly set the environment variable TOKENIZERS_PARALLELISM=(true | false)\n"
     ]
    },
    {
     "name": "stdout",
     "output_type": "stream",
     "text": [
      "Collecting chromadb>=0.4.24\n",
      "  Using cached chromadb-1.0.9-cp39-abi3-macosx_11_0_arm64.whl.metadata (6.9 kB)\n",
      "Collecting opentelemetry-sdk==1.33.0\n",
      "  Using cached opentelemetry_sdk-1.33.0-py3-none-any.whl.metadata (1.6 kB)\n",
      "Requirement already satisfied: opentelemetry-api==1.33.0 in /opt/anaconda3/envs/KII/lib/python3.10/site-packages (1.33.0)\n",
      "Collecting opentelemetry-exporter-otlp-proto-grpc==1.33.0\n",
      "  Using cached opentelemetry_exporter_otlp_proto_grpc-1.33.0-py3-none-any.whl.metadata (2.5 kB)\n",
      "Requirement already satisfied: opentelemetry-semantic-conventions==0.54b0 in /opt/anaconda3/envs/KII/lib/python3.10/site-packages (from opentelemetry-sdk==1.33.0) (0.54b0)\n",
      "Requirement already satisfied: typing-extensions>=3.7.4 in /opt/anaconda3/envs/KII/lib/python3.10/site-packages (from opentelemetry-sdk==1.33.0) (4.13.2)\n",
      "Requirement already satisfied: deprecated>=1.2.6 in /opt/anaconda3/envs/KII/lib/python3.10/site-packages (from opentelemetry-api==1.33.0) (1.2.18)\n",
      "Requirement already satisfied: importlib-metadata<8.7.0,>=6.0 in /opt/anaconda3/envs/KII/lib/python3.10/site-packages (from opentelemetry-api==1.33.0) (8.6.1)\n",
      "Requirement already satisfied: googleapis-common-protos~=1.52 in /opt/anaconda3/envs/KII/lib/python3.10/site-packages (from opentelemetry-exporter-otlp-proto-grpc==1.33.0) (1.70.0)\n",
      "Requirement already satisfied: grpcio<2.0.0,>=1.63.2 in /opt/anaconda3/envs/KII/lib/python3.10/site-packages (from opentelemetry-exporter-otlp-proto-grpc==1.33.0) (1.72.0rc1)\n",
      "Requirement already satisfied: opentelemetry-exporter-otlp-proto-common==1.33.0 in /opt/anaconda3/envs/KII/lib/python3.10/site-packages (from opentelemetry-exporter-otlp-proto-grpc==1.33.0) (1.33.0)\n",
      "Requirement already satisfied: opentelemetry-proto==1.33.0 in /opt/anaconda3/envs/KII/lib/python3.10/site-packages (from opentelemetry-exporter-otlp-proto-grpc==1.33.0) (1.33.0)\n",
      "Collecting protobuf<6.0,>=5.0 (from opentelemetry-proto==1.33.0->opentelemetry-exporter-otlp-proto-grpc==1.33.0)\n",
      "  Using cached protobuf-5.29.4-cp38-abi3-macosx_10_9_universal2.whl.metadata (592 bytes)\n",
      "Requirement already satisfied: zipp>=3.20 in /opt/anaconda3/envs/KII/lib/python3.10/site-packages (from importlib-metadata<8.7.0,>=6.0->opentelemetry-api==1.33.0) (3.21.0)\n",
      "Requirement already satisfied: build>=1.0.3 in /opt/anaconda3/envs/KII/lib/python3.10/site-packages (from chromadb>=0.4.24) (1.2.2.post1)\n",
      "Requirement already satisfied: pydantic>=1.9 in /opt/anaconda3/envs/KII/lib/python3.10/site-packages (from chromadb>=0.4.24) (2.11.4)\n",
      "Requirement already satisfied: fastapi==0.115.9 in /opt/anaconda3/envs/KII/lib/python3.10/site-packages (from chromadb>=0.4.24) (0.115.9)\n",
      "Requirement already satisfied: uvicorn>=0.18.3 in /opt/anaconda3/envs/KII/lib/python3.10/site-packages (from uvicorn[standard]>=0.18.3->chromadb>=0.4.24) (0.34.2)\n",
      "Requirement already satisfied: numpy>=1.22.5 in /opt/anaconda3/envs/KII/lib/python3.10/site-packages (from chromadb>=0.4.24) (2.2.6)\n",
      "Requirement already satisfied: posthog>=2.4.0 in /opt/anaconda3/envs/KII/lib/python3.10/site-packages (from chromadb>=0.4.24) (4.0.1)\n",
      "Requirement already satisfied: onnxruntime>=1.14.1 in /opt/anaconda3/envs/KII/lib/python3.10/site-packages (from chromadb>=0.4.24) (1.22.0)\n",
      "Requirement already satisfied: opentelemetry-instrumentation-fastapi>=0.41b0 in /opt/anaconda3/envs/KII/lib/python3.10/site-packages (from chromadb>=0.4.24) (0.54b0)\n",
      "Requirement already satisfied: tokenizers>=0.13.2 in /opt/anaconda3/envs/KII/lib/python3.10/site-packages (from chromadb>=0.4.24) (0.21.1)\n",
      "Requirement already satisfied: pypika>=0.48.9 in /opt/anaconda3/envs/KII/lib/python3.10/site-packages (from chromadb>=0.4.24) (0.48.9)\n",
      "Requirement already satisfied: tqdm>=4.65.0 in /opt/anaconda3/envs/KII/lib/python3.10/site-packages (from chromadb>=0.4.24) (4.67.1)\n",
      "Requirement already satisfied: overrides>=7.3.1 in /opt/anaconda3/envs/KII/lib/python3.10/site-packages (from chromadb>=0.4.24) (7.7.0)\n",
      "Requirement already satisfied: importlib-resources in /opt/anaconda3/envs/KII/lib/python3.10/site-packages (from chromadb>=0.4.24) (6.5.2)\n",
      "Requirement already satisfied: bcrypt>=4.0.1 in /opt/anaconda3/envs/KII/lib/python3.10/site-packages (from chromadb>=0.4.24) (4.3.0)\n",
      "Requirement already satisfied: typer>=0.9.0 in /opt/anaconda3/envs/KII/lib/python3.10/site-packages (from chromadb>=0.4.24) (0.15.4)\n",
      "Requirement already satisfied: kubernetes>=28.1.0 in /opt/anaconda3/envs/KII/lib/python3.10/site-packages (from chromadb>=0.4.24) (32.0.1)\n",
      "Requirement already satisfied: tenacity>=8.2.3 in /opt/anaconda3/envs/KII/lib/python3.10/site-packages (from chromadb>=0.4.24) (9.1.2)\n",
      "Requirement already satisfied: pyyaml>=6.0.0 in /opt/anaconda3/envs/KII/lib/python3.10/site-packages (from chromadb>=0.4.24) (6.0.2)\n",
      "Requirement already satisfied: mmh3>=4.0.1 in /opt/anaconda3/envs/KII/lib/python3.10/site-packages (from chromadb>=0.4.24) (5.1.0)\n",
      "Requirement already satisfied: orjson>=3.9.12 in /opt/anaconda3/envs/KII/lib/python3.10/site-packages (from chromadb>=0.4.24) (3.10.18)\n",
      "Requirement already satisfied: httpx>=0.27.0 in /opt/anaconda3/envs/KII/lib/python3.10/site-packages (from chromadb>=0.4.24) (0.28.1)\n",
      "Requirement already satisfied: rich>=10.11.0 in /opt/anaconda3/envs/KII/lib/python3.10/site-packages (from chromadb>=0.4.24) (14.0.0)\n",
      "Requirement already satisfied: jsonschema>=4.19.0 in /opt/anaconda3/envs/KII/lib/python3.10/site-packages (from chromadb>=0.4.24) (4.23.0)\n",
      "Requirement already satisfied: starlette<0.46.0,>=0.40.0 in /opt/anaconda3/envs/KII/lib/python3.10/site-packages (from fastapi==0.115.9->chromadb>=0.4.24) (0.45.3)\n",
      "Requirement already satisfied: annotated-types>=0.6.0 in /opt/anaconda3/envs/KII/lib/python3.10/site-packages (from pydantic>=1.9->chromadb>=0.4.24) (0.7.0)\n",
      "Requirement already satisfied: pydantic-core==2.33.2 in /opt/anaconda3/envs/KII/lib/python3.10/site-packages (from pydantic>=1.9->chromadb>=0.4.24) (2.33.2)\n",
      "Requirement already satisfied: typing-inspection>=0.4.0 in /opt/anaconda3/envs/KII/lib/python3.10/site-packages (from pydantic>=1.9->chromadb>=0.4.24) (0.4.0)\n",
      "Requirement already satisfied: anyio<5,>=3.6.2 in /opt/anaconda3/envs/KII/lib/python3.10/site-packages (from starlette<0.46.0,>=0.40.0->fastapi==0.115.9->chromadb>=0.4.24) (4.9.0)\n",
      "Requirement already satisfied: exceptiongroup>=1.0.2 in /opt/anaconda3/envs/KII/lib/python3.10/site-packages (from anyio<5,>=3.6.2->starlette<0.46.0,>=0.40.0->fastapi==0.115.9->chromadb>=0.4.24) (1.3.0)\n",
      "Requirement already satisfied: idna>=2.8 in /opt/anaconda3/envs/KII/lib/python3.10/site-packages (from anyio<5,>=3.6.2->starlette<0.46.0,>=0.40.0->fastapi==0.115.9->chromadb>=0.4.24) (3.10)\n",
      "Requirement already satisfied: sniffio>=1.1 in /opt/anaconda3/envs/KII/lib/python3.10/site-packages (from anyio<5,>=3.6.2->starlette<0.46.0,>=0.40.0->fastapi==0.115.9->chromadb>=0.4.24) (1.3.1)\n",
      "Requirement already satisfied: packaging>=19.1 in /opt/anaconda3/envs/KII/lib/python3.10/site-packages (from build>=1.0.3->chromadb>=0.4.24) (24.2)\n",
      "Requirement already satisfied: pyproject_hooks in /opt/anaconda3/envs/KII/lib/python3.10/site-packages (from build>=1.0.3->chromadb>=0.4.24) (1.2.0)\n",
      "Requirement already satisfied: tomli>=1.1.0 in /opt/anaconda3/envs/KII/lib/python3.10/site-packages (from build>=1.0.3->chromadb>=0.4.24) (2.2.1)\n",
      "Requirement already satisfied: wrapt<2,>=1.10 in /opt/anaconda3/envs/KII/lib/python3.10/site-packages (from deprecated>=1.2.6->opentelemetry-api==1.33.0) (1.17.2)\n",
      "Requirement already satisfied: certifi in /opt/anaconda3/envs/KII/lib/python3.10/site-packages (from httpx>=0.27.0->chromadb>=0.4.24) (2025.4.26)\n",
      "Requirement already satisfied: httpcore==1.* in /opt/anaconda3/envs/KII/lib/python3.10/site-packages (from httpx>=0.27.0->chromadb>=0.4.24) (1.0.9)\n",
      "Requirement already satisfied: h11>=0.16 in /opt/anaconda3/envs/KII/lib/python3.10/site-packages (from httpcore==1.*->httpx>=0.27.0->chromadb>=0.4.24) (0.16.0)\n",
      "Requirement already satisfied: attrs>=22.2.0 in /opt/anaconda3/envs/KII/lib/python3.10/site-packages (from jsonschema>=4.19.0->chromadb>=0.4.24) (25.3.0)\n",
      "Requirement already satisfied: jsonschema-specifications>=2023.03.6 in /opt/anaconda3/envs/KII/lib/python3.10/site-packages (from jsonschema>=4.19.0->chromadb>=0.4.24) (2025.4.1)\n",
      "Requirement already satisfied: referencing>=0.28.4 in /opt/anaconda3/envs/KII/lib/python3.10/site-packages (from jsonschema>=4.19.0->chromadb>=0.4.24) (0.36.2)\n",
      "Requirement already satisfied: rpds-py>=0.7.1 in /opt/anaconda3/envs/KII/lib/python3.10/site-packages (from jsonschema>=4.19.0->chromadb>=0.4.24) (0.25.0)\n",
      "Requirement already satisfied: six>=1.9.0 in /opt/anaconda3/envs/KII/lib/python3.10/site-packages (from kubernetes>=28.1.0->chromadb>=0.4.24) (1.17.0)\n",
      "Requirement already satisfied: python-dateutil>=2.5.3 in /opt/anaconda3/envs/KII/lib/python3.10/site-packages (from kubernetes>=28.1.0->chromadb>=0.4.24) (2.9.0.post0)\n",
      "Requirement already satisfied: google-auth>=1.0.1 in /opt/anaconda3/envs/KII/lib/python3.10/site-packages (from kubernetes>=28.1.0->chromadb>=0.4.24) (2.40.1)\n",
      "Requirement already satisfied: websocket-client!=0.40.0,!=0.41.*,!=0.42.*,>=0.32.0 in /opt/anaconda3/envs/KII/lib/python3.10/site-packages (from kubernetes>=28.1.0->chromadb>=0.4.24) (1.8.0)\n",
      "Requirement already satisfied: requests in /opt/anaconda3/envs/KII/lib/python3.10/site-packages (from kubernetes>=28.1.0->chromadb>=0.4.24) (2.32.3)\n",
      "Requirement already satisfied: requests-oauthlib in /opt/anaconda3/envs/KII/lib/python3.10/site-packages (from kubernetes>=28.1.0->chromadb>=0.4.24) (2.0.0)\n",
      "Requirement already satisfied: oauthlib>=3.2.2 in /opt/anaconda3/envs/KII/lib/python3.10/site-packages (from kubernetes>=28.1.0->chromadb>=0.4.24) (3.2.2)\n",
      "Requirement already satisfied: urllib3>=1.24.2 in /opt/anaconda3/envs/KII/lib/python3.10/site-packages (from kubernetes>=28.1.0->chromadb>=0.4.24) (2.4.0)\n",
      "Requirement already satisfied: durationpy>=0.7 in /opt/anaconda3/envs/KII/lib/python3.10/site-packages (from kubernetes>=28.1.0->chromadb>=0.4.24) (0.10)\n",
      "Requirement already satisfied: cachetools<6.0,>=2.0.0 in /opt/anaconda3/envs/KII/lib/python3.10/site-packages (from google-auth>=1.0.1->kubernetes>=28.1.0->chromadb>=0.4.24) (5.5.2)\n",
      "Requirement already satisfied: pyasn1-modules>=0.2.1 in /opt/anaconda3/envs/KII/lib/python3.10/site-packages (from google-auth>=1.0.1->kubernetes>=28.1.0->chromadb>=0.4.24) (0.4.2)\n",
      "Requirement already satisfied: rsa<5,>=3.1.4 in /opt/anaconda3/envs/KII/lib/python3.10/site-packages (from google-auth>=1.0.1->kubernetes>=28.1.0->chromadb>=0.4.24) (4.9.1)\n",
      "Requirement already satisfied: pyasn1>=0.1.3 in /opt/anaconda3/envs/KII/lib/python3.10/site-packages (from rsa<5,>=3.1.4->google-auth>=1.0.1->kubernetes>=28.1.0->chromadb>=0.4.24) (0.6.1)\n",
      "Requirement already satisfied: coloredlogs in /opt/anaconda3/envs/KII/lib/python3.10/site-packages (from onnxruntime>=1.14.1->chromadb>=0.4.24) (15.0.1)\n",
      "Requirement already satisfied: flatbuffers in /opt/anaconda3/envs/KII/lib/python3.10/site-packages (from onnxruntime>=1.14.1->chromadb>=0.4.24) (25.2.10)\n",
      "Requirement already satisfied: sympy in /opt/anaconda3/envs/KII/lib/python3.10/site-packages (from onnxruntime>=1.14.1->chromadb>=0.4.24) (1.14.0)\n",
      "Requirement already satisfied: opentelemetry-instrumentation-asgi==0.54b0 in /opt/anaconda3/envs/KII/lib/python3.10/site-packages (from opentelemetry-instrumentation-fastapi>=0.41b0->chromadb>=0.4.24) (0.54b0)\n",
      "Collecting opentelemetry-instrumentation==0.54b0 (from opentelemetry-instrumentation-fastapi>=0.41b0->chromadb>=0.4.24)\n",
      "  Using cached opentelemetry_instrumentation-0.54b0-py3-none-any.whl.metadata (6.8 kB)\n",
      "Requirement already satisfied: opentelemetry-util-http==0.54b0 in /opt/anaconda3/envs/KII/lib/python3.10/site-packages (from opentelemetry-instrumentation-fastapi>=0.41b0->chromadb>=0.4.24) (0.54b0)\n",
      "Requirement already satisfied: asgiref~=3.0 in /opt/anaconda3/envs/KII/lib/python3.10/site-packages (from opentelemetry-instrumentation-asgi==0.54b0->opentelemetry-instrumentation-fastapi>=0.41b0->chromadb>=0.4.24) (3.8.1)\n",
      "Requirement already satisfied: backoff>=1.10.0 in /opt/anaconda3/envs/KII/lib/python3.10/site-packages (from posthog>=2.4.0->chromadb>=0.4.24) (2.2.1)\n",
      "Requirement already satisfied: distro>=1.5.0 in /opt/anaconda3/envs/KII/lib/python3.10/site-packages (from posthog>=2.4.0->chromadb>=0.4.24) (1.9.0)\n",
      "Requirement already satisfied: charset-normalizer<4,>=2 in /opt/anaconda3/envs/KII/lib/python3.10/site-packages (from requests->kubernetes>=28.1.0->chromadb>=0.4.24) (3.4.2)\n",
      "Requirement already satisfied: markdown-it-py>=2.2.0 in /opt/anaconda3/envs/KII/lib/python3.10/site-packages (from rich>=10.11.0->chromadb>=0.4.24) (3.0.0)\n",
      "Requirement already satisfied: pygments<3.0.0,>=2.13.0 in /opt/anaconda3/envs/KII/lib/python3.10/site-packages (from rich>=10.11.0->chromadb>=0.4.24) (2.19.1)\n",
      "Requirement already satisfied: mdurl~=0.1 in /opt/anaconda3/envs/KII/lib/python3.10/site-packages (from markdown-it-py>=2.2.0->rich>=10.11.0->chromadb>=0.4.24) (0.1.2)\n",
      "Requirement already satisfied: huggingface-hub<1.0,>=0.16.4 in /opt/anaconda3/envs/KII/lib/python3.10/site-packages (from tokenizers>=0.13.2->chromadb>=0.4.24) (0.31.2)\n",
      "Requirement already satisfied: filelock in /opt/anaconda3/envs/KII/lib/python3.10/site-packages (from huggingface-hub<1.0,>=0.16.4->tokenizers>=0.13.2->chromadb>=0.4.24) (3.18.0)\n",
      "Requirement already satisfied: fsspec>=2023.5.0 in /opt/anaconda3/envs/KII/lib/python3.10/site-packages (from huggingface-hub<1.0,>=0.16.4->tokenizers>=0.13.2->chromadb>=0.4.24) (2025.3.2)\n",
      "Requirement already satisfied: click<8.2,>=8.0.0 in /opt/anaconda3/envs/KII/lib/python3.10/site-packages (from typer>=0.9.0->chromadb>=0.4.24) (8.1.8)\n",
      "Requirement already satisfied: shellingham>=1.3.0 in /opt/anaconda3/envs/KII/lib/python3.10/site-packages (from typer>=0.9.0->chromadb>=0.4.24) (1.5.4)\n",
      "Requirement already satisfied: httptools>=0.6.3 in /opt/anaconda3/envs/KII/lib/python3.10/site-packages (from uvicorn[standard]>=0.18.3->chromadb>=0.4.24) (0.6.4)\n",
      "Requirement already satisfied: python-dotenv>=0.13 in /opt/anaconda3/envs/KII/lib/python3.10/site-packages (from uvicorn[standard]>=0.18.3->chromadb>=0.4.24) (1.1.0)\n",
      "Requirement already satisfied: uvloop!=0.15.0,!=0.15.1,>=0.14.0 in /opt/anaconda3/envs/KII/lib/python3.10/site-packages (from uvicorn[standard]>=0.18.3->chromadb>=0.4.24) (0.21.0)\n",
      "Requirement already satisfied: watchfiles>=0.13 in /opt/anaconda3/envs/KII/lib/python3.10/site-packages (from uvicorn[standard]>=0.18.3->chromadb>=0.4.24) (1.0.5)\n",
      "Requirement already satisfied: websockets>=10.4 in /opt/anaconda3/envs/KII/lib/python3.10/site-packages (from uvicorn[standard]>=0.18.3->chromadb>=0.4.24) (15.0.1)\n",
      "Requirement already satisfied: humanfriendly>=9.1 in /opt/anaconda3/envs/KII/lib/python3.10/site-packages (from coloredlogs->onnxruntime>=1.14.1->chromadb>=0.4.24) (10.0)\n",
      "Requirement already satisfied: mpmath<1.4,>=1.1.0 in /opt/anaconda3/envs/KII/lib/python3.10/site-packages (from sympy->onnxruntime>=1.14.1->chromadb>=0.4.24) (1.3.0)\n",
      "Using cached opentelemetry_sdk-1.33.0-py3-none-any.whl (118 kB)\n",
      "Using cached opentelemetry_exporter_otlp_proto_grpc-1.33.0-py3-none-any.whl (18 kB)\n",
      "Using cached protobuf-5.29.4-cp38-abi3-macosx_10_9_universal2.whl (417 kB)\n",
      "Using cached chromadb-1.0.9-cp39-abi3-macosx_11_0_arm64.whl (17.5 MB)\n",
      "Using cached opentelemetry_instrumentation-0.54b0-py3-none-any.whl (31 kB)\n",
      "Installing collected packages: protobuf, opentelemetry-sdk, opentelemetry-instrumentation, opentelemetry-exporter-otlp-proto-grpc, chromadb\n",
      "\u001b[2K  Attempting uninstall: protobuf\n",
      "\u001b[2K    Found existing installation: protobuf 6.31.0\n",
      "\u001b[2K    Uninstalling protobuf-6.31.0:\n",
      "\u001b[2K      Successfully uninstalled protobuf-6.31.0\n",
      "\u001b[2K   \u001b[90m━━━━━━━━━━━━━━━━━━━━━━━━━━━━━━━━━━━━━━━━\u001b[0m \u001b[32m5/5\u001b[0m [chromadb]4/5\u001b[0m [chromadb]etry-sdk]\n",
      "\u001b[1A\u001b[2K\u001b[31mERROR: pip's dependency resolver does not currently take into account all the packages that are installed. This behaviour is the source of the following dependency conflicts.\n",
      "grpcio-status 1.72.0rc1 requires protobuf<7.0dev,>=6.30.0, but you have protobuf 5.29.4 which is incompatible.\u001b[0m\u001b[31m\n",
      "\u001b[0mSuccessfully installed chromadb-1.0.9 opentelemetry-exporter-otlp-proto-grpc-1.33.0 opentelemetry-instrumentation-0.54b0 opentelemetry-sdk-1.33.0 protobuf-5.29.4\n",
      "Note: you may need to restart the kernel to use updated packages.\n"
     ]
    },
    {
     "name": "stderr",
     "output_type": "stream",
     "text": [
      "python(14177) MallocStackLogging: can't turn off malloc stack logging because it was not enabled.\n",
      "huggingface/tokenizers: The current process just got forked, after parallelism has already been used. Disabling parallelism to avoid deadlocks...\n",
      "To disable this warning, you can either:\n",
      "\t- Avoid using `tokenizers` before the fork if possible\n",
      "\t- Explicitly set the environment variable TOKENIZERS_PARALLELISM=(true | false)\n"
     ]
    },
    {
     "name": "stdout",
     "output_type": "stream",
     "text": [
      "Requirement already satisfied: langchain in /opt/anaconda3/envs/KII/lib/python3.10/site-packages (0.3.25)\n",
      "Collecting langchain-chroma\n",
      "  Using cached langchain_chroma-0.2.4-py3-none-any.whl.metadata (1.1 kB)\n",
      "Requirement already satisfied: langchain-core<1.0.0,>=0.3.58 in /opt/anaconda3/envs/KII/lib/python3.10/site-packages (from langchain) (0.3.60)\n",
      "Requirement already satisfied: langchain-text-splitters<1.0.0,>=0.3.8 in /opt/anaconda3/envs/KII/lib/python3.10/site-packages (from langchain) (0.3.8)\n",
      "Requirement already satisfied: langsmith<0.4,>=0.1.17 in /opt/anaconda3/envs/KII/lib/python3.10/site-packages (from langchain) (0.3.42)\n",
      "Requirement already satisfied: pydantic<3.0.0,>=2.7.4 in /opt/anaconda3/envs/KII/lib/python3.10/site-packages (from langchain) (2.11.4)\n",
      "Requirement already satisfied: SQLAlchemy<3,>=1.4 in /opt/anaconda3/envs/KII/lib/python3.10/site-packages (from langchain) (2.0.41)\n",
      "Requirement already satisfied: requests<3,>=2 in /opt/anaconda3/envs/KII/lib/python3.10/site-packages (from langchain) (2.32.3)\n",
      "Requirement already satisfied: PyYAML>=5.3 in /opt/anaconda3/envs/KII/lib/python3.10/site-packages (from langchain) (6.0.2)\n",
      "Requirement already satisfied: async-timeout<5.0.0,>=4.0.0 in /opt/anaconda3/envs/KII/lib/python3.10/site-packages (from langchain) (4.0.3)\n",
      "Requirement already satisfied: tenacity!=8.4.0,<10.0.0,>=8.1.0 in /opt/anaconda3/envs/KII/lib/python3.10/site-packages (from langchain-core<1.0.0,>=0.3.58->langchain) (9.1.2)\n",
      "Requirement already satisfied: jsonpatch<2.0,>=1.33 in /opt/anaconda3/envs/KII/lib/python3.10/site-packages (from langchain-core<1.0.0,>=0.3.58->langchain) (1.33)\n",
      "Requirement already satisfied: packaging<25,>=23.2 in /opt/anaconda3/envs/KII/lib/python3.10/site-packages (from langchain-core<1.0.0,>=0.3.58->langchain) (24.2)\n",
      "Requirement already satisfied: typing-extensions>=4.7 in /opt/anaconda3/envs/KII/lib/python3.10/site-packages (from langchain-core<1.0.0,>=0.3.58->langchain) (4.13.2)\n",
      "Requirement already satisfied: jsonpointer>=1.9 in /opt/anaconda3/envs/KII/lib/python3.10/site-packages (from jsonpatch<2.0,>=1.33->langchain-core<1.0.0,>=0.3.58->langchain) (3.0.0)\n",
      "Requirement already satisfied: httpx<1,>=0.23.0 in /opt/anaconda3/envs/KII/lib/python3.10/site-packages (from langsmith<0.4,>=0.1.17->langchain) (0.28.1)\n",
      "Requirement already satisfied: orjson<4.0.0,>=3.9.14 in /opt/anaconda3/envs/KII/lib/python3.10/site-packages (from langsmith<0.4,>=0.1.17->langchain) (3.10.18)\n",
      "Requirement already satisfied: requests-toolbelt<2.0.0,>=1.0.0 in /opt/anaconda3/envs/KII/lib/python3.10/site-packages (from langsmith<0.4,>=0.1.17->langchain) (1.0.0)\n",
      "Requirement already satisfied: zstandard<0.24.0,>=0.23.0 in /opt/anaconda3/envs/KII/lib/python3.10/site-packages (from langsmith<0.4,>=0.1.17->langchain) (0.23.0)\n",
      "Requirement already satisfied: anyio in /opt/anaconda3/envs/KII/lib/python3.10/site-packages (from httpx<1,>=0.23.0->langsmith<0.4,>=0.1.17->langchain) (4.9.0)\n",
      "Requirement already satisfied: certifi in /opt/anaconda3/envs/KII/lib/python3.10/site-packages (from httpx<1,>=0.23.0->langsmith<0.4,>=0.1.17->langchain) (2025.4.26)\n",
      "Requirement already satisfied: httpcore==1.* in /opt/anaconda3/envs/KII/lib/python3.10/site-packages (from httpx<1,>=0.23.0->langsmith<0.4,>=0.1.17->langchain) (1.0.9)\n",
      "Requirement already satisfied: idna in /opt/anaconda3/envs/KII/lib/python3.10/site-packages (from httpx<1,>=0.23.0->langsmith<0.4,>=0.1.17->langchain) (3.10)\n",
      "Requirement already satisfied: h11>=0.16 in /opt/anaconda3/envs/KII/lib/python3.10/site-packages (from httpcore==1.*->httpx<1,>=0.23.0->langsmith<0.4,>=0.1.17->langchain) (0.16.0)\n",
      "Requirement already satisfied: annotated-types>=0.6.0 in /opt/anaconda3/envs/KII/lib/python3.10/site-packages (from pydantic<3.0.0,>=2.7.4->langchain) (0.7.0)\n",
      "Requirement already satisfied: pydantic-core==2.33.2 in /opt/anaconda3/envs/KII/lib/python3.10/site-packages (from pydantic<3.0.0,>=2.7.4->langchain) (2.33.2)\n",
      "Requirement already satisfied: typing-inspection>=0.4.0 in /opt/anaconda3/envs/KII/lib/python3.10/site-packages (from pydantic<3.0.0,>=2.7.4->langchain) (0.4.0)\n",
      "Requirement already satisfied: charset-normalizer<4,>=2 in /opt/anaconda3/envs/KII/lib/python3.10/site-packages (from requests<3,>=2->langchain) (3.4.2)\n",
      "Requirement already satisfied: urllib3<3,>=1.21.1 in /opt/anaconda3/envs/KII/lib/python3.10/site-packages (from requests<3,>=2->langchain) (2.4.0)\n",
      "Requirement already satisfied: numpy>=1.26.0 in /opt/anaconda3/envs/KII/lib/python3.10/site-packages (from langchain-chroma) (2.2.6)\n",
      "Requirement already satisfied: chromadb>=1.0.9 in /opt/anaconda3/envs/KII/lib/python3.10/site-packages (from langchain-chroma) (1.0.9)\n",
      "Requirement already satisfied: build>=1.0.3 in /opt/anaconda3/envs/KII/lib/python3.10/site-packages (from chromadb>=1.0.9->langchain-chroma) (1.2.2.post1)\n",
      "Requirement already satisfied: fastapi==0.115.9 in /opt/anaconda3/envs/KII/lib/python3.10/site-packages (from chromadb>=1.0.9->langchain-chroma) (0.115.9)\n",
      "Requirement already satisfied: uvicorn>=0.18.3 in /opt/anaconda3/envs/KII/lib/python3.10/site-packages (from uvicorn[standard]>=0.18.3->chromadb>=1.0.9->langchain-chroma) (0.34.2)\n",
      "Requirement already satisfied: posthog>=2.4.0 in /opt/anaconda3/envs/KII/lib/python3.10/site-packages (from chromadb>=1.0.9->langchain-chroma) (4.0.1)\n",
      "Requirement already satisfied: onnxruntime>=1.14.1 in /opt/anaconda3/envs/KII/lib/python3.10/site-packages (from chromadb>=1.0.9->langchain-chroma) (1.22.0)\n",
      "Requirement already satisfied: opentelemetry-api>=1.2.0 in /opt/anaconda3/envs/KII/lib/python3.10/site-packages (from chromadb>=1.0.9->langchain-chroma) (1.33.0)\n",
      "Requirement already satisfied: opentelemetry-exporter-otlp-proto-grpc>=1.2.0 in /opt/anaconda3/envs/KII/lib/python3.10/site-packages (from chromadb>=1.0.9->langchain-chroma) (1.33.0)\n",
      "Requirement already satisfied: opentelemetry-instrumentation-fastapi>=0.41b0 in /opt/anaconda3/envs/KII/lib/python3.10/site-packages (from chromadb>=1.0.9->langchain-chroma) (0.54b0)\n",
      "Requirement already satisfied: opentelemetry-sdk>=1.2.0 in /opt/anaconda3/envs/KII/lib/python3.10/site-packages (from chromadb>=1.0.9->langchain-chroma) (1.33.0)\n",
      "Requirement already satisfied: tokenizers>=0.13.2 in /opt/anaconda3/envs/KII/lib/python3.10/site-packages (from chromadb>=1.0.9->langchain-chroma) (0.21.1)\n",
      "Requirement already satisfied: pypika>=0.48.9 in /opt/anaconda3/envs/KII/lib/python3.10/site-packages (from chromadb>=1.0.9->langchain-chroma) (0.48.9)\n",
      "Requirement already satisfied: tqdm>=4.65.0 in /opt/anaconda3/envs/KII/lib/python3.10/site-packages (from chromadb>=1.0.9->langchain-chroma) (4.67.1)\n",
      "Requirement already satisfied: overrides>=7.3.1 in /opt/anaconda3/envs/KII/lib/python3.10/site-packages (from chromadb>=1.0.9->langchain-chroma) (7.7.0)\n",
      "Requirement already satisfied: importlib-resources in /opt/anaconda3/envs/KII/lib/python3.10/site-packages (from chromadb>=1.0.9->langchain-chroma) (6.5.2)\n",
      "Requirement already satisfied: grpcio>=1.58.0 in /opt/anaconda3/envs/KII/lib/python3.10/site-packages (from chromadb>=1.0.9->langchain-chroma) (1.72.0rc1)\n",
      "Requirement already satisfied: bcrypt>=4.0.1 in /opt/anaconda3/envs/KII/lib/python3.10/site-packages (from chromadb>=1.0.9->langchain-chroma) (4.3.0)\n",
      "Requirement already satisfied: typer>=0.9.0 in /opt/anaconda3/envs/KII/lib/python3.10/site-packages (from chromadb>=1.0.9->langchain-chroma) (0.15.4)\n",
      "Requirement already satisfied: kubernetes>=28.1.0 in /opt/anaconda3/envs/KII/lib/python3.10/site-packages (from chromadb>=1.0.9->langchain-chroma) (32.0.1)\n",
      "Requirement already satisfied: mmh3>=4.0.1 in /opt/anaconda3/envs/KII/lib/python3.10/site-packages (from chromadb>=1.0.9->langchain-chroma) (5.1.0)\n",
      "Requirement already satisfied: rich>=10.11.0 in /opt/anaconda3/envs/KII/lib/python3.10/site-packages (from chromadb>=1.0.9->langchain-chroma) (14.0.0)\n",
      "Requirement already satisfied: jsonschema>=4.19.0 in /opt/anaconda3/envs/KII/lib/python3.10/site-packages (from chromadb>=1.0.9->langchain-chroma) (4.23.0)\n",
      "Requirement already satisfied: starlette<0.46.0,>=0.40.0 in /opt/anaconda3/envs/KII/lib/python3.10/site-packages (from fastapi==0.115.9->chromadb>=1.0.9->langchain-chroma) (0.45.3)\n",
      "Requirement already satisfied: exceptiongroup>=1.0.2 in /opt/anaconda3/envs/KII/lib/python3.10/site-packages (from anyio->httpx<1,>=0.23.0->langsmith<0.4,>=0.1.17->langchain) (1.3.0)\n",
      "Requirement already satisfied: sniffio>=1.1 in /opt/anaconda3/envs/KII/lib/python3.10/site-packages (from anyio->httpx<1,>=0.23.0->langsmith<0.4,>=0.1.17->langchain) (1.3.1)\n",
      "Requirement already satisfied: pyproject_hooks in /opt/anaconda3/envs/KII/lib/python3.10/site-packages (from build>=1.0.3->chromadb>=1.0.9->langchain-chroma) (1.2.0)\n",
      "Requirement already satisfied: tomli>=1.1.0 in /opt/anaconda3/envs/KII/lib/python3.10/site-packages (from build>=1.0.3->chromadb>=1.0.9->langchain-chroma) (2.2.1)\n",
      "Requirement already satisfied: attrs>=22.2.0 in /opt/anaconda3/envs/KII/lib/python3.10/site-packages (from jsonschema>=4.19.0->chromadb>=1.0.9->langchain-chroma) (25.3.0)\n",
      "Requirement already satisfied: jsonschema-specifications>=2023.03.6 in /opt/anaconda3/envs/KII/lib/python3.10/site-packages (from jsonschema>=4.19.0->chromadb>=1.0.9->langchain-chroma) (2025.4.1)\n",
      "Requirement already satisfied: referencing>=0.28.4 in /opt/anaconda3/envs/KII/lib/python3.10/site-packages (from jsonschema>=4.19.0->chromadb>=1.0.9->langchain-chroma) (0.36.2)\n",
      "Requirement already satisfied: rpds-py>=0.7.1 in /opt/anaconda3/envs/KII/lib/python3.10/site-packages (from jsonschema>=4.19.0->chromadb>=1.0.9->langchain-chroma) (0.25.0)\n",
      "Requirement already satisfied: six>=1.9.0 in /opt/anaconda3/envs/KII/lib/python3.10/site-packages (from kubernetes>=28.1.0->chromadb>=1.0.9->langchain-chroma) (1.17.0)\n",
      "Requirement already satisfied: python-dateutil>=2.5.3 in /opt/anaconda3/envs/KII/lib/python3.10/site-packages (from kubernetes>=28.1.0->chromadb>=1.0.9->langchain-chroma) (2.9.0.post0)\n",
      "Requirement already satisfied: google-auth>=1.0.1 in /opt/anaconda3/envs/KII/lib/python3.10/site-packages (from kubernetes>=28.1.0->chromadb>=1.0.9->langchain-chroma) (2.40.1)\n",
      "Requirement already satisfied: websocket-client!=0.40.0,!=0.41.*,!=0.42.*,>=0.32.0 in /opt/anaconda3/envs/KII/lib/python3.10/site-packages (from kubernetes>=28.1.0->chromadb>=1.0.9->langchain-chroma) (1.8.0)\n",
      "Requirement already satisfied: requests-oauthlib in /opt/anaconda3/envs/KII/lib/python3.10/site-packages (from kubernetes>=28.1.0->chromadb>=1.0.9->langchain-chroma) (2.0.0)\n",
      "Requirement already satisfied: oauthlib>=3.2.2 in /opt/anaconda3/envs/KII/lib/python3.10/site-packages (from kubernetes>=28.1.0->chromadb>=1.0.9->langchain-chroma) (3.2.2)\n",
      "Requirement already satisfied: durationpy>=0.7 in /opt/anaconda3/envs/KII/lib/python3.10/site-packages (from kubernetes>=28.1.0->chromadb>=1.0.9->langchain-chroma) (0.10)\n",
      "Requirement already satisfied: cachetools<6.0,>=2.0.0 in /opt/anaconda3/envs/KII/lib/python3.10/site-packages (from google-auth>=1.0.1->kubernetes>=28.1.0->chromadb>=1.0.9->langchain-chroma) (5.5.2)\n",
      "Requirement already satisfied: pyasn1-modules>=0.2.1 in /opt/anaconda3/envs/KII/lib/python3.10/site-packages (from google-auth>=1.0.1->kubernetes>=28.1.0->chromadb>=1.0.9->langchain-chroma) (0.4.2)\n",
      "Requirement already satisfied: rsa<5,>=3.1.4 in /opt/anaconda3/envs/KII/lib/python3.10/site-packages (from google-auth>=1.0.1->kubernetes>=28.1.0->chromadb>=1.0.9->langchain-chroma) (4.9.1)\n",
      "Requirement already satisfied: pyasn1>=0.1.3 in /opt/anaconda3/envs/KII/lib/python3.10/site-packages (from rsa<5,>=3.1.4->google-auth>=1.0.1->kubernetes>=28.1.0->chromadb>=1.0.9->langchain-chroma) (0.6.1)\n",
      "Requirement already satisfied: coloredlogs in /opt/anaconda3/envs/KII/lib/python3.10/site-packages (from onnxruntime>=1.14.1->chromadb>=1.0.9->langchain-chroma) (15.0.1)\n",
      "Requirement already satisfied: flatbuffers in /opt/anaconda3/envs/KII/lib/python3.10/site-packages (from onnxruntime>=1.14.1->chromadb>=1.0.9->langchain-chroma) (25.2.10)\n",
      "Requirement already satisfied: protobuf in /opt/anaconda3/envs/KII/lib/python3.10/site-packages (from onnxruntime>=1.14.1->chromadb>=1.0.9->langchain-chroma) (5.29.4)\n",
      "Requirement already satisfied: sympy in /opt/anaconda3/envs/KII/lib/python3.10/site-packages (from onnxruntime>=1.14.1->chromadb>=1.0.9->langchain-chroma) (1.14.0)\n",
      "Requirement already satisfied: deprecated>=1.2.6 in /opt/anaconda3/envs/KII/lib/python3.10/site-packages (from opentelemetry-api>=1.2.0->chromadb>=1.0.9->langchain-chroma) (1.2.18)\n",
      "Requirement already satisfied: importlib-metadata<8.7.0,>=6.0 in /opt/anaconda3/envs/KII/lib/python3.10/site-packages (from opentelemetry-api>=1.2.0->chromadb>=1.0.9->langchain-chroma) (8.6.1)\n",
      "Requirement already satisfied: zipp>=3.20 in /opt/anaconda3/envs/KII/lib/python3.10/site-packages (from importlib-metadata<8.7.0,>=6.0->opentelemetry-api>=1.2.0->chromadb>=1.0.9->langchain-chroma) (3.21.0)\n",
      "Requirement already satisfied: wrapt<2,>=1.10 in /opt/anaconda3/envs/KII/lib/python3.10/site-packages (from deprecated>=1.2.6->opentelemetry-api>=1.2.0->chromadb>=1.0.9->langchain-chroma) (1.17.2)\n",
      "Requirement already satisfied: googleapis-common-protos~=1.52 in /opt/anaconda3/envs/KII/lib/python3.10/site-packages (from opentelemetry-exporter-otlp-proto-grpc>=1.2.0->chromadb>=1.0.9->langchain-chroma) (1.70.0)\n",
      "Requirement already satisfied: opentelemetry-exporter-otlp-proto-common==1.33.0 in /opt/anaconda3/envs/KII/lib/python3.10/site-packages (from opentelemetry-exporter-otlp-proto-grpc>=1.2.0->chromadb>=1.0.9->langchain-chroma) (1.33.0)\n",
      "Requirement already satisfied: opentelemetry-proto==1.33.0 in /opt/anaconda3/envs/KII/lib/python3.10/site-packages (from opentelemetry-exporter-otlp-proto-grpc>=1.2.0->chromadb>=1.0.9->langchain-chroma) (1.33.0)\n",
      "Requirement already satisfied: opentelemetry-semantic-conventions==0.54b0 in /opt/anaconda3/envs/KII/lib/python3.10/site-packages (from opentelemetry-sdk>=1.2.0->chromadb>=1.0.9->langchain-chroma) (0.54b0)\n",
      "Requirement already satisfied: opentelemetry-instrumentation-asgi==0.54b0 in /opt/anaconda3/envs/KII/lib/python3.10/site-packages (from opentelemetry-instrumentation-fastapi>=0.41b0->chromadb>=1.0.9->langchain-chroma) (0.54b0)\n",
      "Requirement already satisfied: opentelemetry-instrumentation==0.54b0 in /opt/anaconda3/envs/KII/lib/python3.10/site-packages (from opentelemetry-instrumentation-fastapi>=0.41b0->chromadb>=1.0.9->langchain-chroma) (0.54b0)\n",
      "Requirement already satisfied: opentelemetry-util-http==0.54b0 in /opt/anaconda3/envs/KII/lib/python3.10/site-packages (from opentelemetry-instrumentation-fastapi>=0.41b0->chromadb>=1.0.9->langchain-chroma) (0.54b0)\n",
      "Requirement already satisfied: asgiref~=3.0 in /opt/anaconda3/envs/KII/lib/python3.10/site-packages (from opentelemetry-instrumentation-asgi==0.54b0->opentelemetry-instrumentation-fastapi>=0.41b0->chromadb>=1.0.9->langchain-chroma) (3.8.1)\n",
      "Requirement already satisfied: backoff>=1.10.0 in /opt/anaconda3/envs/KII/lib/python3.10/site-packages (from posthog>=2.4.0->chromadb>=1.0.9->langchain-chroma) (2.2.1)\n",
      "Requirement already satisfied: distro>=1.5.0 in /opt/anaconda3/envs/KII/lib/python3.10/site-packages (from posthog>=2.4.0->chromadb>=1.0.9->langchain-chroma) (1.9.0)\n",
      "Requirement already satisfied: markdown-it-py>=2.2.0 in /opt/anaconda3/envs/KII/lib/python3.10/site-packages (from rich>=10.11.0->chromadb>=1.0.9->langchain-chroma) (3.0.0)\n",
      "Requirement already satisfied: pygments<3.0.0,>=2.13.0 in /opt/anaconda3/envs/KII/lib/python3.10/site-packages (from rich>=10.11.0->chromadb>=1.0.9->langchain-chroma) (2.19.1)\n",
      "Requirement already satisfied: mdurl~=0.1 in /opt/anaconda3/envs/KII/lib/python3.10/site-packages (from markdown-it-py>=2.2.0->rich>=10.11.0->chromadb>=1.0.9->langchain-chroma) (0.1.2)\n",
      "Requirement already satisfied: huggingface-hub<1.0,>=0.16.4 in /opt/anaconda3/envs/KII/lib/python3.10/site-packages (from tokenizers>=0.13.2->chromadb>=1.0.9->langchain-chroma) (0.31.2)\n",
      "Requirement already satisfied: filelock in /opt/anaconda3/envs/KII/lib/python3.10/site-packages (from huggingface-hub<1.0,>=0.16.4->tokenizers>=0.13.2->chromadb>=1.0.9->langchain-chroma) (3.18.0)\n",
      "Requirement already satisfied: fsspec>=2023.5.0 in /opt/anaconda3/envs/KII/lib/python3.10/site-packages (from huggingface-hub<1.0,>=0.16.4->tokenizers>=0.13.2->chromadb>=1.0.9->langchain-chroma) (2025.3.2)\n",
      "Requirement already satisfied: click<8.2,>=8.0.0 in /opt/anaconda3/envs/KII/lib/python3.10/site-packages (from typer>=0.9.0->chromadb>=1.0.9->langchain-chroma) (8.1.8)\n",
      "Requirement already satisfied: shellingham>=1.3.0 in /opt/anaconda3/envs/KII/lib/python3.10/site-packages (from typer>=0.9.0->chromadb>=1.0.9->langchain-chroma) (1.5.4)\n",
      "Requirement already satisfied: httptools>=0.6.3 in /opt/anaconda3/envs/KII/lib/python3.10/site-packages (from uvicorn[standard]>=0.18.3->chromadb>=1.0.9->langchain-chroma) (0.6.4)\n",
      "Requirement already satisfied: python-dotenv>=0.13 in /opt/anaconda3/envs/KII/lib/python3.10/site-packages (from uvicorn[standard]>=0.18.3->chromadb>=1.0.9->langchain-chroma) (1.1.0)\n",
      "Requirement already satisfied: uvloop!=0.15.0,!=0.15.1,>=0.14.0 in /opt/anaconda3/envs/KII/lib/python3.10/site-packages (from uvicorn[standard]>=0.18.3->chromadb>=1.0.9->langchain-chroma) (0.21.0)\n",
      "Requirement already satisfied: watchfiles>=0.13 in /opt/anaconda3/envs/KII/lib/python3.10/site-packages (from uvicorn[standard]>=0.18.3->chromadb>=1.0.9->langchain-chroma) (1.0.5)\n",
      "Requirement already satisfied: websockets>=10.4 in /opt/anaconda3/envs/KII/lib/python3.10/site-packages (from uvicorn[standard]>=0.18.3->chromadb>=1.0.9->langchain-chroma) (15.0.1)\n",
      "Requirement already satisfied: humanfriendly>=9.1 in /opt/anaconda3/envs/KII/lib/python3.10/site-packages (from coloredlogs->onnxruntime>=1.14.1->chromadb>=1.0.9->langchain-chroma) (10.0)\n",
      "Requirement already satisfied: mpmath<1.4,>=1.1.0 in /opt/anaconda3/envs/KII/lib/python3.10/site-packages (from sympy->onnxruntime>=1.14.1->chromadb>=1.0.9->langchain-chroma) (1.3.0)\n",
      "Using cached langchain_chroma-0.2.4-py3-none-any.whl (11 kB)\n",
      "Installing collected packages: langchain-chroma\n",
      "Successfully installed langchain-chroma-0.2.4\n",
      "Note: you may need to restart the kernel to use updated packages.\n"
     ]
    }
   ],
   "source": [
    "%pip uninstall -y opentelemetry-sdk opentelemetry-exporter-otlp-proto-grpc opentelemetry-util opentelemetry-instrumentation chromadb langchain_chroma\n",
    "\n",
    "%pip install -U \"chromadb>=0.4.24\" \"opentelemetry-sdk==1.33.0\" \"opentelemetry-api==1.33.0\" \"opentelemetry-exporter-otlp-proto-grpc==1.33.0\"\n",
    "\n",
    "%pip install -U langchain langchain-chroma"
   ]
  },
  {
   "cell_type": "code",
   "execution_count": 440,
   "id": "af728a9c",
   "metadata": {},
   "outputs": [
    {
     "name": "stdout",
     "output_type": "stream",
     "text": [
      "Vector store created successfully!\n"
     ]
    }
   ],
   "source": [
    "from langchain_chroma import Chroma\n",
    "\n",
    "# Create the vector store with persistence\n",
    "vector_store = Chroma(\n",
    "    collection_name=\"pope_francis_collection\",\n",
    "    embedding_function=embeddings,\n",
    "    persist_directory=\"./chroma_pope_db\"  # Directory to save the data\n",
    ")\n",
    "\n",
    "print(\"Vector store created successfully!\")"
   ]
  },
  {
   "cell_type": "code",
   "execution_count": 441,
   "id": "7dae8870",
   "metadata": {},
   "outputs": [
    {
     "name": "stdout",
     "output_type": "stream",
     "text": [
      "\n",
      " Antwort ohne Kontext:\n",
      " Ich weiß die Antwort nicht.\n"
     ]
    }
   ],
   "source": [
    "#question-answering\n",
    "from langchain import hub\n",
    "\n",
    "prompt = hub.pull(\"rlm/rag-prompt\")\n",
    "\n",
    "example_messages = prompt.invoke(\n",
    "    {\"context\": \"(context goes here)\", \"question\": \"(question goes here)\"}\n",
    ").to_messages()\n",
    "# Beispiel-Frage (vor dem Dokument)\n",
    "frage = \"Wann ist der Pope gestorben?\"\n",
    "\n",
    "# TEST 1\n",
    "gefüllter_prompt = prompt.format(context=\"\", question=frage)\n",
    "antwort = model.invoke(gefüllter_prompt)\n",
    "print(\"\\n Antwort ohne Kontext:\\n\", antwort.content)"
   ]
  },
  {
   "cell_type": "code",
   "execution_count": 442,
   "id": "21d71768",
   "metadata": {},
   "outputs": [],
   "source": [
    "from langchain.text_splitter import RecursiveCharacterTextSplitter"
   ]
  },
  {
   "cell_type": "code",
   "execution_count": 443,
   "id": "c566d2d8",
   "metadata": {},
   "outputs": [
    {
     "name": "stderr",
     "output_type": "stream",
     "text": [
      "python(14182) MallocStackLogging: can't turn off malloc stack logging because it was not enabled.\n",
      "huggingface/tokenizers: The current process just got forked, after parallelism has already been used. Disabling parallelism to avoid deadlocks...\n",
      "To disable this warning, you can either:\n",
      "\t- Avoid using `tokenizers` before the fork if possible\n",
      "\t- Explicitly set the environment variable TOKENIZERS_PARALLELISM=(true | false)\n"
     ]
    },
    {
     "name": "stdout",
     "output_type": "stream",
     "text": [
      "Requirement already satisfied: beautifulsoup4 in /opt/anaconda3/envs/KII/lib/python3.10/site-packages (4.13.4)\n",
      "Requirement already satisfied: langchain in /opt/anaconda3/envs/KII/lib/python3.10/site-packages (0.3.25)\n",
      "Requirement already satisfied: langchain-community in /opt/anaconda3/envs/KII/lib/python3.10/site-packages (0.3.24)\n",
      "Requirement already satisfied: chromadb in /opt/anaconda3/envs/KII/lib/python3.10/site-packages (1.0.9)\n",
      "Requirement already satisfied: sentence-transformers in /opt/anaconda3/envs/KII/lib/python3.10/site-packages (4.1.0)\n",
      "Requirement already satisfied: soupsieve>1.2 in /opt/anaconda3/envs/KII/lib/python3.10/site-packages (from beautifulsoup4) (2.7)\n",
      "Requirement already satisfied: typing-extensions>=4.0.0 in /opt/anaconda3/envs/KII/lib/python3.10/site-packages (from beautifulsoup4) (4.13.2)\n",
      "Requirement already satisfied: langchain-core<1.0.0,>=0.3.58 in /opt/anaconda3/envs/KII/lib/python3.10/site-packages (from langchain) (0.3.60)\n",
      "Requirement already satisfied: langchain-text-splitters<1.0.0,>=0.3.8 in /opt/anaconda3/envs/KII/lib/python3.10/site-packages (from langchain) (0.3.8)\n",
      "Requirement already satisfied: langsmith<0.4,>=0.1.17 in /opt/anaconda3/envs/KII/lib/python3.10/site-packages (from langchain) (0.3.42)\n",
      "Requirement already satisfied: pydantic<3.0.0,>=2.7.4 in /opt/anaconda3/envs/KII/lib/python3.10/site-packages (from langchain) (2.11.4)\n",
      "Requirement already satisfied: SQLAlchemy<3,>=1.4 in /opt/anaconda3/envs/KII/lib/python3.10/site-packages (from langchain) (2.0.41)\n",
      "Requirement already satisfied: requests<3,>=2 in /opt/anaconda3/envs/KII/lib/python3.10/site-packages (from langchain) (2.32.3)\n",
      "Requirement already satisfied: PyYAML>=5.3 in /opt/anaconda3/envs/KII/lib/python3.10/site-packages (from langchain) (6.0.2)\n",
      "Requirement already satisfied: async-timeout<5.0.0,>=4.0.0 in /opt/anaconda3/envs/KII/lib/python3.10/site-packages (from langchain) (4.0.3)\n",
      "Requirement already satisfied: tenacity!=8.4.0,<10.0.0,>=8.1.0 in /opt/anaconda3/envs/KII/lib/python3.10/site-packages (from langchain-core<1.0.0,>=0.3.58->langchain) (9.1.2)\n",
      "Requirement already satisfied: jsonpatch<2.0,>=1.33 in /opt/anaconda3/envs/KII/lib/python3.10/site-packages (from langchain-core<1.0.0,>=0.3.58->langchain) (1.33)\n",
      "Requirement already satisfied: packaging<25,>=23.2 in /opt/anaconda3/envs/KII/lib/python3.10/site-packages (from langchain-core<1.0.0,>=0.3.58->langchain) (24.2)\n",
      "Requirement already satisfied: jsonpointer>=1.9 in /opt/anaconda3/envs/KII/lib/python3.10/site-packages (from jsonpatch<2.0,>=1.33->langchain-core<1.0.0,>=0.3.58->langchain) (3.0.0)\n",
      "Requirement already satisfied: httpx<1,>=0.23.0 in /opt/anaconda3/envs/KII/lib/python3.10/site-packages (from langsmith<0.4,>=0.1.17->langchain) (0.28.1)\n",
      "Requirement already satisfied: orjson<4.0.0,>=3.9.14 in /opt/anaconda3/envs/KII/lib/python3.10/site-packages (from langsmith<0.4,>=0.1.17->langchain) (3.10.18)\n",
      "Requirement already satisfied: requests-toolbelt<2.0.0,>=1.0.0 in /opt/anaconda3/envs/KII/lib/python3.10/site-packages (from langsmith<0.4,>=0.1.17->langchain) (1.0.0)\n",
      "Requirement already satisfied: zstandard<0.24.0,>=0.23.0 in /opt/anaconda3/envs/KII/lib/python3.10/site-packages (from langsmith<0.4,>=0.1.17->langchain) (0.23.0)\n",
      "Requirement already satisfied: anyio in /opt/anaconda3/envs/KII/lib/python3.10/site-packages (from httpx<1,>=0.23.0->langsmith<0.4,>=0.1.17->langchain) (4.9.0)\n",
      "Requirement already satisfied: certifi in /opt/anaconda3/envs/KII/lib/python3.10/site-packages (from httpx<1,>=0.23.0->langsmith<0.4,>=0.1.17->langchain) (2025.4.26)\n",
      "Requirement already satisfied: httpcore==1.* in /opt/anaconda3/envs/KII/lib/python3.10/site-packages (from httpx<1,>=0.23.0->langsmith<0.4,>=0.1.17->langchain) (1.0.9)\n",
      "Requirement already satisfied: idna in /opt/anaconda3/envs/KII/lib/python3.10/site-packages (from httpx<1,>=0.23.0->langsmith<0.4,>=0.1.17->langchain) (3.10)\n",
      "Requirement already satisfied: h11>=0.16 in /opt/anaconda3/envs/KII/lib/python3.10/site-packages (from httpcore==1.*->httpx<1,>=0.23.0->langsmith<0.4,>=0.1.17->langchain) (0.16.0)\n",
      "Requirement already satisfied: annotated-types>=0.6.0 in /opt/anaconda3/envs/KII/lib/python3.10/site-packages (from pydantic<3.0.0,>=2.7.4->langchain) (0.7.0)\n",
      "Requirement already satisfied: pydantic-core==2.33.2 in /opt/anaconda3/envs/KII/lib/python3.10/site-packages (from pydantic<3.0.0,>=2.7.4->langchain) (2.33.2)\n",
      "Requirement already satisfied: typing-inspection>=0.4.0 in /opt/anaconda3/envs/KII/lib/python3.10/site-packages (from pydantic<3.0.0,>=2.7.4->langchain) (0.4.0)\n",
      "Requirement already satisfied: charset-normalizer<4,>=2 in /opt/anaconda3/envs/KII/lib/python3.10/site-packages (from requests<3,>=2->langchain) (3.4.2)\n",
      "Requirement already satisfied: urllib3<3,>=1.21.1 in /opt/anaconda3/envs/KII/lib/python3.10/site-packages (from requests<3,>=2->langchain) (2.4.0)\n",
      "Requirement already satisfied: aiohttp<4.0.0,>=3.8.3 in /opt/anaconda3/envs/KII/lib/python3.10/site-packages (from langchain-community) (3.11.18)\n",
      "Requirement already satisfied: dataclasses-json<0.7,>=0.5.7 in /opt/anaconda3/envs/KII/lib/python3.10/site-packages (from langchain-community) (0.6.7)\n",
      "Requirement already satisfied: pydantic-settings<3.0.0,>=2.4.0 in /opt/anaconda3/envs/KII/lib/python3.10/site-packages (from langchain-community) (2.9.1)\n",
      "Requirement already satisfied: httpx-sse<1.0.0,>=0.4.0 in /opt/anaconda3/envs/KII/lib/python3.10/site-packages (from langchain-community) (0.4.0)\n",
      "Requirement already satisfied: numpy>=1.26.2 in /opt/anaconda3/envs/KII/lib/python3.10/site-packages (from langchain-community) (2.2.6)\n",
      "Requirement already satisfied: aiohappyeyeballs>=2.3.0 in /opt/anaconda3/envs/KII/lib/python3.10/site-packages (from aiohttp<4.0.0,>=3.8.3->langchain-community) (2.6.1)\n",
      "Requirement already satisfied: aiosignal>=1.1.2 in /opt/anaconda3/envs/KII/lib/python3.10/site-packages (from aiohttp<4.0.0,>=3.8.3->langchain-community) (1.3.2)\n",
      "Requirement already satisfied: attrs>=17.3.0 in /opt/anaconda3/envs/KII/lib/python3.10/site-packages (from aiohttp<4.0.0,>=3.8.3->langchain-community) (25.3.0)\n",
      "Requirement already satisfied: frozenlist>=1.1.1 in /opt/anaconda3/envs/KII/lib/python3.10/site-packages (from aiohttp<4.0.0,>=3.8.3->langchain-community) (1.6.0)\n",
      "Requirement already satisfied: multidict<7.0,>=4.5 in /opt/anaconda3/envs/KII/lib/python3.10/site-packages (from aiohttp<4.0.0,>=3.8.3->langchain-community) (6.4.3)\n",
      "Requirement already satisfied: propcache>=0.2.0 in /opt/anaconda3/envs/KII/lib/python3.10/site-packages (from aiohttp<4.0.0,>=3.8.3->langchain-community) (0.3.1)\n",
      "Requirement already satisfied: yarl<2.0,>=1.17.0 in /opt/anaconda3/envs/KII/lib/python3.10/site-packages (from aiohttp<4.0.0,>=3.8.3->langchain-community) (1.20.0)\n",
      "Requirement already satisfied: marshmallow<4.0.0,>=3.18.0 in /opt/anaconda3/envs/KII/lib/python3.10/site-packages (from dataclasses-json<0.7,>=0.5.7->langchain-community) (3.26.1)\n",
      "Requirement already satisfied: typing-inspect<1,>=0.4.0 in /opt/anaconda3/envs/KII/lib/python3.10/site-packages (from dataclasses-json<0.7,>=0.5.7->langchain-community) (0.9.0)\n",
      "Requirement already satisfied: python-dotenv>=0.21.0 in /opt/anaconda3/envs/KII/lib/python3.10/site-packages (from pydantic-settings<3.0.0,>=2.4.0->langchain-community) (1.1.0)\n",
      "Requirement already satisfied: mypy-extensions>=0.3.0 in /opt/anaconda3/envs/KII/lib/python3.10/site-packages (from typing-inspect<1,>=0.4.0->dataclasses-json<0.7,>=0.5.7->langchain-community) (1.1.0)\n",
      "Requirement already satisfied: build>=1.0.3 in /opt/anaconda3/envs/KII/lib/python3.10/site-packages (from chromadb) (1.2.2.post1)\n",
      "Requirement already satisfied: fastapi==0.115.9 in /opt/anaconda3/envs/KII/lib/python3.10/site-packages (from chromadb) (0.115.9)\n",
      "Requirement already satisfied: uvicorn>=0.18.3 in /opt/anaconda3/envs/KII/lib/python3.10/site-packages (from uvicorn[standard]>=0.18.3->chromadb) (0.34.2)\n",
      "Requirement already satisfied: posthog>=2.4.0 in /opt/anaconda3/envs/KII/lib/python3.10/site-packages (from chromadb) (4.0.1)\n",
      "Requirement already satisfied: onnxruntime>=1.14.1 in /opt/anaconda3/envs/KII/lib/python3.10/site-packages (from chromadb) (1.22.0)\n",
      "Requirement already satisfied: opentelemetry-api>=1.2.0 in /opt/anaconda3/envs/KII/lib/python3.10/site-packages (from chromadb) (1.33.0)\n",
      "Requirement already satisfied: opentelemetry-exporter-otlp-proto-grpc>=1.2.0 in /opt/anaconda3/envs/KII/lib/python3.10/site-packages (from chromadb) (1.33.0)\n",
      "Requirement already satisfied: opentelemetry-instrumentation-fastapi>=0.41b0 in /opt/anaconda3/envs/KII/lib/python3.10/site-packages (from chromadb) (0.54b0)\n",
      "Requirement already satisfied: opentelemetry-sdk>=1.2.0 in /opt/anaconda3/envs/KII/lib/python3.10/site-packages (from chromadb) (1.33.0)\n",
      "Requirement already satisfied: tokenizers>=0.13.2 in /opt/anaconda3/envs/KII/lib/python3.10/site-packages (from chromadb) (0.21.1)\n",
      "Requirement already satisfied: pypika>=0.48.9 in /opt/anaconda3/envs/KII/lib/python3.10/site-packages (from chromadb) (0.48.9)\n",
      "Requirement already satisfied: tqdm>=4.65.0 in /opt/anaconda3/envs/KII/lib/python3.10/site-packages (from chromadb) (4.67.1)\n",
      "Requirement already satisfied: overrides>=7.3.1 in /opt/anaconda3/envs/KII/lib/python3.10/site-packages (from chromadb) (7.7.0)\n",
      "Requirement already satisfied: importlib-resources in /opt/anaconda3/envs/KII/lib/python3.10/site-packages (from chromadb) (6.5.2)\n",
      "Requirement already satisfied: grpcio>=1.58.0 in /opt/anaconda3/envs/KII/lib/python3.10/site-packages (from chromadb) (1.72.0rc1)\n",
      "Requirement already satisfied: bcrypt>=4.0.1 in /opt/anaconda3/envs/KII/lib/python3.10/site-packages (from chromadb) (4.3.0)\n",
      "Requirement already satisfied: typer>=0.9.0 in /opt/anaconda3/envs/KII/lib/python3.10/site-packages (from chromadb) (0.15.4)\n",
      "Requirement already satisfied: kubernetes>=28.1.0 in /opt/anaconda3/envs/KII/lib/python3.10/site-packages (from chromadb) (32.0.1)\n",
      "Requirement already satisfied: mmh3>=4.0.1 in /opt/anaconda3/envs/KII/lib/python3.10/site-packages (from chromadb) (5.1.0)\n",
      "Requirement already satisfied: rich>=10.11.0 in /opt/anaconda3/envs/KII/lib/python3.10/site-packages (from chromadb) (14.0.0)\n",
      "Requirement already satisfied: jsonschema>=4.19.0 in /opt/anaconda3/envs/KII/lib/python3.10/site-packages (from chromadb) (4.23.0)\n",
      "Requirement already satisfied: starlette<0.46.0,>=0.40.0 in /opt/anaconda3/envs/KII/lib/python3.10/site-packages (from fastapi==0.115.9->chromadb) (0.45.3)\n",
      "Requirement already satisfied: exceptiongroup>=1.0.2 in /opt/anaconda3/envs/KII/lib/python3.10/site-packages (from anyio->httpx<1,>=0.23.0->langsmith<0.4,>=0.1.17->langchain) (1.3.0)\n",
      "Requirement already satisfied: sniffio>=1.1 in /opt/anaconda3/envs/KII/lib/python3.10/site-packages (from anyio->httpx<1,>=0.23.0->langsmith<0.4,>=0.1.17->langchain) (1.3.1)\n",
      "Requirement already satisfied: transformers<5.0.0,>=4.41.0 in /opt/anaconda3/envs/KII/lib/python3.10/site-packages (from sentence-transformers) (4.51.3)\n",
      "Requirement already satisfied: torch>=1.11.0 in /opt/anaconda3/envs/KII/lib/python3.10/site-packages (from sentence-transformers) (2.7.0)\n",
      "Requirement already satisfied: scikit-learn in /opt/anaconda3/envs/KII/lib/python3.10/site-packages (from sentence-transformers) (1.6.1)\n",
      "Requirement already satisfied: scipy in /opt/anaconda3/envs/KII/lib/python3.10/site-packages (from sentence-transformers) (1.15.3)\n",
      "Requirement already satisfied: huggingface-hub>=0.20.0 in /opt/anaconda3/envs/KII/lib/python3.10/site-packages (from sentence-transformers) (0.31.2)\n",
      "Requirement already satisfied: Pillow in /opt/anaconda3/envs/KII/lib/python3.10/site-packages (from sentence-transformers) (11.2.1)\n",
      "Requirement already satisfied: filelock in /opt/anaconda3/envs/KII/lib/python3.10/site-packages (from transformers<5.0.0,>=4.41.0->sentence-transformers) (3.18.0)\n",
      "Requirement already satisfied: regex!=2019.12.17 in /opt/anaconda3/envs/KII/lib/python3.10/site-packages (from transformers<5.0.0,>=4.41.0->sentence-transformers) (2024.11.6)\n",
      "Requirement already satisfied: safetensors>=0.4.3 in /opt/anaconda3/envs/KII/lib/python3.10/site-packages (from transformers<5.0.0,>=4.41.0->sentence-transformers) (0.5.3)\n",
      "Requirement already satisfied: fsspec>=2023.5.0 in /opt/anaconda3/envs/KII/lib/python3.10/site-packages (from huggingface-hub>=0.20.0->sentence-transformers) (2025.3.2)\n",
      "Requirement already satisfied: pyproject_hooks in /opt/anaconda3/envs/KII/lib/python3.10/site-packages (from build>=1.0.3->chromadb) (1.2.0)\n",
      "Requirement already satisfied: tomli>=1.1.0 in /opt/anaconda3/envs/KII/lib/python3.10/site-packages (from build>=1.0.3->chromadb) (2.2.1)\n",
      "Requirement already satisfied: jsonschema-specifications>=2023.03.6 in /opt/anaconda3/envs/KII/lib/python3.10/site-packages (from jsonschema>=4.19.0->chromadb) (2025.4.1)\n",
      "Requirement already satisfied: referencing>=0.28.4 in /opt/anaconda3/envs/KII/lib/python3.10/site-packages (from jsonschema>=4.19.0->chromadb) (0.36.2)\n",
      "Requirement already satisfied: rpds-py>=0.7.1 in /opt/anaconda3/envs/KII/lib/python3.10/site-packages (from jsonschema>=4.19.0->chromadb) (0.25.0)\n",
      "Requirement already satisfied: six>=1.9.0 in /opt/anaconda3/envs/KII/lib/python3.10/site-packages (from kubernetes>=28.1.0->chromadb) (1.17.0)\n",
      "Requirement already satisfied: python-dateutil>=2.5.3 in /opt/anaconda3/envs/KII/lib/python3.10/site-packages (from kubernetes>=28.1.0->chromadb) (2.9.0.post0)\n",
      "Requirement already satisfied: google-auth>=1.0.1 in /opt/anaconda3/envs/KII/lib/python3.10/site-packages (from kubernetes>=28.1.0->chromadb) (2.40.1)\n",
      "Requirement already satisfied: websocket-client!=0.40.0,!=0.41.*,!=0.42.*,>=0.32.0 in /opt/anaconda3/envs/KII/lib/python3.10/site-packages (from kubernetes>=28.1.0->chromadb) (1.8.0)\n",
      "Requirement already satisfied: requests-oauthlib in /opt/anaconda3/envs/KII/lib/python3.10/site-packages (from kubernetes>=28.1.0->chromadb) (2.0.0)\n",
      "Requirement already satisfied: oauthlib>=3.2.2 in /opt/anaconda3/envs/KII/lib/python3.10/site-packages (from kubernetes>=28.1.0->chromadb) (3.2.2)\n",
      "Requirement already satisfied: durationpy>=0.7 in /opt/anaconda3/envs/KII/lib/python3.10/site-packages (from kubernetes>=28.1.0->chromadb) (0.10)\n",
      "Requirement already satisfied: cachetools<6.0,>=2.0.0 in /opt/anaconda3/envs/KII/lib/python3.10/site-packages (from google-auth>=1.0.1->kubernetes>=28.1.0->chromadb) (5.5.2)\n",
      "Requirement already satisfied: pyasn1-modules>=0.2.1 in /opt/anaconda3/envs/KII/lib/python3.10/site-packages (from google-auth>=1.0.1->kubernetes>=28.1.0->chromadb) (0.4.2)\n",
      "Requirement already satisfied: rsa<5,>=3.1.4 in /opt/anaconda3/envs/KII/lib/python3.10/site-packages (from google-auth>=1.0.1->kubernetes>=28.1.0->chromadb) (4.9.1)\n",
      "Requirement already satisfied: pyasn1>=0.1.3 in /opt/anaconda3/envs/KII/lib/python3.10/site-packages (from rsa<5,>=3.1.4->google-auth>=1.0.1->kubernetes>=28.1.0->chromadb) (0.6.1)\n",
      "Requirement already satisfied: coloredlogs in /opt/anaconda3/envs/KII/lib/python3.10/site-packages (from onnxruntime>=1.14.1->chromadb) (15.0.1)\n",
      "Requirement already satisfied: flatbuffers in /opt/anaconda3/envs/KII/lib/python3.10/site-packages (from onnxruntime>=1.14.1->chromadb) (25.2.10)\n",
      "Requirement already satisfied: protobuf in /opt/anaconda3/envs/KII/lib/python3.10/site-packages (from onnxruntime>=1.14.1->chromadb) (5.29.4)\n",
      "Requirement already satisfied: sympy in /opt/anaconda3/envs/KII/lib/python3.10/site-packages (from onnxruntime>=1.14.1->chromadb) (1.14.0)\n",
      "Requirement already satisfied: deprecated>=1.2.6 in /opt/anaconda3/envs/KII/lib/python3.10/site-packages (from opentelemetry-api>=1.2.0->chromadb) (1.2.18)\n",
      "Requirement already satisfied: importlib-metadata<8.7.0,>=6.0 in /opt/anaconda3/envs/KII/lib/python3.10/site-packages (from opentelemetry-api>=1.2.0->chromadb) (8.6.1)\n",
      "Requirement already satisfied: zipp>=3.20 in /opt/anaconda3/envs/KII/lib/python3.10/site-packages (from importlib-metadata<8.7.0,>=6.0->opentelemetry-api>=1.2.0->chromadb) (3.21.0)\n",
      "Requirement already satisfied: wrapt<2,>=1.10 in /opt/anaconda3/envs/KII/lib/python3.10/site-packages (from deprecated>=1.2.6->opentelemetry-api>=1.2.0->chromadb) (1.17.2)\n",
      "Requirement already satisfied: googleapis-common-protos~=1.52 in /opt/anaconda3/envs/KII/lib/python3.10/site-packages (from opentelemetry-exporter-otlp-proto-grpc>=1.2.0->chromadb) (1.70.0)\n",
      "Requirement already satisfied: opentelemetry-exporter-otlp-proto-common==1.33.0 in /opt/anaconda3/envs/KII/lib/python3.10/site-packages (from opentelemetry-exporter-otlp-proto-grpc>=1.2.0->chromadb) (1.33.0)\n",
      "Requirement already satisfied: opentelemetry-proto==1.33.0 in /opt/anaconda3/envs/KII/lib/python3.10/site-packages (from opentelemetry-exporter-otlp-proto-grpc>=1.2.0->chromadb) (1.33.0)\n",
      "Requirement already satisfied: opentelemetry-semantic-conventions==0.54b0 in /opt/anaconda3/envs/KII/lib/python3.10/site-packages (from opentelemetry-sdk>=1.2.0->chromadb) (0.54b0)\n",
      "Requirement already satisfied: opentelemetry-instrumentation-asgi==0.54b0 in /opt/anaconda3/envs/KII/lib/python3.10/site-packages (from opentelemetry-instrumentation-fastapi>=0.41b0->chromadb) (0.54b0)\n",
      "Requirement already satisfied: opentelemetry-instrumentation==0.54b0 in /opt/anaconda3/envs/KII/lib/python3.10/site-packages (from opentelemetry-instrumentation-fastapi>=0.41b0->chromadb) (0.54b0)\n",
      "Requirement already satisfied: opentelemetry-util-http==0.54b0 in /opt/anaconda3/envs/KII/lib/python3.10/site-packages (from opentelemetry-instrumentation-fastapi>=0.41b0->chromadb) (0.54b0)\n",
      "Requirement already satisfied: asgiref~=3.0 in /opt/anaconda3/envs/KII/lib/python3.10/site-packages (from opentelemetry-instrumentation-asgi==0.54b0->opentelemetry-instrumentation-fastapi>=0.41b0->chromadb) (3.8.1)\n",
      "Requirement already satisfied: backoff>=1.10.0 in /opt/anaconda3/envs/KII/lib/python3.10/site-packages (from posthog>=2.4.0->chromadb) (2.2.1)\n",
      "Requirement already satisfied: distro>=1.5.0 in /opt/anaconda3/envs/KII/lib/python3.10/site-packages (from posthog>=2.4.0->chromadb) (1.9.0)\n",
      "Requirement already satisfied: markdown-it-py>=2.2.0 in /opt/anaconda3/envs/KII/lib/python3.10/site-packages (from rich>=10.11.0->chromadb) (3.0.0)\n",
      "Requirement already satisfied: pygments<3.0.0,>=2.13.0 in /opt/anaconda3/envs/KII/lib/python3.10/site-packages (from rich>=10.11.0->chromadb) (2.19.1)\n",
      "Requirement already satisfied: mdurl~=0.1 in /opt/anaconda3/envs/KII/lib/python3.10/site-packages (from markdown-it-py>=2.2.0->rich>=10.11.0->chromadb) (0.1.2)\n",
      "Requirement already satisfied: networkx in /opt/anaconda3/envs/KII/lib/python3.10/site-packages (from torch>=1.11.0->sentence-transformers) (3.4.2)\n",
      "Requirement already satisfied: jinja2 in /opt/anaconda3/envs/KII/lib/python3.10/site-packages (from torch>=1.11.0->sentence-transformers) (3.1.6)\n",
      "Requirement already satisfied: mpmath<1.4,>=1.1.0 in /opt/anaconda3/envs/KII/lib/python3.10/site-packages (from sympy->onnxruntime>=1.14.1->chromadb) (1.3.0)\n",
      "Requirement already satisfied: click<8.2,>=8.0.0 in /opt/anaconda3/envs/KII/lib/python3.10/site-packages (from typer>=0.9.0->chromadb) (8.1.8)\n",
      "Requirement already satisfied: shellingham>=1.3.0 in /opt/anaconda3/envs/KII/lib/python3.10/site-packages (from typer>=0.9.0->chromadb) (1.5.4)\n",
      "Requirement already satisfied: httptools>=0.6.3 in /opt/anaconda3/envs/KII/lib/python3.10/site-packages (from uvicorn[standard]>=0.18.3->chromadb) (0.6.4)\n",
      "Requirement already satisfied: uvloop!=0.15.0,!=0.15.1,>=0.14.0 in /opt/anaconda3/envs/KII/lib/python3.10/site-packages (from uvicorn[standard]>=0.18.3->chromadb) (0.21.0)\n",
      "Requirement already satisfied: watchfiles>=0.13 in /opt/anaconda3/envs/KII/lib/python3.10/site-packages (from uvicorn[standard]>=0.18.3->chromadb) (1.0.5)\n",
      "Requirement already satisfied: websockets>=10.4 in /opt/anaconda3/envs/KII/lib/python3.10/site-packages (from uvicorn[standard]>=0.18.3->chromadb) (15.0.1)\n",
      "Requirement already satisfied: humanfriendly>=9.1 in /opt/anaconda3/envs/KII/lib/python3.10/site-packages (from coloredlogs->onnxruntime>=1.14.1->chromadb) (10.0)\n",
      "Requirement already satisfied: MarkupSafe>=2.0 in /opt/anaconda3/envs/KII/lib/python3.10/site-packages (from jinja2->torch>=1.11.0->sentence-transformers) (3.0.2)\n",
      "Requirement already satisfied: joblib>=1.2.0 in /opt/anaconda3/envs/KII/lib/python3.10/site-packages (from scikit-learn->sentence-transformers) (1.5.0)\n",
      "Requirement already satisfied: threadpoolctl>=3.1.0 in /opt/anaconda3/envs/KII/lib/python3.10/site-packages (from scikit-learn->sentence-transformers) (3.6.0)\n",
      "Note: you may need to restart the kernel to use updated packages.\n"
     ]
    }
   ],
   "source": [
    "%pip install beautifulsoup4 langchain langchain-community chromadb sentence-transformers"
   ]
  },
  {
   "cell_type": "markdown",
   "id": "ac1bc8dc",
   "metadata": {},
   "source": [
    "Dokument hochladen"
   ]
  },
  {
   "cell_type": "code",
   "execution_count": 444,
   "id": "5774eb82",
   "metadata": {},
   "outputs": [],
   "source": [
    "from langchain.document_loaders import WebBaseLoader\n",
    "from langchain.text_splitter import RecursiveCharacterTextSplitter\n",
    "from langchain_huggingface import HuggingFaceEmbeddings\n",
    "import chromadb  # Importiere ChromaDB\n",
    "from langchain.vectorstores import Chroma"
   ]
  },
  {
   "cell_type": "code",
   "execution_count": 445,
   "id": "78f06953",
   "metadata": {},
   "outputs": [
    {
     "name": "stdout",
     "output_type": "stream",
     "text": [
      "Anzahl der Chunks: 52\n"
     ]
    }
   ],
   "source": [
    "loader = WebBaseLoader(web_paths=[\"https://de.wikipedia.org/wiki/Leo_XIV.\"])\n",
    "docs = loader.load()\n",
    "\n",
    "# 2. Aufteilen in ≥ 50 Chunks\n",
    "splitter = RecursiveCharacterTextSplitter(\n",
    "    chunk_size=1000,  # Chunks von max 1000 Zeichen\n",
    "    chunk_overlap=200,  # 200 Zeichen Überlappung zwischen Chunks\n",
    "    separators=[\"\\n\\n\", \"\\n\", \".\", \" \", \"\"]\n",
    ")\n",
    "# Chunks aufteilen\n",
    "all_splits = splitter.split_documents(docs)\n",
    "\n",
    "# 3. HuggingFace Embeddings initialisieren\n",
    "embeddings = HuggingFaceEmbeddings(model_name=\"sentence-transformers/all-mpnet-base-v2\")\n",
    "\n",
    "# 4. Vektorspeicher mit ChromaDB initialisieren\n",
    "client = chromadb.Client()\n",
    "\n",
    "# ChromaDB-Datenbank initialisieren, dies könnte auch der Name deiner spezifischen Sammlung sein\n",
    "vector_store = Chroma.from_documents(documents=all_splits, embedding=embeddings, client=client, collection_name=\"bundestagswahl_2025\")\n",
    "\n",
    "# 5. Dokumente in den Vektorspeicher hinzufügen\n",
    "vector_store.add_documents(all_splits)\n",
    "\n",
    "# Ausgabe der Anzahl der Chunks\n",
    "print(f\"Anzahl der Chunks: {len(all_splits)}\")"
   ]
  },
  {
   "cell_type": "markdown",
   "id": "a83fb384",
   "metadata": {},
   "source": [
    "Retrieval"
   ]
  },
  {
   "cell_type": "code",
   "execution_count": 446,
   "id": "e1119d74",
   "metadata": {},
   "outputs": [],
   "source": [
    "from langgraph.graph import MessagesState, StateGraph\n",
    "\n",
    "graph_builder = StateGraph(MessagesState)"
   ]
  },
  {
   "cell_type": "code",
   "execution_count": 447,
   "id": "fb35e05f",
   "metadata": {},
   "outputs": [
    {
     "name": "stdout",
     "output_type": "stream",
     "text": [
      "You are an assistant for question-answering tasks. Use the following pieces of retrieved context to answer the question. If you don't know the answer, just say that you don't know. Use three sentences maximum and keep the answer concise.\n",
      "Question: (question goes here) \n",
      "Context: (context goes here) \n",
      "Answer:\n"
     ]
    }
   ],
   "source": [
    "from langchain import hub\n",
    "\n",
    "prompt = hub.pull(\"rlm/rag-prompt\")\n",
    "\n",
    "example_messages = prompt.invoke(\n",
    "    {\"context\": \"(context goes here)\", \"question\": \"(question goes here)\"}\n",
    ").to_messages()\n",
    "\n",
    "assert len(example_messages) == 1\n",
    "print(example_messages[0].content)"
   ]
  },
  {
   "cell_type": "code",
   "execution_count": 448,
   "id": "7d6a16a8",
   "metadata": {},
   "outputs": [],
   "source": [
    "from langchain_core.documents import Document\n",
    "from typing_extensions import List, TypedDict\n",
    "\n",
    "\n",
    "class State(TypedDict):\n",
    "    question: str\n",
    "    context: List[Document]\n",
    "    answer: str"
   ]
  },
  {
   "cell_type": "code",
   "execution_count": 449,
   "id": "2a3b3e69",
   "metadata": {},
   "outputs": [],
   "source": [
    "def retrieve(state: State):\n",
    "    retrieved_docs = vector_store.similarity_search(state[\"question\"])\n",
    "    return {\"context\": retrieved_docs}\n",
    "\n",
    "\n",
    "def generate(state: State):\n",
    "    docs_content = \"\\n\\n\".join(doc.page_content for doc in state[\"context\"])\n",
    "    messages = prompt.invoke({\"question\": state[\"question\"], \"context\": docs_content})\n",
    "    response = model.invoke(messages)\n",
    "    return {\"answer\": response.content}"
   ]
  },
  {
   "cell_type": "code",
   "execution_count": 450,
   "id": "31c52878",
   "metadata": {},
   "outputs": [],
   "source": [
    "from langgraph.graph import START, StateGraph\n",
    "\n",
    "graph_builder = StateGraph(State).add_sequence([retrieve, generate])\n",
    "graph_builder.add_edge(START, \"retrieve\")\n",
    "graph = graph_builder.compile()"
   ]
  },
  {
   "cell_type": "code",
   "execution_count": 451,
   "id": "fd7af34c",
   "metadata": {},
   "outputs": [
    {
     "data": {
      "image/png": "[encoded data removed]",
      "text/plain": [
       "<IPython.core.display.Image object>"
      ]
     },
     "metadata": {},
     "output_type": "display_data"
    }
   ],
   "source": [
    "from IPython.display import Image, display\n",
    "\n",
    "display(Image(graph.get_graph().draw_mermaid_png()))"
   ]
  },
  {
   "cell_type": "markdown",
   "id": "d3544bad",
   "metadata": {},
   "source": [
    "Testen"
   ]
  },
  {
   "cell_type": "code",
   "execution_count": 452,
   "id": "101494df",
   "metadata": {},
   "outputs": [
    {
     "name": "stdout",
     "output_type": "stream",
     "text": [
      "Context: [Document(metadata={'title': 'Leo XIV. – Wikipedia', 'source': 'https://de.wikipedia.org/wiki/Leo_XIV.', 'language': 'de'}, page_content='↑ Kardinal Robert Francis Prevost die Insignien des Ehren- und Devotions-Großkreuz-Bailli verliehen. Abgerufen am 12.\\xa0Februar 2025.\\xa0\\n\\n↑ Das Wappen von Papst Prevost. In: Il Messaggero. 8.\\xa0Mai 2025, abgerufen am 18.\\xa0Mai 2025 (deutsch).\\xa0\\n\\n↑ S. Aurelii Augustini: Enarrationes in Psalmos. In: Patrologia Latina, Bd. 37, Sp. 1679 (In Psalmum 127 online).\\n\\n↑ Habemus papam. Kardinal Robert Francis Prevost ist der neue Papst Leo XIV. Bistum Regensburg, 8.\\xa0Mai 2025, abgerufen am 9.\\xa0Mai 2025.\\xa0\\n\\n↑ Nomina di Membro in diversi Dicasteri. In: Tägliches Bulletin. Presseamt des Heiligen Stuhls, 4.\\xa0März 2023, abgerufen am 4.\\xa0März 2023.\\xa0\\n\\n↑ Nomina di Membri dei Dicasteri della Curia Romana e della Pontificia Commissione per lo Stato della Città del Vaticano. In: Tägliches Bulletin. Presseamt des Heiligen Stuhls, 4.\\xa0Oktober 2023, abgerufen am 4.\\xa0Oktober 2023.'), Document(metadata={'language': 'de', 'source': 'https://de.wikipedia.org/wiki/Leo_XIV.', 'title': 'Leo XIV. – Wikipedia'}, page_content='↑ Kardinal Robert Francis Prevost die Insignien des Ehren- und Devotions-Großkreuz-Bailli verliehen. Abgerufen am 12.\\xa0Februar 2025.\\xa0\\n\\n↑ Das Wappen von Papst Prevost. In: Il Messaggero. 8.\\xa0Mai 2025, abgerufen am 18.\\xa0Mai 2025 (deutsch).\\xa0\\n\\n↑ S. Aurelii Augustini: Enarrationes in Psalmos. In: Patrologia Latina, Bd. 37, Sp. 1679 (In Psalmum 127 online).\\n\\n↑ Habemus papam. Kardinal Robert Francis Prevost ist der neue Papst Leo XIV. Bistum Regensburg, 8.\\xa0Mai 2025, abgerufen am 9.\\xa0Mai 2025.\\xa0\\n\\n↑ Nomina di Membro in diversi Dicasteri. In: Tägliches Bulletin. Presseamt des Heiligen Stuhls, 4.\\xa0März 2023, abgerufen am 4.\\xa0März 2023.\\xa0\\n\\n↑ Nomina di Membri dei Dicasteri della Curia Romana e della Pontificia Commissione per lo Stato della Città del Vaticano. In: Tägliches Bulletin. Presseamt des Heiligen Stuhls, 4.\\xa0Oktober 2023, abgerufen am 4.\\xa0Oktober 2023.'), Document(metadata={'source': 'https://de.wikipedia.org/wiki/Leo_XIV.', 'language': 'de', 'title': 'Leo XIV. – Wikipedia'}, page_content='↑ Kardinal Robert Francis Prevost die Insignien des Ehren- und Devotions-Großkreuz-Bailli verliehen. Abgerufen am 12.\\xa0Februar 2025.\\xa0\\n\\n↑ Das Wappen von Papst Prevost. In: Il Messaggero. 8.\\xa0Mai 2025, abgerufen am 18.\\xa0Mai 2025 (deutsch).\\xa0\\n\\n↑ S. Aurelii Augustini: Enarrationes in Psalmos. In: Patrologia Latina, Bd. 37, Sp. 1679 (In Psalmum 127 online).\\n\\n↑ Habemus papam. Kardinal Robert Francis Prevost ist der neue Papst Leo XIV. Bistum Regensburg, 8.\\xa0Mai 2025, abgerufen am 9.\\xa0Mai 2025.\\xa0\\n\\n↑ Nomina di Membro in diversi Dicasteri. In: Tägliches Bulletin. Presseamt des Heiligen Stuhls, 4.\\xa0März 2023, abgerufen am 4.\\xa0März 2023.\\xa0\\n\\n↑ Nomina di Membri dei Dicasteri della Curia Romana e della Pontificia Commissione per lo Stato della Città del Vaticano. In: Tägliches Bulletin. Presseamt des Heiligen Stuhls, 4.\\xa0Oktober 2023, abgerufen am 4.\\xa0Oktober 2023.'), Document(metadata={'title': 'Leo XIV. – Wikipedia', 'language': 'de', 'source': 'https://de.wikipedia.org/wiki/Leo_XIV.'}, page_content='↑ Kardinal Robert Francis Prevost die Insignien des Ehren- und Devotions-Großkreuz-Bailli verliehen. Abgerufen am 12.\\xa0Februar 2025.\\xa0\\n\\n↑ Das Wappen von Papst Prevost. In: Il Messaggero. 8.\\xa0Mai 2025, abgerufen am 18.\\xa0Mai 2025 (deutsch).\\xa0\\n\\n↑ S. Aurelii Augustini: Enarrationes in Psalmos. In: Patrologia Latina, Bd. 37, Sp. 1679 (In Psalmum 127 online).\\n\\n↑ Habemus papam. Kardinal Robert Francis Prevost ist der neue Papst Leo XIV. Bistum Regensburg, 8.\\xa0Mai 2025, abgerufen am 9.\\xa0Mai 2025.\\xa0\\n\\n↑ Nomina di Membro in diversi Dicasteri. In: Tägliches Bulletin. Presseamt des Heiligen Stuhls, 4.\\xa0März 2023, abgerufen am 4.\\xa0März 2023.\\xa0\\n\\n↑ Nomina di Membri dei Dicasteri della Curia Romana e della Pontificia Commissione per lo Stato della Città del Vaticano. In: Tägliches Bulletin. Presseamt des Heiligen Stuhls, 4.\\xa0Oktober 2023, abgerufen am 4.\\xa0Oktober 2023.')]\n",
      "\n",
      "\n",
      "Answer: Ich weiß es nicht. Der Kontext erwähnt zwar, dass Kardinal Robert Francis Prevost am 8. Mai 2025 zum Papst Leo XIV. ernannt wurde, aber er enthält keine Informationen über den Tod von Papst Franziskus.\n"
     ]
    }
   ],
   "source": [
    "result = graph.invoke({\"question\": \"Wann ist der Pope Franziskus gestorben?\"})\n",
    "\n",
    "print(f'Context: {result[\"context\"]}\\n\\n')\n",
    "print(f'Answer: {result[\"answer\"]}')"
   ]
  },
  {
   "cell_type": "code",
   "execution_count": 453,
   "id": "28bcac41",
   "metadata": {},
   "outputs": [
    {
     "name": "stdout",
     "output_type": "stream",
     "text": [
      "{'retrieve': {'context': [Document(metadata={'title': 'Leo XIV. – Wikipedia', 'language': 'de', 'source': 'https://de.wikipedia.org/wiki/Leo_XIV.'}, page_content='↑ Biography of Robert Francis Prevost, Pope Leo XIV. Vatican News, 8.\\xa0Mai 2025, abgerufen am 9.\\xa0Mai 2025 (englisch).\\xa0\\n\\n↑ Ronny Reyes: Who is Robert Prevost? Meet Leo XIV, the first American pope. 8.\\xa0Mai 2025, abgerufen am 8.\\xa0Mai 2025.\\xa0\\n\\n↑ Rachel Van Gilder, Josh Sanchez: New pope attended Catholic high school in West Michigan. 8.\\xa0Mai 2025, abgerufen am 9.\\xa0Mai 2025 (englisch).\\xa0\\n\\n↑ José Antonio Jacinto Fiestas: Biografía de Monseñor Robert Francis Prevost Martínez O.S.A. In: Somos Iglesia (Chiclayo), Jg. 2015, Juni-Heft, S. 11.\\n\\n↑ The Angelicum joyfully welcomes the election of our distinguished alumnus, Pope Leo XIV. Pontifical University of St. Thomas Aquinas, 8.\\xa0Mai 2025, abgerufen am 9.\\xa0Mai 2025 (englisch).\\xa0\\n\\n↑ Mario Galgano: Bischof Robert Francis Prevost wird neuer Präfekt des Bischofs-Dikasteriums. In: Vatican News. 30.\\xa0Januar 2023, abgerufen am 8.\\xa0Mai 2025.'), Document(metadata={'source': 'https://de.wikipedia.org/wiki/Leo_XIV.', 'title': 'Leo XIV. – Wikipedia', 'language': 'de'}, page_content='↑ Biography of Robert Francis Prevost, Pope Leo XIV. Vatican News, 8.\\xa0Mai 2025, abgerufen am 9.\\xa0Mai 2025 (englisch).\\xa0\\n\\n↑ Ronny Reyes: Who is Robert Prevost? Meet Leo XIV, the first American pope. 8.\\xa0Mai 2025, abgerufen am 8.\\xa0Mai 2025.\\xa0\\n\\n↑ Rachel Van Gilder, Josh Sanchez: New pope attended Catholic high school in West Michigan. 8.\\xa0Mai 2025, abgerufen am 9.\\xa0Mai 2025 (englisch).\\xa0\\n\\n↑ José Antonio Jacinto Fiestas: Biografía de Monseñor Robert Francis Prevost Martínez O.S.A. In: Somos Iglesia (Chiclayo), Jg. 2015, Juni-Heft, S. 11.\\n\\n↑ The Angelicum joyfully welcomes the election of our distinguished alumnus, Pope Leo XIV. Pontifical University of St. Thomas Aquinas, 8.\\xa0Mai 2025, abgerufen am 9.\\xa0Mai 2025 (englisch).\\xa0\\n\\n↑ Mario Galgano: Bischof Robert Francis Prevost wird neuer Präfekt des Bischofs-Dikasteriums. In: Vatican News. 30.\\xa0Januar 2023, abgerufen am 8.\\xa0Mai 2025.'), Document(metadata={'title': 'Leo XIV. – Wikipedia', 'language': 'de', 'source': 'https://de.wikipedia.org/wiki/Leo_XIV.'}, page_content='↑ Biography of Robert Francis Prevost, Pope Leo XIV. Vatican News, 8.\\xa0Mai 2025, abgerufen am 9.\\xa0Mai 2025 (englisch).\\xa0\\n\\n↑ Ronny Reyes: Who is Robert Prevost? Meet Leo XIV, the first American pope. 8.\\xa0Mai 2025, abgerufen am 8.\\xa0Mai 2025.\\xa0\\n\\n↑ Rachel Van Gilder, Josh Sanchez: New pope attended Catholic high school in West Michigan. 8.\\xa0Mai 2025, abgerufen am 9.\\xa0Mai 2025 (englisch).\\xa0\\n\\n↑ José Antonio Jacinto Fiestas: Biografía de Monseñor Robert Francis Prevost Martínez O.S.A. In: Somos Iglesia (Chiclayo), Jg. 2015, Juni-Heft, S. 11.\\n\\n↑ The Angelicum joyfully welcomes the election of our distinguished alumnus, Pope Leo XIV. Pontifical University of St. Thomas Aquinas, 8.\\xa0Mai 2025, abgerufen am 9.\\xa0Mai 2025 (englisch).\\xa0\\n\\n↑ Mario Galgano: Bischof Robert Francis Prevost wird neuer Präfekt des Bischofs-Dikasteriums. In: Vatican News. 30.\\xa0Januar 2023, abgerufen am 8.\\xa0Mai 2025.'), Document(metadata={'source': 'https://de.wikipedia.org/wiki/Leo_XIV.', 'title': 'Leo XIV. – Wikipedia', 'language': 'de'}, page_content='↑ Biography of Robert Francis Prevost, Pope Leo XIV. Vatican News, 8.\\xa0Mai 2025, abgerufen am 9.\\xa0Mai 2025 (englisch).\\xa0\\n\\n↑ Ronny Reyes: Who is Robert Prevost? Meet Leo XIV, the first American pope. 8.\\xa0Mai 2025, abgerufen am 8.\\xa0Mai 2025.\\xa0\\n\\n↑ Rachel Van Gilder, Josh Sanchez: New pope attended Catholic high school in West Michigan. 8.\\xa0Mai 2025, abgerufen am 9.\\xa0Mai 2025 (englisch).\\xa0\\n\\n↑ José Antonio Jacinto Fiestas: Biografía de Monseñor Robert Francis Prevost Martínez O.S.A. In: Somos Iglesia (Chiclayo), Jg. 2015, Juni-Heft, S. 11.\\n\\n↑ The Angelicum joyfully welcomes the election of our distinguished alumnus, Pope Leo XIV. Pontifical University of St. Thomas Aquinas, 8.\\xa0Mai 2025, abgerufen am 9.\\xa0Mai 2025 (englisch).\\xa0\\n\\n↑ Mario Galgano: Bischof Robert Francis Prevost wird neuer Präfekt des Bischofs-Dikasteriums. In: Vatican News. 30.\\xa0Januar 2023, abgerufen am 8.\\xa0Mai 2025.')]}}\n",
      "\n",
      "----------------\n",
      "\n",
      "{'generate': {'answer': 'Ich weiß nicht. Der Kontext enthält keine Informationen darüber, wann der Papst gestorben ist.'}}\n",
      "\n",
      "----------------\n",
      "\n"
     ]
    }
   ],
   "source": [
    "for step in graph.stream(\n",
    "    {\"question\": \"Wann ist der Pope gestorben?\"}, stream_mode=\"updates\"\n",
    "):\n",
    "    print(f\"{step}\\n\\n----------------\\n\")"
   ]
  },
  {
   "cell_type": "code",
   "execution_count": 454,
   "id": "dd780181",
   "metadata": {},
   "outputs": [],
   "source": [
    "from langchain_core.prompts import PromptTemplate\n",
    "\n",
    "template = \"\"\"Use the following pieces of context to answer the question at the end.\n",
    "If you don't know the answer, just say that you don't know, don't try to make up an answer.\n",
    "Use three sentences maximum and keep the answer as concise as possible.\n",
    "Always say \"thanks for asking!\" at the end of the answer.\n",
    "\n",
    "{context}\n",
    "\n",
    "Question: {question}\n",
    "\n",
    "Helpful Answer:\"\"\"\n",
    "custom_rag_prompt = PromptTemplate.from_template(template)"
   ]
  },
  {
   "cell_type": "code",
   "execution_count": 455,
   "id": "b3a987dd",
   "metadata": {},
   "outputs": [
    {
     "name": "stdout",
     "output_type": "stream",
     "text": [
      "{'retrieve': {'context': [Document(metadata={'title': 'Leo XIV. – Wikipedia', 'source': 'https://de.wikipedia.org/wiki/Leo_XIV.', 'language': 'de'}, page_content='↑ Biography of Robert Francis Prevost, Pope Leo XIV. Vatican News, 8.\\xa0Mai 2025, abgerufen am 9.\\xa0Mai 2025 (englisch).\\xa0\\n\\n↑ Ronny Reyes: Who is Robert Prevost? Meet Leo XIV, the first American pope. 8.\\xa0Mai 2025, abgerufen am 8.\\xa0Mai 2025.\\xa0\\n\\n↑ Rachel Van Gilder, Josh Sanchez: New pope attended Catholic high school in West Michigan. 8.\\xa0Mai 2025, abgerufen am 9.\\xa0Mai 2025 (englisch).\\xa0\\n\\n↑ José Antonio Jacinto Fiestas: Biografía de Monseñor Robert Francis Prevost Martínez O.S.A. In: Somos Iglesia (Chiclayo), Jg. 2015, Juni-Heft, S. 11.\\n\\n↑ The Angelicum joyfully welcomes the election of our distinguished alumnus, Pope Leo XIV. Pontifical University of St. Thomas Aquinas, 8.\\xa0Mai 2025, abgerufen am 9.\\xa0Mai 2025 (englisch).\\xa0\\n\\n↑ Mario Galgano: Bischof Robert Francis Prevost wird neuer Präfekt des Bischofs-Dikasteriums. In: Vatican News. 30.\\xa0Januar 2023, abgerufen am 8.\\xa0Mai 2025.'), Document(metadata={'language': 'de', 'title': 'Leo XIV. – Wikipedia', 'source': 'https://de.wikipedia.org/wiki/Leo_XIV.'}, page_content='↑ Biography of Robert Francis Prevost, Pope Leo XIV. Vatican News, 8.\\xa0Mai 2025, abgerufen am 9.\\xa0Mai 2025 (englisch).\\xa0\\n\\n↑ Ronny Reyes: Who is Robert Prevost? Meet Leo XIV, the first American pope. 8.\\xa0Mai 2025, abgerufen am 8.\\xa0Mai 2025.\\xa0\\n\\n↑ Rachel Van Gilder, Josh Sanchez: New pope attended Catholic high school in West Michigan. 8.\\xa0Mai 2025, abgerufen am 9.\\xa0Mai 2025 (englisch).\\xa0\\n\\n↑ José Antonio Jacinto Fiestas: Biografía de Monseñor Robert Francis Prevost Martínez O.S.A. In: Somos Iglesia (Chiclayo), Jg. 2015, Juni-Heft, S. 11.\\n\\n↑ The Angelicum joyfully welcomes the election of our distinguished alumnus, Pope Leo XIV. Pontifical University of St. Thomas Aquinas, 8.\\xa0Mai 2025, abgerufen am 9.\\xa0Mai 2025 (englisch).\\xa0\\n\\n↑ Mario Galgano: Bischof Robert Francis Prevost wird neuer Präfekt des Bischofs-Dikasteriums. In: Vatican News. 30.\\xa0Januar 2023, abgerufen am 8.\\xa0Mai 2025.'), Document(metadata={'title': 'Leo XIV. – Wikipedia', 'source': 'https://de.wikipedia.org/wiki/Leo_XIV.', 'language': 'de'}, page_content='↑ Biography of Robert Francis Prevost, Pope Leo XIV. Vatican News, 8.\\xa0Mai 2025, abgerufen am 9.\\xa0Mai 2025 (englisch).\\xa0\\n\\n↑ Ronny Reyes: Who is Robert Prevost? Meet Leo XIV, the first American pope. 8.\\xa0Mai 2025, abgerufen am 8.\\xa0Mai 2025.\\xa0\\n\\n↑ Rachel Van Gilder, Josh Sanchez: New pope attended Catholic high school in West Michigan. 8.\\xa0Mai 2025, abgerufen am 9.\\xa0Mai 2025 (englisch).\\xa0\\n\\n↑ José Antonio Jacinto Fiestas: Biografía de Monseñor Robert Francis Prevost Martínez O.S.A. In: Somos Iglesia (Chiclayo), Jg. 2015, Juni-Heft, S. 11.\\n\\n↑ The Angelicum joyfully welcomes the election of our distinguished alumnus, Pope Leo XIV. Pontifical University of St. Thomas Aquinas, 8.\\xa0Mai 2025, abgerufen am 9.\\xa0Mai 2025 (englisch).\\xa0\\n\\n↑ Mario Galgano: Bischof Robert Francis Prevost wird neuer Präfekt des Bischofs-Dikasteriums. In: Vatican News. 30.\\xa0Januar 2023, abgerufen am 8.\\xa0Mai 2025.'), Document(metadata={'source': 'https://de.wikipedia.org/wiki/Leo_XIV.', 'title': 'Leo XIV. – Wikipedia', 'language': 'de'}, page_content='↑ Biography of Robert Francis Prevost, Pope Leo XIV. Vatican News, 8.\\xa0Mai 2025, abgerufen am 9.\\xa0Mai 2025 (englisch).\\xa0\\n\\n↑ Ronny Reyes: Who is Robert Prevost? Meet Leo XIV, the first American pope. 8.\\xa0Mai 2025, abgerufen am 8.\\xa0Mai 2025.\\xa0\\n\\n↑ Rachel Van Gilder, Josh Sanchez: New pope attended Catholic high school in West Michigan. 8.\\xa0Mai 2025, abgerufen am 9.\\xa0Mai 2025 (englisch).\\xa0\\n\\n↑ José Antonio Jacinto Fiestas: Biografía de Monseñor Robert Francis Prevost Martínez O.S.A. In: Somos Iglesia (Chiclayo), Jg. 2015, Juni-Heft, S. 11.\\n\\n↑ The Angelicum joyfully welcomes the election of our distinguished alumnus, Pope Leo XIV. Pontifical University of St. Thomas Aquinas, 8.\\xa0Mai 2025, abgerufen am 9.\\xa0Mai 2025 (englisch).\\xa0\\n\\n↑ Mario Galgano: Bischof Robert Francis Prevost wird neuer Präfekt des Bischofs-Dikasteriums. In: Vatican News. 30.\\xa0Januar 2023, abgerufen am 8.\\xa0Mai 2025.')]}}\n",
      "\n",
      "----------------\n",
      "\n",
      "{'generate': {'answer': 'Der neue Papst, Leo XIV, ist Amerikaner. Dies geht aus einem Artikel von Ronny Reyes hervor. Er besuchte eine katholische High School in West Michigan.'}}\n",
      "\n",
      "----------------\n",
      "\n"
     ]
    }
   ],
   "source": [
    "for step in graph.stream(\n",
    "    {\"question\": \"Aus welchem Land kommt den neuen Pope?\"}, stream_mode=\"updates\"\n",
    "):\n",
    "    print(f\"{step}\\n\\n----------------\\n\")\n"
   ]
  },
  {
   "cell_type": "code",
   "execution_count": 456,
   "id": "c36c1a8a",
   "metadata": {},
   "outputs": [],
   "source": [
    "from langchain_core.prompts import PromptTemplate\n",
    "\n",
    "template = \"\"\"Here is some information that might help answer the question below.\n",
    "If you're not sure about the answer, it's okay to say you don't know.\n",
    "Please keep the answer short and friendly – no more than three sentences.\n",
    "End your answer with: \"Hope that helps!\"\n",
    "\n",
    "{context}\n",
    "\n",
    "Question: {question}\n",
    "\n",
    "Helpful Answer:\"\"\"\n",
    "\n",
    "custom_rag_prompt = PromptTemplate.from_template(template)"
   ]
  },
  {
   "cell_type": "code",
   "execution_count": 457,
   "id": "9bf34410",
   "metadata": {},
   "outputs": [
    {
     "name": "stdout",
     "output_type": "stream",
     "text": [
      "{'retrieve': {'context': [Document(metadata={'source': 'https://de.wikipedia.org/wiki/Leo_XIV.', 'title': 'Leo XIV. – Wikipedia', 'language': 'de'}, page_content='. Damit wolle er eine Linie fortsetzen, die Papst Franziskus mit seiner Option für die Armen begonnen hatte.[60] Ähnlich habe sich Leo XIV. bereits beim gemeinsamen Essen nach Abschluss des Konklaves geäußert, wie der chilenische Kardinal Fernando Chomalí berichtete.[61]'), Document(metadata={'language': 'de', 'title': 'Leo XIV. – Wikipedia', 'source': 'https://de.wikipedia.org/wiki/Leo_XIV.'}, page_content='. Damit wolle er eine Linie fortsetzen, die Papst Franziskus mit seiner Option für die Armen begonnen hatte.[60] Ähnlich habe sich Leo XIV. bereits beim gemeinsamen Essen nach Abschluss des Konklaves geäußert, wie der chilenische Kardinal Fernando Chomalí berichtete.[61]'), Document(metadata={'language': 'de', 'source': 'https://de.wikipedia.org/wiki/Leo_XIV.', 'title': 'Leo XIV. – Wikipedia'}, page_content='. Damit wolle er eine Linie fortsetzen, die Papst Franziskus mit seiner Option für die Armen begonnen hatte.[60] Ähnlich habe sich Leo XIV. bereits beim gemeinsamen Essen nach Abschluss des Konklaves geäußert, wie der chilenische Kardinal Fernando Chomalí berichtete.[61]'), Document(metadata={'source': 'https://de.wikipedia.org/wiki/Leo_XIV.', 'language': 'de', 'title': 'Leo XIV. – Wikipedia'}, page_content='. Damit wolle er eine Linie fortsetzen, die Papst Franziskus mit seiner Option für die Armen begonnen hatte.[60] Ähnlich habe sich Leo XIV. bereits beim gemeinsamen Essen nach Abschluss des Konklaves geäußert, wie der chilenische Kardinal Fernando Chomalí berichtete.[61]')]}}\n",
      "\n",
      "----------------\n",
      "\n",
      "{'generate': {'answer': 'Die mir zur Verfügung gestellten Informationen geben keine Auskunft über die Krankheiten von Papst Franziskus. Daher kann ich Ihre Frage leider nicht beantworten.'}}\n",
      "\n",
      "----------------\n",
      "\n"
     ]
    }
   ],
   "source": [
    "for step in graph.stream(\n",
    "    {\"question\": \"Welche Krankenheiten hatte der Papst Franziskus?\"}, stream_mode=\"updates\"\n",
    "):\n",
    "    print(f\"{step}\\n\\n----------------\\n\")\n"
   ]
  },
  {
   "cell_type": "code",
   "execution_count": 458,
   "id": "825fcbae",
   "metadata": {},
   "outputs": [],
   "source": [
    "template = \"\"\"Based on the provided information, answer the following question as clearly and accurately as possible.\n",
    "Do not guess; if the information is insufficient, respond with \"Information not available.\"\n",
    "Limit your answer to three concise sentences.\n",
    "Conclude with: \"Thank you for your question.\"\n",
    "\n",
    "{context}\n",
    "\n",
    "Question: {question}\n",
    "\n",
    "Helpful Answer:\"\"\"\n",
    "\n",
    "custom_rag_prompt = PromptTemplate.from_template(template)"
   ]
  },
  {
   "cell_type": "code",
   "execution_count": 459,
   "id": "c24a4476",
   "metadata": {},
   "outputs": [
    {
     "name": "stdout",
     "output_type": "stream",
     "text": [
      "{'retrieve': {'context': [Document(metadata={'title': 'Leo XIV. – Wikipedia', 'source': 'https://de.wikipedia.org/wiki/Leo_XIV.', 'language': 'de'}, page_content='↑ Kardinal Robert Francis Prevost die Insignien des Ehren- und Devotions-Großkreuz-Bailli verliehen. Abgerufen am 12.\\xa0Februar 2025.\\xa0\\n\\n↑ Das Wappen von Papst Prevost. In: Il Messaggero. 8.\\xa0Mai 2025, abgerufen am 18.\\xa0Mai 2025 (deutsch).\\xa0\\n\\n↑ S. Aurelii Augustini: Enarrationes in Psalmos. In: Patrologia Latina, Bd. 37, Sp. 1679 (In Psalmum 127 online).\\n\\n↑ Habemus papam. Kardinal Robert Francis Prevost ist der neue Papst Leo XIV. Bistum Regensburg, 8.\\xa0Mai 2025, abgerufen am 9.\\xa0Mai 2025.\\xa0\\n\\n↑ Nomina di Membro in diversi Dicasteri. In: Tägliches Bulletin. Presseamt des Heiligen Stuhls, 4.\\xa0März 2023, abgerufen am 4.\\xa0März 2023.\\xa0\\n\\n↑ Nomina di Membri dei Dicasteri della Curia Romana e della Pontificia Commissione per lo Stato della Città del Vaticano. In: Tägliches Bulletin. Presseamt des Heiligen Stuhls, 4.\\xa0Oktober 2023, abgerufen am 4.\\xa0Oktober 2023.'), Document(metadata={'source': 'https://de.wikipedia.org/wiki/Leo_XIV.', 'language': 'de', 'title': 'Leo XIV. – Wikipedia'}, page_content='↑ Kardinal Robert Francis Prevost die Insignien des Ehren- und Devotions-Großkreuz-Bailli verliehen. Abgerufen am 12.\\xa0Februar 2025.\\xa0\\n\\n↑ Das Wappen von Papst Prevost. In: Il Messaggero. 8.\\xa0Mai 2025, abgerufen am 18.\\xa0Mai 2025 (deutsch).\\xa0\\n\\n↑ S. Aurelii Augustini: Enarrationes in Psalmos. In: Patrologia Latina, Bd. 37, Sp. 1679 (In Psalmum 127 online).\\n\\n↑ Habemus papam. Kardinal Robert Francis Prevost ist der neue Papst Leo XIV. Bistum Regensburg, 8.\\xa0Mai 2025, abgerufen am 9.\\xa0Mai 2025.\\xa0\\n\\n↑ Nomina di Membro in diversi Dicasteri. In: Tägliches Bulletin. Presseamt des Heiligen Stuhls, 4.\\xa0März 2023, abgerufen am 4.\\xa0März 2023.\\xa0\\n\\n↑ Nomina di Membri dei Dicasteri della Curia Romana e della Pontificia Commissione per lo Stato della Città del Vaticano. In: Tägliches Bulletin. Presseamt des Heiligen Stuhls, 4.\\xa0Oktober 2023, abgerufen am 4.\\xa0Oktober 2023.'), Document(metadata={'language': 'de', 'source': 'https://de.wikipedia.org/wiki/Leo_XIV.', 'title': 'Leo XIV. – Wikipedia'}, page_content='↑ Kardinal Robert Francis Prevost die Insignien des Ehren- und Devotions-Großkreuz-Bailli verliehen. Abgerufen am 12.\\xa0Februar 2025.\\xa0\\n\\n↑ Das Wappen von Papst Prevost. In: Il Messaggero. 8.\\xa0Mai 2025, abgerufen am 18.\\xa0Mai 2025 (deutsch).\\xa0\\n\\n↑ S. Aurelii Augustini: Enarrationes in Psalmos. In: Patrologia Latina, Bd. 37, Sp. 1679 (In Psalmum 127 online).\\n\\n↑ Habemus papam. Kardinal Robert Francis Prevost ist der neue Papst Leo XIV. Bistum Regensburg, 8.\\xa0Mai 2025, abgerufen am 9.\\xa0Mai 2025.\\xa0\\n\\n↑ Nomina di Membro in diversi Dicasteri. In: Tägliches Bulletin. Presseamt des Heiligen Stuhls, 4.\\xa0März 2023, abgerufen am 4.\\xa0März 2023.\\xa0\\n\\n↑ Nomina di Membri dei Dicasteri della Curia Romana e della Pontificia Commissione per lo Stato della Città del Vaticano. In: Tägliches Bulletin. Presseamt des Heiligen Stuhls, 4.\\xa0Oktober 2023, abgerufen am 4.\\xa0Oktober 2023.'), Document(metadata={'source': 'https://de.wikipedia.org/wiki/Leo_XIV.', 'language': 'de', 'title': 'Leo XIV. – Wikipedia'}, page_content='↑ Kardinal Robert Francis Prevost die Insignien des Ehren- und Devotions-Großkreuz-Bailli verliehen. Abgerufen am 12.\\xa0Februar 2025.\\xa0\\n\\n↑ Das Wappen von Papst Prevost. In: Il Messaggero. 8.\\xa0Mai 2025, abgerufen am 18.\\xa0Mai 2025 (deutsch).\\xa0\\n\\n↑ S. Aurelii Augustini: Enarrationes in Psalmos. In: Patrologia Latina, Bd. 37, Sp. 1679 (In Psalmum 127 online).\\n\\n↑ Habemus papam. Kardinal Robert Francis Prevost ist der neue Papst Leo XIV. Bistum Regensburg, 8.\\xa0Mai 2025, abgerufen am 9.\\xa0Mai 2025.\\xa0\\n\\n↑ Nomina di Membro in diversi Dicasteri. In: Tägliches Bulletin. Presseamt des Heiligen Stuhls, 4.\\xa0März 2023, abgerufen am 4.\\xa0März 2023.\\xa0\\n\\n↑ Nomina di Membri dei Dicasteri della Curia Romana e della Pontificia Commissione per lo Stato della Città del Vaticano. In: Tägliches Bulletin. Presseamt des Heiligen Stuhls, 4.\\xa0Oktober 2023, abgerufen am 4.\\xa0Oktober 2023.')]}}\n",
      "\n",
      "----------------\n",
      "\n",
      "{'generate': {'answer': 'Der neue Papst heisst Leo XIV. Zuvor war er Kardinal Robert Francis Prevost. Er wurde am 8. Mai 2025 gewählt.'}}\n",
      "\n",
      "----------------\n",
      "\n"
     ]
    }
   ],
   "source": [
    "for step in graph.stream(\n",
    "    {\"question\": \"Wie hesst der neuen Pope?\"}, stream_mode=\"updates\"\n",
    "):\n",
    "    print(f\"{step}\\n\\n----------------\\n\")"
   ]
  },
  {
   "cell_type": "code",
   "execution_count": 460,
   "id": "f3641808",
   "metadata": {},
   "outputs": [],
   "source": [
    "template = \"\"\"Use the information below to answer the question.\n",
    "If you don't know the answer, just say: \"I’m not sure from this information.\"\n",
    "Keep the answer short – up to three sentences – and easy to understand.\n",
    "Always say: \"Thanks for your question!\" at the end.\n",
    "\n",
    "{context}\n",
    "\n",
    "Question: {question}\n",
    "\n",
    "Helpful Answer:\"\"\"\n",
    "custom_rag_prompt = PromptTemplate.from_template(template)"
   ]
  },
  {
   "cell_type": "code",
   "execution_count": 461,
   "id": "1cb2d48d",
   "metadata": {},
   "outputs": [
    {
     "name": "stdout",
     "output_type": "stream",
     "text": [
      "{'retrieve': {'context': [Document(metadata={'title': 'Leo XIV. – Wikipedia', 'source': 'https://de.wikipedia.org/wiki/Leo_XIV.', 'language': 'de'}, page_content='Leo XIV. – Wikipedia\\n\\n\\n\\n\\n\\n\\n\\n\\n\\n\\n\\n\\n\\n\\n\\n\\n\\n\\n\\n\\n\\n\\n\\n\\n\\n\\n\\n\\n\\n\\n\\n\\n\\n\\n\\n\\nZum Inhalt springen\\n\\n\\n\\n\\n\\n\\n\\nHauptmenü\\n\\n\\n\\n\\n\\nHauptmenü\\nIn die Seitenleiste verschieben\\nVerbergen\\n\\n\\n\\n\\t\\tNavigation\\n\\t\\n\\n\\nHauptseiteThemenportaleZufälliger ArtikelSpezialseiten\\n\\n\\n\\n\\n\\n\\t\\tMitmachen\\n\\t\\n\\n\\nArtikel verbessernNeuen Artikel anlegenAutorenportalHilfeLetzte ÄnderungenKontakt\\n\\n\\n\\n\\n\\n\\n\\n\\n\\n\\n\\n\\n\\n\\n\\n\\n\\n\\n\\nSuche\\n\\n\\n\\n\\n\\n\\n\\n\\n\\n\\n\\nSuchen\\n\\n\\n\\n\\n\\n\\n\\n\\n\\n\\n\\n\\n\\n\\n\\n\\n\\n\\n\\n\\n\\n\\nErscheinungsbild\\n\\n\\n\\n\\n\\n\\n\\n\\n\\n\\n\\n\\n\\n\\n\\n\\nJetzt spenden\\n\\nBenutzerkonto erstellen\\n\\nAnmelden\\n\\n\\n\\n\\n\\n\\n\\n\\nMeine Werkzeuge\\n\\n\\n\\n\\n\\nJetzt spenden Benutzerkonto erstellen Anmelden\\n\\n\\n\\n\\n\\n\\t\\tSeiten für nicht angemeldete Benutzer weitere Informationen\\n\\n\\n\\nBeiträgeDiskussionsseite\\n\\n\\n\\n\\n\\n\\n\\n\\n\\n\\n\\n\\n\\n\\n\\n\\n\\n\\n\\n\\n\\n\\n\\n\\n\\n\\n\\n\\nInhaltsverzeichnis\\nIn die Seitenleiste verschieben\\nVerbergen\\n\\n\\n\\n\\n(Anfang)\\n\\n\\n\\n\\n\\n1\\nLeben und Werdegang\\n\\n\\n\\n\\nUnterabschnitt Leben und Werdegang umschalten\\n\\n\\n\\n\\n\\n1.1\\nAusbildung und Positionen im Augustinerorden (1955–2013)\\n\\n\\n\\n\\n\\n\\n\\n\\n1.2\\nZeit in Chiclayo (2014–2023)\\n\\n\\n\\n\\n\\n\\n\\n\\n1.3\\nZeit im Vatikan'), Document(metadata={'source': 'https://de.wikipedia.org/wiki/Leo_XIV.', 'language': 'de', 'title': 'Leo XIV. – Wikipedia'}, page_content='Leo XIV. – Wikipedia\\n\\n\\n\\n\\n\\n\\n\\n\\n\\n\\n\\n\\n\\n\\n\\n\\n\\n\\n\\n\\n\\n\\n\\n\\n\\n\\n\\n\\n\\n\\n\\n\\n\\n\\n\\n\\nZum Inhalt springen\\n\\n\\n\\n\\n\\n\\n\\nHauptmenü\\n\\n\\n\\n\\n\\nHauptmenü\\nIn die Seitenleiste verschieben\\nVerbergen\\n\\n\\n\\n\\t\\tNavigation\\n\\t\\n\\n\\nHauptseiteThemenportaleZufälliger ArtikelSpezialseiten\\n\\n\\n\\n\\n\\n\\t\\tMitmachen\\n\\t\\n\\n\\nArtikel verbessernNeuen Artikel anlegenAutorenportalHilfeLetzte ÄnderungenKontakt\\n\\n\\n\\n\\n\\n\\n\\n\\n\\n\\n\\n\\n\\n\\n\\n\\n\\n\\n\\nSuche\\n\\n\\n\\n\\n\\n\\n\\n\\n\\n\\n\\nSuchen\\n\\n\\n\\n\\n\\n\\n\\n\\n\\n\\n\\n\\n\\n\\n\\n\\n\\n\\n\\n\\n\\n\\nErscheinungsbild\\n\\n\\n\\n\\n\\n\\n\\n\\n\\n\\n\\n\\n\\n\\n\\n\\nJetzt spenden\\n\\nBenutzerkonto erstellen\\n\\nAnmelden\\n\\n\\n\\n\\n\\n\\n\\n\\nMeine Werkzeuge\\n\\n\\n\\n\\n\\nJetzt spenden Benutzerkonto erstellen Anmelden\\n\\n\\n\\n\\n\\n\\t\\tSeiten für nicht angemeldete Benutzer weitere Informationen\\n\\n\\n\\nBeiträgeDiskussionsseite\\n\\n\\n\\n\\n\\n\\n\\n\\n\\n\\n\\n\\n\\n\\n\\n\\n\\n\\n\\n\\n\\n\\n\\n\\n\\n\\n\\n\\nInhaltsverzeichnis\\nIn die Seitenleiste verschieben\\nVerbergen\\n\\n\\n\\n\\n(Anfang)\\n\\n\\n\\n\\n\\n1\\nLeben und Werdegang\\n\\n\\n\\n\\nUnterabschnitt Leben und Werdegang umschalten\\n\\n\\n\\n\\n\\n1.1\\nAusbildung und Positionen im Augustinerorden (1955–2013)\\n\\n\\n\\n\\n\\n\\n\\n\\n1.2\\nZeit in Chiclayo (2014–2023)\\n\\n\\n\\n\\n\\n\\n\\n\\n1.3\\nZeit im Vatikan'), Document(metadata={'source': 'https://de.wikipedia.org/wiki/Leo_XIV.', 'title': 'Leo XIV. – Wikipedia', 'language': 'de'}, page_content='Leo XIV. – Wikipedia\\n\\n\\n\\n\\n\\n\\n\\n\\n\\n\\n\\n\\n\\n\\n\\n\\n\\n\\n\\n\\n\\n\\n\\n\\n\\n\\n\\n\\n\\n\\n\\n\\n\\n\\n\\n\\nZum Inhalt springen\\n\\n\\n\\n\\n\\n\\n\\nHauptmenü\\n\\n\\n\\n\\n\\nHauptmenü\\nIn die Seitenleiste verschieben\\nVerbergen\\n\\n\\n\\n\\t\\tNavigation\\n\\t\\n\\n\\nHauptseiteThemenportaleZufälliger ArtikelSpezialseiten\\n\\n\\n\\n\\n\\n\\t\\tMitmachen\\n\\t\\n\\n\\nArtikel verbessernNeuen Artikel anlegenAutorenportalHilfeLetzte ÄnderungenKontakt\\n\\n\\n\\n\\n\\n\\n\\n\\n\\n\\n\\n\\n\\n\\n\\n\\n\\n\\n\\nSuche\\n\\n\\n\\n\\n\\n\\n\\n\\n\\n\\n\\nSuchen\\n\\n\\n\\n\\n\\n\\n\\n\\n\\n\\n\\n\\n\\n\\n\\n\\n\\n\\n\\n\\n\\n\\nErscheinungsbild\\n\\n\\n\\n\\n\\n\\n\\n\\n\\n\\n\\n\\n\\n\\n\\n\\nJetzt spenden\\n\\nBenutzerkonto erstellen\\n\\nAnmelden\\n\\n\\n\\n\\n\\n\\n\\n\\nMeine Werkzeuge\\n\\n\\n\\n\\n\\nJetzt spenden Benutzerkonto erstellen Anmelden\\n\\n\\n\\n\\n\\n\\t\\tSeiten für nicht angemeldete Benutzer weitere Informationen\\n\\n\\n\\nBeiträgeDiskussionsseite\\n\\n\\n\\n\\n\\n\\n\\n\\n\\n\\n\\n\\n\\n\\n\\n\\n\\n\\n\\n\\n\\n\\n\\n\\n\\n\\n\\n\\nInhaltsverzeichnis\\nIn die Seitenleiste verschieben\\nVerbergen\\n\\n\\n\\n\\n(Anfang)\\n\\n\\n\\n\\n\\n1\\nLeben und Werdegang\\n\\n\\n\\n\\nUnterabschnitt Leben und Werdegang umschalten\\n\\n\\n\\n\\n\\n1.1\\nAusbildung und Positionen im Augustinerorden (1955–2013)\\n\\n\\n\\n\\n\\n\\n\\n\\n1.2\\nZeit in Chiclayo (2014–2023)\\n\\n\\n\\n\\n\\n\\n\\n\\n1.3\\nZeit im Vatikan'), Document(metadata={'language': 'de', 'title': 'Leo XIV. – Wikipedia', 'source': 'https://de.wikipedia.org/wiki/Leo_XIV.'}, page_content='Leo XIV. – Wikipedia\\n\\n\\n\\n\\n\\n\\n\\n\\n\\n\\n\\n\\n\\n\\n\\n\\n\\n\\n\\n\\n\\n\\n\\n\\n\\n\\n\\n\\n\\n\\n\\n\\n\\n\\n\\n\\nZum Inhalt springen\\n\\n\\n\\n\\n\\n\\n\\nHauptmenü\\n\\n\\n\\n\\n\\nHauptmenü\\nIn die Seitenleiste verschieben\\nVerbergen\\n\\n\\n\\n\\t\\tNavigation\\n\\t\\n\\n\\nHauptseiteThemenportaleZufälliger ArtikelSpezialseiten\\n\\n\\n\\n\\n\\n\\t\\tMitmachen\\n\\t\\n\\n\\nArtikel verbessernNeuen Artikel anlegenAutorenportalHilfeLetzte ÄnderungenKontakt\\n\\n\\n\\n\\n\\n\\n\\n\\n\\n\\n\\n\\n\\n\\n\\n\\n\\n\\n\\nSuche\\n\\n\\n\\n\\n\\n\\n\\n\\n\\n\\n\\nSuchen\\n\\n\\n\\n\\n\\n\\n\\n\\n\\n\\n\\n\\n\\n\\n\\n\\n\\n\\n\\n\\n\\n\\nErscheinungsbild\\n\\n\\n\\n\\n\\n\\n\\n\\n\\n\\n\\n\\n\\n\\n\\n\\nJetzt spenden\\n\\nBenutzerkonto erstellen\\n\\nAnmelden\\n\\n\\n\\n\\n\\n\\n\\n\\nMeine Werkzeuge\\n\\n\\n\\n\\n\\nJetzt spenden Benutzerkonto erstellen Anmelden\\n\\n\\n\\n\\n\\n\\t\\tSeiten für nicht angemeldete Benutzer weitere Informationen\\n\\n\\n\\nBeiträgeDiskussionsseite\\n\\n\\n\\n\\n\\n\\n\\n\\n\\n\\n\\n\\n\\n\\n\\n\\n\\n\\n\\n\\n\\n\\n\\n\\n\\n\\n\\n\\nInhaltsverzeichnis\\nIn die Seitenleiste verschieben\\nVerbergen\\n\\n\\n\\n\\n(Anfang)\\n\\n\\n\\n\\n\\n1\\nLeben und Werdegang\\n\\n\\n\\n\\nUnterabschnitt Leben und Werdegang umschalten\\n\\n\\n\\n\\n\\n1.1\\nAusbildung und Positionen im Augustinerorden (1955–2013)\\n\\n\\n\\n\\n\\n\\n\\n\\n1.2\\nZeit in Chiclayo (2014–2023)\\n\\n\\n\\n\\n\\n\\n\\n\\n1.3\\nZeit im Vatikan')]}}\n",
      "\n",
      "----------------\n",
      "\n",
      "{'generate': {'answer': 'Das Alter von Papst Leo XIV. ist im gegebenen Kontext nicht angegeben. Der Text beschreibt lediglich seinen Werdegang. Dazu gehören seine Ausbildung, Positionen im Augustinerorden und seine Zeit in Chiclayo und im Vatikan.'}}\n",
      "\n",
      "----------------\n",
      "\n"
     ]
    }
   ],
   "source": [
    "for step in graph.stream(\n",
    "    {\"question\": \"Wie alt ist der Papst Leo XIV?\"}, stream_mode=\"updates\"\n",
    "):\n",
    "    print(f\"{step}\\n\\n----------------\\n\")"
   ]
  },
  {
   "cell_type": "markdown",
   "id": "66651873",
   "metadata": {},
   "source": [
    "Query Analysis"
   ]
  },
  {
   "cell_type": "code",
   "execution_count": 462,
   "id": "f03de337",
   "metadata": {},
   "outputs": [],
   "source": [
    "from math import ceil\n",
    "\n",
    "total = len(all_splits)\n",
    "chunk_size = ceil(total / 10)\n",
    "\n",
    "for i, doc in enumerate(all_splits):\n",
    "    section = (i // chunk_size) + 1\n",
    "    doc.metadata[\"section\"] = str(section)"
   ]
  },
  {
   "cell_type": "code",
   "execution_count": 463,
   "id": "b816fa61",
   "metadata": {},
   "outputs": [
    {
     "name": "stdout",
     "output_type": "stream",
     "text": [
      " Dokumentanzahl pro Sektion:\n",
      "  Section 1: 6 Dokumente\n",
      "  Section 2: 6 Dokumente\n",
      "  Section 3: 6 Dokumente\n",
      "  Section 4: 6 Dokumente\n",
      "  Section 5: 6 Dokumente\n",
      "  Section 6: 6 Dokumente\n",
      "  Section 7: 6 Dokumente\n",
      "  Section 8: 6 Dokumente\n",
      "  Section 9: 4 Dokumente\n"
     ]
    }
   ],
   "source": [
    "from collections import Counter\n",
    "\n",
    "sections = [doc.metadata.get(\"section\") for doc in all_splits]\n",
    "count_per_section = Counter(sections)\n",
    "\n",
    "print(\" Dokumentanzahl pro Sektion:\")\n",
    "for section, count in sorted(count_per_section.items()):\n",
    "    print(f\"  Section {section}: {count} Dokumente\")"
   ]
  },
  {
   "cell_type": "code",
   "execution_count": 464,
   "id": "b2271d84",
   "metadata": {},
   "outputs": [],
   "source": [
    "from langchain_core.vectorstores import InMemoryVectorStore\n",
    "\n",
    "vector_store = InMemoryVectorStore(embeddings)\n",
    "_ = vector_store.add_documents(all_splits)"
   ]
  },
  {
   "cell_type": "code",
   "execution_count": 465,
   "id": "89720fbf",
   "metadata": {},
   "outputs": [],
   "source": [
    "from typing import Literal\n",
    "from typing_extensions import Annotated\n",
    "from typing import TypedDict\n",
    "\n",
    "class Search(TypedDict):\n",
    "    query: Annotated[str, ..., \"Search query to run.\"]\n",
    "    section: Annotated[\n",
    "        Literal[\"1\", \"2\", \"3\", \"4\", \"5\", \"6\", \"7\", \"8\", \"9\", \"10\"],\n",
    "        ...,\n",
    "        \"Section to query (1–10).\"\n",
    "    ]"
   ]
  },
  {
   "cell_type": "code",
   "execution_count": 466,
   "id": "981c9974",
   "metadata": {},
   "outputs": [],
   "source": [
    "from langgraph.graph import MessagesState, StateGraph\n",
    "\n",
    "graph_builder = StateGraph(MessagesState)"
   ]
  },
  {
   "cell_type": "code",
   "execution_count": 467,
   "id": "e029a1ef",
   "metadata": {},
   "outputs": [],
   "source": [
    "\n",
    "# Define prompt for question-answering\n",
    "prompt = hub.pull(\"rlm/rag-prompt\")\n",
    "\n",
    "\n",
    "# Define state for application\n",
    "class State(TypedDict):\n",
    "    question: str\n",
    "    query: Search\n",
    "    context: List[Document]\n",
    "    answer: str\n",
    "\n",
    "\n",
    "def analyze_query(state: State):\n",
    "    structured_llm = model.with_structured_output(Search)\n",
    "    query = structured_llm.invoke(state[\"question\"])\n",
    "    return {\"query\": query}\n",
    "\n",
    "\n",
    "def retrieve(state: State):\n",
    "    query = state[\"query\"]\n",
    "    retrieved_docs = vector_store.similarity_search(\n",
    "        query[\"query\"],\n",
    "        filter=lambda doc: doc.metadata.get(\"section\") == query[\"section\"],\n",
    "    )\n",
    "    return {\"context\": retrieved_docs}\n",
    "\n",
    "\n",
    "def generate(state: State):\n",
    "    docs_content = \"\\n\\n\".join(doc.page_content for doc in state[\"context\"])\n",
    "    messages = prompt.invoke({\"question\": state[\"question\"], \"context\": docs_content})\n",
    "    response = model.invoke(messages)\n",
    "    return {\"answer\": response.content}\n",
    "\n",
    "\n",
    "graph_builder = StateGraph(State).add_sequence([analyze_query, retrieve, generate])\n",
    "graph_builder.add_edge(START, \"analyze_query\")\n",
    "graph = graph_builder.compile()"
   ]
  },
  {
   "cell_type": "code",
   "execution_count": 468,
   "id": "d496627b",
   "metadata": {},
   "outputs": [
    {
     "data": {
      "image/png": "[encoded data removed]",
      "text/plain": [
       "<IPython.core.display.Image object>"
      ]
     },
     "metadata": {},
     "output_type": "display_data"
    }
   ],
   "source": [
    "from IPython.display import Image, display\n",
    "\n",
    "display(Image(graph.get_graph().draw_mermaid_png()))"
   ]
  },
  {
   "cell_type": "code",
   "execution_count": 469,
   "id": "063f8f05",
   "metadata": {},
   "outputs": [
    {
     "name": "stdout",
     "output_type": "stream",
     "text": [
      "{'analyze_query': {'query': {'section': '2', 'query': 'Vorheriger Papst'}}}\n",
      "\n",
      "----------------\n",
      "\n",
      "{'retrieve': {'context': [Document(id='c20dede9-20ed-40a3-9cfe-e2d9c12e09ad', metadata={'source': 'https://de.wikipedia.org/wiki/Leo_XIV.', 'title': 'Leo XIV. – Wikipedia', 'language': 'de', 'section': '2'}, page_content='1998 wurde Prevost zum Provinzialprior der Ordensprovinz in Chicago gewählt, das Amt trat er im März 1999 an. Im Jahr 2000 erlaubte er einem seit 1991 wegen Missbrauchsvorwürfen suspendierten Augustinerpater, unter Aufsicht in einem Kloster in Chicago zu wohnen. Dieser wurde 2002 nach Einführung strengerer Regeln zum Umgang mit des Missbrauchs Beschuldigten (Dallas Charter) umgesiedelt.[18]'), Document(id='143888c5-9098-4c3d-9bab-e62f41b0c117', metadata={'source': 'https://de.wikipedia.org/wiki/Leo_XIV.', 'title': 'Leo XIV. – Wikipedia', 'language': 'de', 'section': '2'}, page_content='Leben und Werdegang[Bearbeiten | Quelltext bearbeiten]\\nAusbildung und Positionen im Augustinerorden (1955–2013)[Bearbeiten | Quelltext bearbeiten]\\nDas Elternhaus von Robert Francis Prevost in Dolton, Illinois (2025)\\nPrevost entstammt einer „urkatholischen“[1] Familie mit französischen, italienischen, spanischen und kreolischen[2] Wurzeln. Sein Vater Louis Marius Prevost (1920–1997) war Schulleiter, seine Mutter Mildred Martínez (1911–1990) Bibliothekarin.[3] Prevost hat zwei ältere Brüder, Louis Martín[4] und John Joseph[5], ein ehemaliger Rektor einer katholischen Schule.[6] Seine Eltern waren in der Pfarrei St. Mary of the Assumption in Chicago aktiv, wo er wie seine Brüder als Messdiener (Ministrant) tätig war.[7][8] Prevost besuchte bis zu seinem Highschool-Abschluss im Jahre 1973 ein katholisches High-School-Seminar, The Saint Augustine Seminary, in Michigan[9] und studierte an der Villanova University in Villanova bei Philadelphia Mathematik und Philosophie.[10]'), Document(id='1d4b2ae6-dd76-4301-8788-358d357ec954', metadata={'source': 'https://de.wikipedia.org/wiki/Leo_XIV.', 'title': 'Leo XIV. – Wikipedia', 'language': 'de', 'section': '2'}, page_content='Pater Robert Prevost als Generalprior der Augustiner (2012)\\nVon 2001 bis 2013 war Prevost Generalprior des Augustinerordens mit Sitz in Rom. Prevost beherrscht die Sprachen Englisch, Italienisch, Spanisch und Portugiesisch und liest Deutsch und Latein, die Lingua franca der Kirche.[1] Auch eine „normale Unterhaltung“ auf Deutsch sei mit ihm möglich, wie sich zwischen 2001 und 2013 gezeigt hat, als er in seiner Amtszeit als Ordensoberer mehrmals die österreichischen und deutschen Augustiner besuchte.[19] Während seines Aufenthalts in Peru erwarb Leo Grundkenntnisse in einer der Quechua-Sprachen.[20]'), Document(id='7bb1b73c-d43c-4a5a-bdd5-f307af2e5b84', metadata={'source': 'https://de.wikipedia.org/wiki/Leo_XIV.', 'title': 'Leo XIV. – Wikipedia', 'language': 'de', 'section': '2'}, page_content='Nach den Examina in beiden Fächern im Jahre 1977 trat er der Ordensgemeinschaft der Augustiner bei. Nach dem Noviziat studierte er bis 1982 Theologie an der Catholic Theological Union in Chicago (Master of Divinity), anschließend an der Päpstlichen Universität Heiliger Thomas von Aquin in Rom („Angelicum“) Kirchenrecht. Am 29. August 1981 legte er das ewige Ordensgelübde (Profess) ab und empfing am 19. Juni 1982 in Rom im Augustinerkolleg von Santa Monica das Sakrament der Priesterweihe durch den belgischen Erzbischof Jean Jadot, damals Vizepräsident des Päpstlichen Rates für die Nichtchristen (heute Dikasterium für den Interreligiösen Dialog). 1987 wurde er mit einer kirchenrechtlichen Dissertation von der Päpstlichen Universität Heiliger Thomas von Aquin in Rom zum Dr. iur. can. promoviert.[11] Das Thema der Dissertation lautete „Die Rolle des örtlichen Priors im Orden des heiligen Augustinus“.[12][13]')]}}\n",
      "\n",
      "----------------\n",
      "\n",
      "{'generate': {'answer': 'Die bereitgestellten Texte enthalten keine Informationen über den vorherigen Papst. Daher kann ich die Frage nicht beantworten.'}}\n",
      "\n",
      "----------------\n",
      "\n"
     ]
    }
   ],
   "source": [
    "for step in graph.stream(\n",
    "    {\"question\": \"Wie heißt der Papst, Der vorherige Papst war?\"},  # Example question\n",
    "    stream_mode=\"updates\",\n",
    "):\n",
    "    print(f\"{step}\\n\\n----------------\\n\")"
   ]
  },
  {
   "cell_type": "markdown",
   "id": "1783fd11",
   "metadata": {},
   "source": [
    "Dialog Flow"
   ]
  },
  {
   "cell_type": "code",
   "execution_count": 470,
   "id": "1e88fb97",
   "metadata": {},
   "outputs": [],
   "source": [
    "from langgraph.graph import MessagesState, StateGraph\n",
    "\n",
    "graph_builder = StateGraph(MessagesState)"
   ]
  },
  {
   "cell_type": "code",
   "execution_count": 471,
   "id": "139a741d",
   "metadata": {},
   "outputs": [],
   "source": [
    "from langchain_core.tools import tool\n",
    "\n",
    "\n",
    "@tool(response_format=\"content_and_artifact\")\n",
    "def retrieve(query: str):\n",
    "    \"\"\"Retrieve information related to a query.\"\"\"\n",
    "    retrieved_docs = vector_store.similarity_search(query, k=2)\n",
    "    serialized = \"\\n\\n\".join(\n",
    "        (f\"Source: {doc.metadata}\\n\" f\"Content: {doc.page_content}\")\n",
    "        for doc in retrieved_docs\n",
    "    )\n",
    "    return serialized, retrieved_docs"
   ]
  },
  {
   "cell_type": "code",
   "execution_count": 472,
   "id": "fd03a47d",
   "metadata": {},
   "outputs": [],
   "source": [
    "from langchain_core.messages import SystemMessage\n",
    "from langgraph.prebuilt import ToolNode\n",
    "\n",
    "\n",
    "# Step 1: Generate an AIMessage that may include a tool-call to be sent.\n",
    "def query_or_respond(state: MessagesState):\n",
    "    \"\"\"Generate tool call for retrieval or respond.\"\"\"\n",
    "    llm_with_tools = model.bind_tools([retrieve])\n",
    "    response = llm_with_tools.invoke(state[\"messages\"])\n",
    "    # MessagesState appends messages to state instead of overwriting\n",
    "    return {\"messages\": [response]}\n",
    "\n",
    "\n",
    "# Step 2: Execute the retrieval.\n",
    "tools = ToolNode([retrieve])\n",
    "\n",
    "\n",
    "# Step 3: Generate a response using the retrieved content.\n",
    "def generate(state: MessagesState):\n",
    "    \"\"\"Generate answer.\"\"\"\n",
    "    # Get generated ToolMessages\n",
    "    recent_tool_messages = []\n",
    "    for message in reversed(state[\"messages\"]):\n",
    "        if message.type == \"tool\":\n",
    "            recent_tool_messages.append(message)\n",
    "        else:\n",
    "            break\n",
    "    tool_messages = recent_tool_messages[::-1]\n",
    "\n",
    "    # Format into prompt\n",
    "    docs_content = \"\\n\\n\".join(doc.content for doc in tool_messages)\n",
    "    system_message_content = (\n",
    "        \"You are an assistant for question-answering tasks. \"\n",
    "        \"Use the following pieces of retrieved context to answer \"\n",
    "        \"the question. If you don't know the answer, say that you \"\n",
    "        \"don't know. Use three sentences maximum and keep the \"\n",
    "        \"answer concise.\"\n",
    "        \"\\n\\n\"\n",
    "        f\"{docs_content}\"\n",
    "    )\n",
    "    conversation_messages = [\n",
    "        message\n",
    "        for message in state[\"messages\"]\n",
    "        if message.type in (\"human\", \"system\")\n",
    "        or (message.type == \"ai\" and not message.tool_calls)\n",
    "    ]\n",
    "    prompt = [SystemMessage(system_message_content)] + conversation_messages\n",
    "\n",
    "    # Run\n",
    "    response = model.invoke(prompt)\n",
    "    return {\"messages\": [response]}"
   ]
  },
  {
   "cell_type": "code",
   "execution_count": 473,
   "id": "6537e2f1",
   "metadata": {},
   "outputs": [],
   "source": [
    "from langgraph.graph import END\n",
    "from langgraph.prebuilt import ToolNode, tools_condition\n",
    "\n",
    "graph_builder.add_node(query_or_respond)\n",
    "graph_builder.add_node(tools)\n",
    "graph_builder.add_node(generate)\n",
    "\n",
    "graph_builder.set_entry_point(\"query_or_respond\")\n",
    "graph_builder.add_conditional_edges(\n",
    "    \"query_or_respond\",\n",
    "    tools_condition,\n",
    "    {END: END, \"tools\": \"tools\"},\n",
    ")\n",
    "graph_builder.add_edge(\"tools\", \"generate\")\n",
    "graph_builder.add_edge(\"generate\", END)\n",
    "\n",
    "graph = graph_builder.compile()"
   ]
  },
  {
   "cell_type": "markdown",
   "id": "c2dcdb9c",
   "metadata": {},
   "source": [
    "Ohne Memory"
   ]
  },
  {
   "cell_type": "code",
   "execution_count": 474,
   "id": "dbd1554c",
   "metadata": {},
   "outputs": [
    {
     "name": "stdout",
     "output_type": "stream",
     "text": [
      "================================\u001b[1m Human Message \u001b[0m=================================\n",
      "\n",
      "Hola!\n",
      "==================================\u001b[1m Ai Message \u001b[0m==================================\n",
      "\n",
      "Hola! How can I help you today?\n"
     ]
    }
   ],
   "source": [
    "input_message = \"Hola!\"\n",
    "\n",
    "for step in graph.stream(\n",
    "    {\"messages\": [{\"role\": \"user\", \"content\": input_message}]},\n",
    "    stream_mode=\"values\",\n",
    "):\n",
    "    step[\"messages\"][-1].pretty_print()"
   ]
  },
  {
   "cell_type": "code",
   "execution_count": 475,
   "id": "36b30d57",
   "metadata": {},
   "outputs": [
    {
     "name": "stdout",
     "output_type": "stream",
     "text": [
      "================================\u001b[1m Human Message \u001b[0m=================================\n",
      "\n",
      "desde cuando es Leon XIV papa?\n",
      "==================================\u001b[1m Ai Message \u001b[0m==================================\n",
      "Tool Calls:\n",
      "  retrieve (4dd6b84c-7408-4e8b-bc6c-4b4f3a718d36)\n",
      " Call ID: 4dd6b84c-7408-4e8b-bc6c-4b4f3a718d36\n",
      "  Args:\n",
      "    query: when was Pope Leo XIV?\n",
      "=================================\u001b[1m Tool Message \u001b[0m=================================\n",
      "Name: retrieve\n",
      "\n",
      "Source: {'source': 'https://de.wikipedia.org/wiki/Leo_XIV.', 'title': 'Leo XIV. – Wikipedia', 'language': 'de', 'section': '1'}\n",
      "Content: Leo XIV. – Wikipedia\n",
      "\n",
      "\n",
      "\n",
      "\n",
      "\n",
      "\n",
      "\n",
      "\n",
      "\n",
      "\n",
      "\n",
      "\n",
      "\n",
      "\n",
      "\n",
      "\n",
      "\n",
      "\n",
      "\n",
      "\n",
      "\n",
      "\n",
      "\n",
      "\n",
      "\n",
      "\n",
      "\n",
      "\n",
      "\n",
      "\n",
      "\n",
      "\n",
      "\n",
      "\n",
      "\n",
      "\n",
      "Zum Inhalt springen\n",
      "\n",
      "\n",
      "\n",
      "\n",
      "\n",
      "\n",
      "\n",
      "Hauptmenü\n",
      "\n",
      "\n",
      "\n",
      "\n",
      "\n",
      "Hauptmenü\n",
      "In die Seitenleiste verschieben\n",
      "Verbergen\n",
      "\n",
      "\n",
      "\n",
      "\t\tNavigation\n",
      "\t\n",
      "\n",
      "\n",
      "HauptseiteThemenportaleZufälliger ArtikelSpezialseiten\n",
      "\n",
      "\n",
      "\n",
      "\n",
      "\n",
      "\t\tMitmachen\n",
      "\t\n",
      "\n",
      "\n",
      "Artikel verbessernNeuen Artikel anlegenAutorenportalHilfeLetzte ÄnderungenKontakt\n",
      "\n",
      "\n",
      "\n",
      "\n",
      "\n",
      "\n",
      "\n",
      "\n",
      "\n",
      "\n",
      "\n",
      "\n",
      "\n",
      "\n",
      "\n",
      "\n",
      "\n",
      "\n",
      "\n",
      "Suche\n",
      "\n",
      "\n",
      "\n",
      "\n",
      "\n",
      "\n",
      "\n",
      "\n",
      "\n",
      "\n",
      "\n",
      "Suchen\n",
      "\n",
      "\n",
      "\n",
      "\n",
      "\n",
      "\n",
      "\n",
      "\n",
      "\n",
      "\n",
      "\n",
      "\n",
      "\n",
      "\n",
      "\n",
      "\n",
      "\n",
      "\n",
      "\n",
      "\n",
      "\n",
      "\n",
      "Erscheinungsbild\n",
      "\n",
      "\n",
      "\n",
      "\n",
      "\n",
      "\n",
      "\n",
      "\n",
      "\n",
      "\n",
      "\n",
      "\n",
      "\n",
      "\n",
      "\n",
      "\n",
      "Jetzt spenden\n",
      "\n",
      "Benutzerkonto erstellen\n",
      "\n",
      "Anmelden\n",
      "\n",
      "\n",
      "\n",
      "\n",
      "\n",
      "\n",
      "\n",
      "\n",
      "Meine Werkzeuge\n",
      "\n",
      "\n",
      "\n",
      "\n",
      "\n",
      "Jetzt spenden Benutzerkonto erstellen Anmelden\n",
      "\n",
      "\n",
      "\n",
      "\n",
      "\n",
      "\t\tSeiten für nicht angemeldete Benutzer weitere Informationen\n",
      "\n",
      "\n",
      "\n",
      "BeiträgeDiskussionsseite\n",
      "\n",
      "\n",
      "\n",
      "\n",
      "\n",
      "\n",
      "\n",
      "\n",
      "\n",
      "\n",
      "\n",
      "\n",
      "\n",
      "\n",
      "\n",
      "\n",
      "\n",
      "\n",
      "\n",
      "\n",
      "\n",
      "\n",
      "\n",
      "\n",
      "\n",
      "\n",
      "\n",
      "\n",
      "Inhaltsverzeichnis\n",
      "In die Seitenleiste verschieben\n",
      "Verbergen\n",
      "\n",
      "\n",
      "\n",
      "\n",
      "(Anfang)\n",
      "\n",
      "\n",
      "\n",
      "\n",
      "\n",
      "1\n",
      "Leben und Werdegang\n",
      "\n",
      "\n",
      "\n",
      "\n",
      "Unterabschnitt Leben und Werdegang umschalten\n",
      "\n",
      "\n",
      "\n",
      "\n",
      "\n",
      "1.1\n",
      "Ausbildung und Positionen im Augustinerorden (1955–2013)\n",
      "\n",
      "\n",
      "\n",
      "\n",
      "\n",
      "\n",
      "\n",
      "\n",
      "1.2\n",
      "Zeit in Chiclayo (2014–2023)\n",
      "\n",
      "\n",
      "\n",
      "\n",
      "\n",
      "\n",
      "\n",
      "\n",
      "1.3\n",
      "Zeit im Vatikan\n",
      "\n",
      "Source: {'source': 'https://de.wikipedia.org/wiki/Leo_XIV.', 'title': 'Leo XIV. – Wikipedia', 'language': 'de', 'section': '9'}\n",
      "Content: GEBURTSDATUM\n",
      "\n",
      "14. September 1955\n",
      "\n",
      "\n",
      "GEBURTSORT\n",
      "\n",
      "Chicago, Illinois, Vereinigte Staaten\n",
      "\n",
      "\n",
      "\n",
      "\n",
      "\n",
      "\n",
      "Abgerufen von „https://de.wikipedia.org/w/index.php?title=Leo_XIV.&oldid=256126413“\n",
      "Kategorien: Leo XIV.PapstAmtierendes StaatsoberhauptPräfekt des Dikasteriums für die BischöfeKardinal (21. Jahrhundert)Römisch-katholischer Bischof (21. Jahrhundert)Römisch-katholischer Geistlicher (20. Jahrhundert)Römisch-katholischer Geistlicher (21. Jahrhundert)Katholischer MissionarTitularbischofApostolischer AdministratorBischof von ChiclayoGeneralsuperiorHochschullehrer (Peru)Mathematiker (21. Jahrhundert)Absolvent der Päpstlichen Universität Heiliger Thomas von AquinAugustinerEhren- und Devotions-Großkreuz-Bailli des MalteserordensPerson (Chicago)VatikanbürgerUS-AmerikanerPeruanerGeboren 1955Mann\n",
      "==================================\u001b[1m Ai Message \u001b[0m==================================\n",
      "\n",
      "No tengo la información sobre cuándo Leo XIV se convirtió en Papa. La información disponible se centra en su vida, educación y posiciones dentro de la Iglesia Católica.\n"
     ]
    }
   ],
   "source": [
    "input_message = \"desde cuando es Leon XIV papa?\"\n",
    "\n",
    "for step in graph.stream(\n",
    "    {\"messages\": [{\"role\": \"user\", \"content\": input_message}]},\n",
    "    stream_mode=\"values\",\n",
    "):\n",
    "    step[\"messages\"][-1].pretty_print()"
   ]
  },
  {
   "cell_type": "code",
   "execution_count": 476,
   "id": "a0e798a2",
   "metadata": {},
   "outputs": [
    {
     "name": "stdout",
     "output_type": "stream",
     "text": [
      "================================\u001b[1m Human Message \u001b[0m=================================\n",
      "\n",
      "Aus welchem Land kommt Robert Francis Prevost?\n",
      "==================================\u001b[1m Ai Message \u001b[0m==================================\n",
      "Tool Calls:\n",
      "  retrieve (7e483cc4-42fc-4be5-b845-d2006acc9575)\n",
      " Call ID: 7e483cc4-42fc-4be5-b845-d2006acc9575\n",
      "  Args:\n",
      "    query: Robert Francis Prevost country of origin\n",
      "=================================\u001b[1m Tool Message \u001b[0m=================================\n",
      "Name: retrieve\n",
      "\n",
      "Source: {'source': 'https://de.wikipedia.org/wiki/Leo_XIV.', 'title': 'Leo XIV. – Wikipedia', 'language': 'de', 'section': '7'}\n",
      "Content: ↑ Matthias Rüb: Neuer Papst Leo XIV.: Wer ist Robert Prevost? In: faz.net. FAZ, 8. Mai 2025, abgerufen am 8. Mai 2025. \n",
      "\n",
      "↑ a b c Porträt – Wer ist Papst Leo XIV.? In: tagesschau.de. 8. Mai 2025, abgerufen am 9. Mai 2025. \n",
      "\n",
      "↑ Rinuncia del Prefetto del Dicastero per i Vescovi e Presidente della Pontificia Commissione per l’America Latina e Nomina del successore. In: Tägliches Bulletin. Presseamt des Heiligen Stuhls, 30. Januar 2023, abgerufen am 30. Januar 2023. \n",
      "\n",
      "↑ Concistoro Ordinario Pubblico: Assegnazione dei Titoli e delle Diaconie ai nuovi Cardinali. In: Tägliches Bulletin. Presseamt des Heiligen Stuhls, 30. September 2023, abgerufen am 30. September 2023. \n",
      "\n",
      "↑ Promozione all’Ordine dei Vescovi dell’Em.mo Card. Robert Francis Prevost, O.S.A. In: Tägliches Bulletin. Presseamt des Heiligen Stuhls, 6. Februar 2025, abgerufen am 6. Februar 2025. \n",
      "\n",
      "↑ Kardinal Robert Francis Prevost die Insignien des Ehren- und Devotions-Großkreuz-Bailli verliehen. Abgerufen am 12. Februar 2025.\n",
      "\n",
      "Source: {'source': 'https://de.wikipedia.org/wiki/Leo_XIV.', 'title': 'Leo XIV. – Wikipedia', 'language': 'de', 'section': '6'}\n",
      "Content: ↑ Mario Galgano: Bischof Robert Francis Prevost wird neuer Präfekt des Bischofs-Dikasteriums. In: Vatican News. 30. Januar 2023, abgerufen am 8. Mai 2025. \n",
      "\n",
      "↑ Robert Francis Prevost: The office and authority of the local prior in the Order of Saint Augustine. In: Dissertazioni dottorali Pontificia Università S.Tommaso d’Aquino: Diritto Canonico. Rom 1987, OCLC 1203536266 (englisch). \n",
      "\n",
      "↑ Robert Prevost ist Papst Leo XIV.: Diplomat, Missionar, Pragmatiker. In: DiePresse.com. 8. Mai 2025, abgerufen am 10. Mai 2025. \n",
      "\n",
      "↑ Louis Berger: Papst Leo XIV. – ein synodaler Missionar der Liebe Gottes. In: kirche-und-leben.de. 9. Mai 2025, abgerufen am 10. Mai 2025. \n",
      "\n",
      "↑ Leon XIV.: „Ich betrachte mich immer noch als Missionar!“ In: kath.net. 10. Mai 2025, abgerufen am 10. Mai 2025.\n",
      "==================================\u001b[1m Ai Message \u001b[0m==================================\n",
      "\n",
      "Ich weiß die Antwort auf diese Frage nicht.\n"
     ]
    }
   ],
   "source": [
    "input_message = \"Aus welchem Land kommt Robert Francis Prevost?\"\n",
    "\n",
    "for step in graph.stream(\n",
    "    {\"messages\": [{\"role\": \"user\", \"content\": input_message}]},\n",
    "    stream_mode=\"values\",\n",
    "):\n",
    "    step[\"messages\"][-1].pretty_print()"
   ]
  },
  {
   "cell_type": "markdown",
   "id": "db714fc0",
   "metadata": {},
   "source": [
    "Mit Memory"
   ]
  },
  {
   "cell_type": "code",
   "execution_count": 477,
   "id": "852f2de5",
   "metadata": {},
   "outputs": [],
   "source": [
    "from langgraph.checkpoint.memory import MemorySaver\n",
    "\n",
    "memory = MemorySaver()\n",
    "graph = graph_builder.compile(checkpointer=memory)\n",
    "\n",
    "# Specify an ID for the thread\n",
    "config = {\"configurable\": {\"thread_id\": \"abc123\"}}"
   ]
  },
  {
   "cell_type": "code",
   "execution_count": 478,
   "id": "eb9aabb9",
   "metadata": {},
   "outputs": [
    {
     "name": "stdout",
     "output_type": "stream",
     "text": [
      "================================\u001b[1m Human Message \u001b[0m=================================\n",
      "\n",
      "Welchen Ordensgemeinschaft gehört der Papst an?\n"
     ]
    },
    {
     "name": "stdout",
     "output_type": "stream",
     "text": [
      "==================================\u001b[1m Ai Message \u001b[0m==================================\n",
      "\n",
      "Bitte gib mir den Namen des Papstes, damit ich dir sagen kann, welchem Orden er angehört.\n"
     ]
    }
   ],
   "source": [
    "input_message = \"Welchen Ordensgemeinschaft gehört der Papst an?\"\n",
    "\n",
    "for step in graph.stream(\n",
    "    {\"messages\": [{\"role\": \"user\", \"content\": input_message}]},\n",
    "    stream_mode=\"values\",\n",
    "    config=config,\n",
    "):\n",
    "    step[\"messages\"][-1].pretty_print()"
   ]
  }
 ],
 "metadata": {
  "kernelspec": {
   "display_name": "KII",
   "language": "python",
   "name": "python3"
  },
  "language_info": {
   "codemirror_mode": {
    "name": "ipython",
    "version": 3
   },
   "file_extension": ".py",
   "mimetype": "text/x-python",
   "name": "python",
   "nbconvert_exporter": "python",
   "pygments_lexer": "ipython3",
   "version": "3.10.16"
  }
 },
 "nbformat": 4,
 "nbformat_minor": 5
}
