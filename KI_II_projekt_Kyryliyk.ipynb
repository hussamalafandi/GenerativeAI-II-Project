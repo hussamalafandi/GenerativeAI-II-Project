{
 "cells": [
  {
   "cell_type": "markdown",
   "id": "2056508d",
   "metadata": {},
   "source": [
    "\n",
    "# # 📚 RAG-System mit LangChain, ChromaDB und Gemini 2\n",
    "# Dieses Notebook implementiert ein einfaches Retrieval-Augmented Generation (RAG) System.\n",
    "# Es verwendet ChromaDB zur Dokumentenspeicherung, LangChain für Workflow-Management und das Modell `gemini-2.0-flash`.\n",
    "\n",
    "\n",
    "# 📥 Bibliotheken importieren"
   ]
  },
  {
   "cell_type": "code",
   "execution_count": 1,
   "id": "380cbcca",
   "metadata": {},
   "outputs": [
    {
     "name": "stderr",
     "output_type": "stream",
     "text": [
      "USER_AGENT environment variable not set, consider setting it to identify your requests.\n"
     ]
    }
   ],
   "source": [
    "from langchain_community.document_loaders import WebBaseLoader\n",
    "from langchain.text_splitter import RecursiveCharacterTextSplitter\n",
    "#from langchain.embeddings import GooglePalmEmbeddings\n",
    "from langchain.vectorstores import Chroma\n",
    "from langchain.memory import ConversationBufferMemory\n",
    "from langchain_google_genai import ChatGoogleGenerativeAI\n",
    "from langchain.chains import ConversationalRetrievalChain\n",
    "\n",
    "import os\n",
    "#from langchain_huggingface import HuggingFaceEmbeddings\n",
    "#from langchain.embeddings import OpenAIEmbeddings\n",
    "from langchain_community.embeddings import HuggingFaceEmbeddings\n",
    "#from langchain.embeddings import HuggingFaceEmbeddings"
   ]
  },
  {
   "cell_type": "code",
   "execution_count": 2,
   "id": "c85f31ab",
   "metadata": {},
   "outputs": [],
   "source": [
    "os.environ[\"USER_AGENT\"] = \"Mozilla/5.0 (Windows NT 10.0; Win64; x64) AppleWebKit/537.36 (KHTML, like Gecko) Chrome/123.0.0.0 Safari/537.36\""
   ]
  },
  {
   "cell_type": "markdown",
   "id": "cb34e701",
   "metadata": {},
   "source": [
    "# ## 🌐 Schritt 1: Wikipedia-Seite laden"
   ]
  },
  {
   "cell_type": "code",
   "execution_count": 3,
   "id": "235209b2",
   "metadata": {},
   "outputs": [],
   "source": [
    "url = \"https://en.wikipedia.org/wiki/2025_in_science\"\n",
    "loader = WebBaseLoader(url)\n",
    "documents = loader.load()"
   ]
  },
  {
   "cell_type": "markdown",
   "id": "eb423e62",
   "metadata": {},
   "source": [
    "# ## ✂️ Schritt 2: Text in Chunks aufteilen"
   ]
  },
  {
   "cell_type": "code",
   "execution_count": 4,
   "id": "060aaf08",
   "metadata": {},
   "outputs": [
    {
     "name": "stdout",
     "output_type": "stream",
     "text": [
      "Anzahl der Chunks: 89\n"
     ]
    }
   ],
   "source": [
    "splitter = RecursiveCharacterTextSplitter(\n",
    "    chunk_size=500,\n",
    "    chunk_overlap=100\n",
    ")\n",
    "chunks = splitter.split_documents(documents)\n",
    "print(f\"Anzahl der Chunks: {len(chunks)}\")"
   ]
  },
  {
   "cell_type": "markdown",
   "id": "3b93db01",
   "metadata": {},
   "source": [
    "# ## 🧠 Schritt 3: Vektorisierung und Speicherung in ChromaDB"
   ]
  },
  {
   "cell_type": "code",
   "execution_count": 7,
   "id": "0a151921",
   "metadata": {},
   "outputs": [
    {
     "name": "stderr",
     "output_type": "stream",
     "text": [
      "C:\\Users\\volodymyr\\AppData\\Local\\Temp\\ipykernel_26284\\4093584008.py:1: LangChainDeprecationWarning: The class `HuggingFaceEmbeddings` was deprecated in LangChain 0.2.2 and will be removed in 1.0. An updated version of the class exists in the :class:`~langchain-huggingface package and should be used instead. To use it run `pip install -U :class:`~langchain-huggingface` and import as `from :class:`~langchain_huggingface import HuggingFaceEmbeddings``.\n",
      "  embedding = HuggingFaceEmbeddings(model_name=\"sentence-transformers/all-mpnet-base-v2\")\n",
      "c:\\Users\\volodymyr\\AppData\\Local\\anaconda3\\envs\\rag_env\\lib\\site-packages\\tqdm\\auto.py:21: TqdmWarning: IProgress not found. Please update jupyter and ipywidgets. See https://ipywidgets.readthedocs.io/en/stable/user_install.html\n",
      "  from .autonotebook import tqdm as notebook_tqdm\n"
     ]
    }
   ],
   "source": [
    "embedding = HuggingFaceEmbeddings(model_name=\"sentence-transformers/all-mpnet-base-v2\")"
   ]
  },
  {
   "cell_type": "code",
   "execution_count": 8,
   "id": "d928d360",
   "metadata": {},
   "outputs": [
    {
     "name": "stderr",
     "output_type": "stream",
     "text": [
      "C:\\Users\\volodymyr\\AppData\\Local\\Temp\\ipykernel_26284\\2098072650.py:6: LangChainDeprecationWarning: The class `Chroma` was deprecated in LangChain 0.2.9 and will be removed in 1.0. An updated version of the class exists in the :class:`~langchain-chroma package and should be used instead. To use it run `pip install -U :class:`~langchain-chroma` and import as `from :class:`~langchain_chroma import Chroma``.\n",
      "  vectorstore = Chroma(persist_directory=persist_directory, embedding_function=embedding)\n"
     ]
    }
   ],
   "source": [
    "#embedding = GooglePalmEmbeddings()\n",
    "#embedding =OpenAIEmbeddings()  \n",
    "\n",
    "persist_directory = \"chroma_db\"\n",
    "if os.path.exists(persist_directory) and os.listdir(persist_directory):\n",
    "    vectorstore = Chroma(persist_directory=persist_directory, embedding_function=embedding)\n",
    "else:\n",
    "    vectorstore = Chroma.from_documents(\n",
    "        documents=chunks,\n",
    "        embedding=embedding,\n",
    "        persist_directory=persist_directory\n",
    "    )\n",
    "    vectorstore.persist()\n"
   ]
  },
  {
   "cell_type": "code",
   "execution_count": 22,
   "id": "0984ff5b",
   "metadata": {},
   "outputs": [],
   "source": [
    "os.environ[\"LANGCHAIN_PROJECT\"] = \"RAG Wikipedia 2025\"\n",
    "os.environ[\"LANGCHAIN_TRACING_V2\"] = \"true\"\n",
    "from langchain.callbacks.tracers import LangChainTracer\n",
    "\n",
    "tracer = LangChainTracer(project_name=\"RAG Wikipedia 2025\")\n"
   ]
  },
  {
   "cell_type": "code",
   "execution_count": 35,
   "id": "c7453cb4",
   "metadata": {},
   "outputs": [],
   "source": [
    "from langchain_core.documents import Document\n",
    "from typing_extensions import List, TypedDict\n",
    "\n",
    "\n",
    "class State(TypedDict):\n",
    "    question: str\n",
    "    context: List[Document]\n",
    "    answer: str"
   ]
  },
  {
   "cell_type": "markdown",
   "id": "196196f2",
   "metadata": {},
   "source": [
    "\n",
    "# ## 💬 Schritt 4: Dialogsystem mit Gedächtnis (Memory)"
   ]
  },
  {
   "cell_type": "code",
   "execution_count": 23,
   "id": "1b3b6eca",
   "metadata": {},
   "outputs": [],
   "source": [
    "memory = ConversationBufferMemory(\n",
    "    memory_key=\"chat_history\",\n",
    "    return_messages=True\n",
    ")\n",
    "\n",
    "retriever = vectorstore.as_retriever()\n",
    "llm = ChatGoogleGenerativeAI(model=\"gemini-2.0-flash\")\n",
    "\n",
    "rag_chain = ConversationalRetrievalChain.from_llm(\n",
    "    llm=llm,\n",
    "    retriever=retriever,\n",
    "    memory=memory, \n",
    "    callbacks=[tracer]\n",
    ")"
   ]
  },
  {
   "cell_type": "code",
   "execution_count": 36,
   "id": "5021ae6a",
   "metadata": {},
   "outputs": [
    {
     "name": "stdout",
     "output_type": "stream",
     "text": [
      "You are an assistant for question-answering tasks. Use the following pieces of retrieved context to answer the question. If you don't know the answer, just say that you don't know. Use three sentences maximum and keep the answer concise.\n",
      "Question: (question goes here) \n",
      "Context: (context goes here) \n",
      "Answer:\n"
     ]
    }
   ],
   "source": [
    "from langchain import hub\n",
    "\n",
    "prompt = hub.pull(\"rlm/rag-prompt\")\n",
    "\n",
    "example_messages = prompt.invoke(\n",
    "    {\"context\": \"(context goes here)\", \"question\": \"(question goes here)\"}\n",
    ").to_messages()\n",
    "\n",
    "assert len(example_messages) == 1\n",
    "print(example_messages[0].content)"
   ]
  },
  {
   "cell_type": "code",
   "execution_count": 37,
   "id": "8ab3a6e4",
   "metadata": {},
   "outputs": [],
   "source": [
    "def retrieve(state: State):\n",
    "    retrieved_docs = vectorstore.similarity_search(state[\"question\"])\n",
    "    return {\"context\": retrieved_docs}\n",
    "\n",
    "\n",
    "def generate(state: State):\n",
    "    docs_content = \"\\n\\n\".join(doc.page_content for doc in state[\"context\"])\n",
    "    messages = prompt.invoke({\"question\": state[\"question\"], \"context\": docs_content})\n",
    "    response = llm.invoke(messages)\n",
    "    return {\"answer\": response.content}"
   ]
  },
  {
   "cell_type": "code",
   "execution_count": 39,
   "id": "b54cc2df",
   "metadata": {},
   "outputs": [],
   "source": [
    "from langgraph.graph import START, StateGraph\n",
    "\n",
    "graph_builder = StateGraph(State).add_sequence([retrieve, generate])\n",
    "graph_builder.add_edge(START, \"retrieve\")\n",
    "graph = graph_builder.compile()"
   ]
  },
  {
   "cell_type": "code",
   "execution_count": 40,
   "id": "4e7a472f",
   "metadata": {},
   "outputs": [
    {
     "data": {
      "image/png": "[encoded data removed]",
      "text/plain": [
       "<IPython.core.display.Image object>"
      ]
     },
     "metadata": {},
     "output_type": "display_data"
    }
   ],
   "source": [
    "from IPython.display import Image, display\n",
    "\n",
    "display(Image(graph.get_graph().draw_mermaid_png()))"
   ]
  },
  {
   "cell_type": "code",
   "execution_count": 41,
   "id": "4db4f229",
   "metadata": {},
   "outputs": [
    {
     "name": "stdout",
     "output_type": "stream",
     "text": [
      "Context: [Document(metadata={'title': '2025 in science - Wikipedia', 'source': 'https://en.wikipedia.org/wiki/2025_in_science', 'language': 'en'}, page_content='The exoplanet WASP-127b is discovered to have wind speeds of up to 33,000 km/h, the fastest jetstream of its kind ever measured.[20]\\n22 January – The second Trump administration imposes an immediate freeze on scientific grants, communications, hiring, and meetings at the National Institutes of Health (NIH) – by far the biggest supporter of biomedical research worldwide – impacting $47.4 billion worth of activities.[21]\\n23 January'), Document(metadata={'source': 'https://en.wikipedia.org/wiki/2025_in_science', 'language': 'en', 'title': '2025 in science - Wikipedia'}, page_content='^ \"Trump hits NIH with \\'devastating\\' freezes on meetings, travel, communications, and hiring\". Science. 22 January 2025. Retrieved 24 January 2025.\\n\\n^ \"Strong as steel, light as foam: Machine learning and nano-3D printing create breakthrough nano-architected materials\". Nanowerk. Nanowerk. 25 January 2025. Retrieved 29 January 2025.\\n\\n^ \"Adults diagnosed with ADHD may have reduced life expectancies\". UCL. UCL. 23 January 2025. Retrieved 3 February 2025.'), Document(metadata={'title': '2025 in science - Wikipedia', 'language': 'en', 'source': 'https://en.wikipedia.org/wiki/2025_in_science'}, page_content='^ \"FACT SHEET: President Biden\\'s 2025 Budget Invests in Science and Technology to Power American Innovation, Expand Frontiers of What\\'s Possible | OSTP\". The White House. 13 March 2024. Retrieved 23 March 2024.\\n\\n^ Mervis, Jeffrey. \"Biden\\'s lean science budget could mean tough choices for agencies\". Science. Retrieved 23 March 2024.'), Document(metadata={'source': 'https://en.wikipedia.org/wiki/2025_in_science', 'language': 'en', 'title': '2025 in science - Wikipedia'}, page_content='Events\\nCOVID-19\\nPandemic\\nPortal\\nEconomic impact\\nRecession\\n2020 stock market crash\\n2016 Paris Agreement on Climate Change\\nTreaty descheduling of cannabis\\nRussian invasion of Ukraine\\nGovt\\nUN\\n UN Security Council\\nNATO\\nEU\\nAfrican Union\\nArab League\\nOAS\\nBRICS\\nList of all groups\\n Major groups, by size\\nYears\\nGovt:\\n2020\\n2021\\n2022\\n2023\\n2024\\n2025\\nScience:\\n2020\\n2021\\n2022\\n2023\\n2024\\n2025\\nArts:\\n2020\\n2021\\n2022\\n2023\\n2024\\n2025\\nSports:\\n2020\\n2021\\n2022\\n2023\\n2024\\n2025\\nCategories\\nGeneral:\\nLists\\nTimelines\\nBy year')]\n",
      "\n",
      "\n",
      "Answer: On January 22, 2025, the second Trump administration imposed an immediate freeze on scientific grants, communications, hiring, and meetings at the National Institutes of Health (NIH). This impacted $47.4 billion worth of activities. The NIH is the biggest supporter of biomedical research worldwide.\n"
     ]
    }
   ],
   "source": [
    "result = graph.invoke({\"question\": \"When did the second Trump administration impose an immediate freeze on research grants, communications, hiring, and meetings at the National Institutes of Health?\"})\n",
    "\n",
    "print(f'Context: {result[\"context\"]}\\n\\n')\n",
    "print(f'Answer: {result[\"answer\"]}')"
   ]
  },
  {
   "cell_type": "markdown",
   "id": "dcde4f34",
   "metadata": {},
   "source": [
    "# ## 🧪 Schritt 5: Beispiel-Dialog"
   ]
  },
  {
   "cell_type": "code",
   "execution_count": 33,
   "id": "e3f4473f",
   "metadata": {},
   "outputs": [
    {
     "name": "stdout",
     "output_type": "stream",
     "text": [
      "\n",
      "🙋 Frage: When did the second Trump administration impose an immediate freeze on research grants, communications, hiring, and meetings at the National Institutes of Health?\n",
      "🤖 Antwort: Die zweite Trump-Regierung hat am 22. Januar 2025 einen sofortigen Stopp für Forschungsstipendien, Kommunikationen, Einstellungen und Treffen an den National Institutes of Health verhängt.\n",
      "\n",
      "🙋 Frage: How much of the institute's operations were affected by this decision?\n",
      "🤖 Antwort: Das Dokument erwähnt, dass die Vereinten Nationen das Jahr 2025 zum Internationalen Jahr der Quantenwissenschaft und -technologie erklärt haben. Es enthält jedoch keine Informationen darüber, wie sich diese Entscheidung auf die Abläufe eines Instituts ausgewirkt hat.\n",
      "\n",
      "🙋 Frage: When did astronomers report the discovery of Saturn's new moons?\n",
      "🤖 Antwort: Astronomen meldeten die Entdeckung von 128 neuen Saturnmonden am 11. März 2025.\n",
      "\n",
      "🙋 Frage: Which countries' telescopes were used? How many new moons of Saturn were discovered?\n",
      "🤖 Antwort: Laut den bereitgestellten Informationen wurden 128 neue Saturnmonde entdeckt, und die Astronomen, die die Entdeckung gemacht haben, verwendeten das Canada-France-Hawaii Telescope.\n",
      "\n",
      "🙋 Frage: What is the total number of confirmed satellites of Saturn currently known?\n",
      "🤖 Antwort: Derzeit sind insgesamt 274 bestätigte Satelliten des Saturn bekannt.\n"
     ]
    }
   ],
   "source": [
    "\n",
    "fragen = [\n",
    "    \"When did the second Trump administration impose an immediate freeze on research grants, communications, hiring, and meetings at the National Institutes of Health?\",\n",
    "    \"How much of the institute's operations were affected by this decision?\",\n",
    "    \"When did astronomers report the discovery of Saturn's new moons?\",\n",
    "    \"Which countries' telescopes were used? How many new moons of Saturn were discovered?\",\n",
    "    \"What is the total number of confirmed satellites of Saturn currently known?\" \n",
    "]\n",
    "\n",
    "for frage in fragen:\n",
    "    #retrieved_docs = retriever.get_relevant_documents(frage)\n",
    "    antwort = rag_chain.run(frage)\n",
    "    print(f\"\\n🙋 Frage: {frage}\\n🤖 Antwort: {antwort}\")\n",
    "    #print(f\"\\n🙋 Frage: {frage} \\n  Anzahl gefundener Dokumente: {len(retrieved_docs)}\\n {retrieved_docs[0].page_content[:500]}\\n🤖 Antwort: {antwort}\")"
   ]
  }
 ],
 "metadata": {
  "kernelspec": {
   "display_name": "rag_env",
   "language": "python",
   "name": "python3"
  },
  "language_info": {
   "codemirror_mode": {
    "name": "ipython",
    "version": 3
   },
   "file_extension": ".py",
   "mimetype": "text/x-python",
   "name": "python",
   "nbconvert_exporter": "python",
   "pygments_lexer": "ipython3",
   "version": "3.10.16"
  }
 },
 "nbformat": 4,
 "nbformat_minor": 5
}
