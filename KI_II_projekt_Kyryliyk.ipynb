{
 "cells": [
  {
   "cell_type": "markdown",
   "id": "2056508d",
   "metadata": {},
   "source": [
    "\n",
    "# # 📚 RAG-System mit LangChain, ChromaDB und Gemini 2\n",
    "# Dieses Notebook implementiert ein einfaches Retrieval-Augmented Generation (RAG) System.\n",
    "# Es verwendet ChromaDB zur Dokumentenspeicherung, LangChain für Workflow-Management und das Modell `gemini-2.0-flash`.\n",
    "\n",
    "\n",
    "# 📥 Bibliotheken importieren"
   ]
  },
  {
   "cell_type": "code",
   "execution_count": 1,
   "id": "380cbcca",
   "metadata": {},
   "outputs": [
    {
     "name": "stderr",
     "output_type": "stream",
     "text": [
      "USER_AGENT environment variable not set, consider setting it to identify your requests.\n"
     ]
    }
   ],
   "source": [
    "from langchain_community.document_loaders import WebBaseLoader\n",
    "from langchain.text_splitter import RecursiveCharacterTextSplitter\n",
    "#from langchain.embeddings import GooglePalmEmbeddings\n",
    "from langchain.vectorstores import Chroma\n",
    "from langchain.memory import ConversationBufferMemory\n",
    "from langchain_google_genai import ChatGoogleGenerativeAI\n",
    "from langchain.chains import ConversationalRetrievalChain\n",
    "\n",
    "import os\n",
    "#from langchain_huggingface import HuggingFaceEmbeddings\n",
    "#from langchain.embeddings import OpenAIEmbeddings\n",
    "from langchain_community.embeddings import HuggingFaceEmbeddings\n",
    "#from langchain.embeddings import HuggingFaceEmbeddings"
   ]
  },
  {
   "cell_type": "code",
   "execution_count": 2,
   "id": "c85f31ab",
   "metadata": {},
   "outputs": [],
   "source": [
    "os.environ[\"USER_AGENT\"] = \"Mozilla/5.0 (Windows NT 10.0; Win64; x64) AppleWebKit/537.36 (KHTML, like Gecko) Chrome/123.0.0.0 Safari/537.36\""
   ]
  },
  {
   "cell_type": "markdown",
   "id": "cb34e701",
   "metadata": {},
   "source": [
    "# ## 🌐 Schritt 1: Wikipedia-Seite laden"
   ]
  },
  {
   "cell_type": "code",
   "execution_count": 3,
   "id": "235209b2",
   "metadata": {},
   "outputs": [],
   "source": [
    "url = \"https://en.wikipedia.org/wiki/2025_in_science\"\n",
    "loader = WebBaseLoader(url)\n",
    "documents = loader.load()"
   ]
  },
  {
   "cell_type": "markdown",
   "id": "eb423e62",
   "metadata": {},
   "source": [
    "# ## ✂️ Schritt 2: Text in Chunks aufteilen"
   ]
  },
  {
   "cell_type": "code",
   "execution_count": 4,
   "id": "060aaf08",
   "metadata": {},
   "outputs": [
    {
     "name": "stdout",
     "output_type": "stream",
     "text": [
      "Anzahl der Chunks: 89\n"
     ]
    }
   ],
   "source": [
    "splitter = RecursiveCharacterTextSplitter(\n",
    "    chunk_size=500,\n",
    "    chunk_overlap=100\n",
    ")\n",
    "chunks = splitter.split_documents(documents)\n",
    "print(f\"Anzahl der Chunks: {len(chunks)}\")"
   ]
  },
  {
   "cell_type": "markdown",
   "id": "3b93db01",
   "metadata": {},
   "source": [
    "# ## 🧠 Schritt 3: Vektorisierung und Speicherung in ChromaDB"
   ]
  },
  {
   "cell_type": "code",
   "execution_count": 7,
   "id": "0a151921",
   "metadata": {},
   "outputs": [
    {
     "name": "stderr",
     "output_type": "stream",
     "text": [
      "C:\\Users\\volodymyr\\AppData\\Local\\Temp\\ipykernel_26284\\4093584008.py:1: LangChainDeprecationWarning: The class `HuggingFaceEmbeddings` was deprecated in LangChain 0.2.2 and will be removed in 1.0. An updated version of the class exists in the :class:`~langchain-huggingface package and should be used instead. To use it run `pip install -U :class:`~langchain-huggingface` and import as `from :class:`~langchain_huggingface import HuggingFaceEmbeddings``.\n",
      "  embedding = HuggingFaceEmbeddings(model_name=\"sentence-transformers/all-mpnet-base-v2\")\n",
      "c:\\Users\\volodymyr\\AppData\\Local\\anaconda3\\envs\\rag_env\\lib\\site-packages\\tqdm\\auto.py:21: TqdmWarning: IProgress not found. Please update jupyter and ipywidgets. See https://ipywidgets.readthedocs.io/en/stable/user_install.html\n",
      "  from .autonotebook import tqdm as notebook_tqdm\n"
     ]
    }
   ],
   "source": [
    "embedding = HuggingFaceEmbeddings(model_name=\"sentence-transformers/all-mpnet-base-v2\")"
   ]
  },
  {
   "cell_type": "code",
   "execution_count": 8,
   "id": "d928d360",
   "metadata": {},
   "outputs": [
    {
     "name": "stderr",
     "output_type": "stream",
     "text": [
      "C:\\Users\\volodymyr\\AppData\\Local\\Temp\\ipykernel_26284\\2098072650.py:6: LangChainDeprecationWarning: The class `Chroma` was deprecated in LangChain 0.2.9 and will be removed in 1.0. An updated version of the class exists in the :class:`~langchain-chroma package and should be used instead. To use it run `pip install -U :class:`~langchain-chroma` and import as `from :class:`~langchain_chroma import Chroma``.\n",
      "  vectorstore = Chroma(persist_directory=persist_directory, embedding_function=embedding)\n"
     ]
    }
   ],
   "source": [
    "#embedding = GooglePalmEmbeddings()\n",
    "#embedding =OpenAIEmbeddings()  \n",
    "\n",
    "persist_directory = \"chroma_db\"\n",
    "if os.path.exists(persist_directory) and os.listdir(persist_directory):\n",
    "    vectorstore = Chroma(persist_directory=persist_directory, embedding_function=embedding)\n",
    "else:\n",
    "    vectorstore = Chroma.from_documents(\n",
    "        documents=chunks,\n",
    "        embedding=embedding,\n",
    "        persist_directory=persist_directory\n",
    "    )\n",
    "    vectorstore.persist()\n"
   ]
  },
  {
   "cell_type": "code",
   "execution_count": 22,
   "id": "0984ff5b",
   "metadata": {},
   "outputs": [],
   "source": [
    "os.environ[\"LANGCHAIN_PROJECT\"] = \"RAG Wikipedia 2025\"\n",
    "os.environ[\"LANGCHAIN_TRACING_V2\"] = \"true\"\n",
    "from langchain.callbacks.tracers import LangChainTracer\n",
    "\n",
    "tracer = LangChainTracer(project_name=\"RAG Wikipedia 2025\")\n"
   ]
  },
  {
   "cell_type": "markdown",
   "id": "196196f2",
   "metadata": {},
   "source": [
    "\n",
    "# ## 💬 Schritt 4: Dialogsystem mit Gedächtnis (Memory)"
   ]
  },
  {
   "cell_type": "code",
   "execution_count": 23,
   "id": "1b3b6eca",
   "metadata": {},
   "outputs": [],
   "source": [
    "memory = ConversationBufferMemory(\n",
    "    memory_key=\"chat_history\",\n",
    "    return_messages=True\n",
    ")\n",
    "\n",
    "retriever = vectorstore.as_retriever()\n",
    "llm = ChatGoogleGenerativeAI(model=\"gemini-2.0-flash\")\n",
    "\n",
    "rag_chain = ConversationalRetrievalChain.from_llm(\n",
    "    llm=llm,\n",
    "    retriever=retriever,\n",
    "    memory=memory, \n",
    "    callbacks=[tracer]\n",
    ")"
   ]
  },
  {
   "cell_type": "markdown",
   "id": "dcde4f34",
   "metadata": {},
   "source": [
    "# ## 🧪 Schritt 5: Beispiel-Dialog"
   ]
  },
  {
   "cell_type": "code",
   "execution_count": 24,
   "id": "e3f4473f",
   "metadata": {},
   "outputs": [
    {
     "name": "stdout",
     "output_type": "stream",
     "text": [
      "\n",
      "🙋 Frage: When did the second Trump administration impose an immediate freeze on research grants, communications, hiring, and meetings at the National Institutes of Health?\n",
      "🤖 Antwort: According to the provided text, the second Trump administration imposed an immediate freeze on scientific grants, communications, hiring, and meetings at the National Institutes of Health (NIH) on January 22, 2025.\n",
      "\n",
      "🙋 Frage: How much of the institute's operations were affected by this decision?\n",
      "🤖 Antwort: The decision impacted $47.4 billion worth of activities at the National Institutes of Health (NIH).\n",
      "\n",
      "🙋 Frage: When did astronomers report the discovery of Saturn's new moons?\n",
      "🤖 Antwort: Astronomers reported the discovery of 128 new moons of Saturn on March 11, 2025.\n",
      "\n",
      "🙋 Frage: Which countries' telescopes were used? How many new moons of Saturn were discovered?\n",
      "🤖 Antwort: The new moons of Saturn were discovered by astronomers using the Canada-France-Hawaii Telescope, and there were 128 new moons discovered.\n",
      "\n",
      "🙋 Frage: What is the total number of confirmed satellites of Saturn currently known?\n",
      "🤖 Antwort: As of March 11, 2025, Saturn has a total of 274 confirmed satellites.\n"
     ]
    }
   ],
   "source": [
    "\n",
    "fragen = [\n",
    "    \"When did the second Trump administration impose an immediate freeze on research grants, communications, hiring, and meetings at the National Institutes of Health?\",\n",
    "    \"How much of the institute's operations were affected by this decision?\",\n",
    "    \"When did astronomers report the discovery of Saturn's new moons?\",\n",
    "    \"Which countries' telescopes were used? How many new moons of Saturn were discovered?\",\n",
    "    \"What is the total number of confirmed satellites of Saturn currently known?\" \n",
    "]\n",
    "\n",
    "for frage in fragen:\n",
    "    antwort = rag_chain.run(frage)\n",
    "    print(f\"\\n🙋 Frage: {frage}\\n🤖 Antwort: {antwort}\")\n"
   ]
  }
 ],
 "metadata": {
  "kernelspec": {
   "display_name": "rag_env",
   "language": "python",
   "name": "python3"
  },
  "language_info": {
   "codemirror_mode": {
    "name": "ipython",
    "version": 3
   },
   "file_extension": ".py",
   "mimetype": "text/x-python",
   "name": "python",
   "nbconvert_exporter": "python",
   "pygments_lexer": "ipython3",
   "version": "3.10.16"
  }
 },
 "nbformat": 4,
 "nbformat_minor": 5
}
