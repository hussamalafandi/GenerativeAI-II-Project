{
 "cells": [
  {
   "cell_type": "markdown",
   "id": "ecc5835b",
   "metadata": {},
   "source": [
    "## RAG System Implementation with Hurricane Helene Report (September 2024)"
   ]
  },
  {
   "cell_type": "code",
   "execution_count": null,
   "id": "72db9f60",
   "metadata": {},
   "outputs": [
    {
     "name": "stderr",
     "output_type": "stream",
     "text": [
      "C:\\Users\\hshakademie3\\AppData\\Roaming\\Python\\Python313\\site-packages\\tqdm\\auto.py:21: TqdmWarning: IProgress not found. Please update jupyter and ipywidgets. See https://ipywidgets.readthedocs.io/en/stable/user_install.html\n",
      "  from .autonotebook import tqdm as notebook_tqdm\n"
     ]
    }
   ],
   "source": [
    "# === Importieren der Bibliotheken ===\n",
    "from langchain_community.document_loaders import PyPDFLoader\n",
    "from langchain_text_splitters import RecursiveCharacterTextSplitter\n",
    "from langchain_google_genai import GoogleGenerativeAIEmbeddings\n",
    "from langchain_community.vectorstores import Chroma\n",
    "from langchain_google_genai import ChatGoogleGenerativeAI\n",
    "from langchain.chains import ConversationalRetrievalChain\n",
    "from langchain.memory import ConversationBufferMemory\n",
    "from langchain.prompts import PromptTemplate\n",
    "from langchain.retrievers import MultiQueryRetriever\n",
    "import os\n"
   ]
  },
  {
   "cell_type": "markdown",
   "id": "7db875db",
   "metadata": {},
   "source": [
    "# ## 1. Document Indexing with ChromaDB"
   ]
  },
  {
   "cell_type": "code",
   "execution_count": null,
   "id": "4ca27787",
   "metadata": {},
   "outputs": [],
   "source": [
    "# === Configuration ====\n",
    "os.environ[\"GEMINI_API_KEY\"] = \"GEMINI_API_KEY\"\n",
    "PERSIST_DIR = \"chroma_db_hurricane\""
   ]
  },
  {
   "cell_type": "code",
   "execution_count": null,
   "id": "af2a709b",
   "metadata": {},
   "outputs": [],
   "source": [
    "# === Load Hurricane Helene report ===\n",
    "loader = PyPDFLoader(\"https://www.nhc.noaa.gov/data/tcr/AL092024_Helene.pdf\")\n",
    "documents = loader.load()\n"
   ]
  },
  {
   "cell_type": "code",
   "execution_count": null,
   "id": "87a65e5c",
   "metadata": {},
   "outputs": [
    {
     "name": "stdout",
     "output_type": "stream",
     "text": [
      "Split document into 233 chunks\n"
     ]
    }
   ],
   "source": [
    "# === Split document into chunks ===\n",
    "text_splitter = RecursiveCharacterTextSplitter(\n",
    "    chunk_size=1000,\n",
    "    chunk_overlap=200,\n",
    "    length_function=len,\n",
    "    separators=[\"\\n\\n\", \"\\n\", \" \", \"\"]\n",
    ")\n",
    "chunks = text_splitter.split_documents(documents)\n",
    "print(f\"Split document into {len(chunks)} chunks\")\n"
   ]
  },
  {
   "cell_type": "code",
   "execution_count": null,
   "id": "28043971",
   "metadata": {},
   "outputs": [
    {
     "name": "stderr",
     "output_type": "stream",
     "text": [
      "C:\\Users\\hshakademie3\\AppData\\Local\\Temp\\ipykernel_10348\\3901355143.py:8: LangChainDeprecationWarning: Since Chroma 0.4.x the manual persistence method is no longer supported as docs are automatically persisted.\n",
      "  vector_store.persist()\n"
     ]
    }
   ],
   "source": [
    "# === Create vector store ===\n",
    "embedding = GoogleGenerativeAIEmbeddings(model=\"models/embedding-001\")\n",
    "vector_store = Chroma.from_documents(\n",
    "    documents=chunks,\n",
    "    embedding=embedding,\n",
    "    persist_directory=PERSIST_DIR\n",
    ")\n",
    "vector_store.persist()"
   ]
  },
  {
   "cell_type": "markdown",
   "id": "09c32dba",
   "metadata": {},
   "source": [
    "## 2. System Architecture with Gemini 1.5 Flash"
   ]
  },
  {
   "cell_type": "code",
   "execution_count": null,
   "id": "149632c9",
   "metadata": {},
   "outputs": [],
   "source": [
    "# === Initialize LLM ===\n",
    "llm = ChatGoogleGenerativeAI(model=\"gemini-1.5-flash\", temperature=0.2)"
   ]
  },
  {
   "cell_type": "code",
   "execution_count": null,
   "id": "59d31d31",
   "metadata": {},
   "outputs": [
    {
     "name": "stderr",
     "output_type": "stream",
     "text": [
      "C:\\Users\\hshakademie3\\AppData\\Local\\Temp\\ipykernel_10348\\2182765890.py:2: LangChainDeprecationWarning: Please see the migration guide at: https://python.langchain.com/docs/versions/migrating_memory/\n",
      "  memory = ConversationBufferMemory(\n"
     ]
    }
   ],
   "source": [
    "# === Create conversation chain with memory ===\n",
    "memory = ConversationBufferMemory(\n",
    "    memory_key=\"chat_history\",\n",
    "    return_messages=True,\n",
    "    output_key='answer'\n",
    ")"
   ]
  },
  {
   "cell_type": "code",
   "execution_count": null,
   "id": "c7d8cfed",
   "metadata": {},
   "outputs": [],
   "source": [
    "# === Custom prompt template ===\n",
    "template = \"\"\"You are a hurricane response assistant. Answer the question based only on the following context:\n",
    "{context}\n",
    "\n",
    "Question: {question}\n",
    "Answer:\"\"\"\n",
    "QA_PROMPT = PromptTemplate.from_template(template)\n",
    "\n",
    "retriever = vector_store.as_retriever(\n",
    "    search_type=\"mmr\",\n",
    "    search_kwargs={\"k\": 5, \"fetch_k\": 10}\n",
    ")\n",
    "\n",
    "qa_chain = ConversationalRetrievalChain.from_llm(\n",
    "    llm=llm,\n",
    "    retriever=retriever,\n",
    "    memory=memory,\n",
    "    combine_docs_chain_kwargs={\"prompt\": QA_PROMPT},\n",
    "    return_source_documents=True\n",
    ")"
   ]
  },
  {
   "cell_type": "markdown",
   "id": "a7a63ec0",
   "metadata": {},
   "source": [
    "# ## 3. Experimentation & Testing"
   ]
  },
  {
   "cell_type": "code",
   "execution_count": null,
   "id": "05e2a227",
   "metadata": {},
   "outputs": [
    {
     "name": "stdout",
     "output_type": "stream",
     "text": [
      "Testing without retrieval:\n",
      "Q: What was the maximum wind speed recorded for Hurricane Helene?\n",
      "A: The maximum sustained wind speed recorded for Hurricane Helene (2018) was **115 mph (185 km/h)**.\n",
      "---\n",
      "Q: Which areas were most affected by the storm surge?\n",
      "A: To answer your question accurately, I need to know *which* storm surge you're referring to.  There have been countless storm surges throughout history.  Please specify the storm (e.g., Hurricane Sandy, Hurricane Katrina, Cyclone Idai) and its location, and I can tell you which areas were most affected by its surge.\n",
      "---\n",
      "Q: What date did Hurricane Helene make landfall in Florida?\n",
      "A: Hurricane Helene did not make landfall in Florida.  It stayed out over the Atlantic Ocean.\n",
      "---\n",
      "Q: How many emergency shelters were opened in response to the hurricane?\n",
      "A: I do not have access to real-time information, including up-to-the-minute data on emergency shelters opened in response to a specific hurricane.  To find that information, you will need to specify the hurricane (by name and year) and then search for news reports or official government websites (like FEMA or the relevant state's emergency management agency) for that event.\n",
      "---\n",
      "Q: What was the estimated economic damage from Hurricane Helene?\n",
      "A: There's no readily available, single, universally agreed-upon figure for the total economic damage caused by Hurricane Helene.  This is because:\n",
      "\n",
      "* **Multiple Helene's:**  The name \"Helene\" has been used for multiple hurricanes over the years in different basins (Atlantic, Pacific).  You need to specify which Hurricane Helene you're asking about.\n",
      "* **Data Collection Challenges:**  Accurately assessing economic damage from hurricanes requires extensive post-storm surveys and analysis, which can be incomplete or take considerable time to finalize.  Older storms may have less detailed records.\n",
      "\n",
      "To get an estimate, you'd need to specify the year and basin of the Hurricane Helene you are interested in.  Then, you could search for reports from organizations like NOAA (National Oceanic and Atmospheric Administration) or relevant governmental agencies in the affected area.\n",
      "---\n"
     ]
    }
   ],
   "source": [
    "# === Questions that require the report ===\n",
    "questions = [\n",
    "    \"What was the maximum wind speed recorded for Hurricane Helene?\",\n",
    "    \"Which areas were most affected by the storm surge?\",\n",
    "    \"What date did Hurricane Helene make landfall in Florida?\",\n",
    "    \"How many emergency shelters were opened in response to the hurricane?\",\n",
    "    \"What was the estimated economic damage from Hurricane Helene?\"\n",
    "]\n",
    "\n",
    "# === Test without retrieval ===\n",
    "print(\"Testing without retrieval:\")\n",
    "for question in questions:\n",
    "    response = llm.invoke(question)\n",
    "    print(f\"Q: {question}\\nA: {response.content}\\n---\")\n"
   ]
  },
  {
   "cell_type": "code",
   "execution_count": null,
   "id": "80834303",
   "metadata": {},
   "outputs": [
    {
     "name": "stdout",
     "output_type": "stream",
     "text": [
      "\n",
      "Testing with retrieval:\n"
     ]
    },
    {
     "name": "stderr",
     "output_type": "stream",
     "text": [
      "C:\\Users\\hshakademie3\\AppData\\Local\\Temp\\ipykernel_10348\\1211682507.py:4: LangChainDeprecationWarning: The method `Chain.__call__` was deprecated in langchain 0.1.0 and will be removed in 1.0. Use :meth:`~invoke` instead.\n",
      "  result = qa_chain({\"question\": question})\n"
     ]
    },
    {
     "name": "stdout",
     "output_type": "stream",
     "text": [
      "Q: What was the maximum wind speed recorded for Hurricane Helene?\n",
      "A: The provided text mentions a wind gust of 87 kt at Bacon County Airport in Alma, Georgia.  Another source mentions a maximum surface wind speed of 48 kt with a 67 kt gust in Laurens.  There are also numerous other wind gusts reported throughout the text, but no single maximum wind speed is explicitly stated.\n",
      "Sources:\n",
      "- https://www.nhc.noaa.gov/data/tcr/AL092024_Helene.pdf, page 8\n",
      "- https://www.nhc.noaa.gov/data/tcr/AL092024_Helene.pdf, page 5\n",
      "---\n",
      "Q: Which areas were most affected by the storm surge?\n",
      "A: Areas south of Englewood to Bonita Beach, including Charlotte Harbor, experienced the most significant storm surge, with maximum inundation of 3 to 5 feet above ground level (AGL).  South of Bonita Beach, areas such as Naples, Marco Island, and Everglades City saw 2 to 4 feet AGL.\n",
      "Sources:\n",
      "- https://www.nhc.noaa.gov/data/tcr/AL092024_Helene.pdf, page 11\n",
      "- https://www.nhc.noaa.gov/data/tcr/AL092024_Helene.pdf, page 8\n",
      "---\n",
      "Q: What date did Hurricane Helene make landfall in Florida?\n",
      "A: September 27th\n",
      "Sources:\n",
      "- https://www.nhc.noaa.gov/data/tcr/AL092024_Helene.pdf, page 3\n",
      "- https://www.nhc.noaa.gov/data/tcr/AL092024_Helene.pdf, page 5\n",
      "---\n",
      "Q: How many emergency shelters were opened in response to the hurricane?\n",
      "A: This question cannot be answered from the given source.  The text provides information on rescues, damage, power outages, and other impacts of Hurricane Helene, but it does not mention the number of emergency shelters opened.\n",
      "Sources:\n",
      "- https://www.nhc.noaa.gov/data/tcr/AL092024_Helene.pdf, page 71\n",
      "- https://www.nhc.noaa.gov/data/tcr/AL092024_Helene.pdf, page 18\n",
      "---\n",
      "Q: What was the estimated economic damage from Hurricane Helene?\n",
      "A: Hurricane Helene caused an estimated $7.87 billion in damage in the United States.  No monetary damage estimates are available from Mexico or Cuba.\n",
      "Sources:\n",
      "- https://www.nhc.noaa.gov/data/tcr/AL092024_Helene.pdf, page 18\n",
      "- https://www.nhc.noaa.gov/data/tcr/AL092024_Helene.pdf, page 21\n",
      "---\n"
     ]
    }
   ],
   "source": [
    "# === Test with retrieval ===\n",
    "print(\"\\nTesting with retrieval:\")\n",
    "for question in questions:\n",
    "    result = qa_chain({\"question\": question})\n",
    "    print(f\"Q: {question}\\nA: {result['answer']}\\nSources:\")\n",
    "    for doc in result['source_documents'][:2]:\n",
    "        print(f\"- {doc.metadata['source']}, page {doc.metadata.get('page', 'N/A')}\")\n",
    "    print(\"---\")\n"
   ]
  },
  {
   "cell_type": "markdown",
   "id": "6746bccf",
   "metadata": {},
   "source": [
    "# ## 4. (Bonus)"
   ]
  },
  {
   "cell_type": "code",
   "execution_count": null,
   "id": "6ba6c447",
   "metadata": {},
   "outputs": [],
   "source": [
    "# === Metadata Filtering ===\n",
    "for i, chunk in enumerate(chunks):\n",
    "    chunk.metadata[\"chunk_id\"] = i\n",
    "    chunk.metadata[\"event\"] = \"Hurricane Helene 2024\"\n",
    "    chunk.metadata[\"date\"] = \"September 2024\"\n"
   ]
  },
  {
   "cell_type": "code",
   "execution_count": null,
   "id": "9d407f23",
   "metadata": {},
   "outputs": [],
   "source": [
    "# === Multi-Query Retrieval ===\n",
    "multi_query_retriever = MultiQueryRetriever.from_llm(\n",
    "    retriever=vector_store.as_retriever(),\n",
    "    llm=llm\n",
    ")"
   ]
  },
  {
   "cell_type": "code",
   "execution_count": null,
   "id": "22e3282c",
   "metadata": {},
   "outputs": [
    {
     "name": "stdout",
     "output_type": "stream",
     "text": [
      "Q: Compare the preparedness measures for Hurricane Helene with previous major hurricanes in Florida\n",
      "A: This document does not provide information on how preparedness measures for Hurricane Helene compared to those for previous major hurricanes in Florida.\n"
     ]
    }
   ],
   "source": [
    "# === Test advanced retrieval ===\n",
    "advanced_qa = ConversationalRetrievalChain.from_llm(\n",
    "    llm=llm,\n",
    "    retriever=multi_query_retriever,\n",
    "    memory=memory,\n",
    "    combine_docs_chain_kwargs={\"prompt\": QA_PROMPT}\n",
    ")\n",
    "\n",
    "complex_question = \"Compare the preparedness measures for Hurricane Helene with previous major hurricanes in Florida\"\n",
    "result = advanced_qa({\"question\": complex_question})\n",
    "print(f\"Q: {complex_question}\\nA: {result['answer']}\")"
   ]
  },
  {
   "cell_type": "markdown",
   "id": "2f5eff0d",
   "metadata": {},
   "source": [
    "# ## 5. Q&A System - Interactive Console "
   ]
  },
  {
   "cell_type": "code",
   "execution_count": 31,
   "id": "cc40c79b",
   "metadata": {},
   "outputs": [
    {
     "name": "stdout",
     "output_type": "stream",
     "text": [
      "Hurricane Analysis System (type 'exit' to quit)\n",
      "\n",
      "Answer: The provided text does not contain information about an evacuation plan for Miami-Dade County.\n",
      "Sources:- https://www.nhc.noaa.gov/data/tcr/AL092024_Helene.pdf, pg 52\n",
      "- https://www.nhc.noaa.gov/data/tcr/AL092024_Helene.pdf, pg 91\n",
      "\n",
      "--------------------------------------------------\n"
     ]
    }
   ],
   "source": [
    "def chat():\n",
    "    print(\"Hurricane Analysis System (type 'exit' to quit)\")\n",
    "    while (q := input(\"Your question: \").strip()) and q.lower() not in [\"exit\", \"quit\"]:\n",
    "        try:\n",
    "            res = qa_chain({\"question\": q})\n",
    "            print(f\"\\nAnswer: {res['answer']}\\nSources:\" + \n",
    "                  \"\\n\".join(f\"- {d.metadata.get('source','?')}, pg {d.metadata.get('page','?')}\" \n",
    "                  for d in res.get('source_documents',[])[:2]))\n",
    "        except Exception as e: print(f\"Error: {e}\")\n",
    "        print(\"\\n\" + \"-\"*50)\n",
    "\n",
    "if __name__ == \"__main__\": chat()"
   ]
  },
  {
   "cell_type": "markdown",
   "id": "8291ce71",
   "metadata": {},
   "source": [
    "# ## 6. Observability with LangSmith"
   ]
  },
  {
   "cell_type": "code",
   "execution_count": null,
   "id": "fe9678bf",
   "metadata": {},
   "outputs": [],
   "source": [
    "# === Configure LangSmith ===\n",
    "os.environ[\"LANGCHAIN_TRACING_V2\"] = \"true\"\n",
    "os.environ[\"LANGCHAIN_PROJECT\"] = \"hurricane-rag-system\"\n",
    "os.environ[\"LANGCHAIN_ENDPOINT\"] = \"https://api.smith.langchain.com\"\n",
    "os.environ[\"LANGSMITH_API_KEY\"] = \"LANGSMITH_API_KEY\"  "
   ]
  },
  {
   "cell_type": "code",
   "execution_count": null,
   "id": "9d8924c0",
   "metadata": {},
   "outputs": [
    {
     "name": "stdout",
     "output_type": "stream",
     "text": [
      "This document does not contain information about Miami-Dade County's evacuation plan during Hurricane Helene.\n"
     ]
    }
   ],
   "source": [
    "# === Test with tracing ===\n",
    "client = Client()\n",
    "with trace(\"Basic QA Test\", client=client) as run:\n",
    "    result = qa_chain({\"question\": \"What was the evacuation plan for Miami-Dade county?\"})\n",
    "    print(result[\"answer\"])"
   ]
  }
 ],
 "metadata": {
  "kernelspec": {
   "display_name": "Python 3",
   "language": "python",
   "name": "python3"
  },
  "language_info": {
   "codemirror_mode": {
    "name": "ipython",
    "version": 3
   },
   "file_extension": ".py",
   "mimetype": "text/x-python",
   "name": "python",
   "nbconvert_exporter": "python",
   "pygments_lexer": "ipython3",
   "version": "3.13.0"
  }
 },
 "nbformat": 4,
 "nbformat_minor": 5
}
